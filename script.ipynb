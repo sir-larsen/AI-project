{
 "cells": [
  {
   "cell_type": "code",
   "execution_count": 612,
   "metadata": {},
   "outputs": [],
   "source": [
    "# All imports here\n",
    "import os\n",
    "import librosa\n",
    "import pandas as pd\n",
    "import numpy as np\n",
    "from sklearn import preprocessing\n",
    "from sklearn import svm\n",
    "import sklearn\n",
    "import keras\n",
    "from keras.utils import np_utils\n",
    "from sklearn.linear_model import LinearRegression\n",
    "from sklearn.metrics import confusion_matrix, classification_report\n",
    "from tensorflow.keras import models,regularizers\n",
    "from tensorflow.keras import layers\n",
    "%matplotlib inline"
   ]
  },
  {
   "source": [
    "# Speaker classification\n",
    "The way this program works is that it collects the file names, paths and other relevant data for the task and stores it in a dataframe, which is then shuffled and split for training and testing into a 70/30 split. The data is then used to train and test Support Vector Machines with different kernels and a Convolutional Neural Network. The final part of the program consists of the last task, which was using newly recorded samples to test the models yet another time."
   ],
   "cell_type": "markdown",
   "metadata": {}
  },
  {
   "source": [
    "#### This first function is used for extracting the files in a directory with the necessary data, and returning them as a dataframe"
   ],
   "cell_type": "markdown",
   "metadata": {}
  },
  {
   "cell_type": "code",
   "execution_count": 613,
   "metadata": {},
   "outputs": [],
   "source": [
    "def create_df(filePath, label):\n",
    "    fileList = os.listdir(filePath)\n",
    "    df_obj = pd.DataFrame(fileList)\n",
    "    # Adding label original to the dataframe to represent original\n",
    "    df_obj['label'] = label\n",
    "    df_obj = df_obj.rename(columns={0:'file'})\n",
    "    df_obj['path'] = filePath\n",
    "    return df_obj"
   ]
  },
  {
   "source": [
    "Storing the labels and paths which we are going to use for the extraction"
   ],
   "cell_type": "markdown",
   "metadata": {}
  },
  {
   "source": [
    "filePaths = ['recordings/original-recordings', 'recordings/speaker-1-desktop-speakers', 'recordings/speaker-2-soundbox', 'recordings/speaker-3-LG_soundbar', 'recordings/speaker-4-Phillips-tv']\n",
    "\n",
    "pathsAndLabels = {'original': 'recordings/original-recordings', 'desktop': 'recordings/speaker-1-desktop-speakers',\n",
    "                 'soundbox': 'recordings/speaker-2-soundbox', 'soundbar': 'recordings/speaker-3-LG_soundbar', 'tv': 'recordings/speaker-4-Phillips-tv'}"
   ],
   "cell_type": "code",
   "metadata": {},
   "execution_count": 614,
   "outputs": []
  },
  {
   "source": [
    "Here we create an empty list of dataframes for which the program appends the newly created ones into"
   ],
   "cell_type": "markdown",
   "metadata": {}
  },
  {
   "cell_type": "code",
   "execution_count": 615,
   "metadata": {},
   "outputs": [
    {
     "output_type": "stream",
     "name": "stdout",
     "text": [
      "original recordings/original-recordings\ndesktop recordings/speaker-1-desktop-speakers\nsoundbox recordings/speaker-2-soundbox\nsoundbar recordings/speaker-3-LG_soundbar\ntv recordings/speaker-4-Phillips-tv\n                    file     label                            path\n0    Innspilling (1).m4a  original  recordings/original-recordings\n1   Innspilling (10).m4a  original  recordings/original-recordings\n2   Innspilling (11).m4a  original  recordings/original-recordings\n3   Innspilling (12).m4a  original  recordings/original-recordings\n4   Innspilling (13).m4a  original  recordings/original-recordings\n5   Innspilling (14).m4a  original  recordings/original-recordings\n6   Innspilling (15).m4a  original  recordings/original-recordings\n7   Innspilling (16).m4a  original  recordings/original-recordings\n8   Innspilling (17).m4a  original  recordings/original-recordings\n9   Innspilling (18).m4a  original  recordings/original-recordings\n10  Innspilling (19).m4a  original  recordings/original-recordings\n11   Innspilling (2).m4a  original  recordings/original-recordings\n12  Innspilling (20).m4a  original  recordings/original-recordings\n13  Innspilling (21).m4a  original  recordings/original-recordings\n14  Innspilling (22).m4a  original  recordings/original-recordings\n15  Innspilling (23).m4a  original  recordings/original-recordings\n16  Innspilling (24).m4a  original  recordings/original-recordings\n17  Innspilling (25).m4a  original  recordings/original-recordings\n18  Innspilling (26).m4a  original  recordings/original-recordings\n19  Innspilling (27).m4a  original  recordings/original-recordings\n20  Innspilling (28).m4a  original  recordings/original-recordings\n21  Innspilling (29).m4a  original  recordings/original-recordings\n22   Innspilling (3).m4a  original  recordings/original-recordings\n23  Innspilling (30).m4a  original  recordings/original-recordings\n24  Innspilling (31).m4a  original  recordings/original-recordings\n25  Innspilling (32).m4a  original  recordings/original-recordings\n26  Innspilling (33).m4a  original  recordings/original-recordings\n27  Innspilling (34).m4a  original  recordings/original-recordings\n28  Innspilling (35).m4a  original  recordings/original-recordings\n29  Innspilling (36).m4a  original  recordings/original-recordings\n30  Innspilling (37).m4a  original  recordings/original-recordings\n31  Innspilling (38).m4a  original  recordings/original-recordings\n32  Innspilling (39).m4a  original  recordings/original-recordings\n33   Innspilling (4).m4a  original  recordings/original-recordings\n34  Innspilling (40).m4a  original  recordings/original-recordings\n35  Innspilling (41).m4a  original  recordings/original-recordings\n36  Innspilling (42).m4a  original  recordings/original-recordings\n37  Innspilling (43).m4a  original  recordings/original-recordings\n38  Innspilling (44).m4a  original  recordings/original-recordings\n39  Innspilling (45).m4a  original  recordings/original-recordings\n40  Innspilling (46).m4a  original  recordings/original-recordings\n41  Innspilling (47).m4a  original  recordings/original-recordings\n42  Innspilling (48).m4a  original  recordings/original-recordings\n43  Innspilling (49).m4a  original  recordings/original-recordings\n44   Innspilling (5).m4a  original  recordings/original-recordings\n45  Innspilling (50).m4a  original  recordings/original-recordings\n46   Innspilling (6).m4a  original  recordings/original-recordings\n47   Innspilling (7).m4a  original  recordings/original-recordings\n48   Innspilling (8).m4a  original  recordings/original-recordings\n49   Innspilling (9).m4a  original  recordings/original-recordings\n                    file    label                                   path\n0    Innspilling (1).m4a  desktop  recordings/speaker-1-desktop-speakers\n1   Innspilling (10).m4a  desktop  recordings/speaker-1-desktop-speakers\n2   Innspilling (11).m4a  desktop  recordings/speaker-1-desktop-speakers\n3   Innspilling (12).m4a  desktop  recordings/speaker-1-desktop-speakers\n4   Innspilling (13).m4a  desktop  recordings/speaker-1-desktop-speakers\n5   Innspilling (14).m4a  desktop  recordings/speaker-1-desktop-speakers\n6   Innspilling (15).m4a  desktop  recordings/speaker-1-desktop-speakers\n7   Innspilling (16).m4a  desktop  recordings/speaker-1-desktop-speakers\n8   Innspilling (17).m4a  desktop  recordings/speaker-1-desktop-speakers\n9   Innspilling (18).m4a  desktop  recordings/speaker-1-desktop-speakers\n10  Innspilling (19).m4a  desktop  recordings/speaker-1-desktop-speakers\n11   Innspilling (2).m4a  desktop  recordings/speaker-1-desktop-speakers\n12  Innspilling (20).m4a  desktop  recordings/speaker-1-desktop-speakers\n13  Innspilling (21).m4a  desktop  recordings/speaker-1-desktop-speakers\n14  Innspilling (22).m4a  desktop  recordings/speaker-1-desktop-speakers\n15  Innspilling (23).m4a  desktop  recordings/speaker-1-desktop-speakers\n16  Innspilling (24).m4a  desktop  recordings/speaker-1-desktop-speakers\n17  Innspilling (25).m4a  desktop  recordings/speaker-1-desktop-speakers\n18  Innspilling (26).m4a  desktop  recordings/speaker-1-desktop-speakers\n19  Innspilling (27).m4a  desktop  recordings/speaker-1-desktop-speakers\n20  Innspilling (28).m4a  desktop  recordings/speaker-1-desktop-speakers\n21  Innspilling (29).m4a  desktop  recordings/speaker-1-desktop-speakers\n22   Innspilling (3).m4a  desktop  recordings/speaker-1-desktop-speakers\n23  Innspilling (30).m4a  desktop  recordings/speaker-1-desktop-speakers\n24  Innspilling (31).m4a  desktop  recordings/speaker-1-desktop-speakers\n25  Innspilling (32).m4a  desktop  recordings/speaker-1-desktop-speakers\n26  Innspilling (33).m4a  desktop  recordings/speaker-1-desktop-speakers\n27  Innspilling (34).m4a  desktop  recordings/speaker-1-desktop-speakers\n28  Innspilling (35).m4a  desktop  recordings/speaker-1-desktop-speakers\n29  Innspilling (36).m4a  desktop  recordings/speaker-1-desktop-speakers\n30  Innspilling (37).m4a  desktop  recordings/speaker-1-desktop-speakers\n31  Innspilling (38).m4a  desktop  recordings/speaker-1-desktop-speakers\n32  Innspilling (39).m4a  desktop  recordings/speaker-1-desktop-speakers\n33   Innspilling (4).m4a  desktop  recordings/speaker-1-desktop-speakers\n34  Innspilling (40).m4a  desktop  recordings/speaker-1-desktop-speakers\n35  Innspilling (41).m4a  desktop  recordings/speaker-1-desktop-speakers\n36  Innspilling (42).m4a  desktop  recordings/speaker-1-desktop-speakers\n37  Innspilling (43).m4a  desktop  recordings/speaker-1-desktop-speakers\n38  Innspilling (44).m4a  desktop  recordings/speaker-1-desktop-speakers\n39  Innspilling (45).m4a  desktop  recordings/speaker-1-desktop-speakers\n40  Innspilling (46).m4a  desktop  recordings/speaker-1-desktop-speakers\n41  Innspilling (47).m4a  desktop  recordings/speaker-1-desktop-speakers\n42  Innspilling (48).m4a  desktop  recordings/speaker-1-desktop-speakers\n43  Innspilling (49).m4a  desktop  recordings/speaker-1-desktop-speakers\n44   Innspilling (5).m4a  desktop  recordings/speaker-1-desktop-speakers\n45  Innspilling (50).m4a  desktop  recordings/speaker-1-desktop-speakers\n46   Innspilling (6).m4a  desktop  recordings/speaker-1-desktop-speakers\n47   Innspilling (7).m4a  desktop  recordings/speaker-1-desktop-speakers\n48   Innspilling (8).m4a  desktop  recordings/speaker-1-desktop-speakers\n49   Innspilling (9).m4a  desktop  recordings/speaker-1-desktop-speakers\n                    file     label                           path\n0    Innspilling (1).m4a  soundbox  recordings/speaker-2-soundbox\n1   Innspilling (10).m4a  soundbox  recordings/speaker-2-soundbox\n2   Innspilling (11).m4a  soundbox  recordings/speaker-2-soundbox\n3   Innspilling (12).m4a  soundbox  recordings/speaker-2-soundbox\n4   Innspilling (13).m4a  soundbox  recordings/speaker-2-soundbox\n5   Innspilling (14).m4a  soundbox  recordings/speaker-2-soundbox\n6   Innspilling (15).m4a  soundbox  recordings/speaker-2-soundbox\n7   Innspilling (16).m4a  soundbox  recordings/speaker-2-soundbox\n8   Innspilling (17).m4a  soundbox  recordings/speaker-2-soundbox\n9   Innspilling (18).m4a  soundbox  recordings/speaker-2-soundbox\n10  Innspilling (19).m4a  soundbox  recordings/speaker-2-soundbox\n11   Innspilling (2).m4a  soundbox  recordings/speaker-2-soundbox\n12  Innspilling (20).m4a  soundbox  recordings/speaker-2-soundbox\n13  Innspilling (21).m4a  soundbox  recordings/speaker-2-soundbox\n14  Innspilling (22).m4a  soundbox  recordings/speaker-2-soundbox\n15  Innspilling (23).m4a  soundbox  recordings/speaker-2-soundbox\n16  Innspilling (24).m4a  soundbox  recordings/speaker-2-soundbox\n17  Innspilling (25).m4a  soundbox  recordings/speaker-2-soundbox\n18  Innspilling (26).m4a  soundbox  recordings/speaker-2-soundbox\n19  Innspilling (27).m4a  soundbox  recordings/speaker-2-soundbox\n20  Innspilling (28).m4a  soundbox  recordings/speaker-2-soundbox\n21  Innspilling (29).m4a  soundbox  recordings/speaker-2-soundbox\n22   Innspilling (3).m4a  soundbox  recordings/speaker-2-soundbox\n23  Innspilling (30).m4a  soundbox  recordings/speaker-2-soundbox\n24  Innspilling (31).m4a  soundbox  recordings/speaker-2-soundbox\n25  Innspilling (32).m4a  soundbox  recordings/speaker-2-soundbox\n26  Innspilling (33).m4a  soundbox  recordings/speaker-2-soundbox\n27  Innspilling (34).m4a  soundbox  recordings/speaker-2-soundbox\n28  Innspilling (35).m4a  soundbox  recordings/speaker-2-soundbox\n29  Innspilling (36).m4a  soundbox  recordings/speaker-2-soundbox\n30  Innspilling (37).m4a  soundbox  recordings/speaker-2-soundbox\n31  Innspilling (38).m4a  soundbox  recordings/speaker-2-soundbox\n32  Innspilling (39).m4a  soundbox  recordings/speaker-2-soundbox\n33   Innspilling (4).m4a  soundbox  recordings/speaker-2-soundbox\n34  Innspilling (40).m4a  soundbox  recordings/speaker-2-soundbox\n35  Innspilling (41).m4a  soundbox  recordings/speaker-2-soundbox\n36  Innspilling (42).m4a  soundbox  recordings/speaker-2-soundbox\n37  Innspilling (43).m4a  soundbox  recordings/speaker-2-soundbox\n38  Innspilling (44).m4a  soundbox  recordings/speaker-2-soundbox\n39  Innspilling (45).m4a  soundbox  recordings/speaker-2-soundbox\n40  Innspilling (46).m4a  soundbox  recordings/speaker-2-soundbox\n41  Innspilling (47).m4a  soundbox  recordings/speaker-2-soundbox\n42  Innspilling (48).m4a  soundbox  recordings/speaker-2-soundbox\n43  Innspilling (49).m4a  soundbox  recordings/speaker-2-soundbox\n44   Innspilling (5).m4a  soundbox  recordings/speaker-2-soundbox\n45  Innspilling (50).m4a  soundbox  recordings/speaker-2-soundbox\n46   Innspilling (6).m4a  soundbox  recordings/speaker-2-soundbox\n47   Innspilling (7).m4a  soundbox  recordings/speaker-2-soundbox\n48   Innspilling (8).m4a  soundbox  recordings/speaker-2-soundbox\n49   Innspilling (9).m4a  soundbox  recordings/speaker-2-soundbox\n                    file     label                              path\n0    Innspilling (1).m4a  soundbar  recordings/speaker-3-LG_soundbar\n1   Innspilling (10).m4a  soundbar  recordings/speaker-3-LG_soundbar\n2   Innspilling (11).m4a  soundbar  recordings/speaker-3-LG_soundbar\n3   Innspilling (12).m4a  soundbar  recordings/speaker-3-LG_soundbar\n4   Innspilling (13).m4a  soundbar  recordings/speaker-3-LG_soundbar\n5   Innspilling (14).m4a  soundbar  recordings/speaker-3-LG_soundbar\n6   Innspilling (15).m4a  soundbar  recordings/speaker-3-LG_soundbar\n7   Innspilling (16).m4a  soundbar  recordings/speaker-3-LG_soundbar\n8   Innspilling (17).m4a  soundbar  recordings/speaker-3-LG_soundbar\n9   Innspilling (18).m4a  soundbar  recordings/speaker-3-LG_soundbar\n10  Innspilling (19).m4a  soundbar  recordings/speaker-3-LG_soundbar\n11   Innspilling (2).m4a  soundbar  recordings/speaker-3-LG_soundbar\n12  Innspilling (20).m4a  soundbar  recordings/speaker-3-LG_soundbar\n13  Innspilling (21).m4a  soundbar  recordings/speaker-3-LG_soundbar\n14  Innspilling (22).m4a  soundbar  recordings/speaker-3-LG_soundbar\n15  Innspilling (23).m4a  soundbar  recordings/speaker-3-LG_soundbar\n16  Innspilling (24).m4a  soundbar  recordings/speaker-3-LG_soundbar\n17  Innspilling (25).m4a  soundbar  recordings/speaker-3-LG_soundbar\n18  Innspilling (26).m4a  soundbar  recordings/speaker-3-LG_soundbar\n19  Innspilling (27).m4a  soundbar  recordings/speaker-3-LG_soundbar\n20  Innspilling (28).m4a  soundbar  recordings/speaker-3-LG_soundbar\n21  Innspilling (29).m4a  soundbar  recordings/speaker-3-LG_soundbar\n22   Innspilling (3).m4a  soundbar  recordings/speaker-3-LG_soundbar\n23  Innspilling (30).m4a  soundbar  recordings/speaker-3-LG_soundbar\n24  Innspilling (31).m4a  soundbar  recordings/speaker-3-LG_soundbar\n25  Innspilling (32).m4a  soundbar  recordings/speaker-3-LG_soundbar\n26  Innspilling (33).m4a  soundbar  recordings/speaker-3-LG_soundbar\n27  Innspilling (34).m4a  soundbar  recordings/speaker-3-LG_soundbar\n28  Innspilling (35).m4a  soundbar  recordings/speaker-3-LG_soundbar\n29  Innspilling (36).m4a  soundbar  recordings/speaker-3-LG_soundbar\n30  Innspilling (37).m4a  soundbar  recordings/speaker-3-LG_soundbar\n31  Innspilling (38).m4a  soundbar  recordings/speaker-3-LG_soundbar\n32  Innspilling (39).m4a  soundbar  recordings/speaker-3-LG_soundbar\n33   Innspilling (4).m4a  soundbar  recordings/speaker-3-LG_soundbar\n34  Innspilling (40).m4a  soundbar  recordings/speaker-3-LG_soundbar\n35  Innspilling (41).m4a  soundbar  recordings/speaker-3-LG_soundbar\n36  Innspilling (42).m4a  soundbar  recordings/speaker-3-LG_soundbar\n37  Innspilling (43).m4a  soundbar  recordings/speaker-3-LG_soundbar\n38  Innspilling (44).m4a  soundbar  recordings/speaker-3-LG_soundbar\n39  Innspilling (45).m4a  soundbar  recordings/speaker-3-LG_soundbar\n40  Innspilling (46).m4a  soundbar  recordings/speaker-3-LG_soundbar\n41  Innspilling (47).m4a  soundbar  recordings/speaker-3-LG_soundbar\n42  Innspilling (48).m4a  soundbar  recordings/speaker-3-LG_soundbar\n43  Innspilling (49).m4a  soundbar  recordings/speaker-3-LG_soundbar\n44   Innspilling (5).m4a  soundbar  recordings/speaker-3-LG_soundbar\n45  Innspilling (50).m4a  soundbar  recordings/speaker-3-LG_soundbar\n46   Innspilling (6).m4a  soundbar  recordings/speaker-3-LG_soundbar\n47   Innspilling (7).m4a  soundbar  recordings/speaker-3-LG_soundbar\n48   Innspilling (8).m4a  soundbar  recordings/speaker-3-LG_soundbar\n49   Innspilling (9).m4a  soundbar  recordings/speaker-3-LG_soundbar\n                    file label                              path\n0    Innspilling (1).m4a    tv  recordings/speaker-4-Phillips-tv\n1   Innspilling (10).m4a    tv  recordings/speaker-4-Phillips-tv\n2   Innspilling (11).m4a    tv  recordings/speaker-4-Phillips-tv\n3   Innspilling (12).m4a    tv  recordings/speaker-4-Phillips-tv\n4   Innspilling (13).m4a    tv  recordings/speaker-4-Phillips-tv\n5   Innspilling (14).m4a    tv  recordings/speaker-4-Phillips-tv\n6   Innspilling (15).m4a    tv  recordings/speaker-4-Phillips-tv\n7   Innspilling (16).m4a    tv  recordings/speaker-4-Phillips-tv\n8   Innspilling (17).m4a    tv  recordings/speaker-4-Phillips-tv\n9   Innspilling (18).m4a    tv  recordings/speaker-4-Phillips-tv\n10  Innspilling (19).m4a    tv  recordings/speaker-4-Phillips-tv\n11   Innspilling (2).m4a    tv  recordings/speaker-4-Phillips-tv\n12  Innspilling (20).m4a    tv  recordings/speaker-4-Phillips-tv\n13  Innspilling (21).m4a    tv  recordings/speaker-4-Phillips-tv\n14  Innspilling (22).m4a    tv  recordings/speaker-4-Phillips-tv\n15  Innspilling (23).m4a    tv  recordings/speaker-4-Phillips-tv\n16  Innspilling (24).m4a    tv  recordings/speaker-4-Phillips-tv\n17  Innspilling (25).m4a    tv  recordings/speaker-4-Phillips-tv\n18  Innspilling (26).m4a    tv  recordings/speaker-4-Phillips-tv\n19  Innspilling (27).m4a    tv  recordings/speaker-4-Phillips-tv\n20  Innspilling (28).m4a    tv  recordings/speaker-4-Phillips-tv\n21  Innspilling (29).m4a    tv  recordings/speaker-4-Phillips-tv\n22   Innspilling (3).m4a    tv  recordings/speaker-4-Phillips-tv\n23  Innspilling (30).m4a    tv  recordings/speaker-4-Phillips-tv\n24  Innspilling (31).m4a    tv  recordings/speaker-4-Phillips-tv\n25  Innspilling (32).m4a    tv  recordings/speaker-4-Phillips-tv\n26  Innspilling (33).m4a    tv  recordings/speaker-4-Phillips-tv\n27  Innspilling (34).m4a    tv  recordings/speaker-4-Phillips-tv\n28  Innspilling (35).m4a    tv  recordings/speaker-4-Phillips-tv\n29  Innspilling (36).m4a    tv  recordings/speaker-4-Phillips-tv\n30  Innspilling (37).m4a    tv  recordings/speaker-4-Phillips-tv\n31  Innspilling (38).m4a    tv  recordings/speaker-4-Phillips-tv\n32  Innspilling (39).m4a    tv  recordings/speaker-4-Phillips-tv\n33   Innspilling (4).m4a    tv  recordings/speaker-4-Phillips-tv\n34  Innspilling (40).m4a    tv  recordings/speaker-4-Phillips-tv\n35  Innspilling (41).m4a    tv  recordings/speaker-4-Phillips-tv\n36  Innspilling (42).m4a    tv  recordings/speaker-4-Phillips-tv\n37  Innspilling (43).m4a    tv  recordings/speaker-4-Phillips-tv\n38  Innspilling (44).m4a    tv  recordings/speaker-4-Phillips-tv\n39  Innspilling (45).m4a    tv  recordings/speaker-4-Phillips-tv\n40  Innspilling (46).m4a    tv  recordings/speaker-4-Phillips-tv\n41  Innspilling (47).m4a    tv  recordings/speaker-4-Phillips-tv\n42  Innspilling (48).m4a    tv  recordings/speaker-4-Phillips-tv\n43  Innspilling (49).m4a    tv  recordings/speaker-4-Phillips-tv\n44   Innspilling (5).m4a    tv  recordings/speaker-4-Phillips-tv\n45  Innspilling (50).m4a    tv  recordings/speaker-4-Phillips-tv\n46   Innspilling (6).m4a    tv  recordings/speaker-4-Phillips-tv\n47   Innspilling (7).m4a    tv  recordings/speaker-4-Phillips-tv\n48   Innspilling (8).m4a    tv  recordings/speaker-4-Phillips-tv\n49   Innspilling (9).m4a    tv  recordings/speaker-4-Phillips-tv\n"
     ]
    }
   ],
   "source": [
    "dataFrames = [] #Empty list for storing the datatframes\n",
    "\n",
    "for label, path in pathsAndLabels.items(): # Loop for iterating through the paths and labels and creating the dataframes\n",
    "    dataFrames.append(create_df(path, label))\n",
    "    print(label, path)\n",
    "\n",
    "for i in range(len(dataFrames)):\n",
    "    print(dataFrames[i])"
   ]
  },
  {
   "cell_type": "code",
   "execution_count": 616,
   "metadata": {},
   "outputs": [
    {
     "output_type": "stream",
     "name": "stdout",
     "text": [
      "                    file     label                                   path\n40  Innspilling (46).m4a  original         recordings/original-recordings\n41  Innspilling (47).m4a  original         recordings/original-recordings\n42  Innspilling (48).m4a  original         recordings/original-recordings\n43  Innspilling (49).m4a  original         recordings/original-recordings\n44   Innspilling (5).m4a  original         recordings/original-recordings\n45  Innspilling (50).m4a  original         recordings/original-recordings\n46   Innspilling (6).m4a  original         recordings/original-recordings\n47   Innspilling (7).m4a  original         recordings/original-recordings\n48   Innspilling (8).m4a  original         recordings/original-recordings\n49   Innspilling (9).m4a  original         recordings/original-recordings\n50   Innspilling (1).m4a   desktop  recordings/speaker-1-desktop-speakers\n51  Innspilling (10).m4a   desktop  recordings/speaker-1-desktop-speakers\n52  Innspilling (11).m4a   desktop  recordings/speaker-1-desktop-speakers\n53  Innspilling (12).m4a   desktop  recordings/speaker-1-desktop-speakers\n54  Innspilling (13).m4a   desktop  recordings/speaker-1-desktop-speakers\n55  Innspilling (14).m4a   desktop  recordings/speaker-1-desktop-speakers\n56  Innspilling (15).m4a   desktop  recordings/speaker-1-desktop-speakers\n57  Innspilling (16).m4a   desktop  recordings/speaker-1-desktop-speakers\n58  Innspilling (17).m4a   desktop  recordings/speaker-1-desktop-speakers\n59  Innspilling (18).m4a   desktop  recordings/speaker-1-desktop-speakers\n60  Innspilling (19).m4a   desktop  recordings/speaker-1-desktop-speakers\n61   Innspilling (2).m4a   desktop  recordings/speaker-1-desktop-speakers\n62  Innspilling (20).m4a   desktop  recordings/speaker-1-desktop-speakers\n63  Innspilling (21).m4a   desktop  recordings/speaker-1-desktop-speakers\n64  Innspilling (22).m4a   desktop  recordings/speaker-1-desktop-speakers\n65  Innspilling (23).m4a   desktop  recordings/speaker-1-desktop-speakers\n66  Innspilling (24).m4a   desktop  recordings/speaker-1-desktop-speakers\n67  Innspilling (25).m4a   desktop  recordings/speaker-1-desktop-speakers\n68  Innspilling (26).m4a   desktop  recordings/speaker-1-desktop-speakers\n69  Innspilling (27).m4a   desktop  recordings/speaker-1-desktop-speakers\n70  Innspilling (28).m4a   desktop  recordings/speaker-1-desktop-speakers\n71  Innspilling (29).m4a   desktop  recordings/speaker-1-desktop-speakers\n72   Innspilling (3).m4a   desktop  recordings/speaker-1-desktop-speakers\n73  Innspilling (30).m4a   desktop  recordings/speaker-1-desktop-speakers\n74  Innspilling (31).m4a   desktop  recordings/speaker-1-desktop-speakers\n75  Innspilling (32).m4a   desktop  recordings/speaker-1-desktop-speakers\n76  Innspilling (33).m4a   desktop  recordings/speaker-1-desktop-speakers\n77  Innspilling (34).m4a   desktop  recordings/speaker-1-desktop-speakers\n78  Innspilling (35).m4a   desktop  recordings/speaker-1-desktop-speakers\n79  Innspilling (36).m4a   desktop  recordings/speaker-1-desktop-speakers\n80  Innspilling (37).m4a   desktop  recordings/speaker-1-desktop-speakers\n81  Innspilling (38).m4a   desktop  recordings/speaker-1-desktop-speakers\n82  Innspilling (39).m4a   desktop  recordings/speaker-1-desktop-speakers\n83   Innspilling (4).m4a   desktop  recordings/speaker-1-desktop-speakers\n84  Innspilling (40).m4a   desktop  recordings/speaker-1-desktop-speakers\n85  Innspilling (41).m4a   desktop  recordings/speaker-1-desktop-speakers\n86  Innspilling (42).m4a   desktop  recordings/speaker-1-desktop-speakers\n87  Innspilling (43).m4a   desktop  recordings/speaker-1-desktop-speakers\n88  Innspilling (44).m4a   desktop  recordings/speaker-1-desktop-speakers\n89  Innspilling (45).m4a   desktop  recordings/speaker-1-desktop-speakers\n90  Innspilling (46).m4a   desktop  recordings/speaker-1-desktop-speakers\n91  Innspilling (47).m4a   desktop  recordings/speaker-1-desktop-speakers\n92  Innspilling (48).m4a   desktop  recordings/speaker-1-desktop-speakers\n93  Innspilling (49).m4a   desktop  recordings/speaker-1-desktop-speakers\n94   Innspilling (5).m4a   desktop  recordings/speaker-1-desktop-speakers\n95  Innspilling (50).m4a   desktop  recordings/speaker-1-desktop-speakers\n96   Innspilling (6).m4a   desktop  recordings/speaker-1-desktop-speakers\n97   Innspilling (7).m4a   desktop  recordings/speaker-1-desktop-speakers\n98   Innspilling (8).m4a   desktop  recordings/speaker-1-desktop-speakers\n99   Innspilling (9).m4a   desktop  recordings/speaker-1-desktop-speakers\n"
     ]
    }
   ],
   "source": [
    "# Concatenating all the dataframes into a single one\n",
    "df = pd.concat(dataFrames, ignore_index=True)\n",
    "\n",
    "print(df[40:100])"
   ]
  },
  {
   "source": [
    "Splitting the data into 70/30 train and test"
   ],
   "cell_type": "markdown",
   "metadata": {}
  },
  {
   "cell_type": "code",
   "execution_count": 617,
   "metadata": {},
   "outputs": [
    {
     "output_type": "stream",
     "name": "stdout",
     "text": [
      "75\n175\n                     file     label                                   path\n235  Innspilling (46).m4a        tv       recordings/speaker-4-Phillips-tv\n157  Innspilling (38).m4a  original         recordings/original-recordings\n241  Innspilling (48).m4a  soundbox          recordings/speaker-2-soundbox\n165  Innspilling (25).m4a  original         recordings/original-recordings\n220   Innspilling (9).m4a        tv       recordings/speaker-4-Phillips-tv\n209   Innspilling (1).m4a        tv       recordings/speaker-4-Phillips-tv\n59   Innspilling (24).m4a   desktop  recordings/speaker-1-desktop-speakers\n78   Innspilling (31).m4a  soundbar       recordings/speaker-3-LG_soundbar\n42    Innspilling (4).m4a        tv       recordings/speaker-4-Phillips-tv\n120  Innspilling (24).m4a        tv       recordings/speaker-4-Phillips-tv\n88   Innspilling (12).m4a  soundbox          recordings/speaker-2-soundbox\n232  Innspilling (33).m4a        tv       recordings/speaker-4-Phillips-tv\n161   Innspilling (8).m4a        tv       recordings/speaker-4-Phillips-tv\n128  Innspilling (28).m4a        tv       recordings/speaker-4-Phillips-tv\n9    Innspilling (35).m4a   desktop  recordings/speaker-1-desktop-speakers\n122   Innspilling (1).m4a  original         recordings/original-recordings\n37   Innspilling (50).m4a  soundbox          recordings/speaker-2-soundbox\n85   Innspilling (31).m4a  original         recordings/original-recordings\n84   Innspilling (23).m4a        tv       recordings/speaker-4-Phillips-tv\n221  Innspilling (19).m4a        tv       recordings/speaker-4-Phillips-tv\n11   Innspilling (22).m4a   desktop  recordings/speaker-1-desktop-speakers\n13   Innspilling (38).m4a        tv       recordings/speaker-4-Phillips-tv\n179  Innspilling (36).m4a  soundbox          recordings/speaker-2-soundbox\n238  Innspilling (32).m4a   desktop  recordings/speaker-1-desktop-speakers\n245  Innspilling (29).m4a  soundbar       recordings/speaker-3-LG_soundbar\n70   Innspilling (46).m4a  soundbox          recordings/speaker-2-soundbox\n105   Innspilling (4).m4a  original         recordings/original-recordings\n181  Innspilling (42).m4a  soundbox          recordings/speaker-2-soundbox\n127  Innspilling (34).m4a  soundbox          recordings/speaker-2-soundbox\n201  Innspilling (31).m4a        tv       recordings/speaker-4-Phillips-tv\n199  Innspilling (21).m4a  soundbar       recordings/speaker-3-LG_soundbar\n54    Innspilling (9).m4a  soundbar       recordings/speaker-3-LG_soundbar\n55   Innspilling (35).m4a  original         recordings/original-recordings\n187  Innspilling (32).m4a  soundbar       recordings/speaker-3-LG_soundbar\n29   Innspilling (15).m4a  soundbox          recordings/speaker-2-soundbox\n166  Innspilling (45).m4a        tv       recordings/speaker-4-Phillips-tv\n154  Innspilling (10).m4a   desktop  recordings/speaker-1-desktop-speakers\n57    Innspilling (9).m4a   desktop  recordings/speaker-1-desktop-speakers\n112  Innspilling (49).m4a        tv       recordings/speaker-4-Phillips-tv\n30    Innspilling (5).m4a        tv       recordings/speaker-4-Phillips-tv\n145   Innspilling (6).m4a  soundbox          recordings/speaker-2-soundbox\n153  Innspilling (30).m4a   desktop  recordings/speaker-1-desktop-speakers\n208  Innspilling (32).m4a  soundbox          recordings/speaker-2-soundbox\n16    Innspilling (7).m4a   desktop  recordings/speaker-1-desktop-speakers\n60   Innspilling (27).m4a  soundbox          recordings/speaker-2-soundbox\n196  Innspilling (48).m4a  soundbar       recordings/speaker-3-LG_soundbar\n111  Innspilling (13).m4a  original         recordings/original-recordings\n163  Innspilling (49).m4a  soundbar       recordings/speaker-3-LG_soundbar\n64   Innspilling (44).m4a  soundbox          recordings/speaker-2-soundbox\n39   Innspilling (11).m4a  original         recordings/original-recordings\n100  Innspilling (48).m4a        tv       recordings/speaker-4-Phillips-tv\n43    Innspilling (4).m4a   desktop  recordings/speaker-1-desktop-speakers\n21   Innspilling (13).m4a   desktop  recordings/speaker-1-desktop-speakers\n137  Innspilling (11).m4a        tv       recordings/speaker-4-Phillips-tv\n116  Innspilling (19).m4a   desktop  recordings/speaker-1-desktop-speakers\n33   Innspilling (10).m4a        tv       recordings/speaker-4-Phillips-tv\n18    Innspilling (4).m4a  soundbar       recordings/speaker-3-LG_soundbar\n152  Innspilling (39).m4a   desktop  recordings/speaker-1-desktop-speakers\n218  Innspilling (11).m4a   desktop  recordings/speaker-1-desktop-speakers\n141  Innspilling (41).m4a   desktop  recordings/speaker-1-desktop-speakers\n                     file     label                                   path\n7    Innspilling (27).m4a   desktop  recordings/speaker-1-desktop-speakers\n12    Innspilling (3).m4a   desktop  recordings/speaker-1-desktop-speakers\n15    Innspilling (7).m4a        tv       recordings/speaker-4-Phillips-tv\n17   Innspilling (10).m4a  soundbox          recordings/speaker-2-soundbox\n23   Innspilling (26).m4a        tv       recordings/speaker-4-Phillips-tv\n24   Innspilling (16).m4a  soundbox          recordings/speaker-2-soundbox\n34    Innspilling (3).m4a        tv       recordings/speaker-4-Phillips-tv\n35   Innspilling (49).m4a   desktop  recordings/speaker-1-desktop-speakers\n41   Innspilling (26).m4a   desktop  recordings/speaker-1-desktop-speakers\n44   Innspilling (35).m4a  soundbox          recordings/speaker-2-soundbox\n45   Innspilling (47).m4a  soundbox          recordings/speaker-2-soundbox\n46   Innspilling (15).m4a  soundbar       recordings/speaker-3-LG_soundbar\n53   Innspilling (19).m4a  soundbox          recordings/speaker-2-soundbox\n56    Innspilling (7).m4a  soundbar       recordings/speaker-3-LG_soundbar\n62    Innspilling (8).m4a  original         recordings/original-recordings\n65   Innspilling (36).m4a  original         recordings/original-recordings\n67   Innspilling (19).m4a  original         recordings/original-recordings\n68   Innspilling (24).m4a  soundbox          recordings/speaker-2-soundbox\n75   Innspilling (41).m4a        tv       recordings/speaker-4-Phillips-tv\n87   Innspilling (11).m4a  soundbox          recordings/speaker-2-soundbox\n90   Innspilling (28).m4a  soundbar       recordings/speaker-3-LG_soundbar\n94   Innspilling (49).m4a  soundbox          recordings/speaker-2-soundbox\n95    Innspilling (6).m4a  original         recordings/original-recordings\n96    Innspilling (4).m4a  soundbox          recordings/speaker-2-soundbox\n101  Innspilling (49).m4a  original         recordings/original-recordings\n102  Innspilling (48).m4a  original         recordings/original-recordings\n104  Innspilling (50).m4a   desktop  recordings/speaker-1-desktop-speakers\n107  Innspilling (33).m4a  original         recordings/original-recordings\n110  Innspilling (23).m4a  soundbar       recordings/speaker-3-LG_soundbar\n113  Innspilling (45).m4a  soundbar       recordings/speaker-3-LG_soundbar\n115  Innspilling (33).m4a  soundbox          recordings/speaker-2-soundbox\n119   Innspilling (6).m4a   desktop  recordings/speaker-1-desktop-speakers\n121  Innspilling (29).m4a  soundbox          recordings/speaker-2-soundbox\n131  Innspilling (19).m4a  soundbar       recordings/speaker-3-LG_soundbar\n134  Innspilling (25).m4a  soundbar       recordings/speaker-3-LG_soundbar\n139  Innspilling (17).m4a        tv       recordings/speaker-4-Phillips-tv\n140  Innspilling (47).m4a        tv       recordings/speaker-4-Phillips-tv\n144  Innspilling (45).m4a  original         recordings/original-recordings\n148  Innspilling (24).m4a  original         recordings/original-recordings\n150  Innspilling (16).m4a  soundbar       recordings/speaker-3-LG_soundbar\n159  Innspilling (26).m4a  original         recordings/original-recordings\n160  Innspilling (42).m4a        tv       recordings/speaker-4-Phillips-tv\n162  Innspilling (44).m4a        tv       recordings/speaker-4-Phillips-tv\n164   Innspilling (9).m4a  soundbox          recordings/speaker-2-soundbox\n170  Innspilling (47).m4a   desktop  recordings/speaker-1-desktop-speakers\n172  Innspilling (14).m4a  soundbar       recordings/speaker-3-LG_soundbar\n174   Innspilling (7).m4a  original         recordings/original-recordings\n178  Innspilling (45).m4a   desktop  recordings/speaker-1-desktop-speakers\n180  Innspilling (48).m4a   desktop  recordings/speaker-1-desktop-speakers\n184  Innspilling (15).m4a   desktop  recordings/speaker-1-desktop-speakers\n186  Innspilling (42).m4a   desktop  recordings/speaker-1-desktop-speakers\n188  Innspilling (30).m4a  soundbar       recordings/speaker-3-LG_soundbar\n189   Innspilling (8).m4a  soundbar       recordings/speaker-3-LG_soundbar\n193  Innspilling (28).m4a  soundbox          recordings/speaker-2-soundbox\n195  Innspilling (23).m4a  soundbox          recordings/speaker-2-soundbox\n197  Innspilling (30).m4a        tv       recordings/speaker-4-Phillips-tv\n203   Innspilling (9).m4a  original         recordings/original-recordings\n205  Innspilling (30).m4a  soundbox          recordings/speaker-2-soundbox\n206   Innspilling (7).m4a  soundbox          recordings/speaker-2-soundbox\n207  Innspilling (20).m4a   desktop  recordings/speaker-1-desktop-speakers\n"
     ]
    }
   ],
   "source": [
    "# Splitting into test and train data. First randomizing the dataframe containing every sample\n",
    "df = df.sample(frac=1).reset_index(drop=True)\n",
    "\n",
    "# Creating a training dataset with 70% of the data\n",
    "train_df = df.sample(frac=0.7)\n",
    "\n",
    "# Taking the remaining after the 70 split and putting them into the test datatset\n",
    "test_df = df.drop(train_df.index)\n",
    "\n",
    "print(len(test_df))\n",
    "print(len(train_df))\n",
    "print(train_df[:60])\n",
    "print(test_df[:60])\n"
   ]
  },
  {
   "source": [
    "In this segment we verify that the training and test datasets have about the same relative amounts of each label after the shufffling of the dataframe"
   ],
   "cell_type": "markdown",
   "metadata": {}
  },
  {
   "cell_type": "code",
   "execution_count": 618,
   "metadata": {},
   "outputs": [
    {
     "output_type": "execute_result",
     "data": {
      "text/plain": [
       "tv          0.222857\n",
       "soundbar    0.211429\n",
       "desktop     0.200000\n",
       "original    0.188571\n",
       "soundbox    0.177143\n",
       "Name: label, dtype: float64"
      ]
     },
     "metadata": {},
     "execution_count": 618
    }
   ],
   "source": [
    "# Checking that the splits have a reasonably balanced amount of different labels\n",
    "train_df['label'].value_counts(normalize=True)"
   ]
  },
  {
   "cell_type": "code",
   "execution_count": 619,
   "metadata": {},
   "outputs": [
    {
     "output_type": "execute_result",
     "data": {
      "text/plain": [
       "soundbox    0.253333\n",
       "original    0.226667\n",
       "desktop     0.200000\n",
       "soundbar    0.173333\n",
       "tv          0.146667\n",
       "Name: label, dtype: float64"
      ]
     },
     "metadata": {},
     "execution_count": 619
    }
   ],
   "source": [
    "test_df['label'].value_counts(normalize=True)"
   ]
  },
  {
   "source": [
    "### The splits have about equal amounts and we decide to leave it at this"
   ],
   "cell_type": "markdown",
   "metadata": {}
  },
  {
   "source": [
    "#### Below is our function for extracting the MFCCs of each audio file"
   ],
   "cell_type": "markdown",
   "metadata": {}
  },
  {
   "cell_type": "code",
   "execution_count": 621,
   "metadata": {},
   "outputs": [
    {
     "output_type": "stream",
     "name": "stdout",
     "text": [
      "fileName:  recordings/speaker-4-Phillips-tv/Innspilling (46).m4a\n",
      "C:\\ProgramData\\Anaconda3\\lib\\site-packages\\librosa\\core\\audio.py:162: UserWarning: PySoundFile failed. Trying audioread instead.\n",
      "  warnings.warn(\"PySoundFile failed. Trying audioread instead.\")\n",
      "fileName:  recordings/original-recordings/Innspilling (38).m4a\n",
      "fileName:  recordings/speaker-2-soundbox/Innspilling (48).m4a\n",
      "fileName:  recordings/original-recordings/Innspilling (25).m4a\n",
      "fileName:  recordings/speaker-4-Phillips-tv/Innspilling (9).m4a\n",
      "fileName:  recordings/speaker-4-Phillips-tv/Innspilling (1).m4a\n",
      "fileName:  recordings/speaker-1-desktop-speakers/Innspilling (24).m4a\n",
      "fileName:  recordings/speaker-3-LG_soundbar/Innspilling (31).m4a\n",
      "fileName:  recordings/speaker-4-Phillips-tv/Innspilling (4).m4a\n",
      "fileName:  recordings/speaker-4-Phillips-tv/Innspilling (24).m4a\n",
      "fileName:  recordings/speaker-2-soundbox/Innspilling (12).m4a\n",
      "fileName:  recordings/speaker-4-Phillips-tv/Innspilling (33).m4a\n",
      "fileName:  recordings/speaker-4-Phillips-tv/Innspilling (8).m4a\n",
      "fileName:  recordings/speaker-4-Phillips-tv/Innspilling (28).m4a\n",
      "fileName:  recordings/speaker-1-desktop-speakers/Innspilling (35).m4a\n",
      "fileName:  recordings/original-recordings/Innspilling (1).m4a\n",
      "fileName:  recordings/speaker-2-soundbox/Innspilling (50).m4a\n",
      "fileName:  recordings/original-recordings/Innspilling (31).m4a\n",
      "fileName:  recordings/speaker-4-Phillips-tv/Innspilling (23).m4a\n",
      "fileName:  recordings/speaker-4-Phillips-tv/Innspilling (19).m4a\n",
      "fileName:  recordings/speaker-1-desktop-speakers/Innspilling (22).m4a\n",
      "fileName:  recordings/speaker-4-Phillips-tv/Innspilling (38).m4a\n",
      "fileName:  recordings/speaker-2-soundbox/Innspilling (36).m4a\n",
      "fileName:  recordings/speaker-1-desktop-speakers/Innspilling (32).m4a\n",
      "fileName:  recordings/speaker-3-LG_soundbar/Innspilling (29).m4a\n",
      "fileName:  recordings/speaker-2-soundbox/Innspilling (46).m4a\n",
      "fileName:  recordings/original-recordings/Innspilling (4).m4a\n",
      "fileName:  recordings/speaker-2-soundbox/Innspilling (42).m4a\n",
      "fileName:  recordings/speaker-2-soundbox/Innspilling (34).m4a\n",
      "fileName:  recordings/speaker-4-Phillips-tv/Innspilling (31).m4a\n",
      "fileName:  recordings/speaker-3-LG_soundbar/Innspilling (21).m4a\n",
      "fileName:  recordings/speaker-3-LG_soundbar/Innspilling (9).m4a\n",
      "fileName:  recordings/original-recordings/Innspilling (35).m4a\n",
      "fileName:  recordings/speaker-3-LG_soundbar/Innspilling (32).m4a\n",
      "fileName:  recordings/speaker-2-soundbox/Innspilling (15).m4a\n",
      "fileName:  recordings/speaker-4-Phillips-tv/Innspilling (45).m4a\n",
      "fileName:  recordings/speaker-1-desktop-speakers/Innspilling (10).m4a\n",
      "fileName:  recordings/speaker-1-desktop-speakers/Innspilling (9).m4a\n",
      "fileName:  recordings/speaker-4-Phillips-tv/Innspilling (49).m4a\n",
      "fileName:  recordings/speaker-4-Phillips-tv/Innspilling (5).m4a\n",
      "fileName:  recordings/speaker-2-soundbox/Innspilling (6).m4a\n",
      "fileName:  recordings/speaker-1-desktop-speakers/Innspilling (30).m4a\n",
      "fileName:  recordings/speaker-2-soundbox/Innspilling (32).m4a\n",
      "fileName:  recordings/speaker-1-desktop-speakers/Innspilling (7).m4a\n",
      "fileName:  recordings/speaker-2-soundbox/Innspilling (27).m4a\n",
      "fileName:  recordings/speaker-3-LG_soundbar/Innspilling (48).m4a\n",
      "fileName:  recordings/original-recordings/Innspilling (13).m4a\n",
      "fileName:  recordings/speaker-3-LG_soundbar/Innspilling (49).m4a\n",
      "fileName:  recordings/speaker-2-soundbox/Innspilling (44).m4a\n",
      "fileName:  recordings/original-recordings/Innspilling (11).m4a\n",
      "fileName:  recordings/speaker-4-Phillips-tv/Innspilling (48).m4a\n",
      "fileName:  recordings/speaker-1-desktop-speakers/Innspilling (4).m4a\n",
      "fileName:  recordings/speaker-1-desktop-speakers/Innspilling (13).m4a\n",
      "fileName:  recordings/speaker-4-Phillips-tv/Innspilling (11).m4a\n",
      "fileName:  recordings/speaker-1-desktop-speakers/Innspilling (19).m4a\n",
      "fileName:  recordings/speaker-4-Phillips-tv/Innspilling (10).m4a\n",
      "fileName:  recordings/speaker-3-LG_soundbar/Innspilling (4).m4a\n",
      "fileName:  recordings/speaker-1-desktop-speakers/Innspilling (39).m4a\n",
      "fileName:  recordings/speaker-1-desktop-speakers/Innspilling (11).m4a\n",
      "fileName:  recordings/speaker-1-desktop-speakers/Innspilling (41).m4a\n",
      "fileName:  recordings/speaker-1-desktop-speakers/Innspilling (34).m4a\n",
      "fileName:  recordings/speaker-4-Phillips-tv/Innspilling (22).m4a\n",
      "fileName:  recordings/original-recordings/Innspilling (37).m4a\n",
      "fileName:  recordings/speaker-4-Phillips-tv/Innspilling (37).m4a\n",
      "fileName:  recordings/speaker-4-Phillips-tv/Innspilling (27).m4a\n",
      "fileName:  recordings/speaker-1-desktop-speakers/Innspilling (16).m4a\n",
      "fileName:  recordings/speaker-3-LG_soundbar/Innspilling (12).m4a\n",
      "fileName:  recordings/speaker-3-LG_soundbar/Innspilling (27).m4a\n",
      "fileName:  recordings/speaker-3-LG_soundbar/Innspilling (35).m4a\n",
      "fileName:  recordings/speaker-3-LG_soundbar/Innspilling (34).m4a\n",
      "fileName:  recordings/speaker-1-desktop-speakers/Innspilling (21).m4a\n",
      "fileName:  recordings/speaker-3-LG_soundbar/Innspilling (24).m4a\n",
      "fileName:  recordings/speaker-1-desktop-speakers/Innspilling (1).m4a\n",
      "fileName:  recordings/speaker-3-LG_soundbar/Innspilling (36).m4a\n",
      "fileName:  recordings/speaker-4-Phillips-tv/Innspilling (40).m4a\n",
      "fileName:  recordings/speaker-3-LG_soundbar/Innspilling (18).m4a\n",
      "fileName:  recordings/speaker-1-desktop-speakers/Innspilling (8).m4a\n",
      "fileName:  recordings/speaker-3-LG_soundbar/Innspilling (37).m4a\n",
      "fileName:  recordings/original-recordings/Innspilling (41).m4a\n",
      "fileName:  recordings/speaker-1-desktop-speakers/Innspilling (25).m4a\n",
      "fileName:  recordings/speaker-3-LG_soundbar/Innspilling (44).m4a\n",
      "fileName:  recordings/original-recordings/Innspilling (44).m4a\n",
      "fileName:  recordings/speaker-2-soundbox/Innspilling (8).m4a\n",
      "fileName:  recordings/speaker-4-Phillips-tv/Innspilling (14).m4a\n",
      "fileName:  recordings/speaker-4-Phillips-tv/Innspilling (43).m4a\n",
      "fileName:  recordings/original-recordings/Innspilling (20).m4a\n",
      "fileName:  recordings/original-recordings/Innspilling (5).m4a\n",
      "fileName:  recordings/speaker-3-LG_soundbar/Innspilling (38).m4a\n",
      "fileName:  recordings/speaker-1-desktop-speakers/Innspilling (2).m4a\n",
      "fileName:  recordings/speaker-3-LG_soundbar/Innspilling (6).m4a\n",
      "fileName:  recordings/speaker-4-Phillips-tv/Innspilling (6).m4a\n",
      "fileName:  recordings/original-recordings/Innspilling (17).m4a\n",
      "fileName:  recordings/speaker-4-Phillips-tv/Innspilling (2).m4a\n",
      "fileName:  recordings/original-recordings/Innspilling (34).m4a\n",
      "fileName:  recordings/original-recordings/Innspilling (16).m4a\n",
      "fileName:  recordings/original-recordings/Innspilling (39).m4a\n",
      "fileName:  recordings/speaker-2-soundbox/Innspilling (22).m4a\n",
      "fileName:  recordings/original-recordings/Innspilling (29).m4a\n",
      "fileName:  recordings/speaker-3-LG_soundbar/Innspilling (26).m4a\n",
      "fileName:  recordings/original-recordings/Innspilling (15).m4a\n",
      "fileName:  recordings/speaker-4-Phillips-tv/Innspilling (39).m4a\n",
      "fileName:  recordings/speaker-1-desktop-speakers/Innspilling (18).m4a\n",
      "fileName:  recordings/speaker-1-desktop-speakers/Innspilling (23).m4a\n",
      "fileName:  recordings/speaker-2-soundbox/Innspilling (18).m4a\n",
      "fileName:  recordings/speaker-4-Phillips-tv/Innspilling (25).m4a\n",
      "fileName:  recordings/speaker-2-soundbox/Innspilling (5).m4a\n",
      "fileName:  recordings/speaker-3-LG_soundbar/Innspilling (41).m4a\n",
      "fileName:  recordings/speaker-3-LG_soundbar/Innspilling (5).m4a\n",
      "fileName:  recordings/speaker-2-soundbox/Innspilling (25).m4a\n",
      "fileName:  recordings/speaker-3-LG_soundbar/Innspilling (10).m4a\n",
      "fileName:  recordings/speaker-3-LG_soundbar/Innspilling (22).m4a\n",
      "fileName:  recordings/original-recordings/Innspilling (43).m4a\n",
      "fileName:  recordings/original-recordings/Innspilling (18).m4a\n",
      "fileName:  recordings/speaker-3-LG_soundbar/Innspilling (3).m4a\n",
      "fileName:  recordings/speaker-2-soundbox/Innspilling (3).m4a\n",
      "fileName:  recordings/speaker-1-desktop-speakers/Innspilling (28).m4a\n",
      "fileName:  recordings/speaker-3-LG_soundbar/Innspilling (47).m4a\n",
      "fileName:  recordings/original-recordings/Innspilling (32).m4a\n",
      "fileName:  recordings/speaker-4-Phillips-tv/Innspilling (13).m4a\n",
      "fileName:  recordings/original-recordings/Innspilling (40).m4a\n",
      "fileName:  recordings/original-recordings/Innspilling (2).m4a\n",
      "fileName:  recordings/original-recordings/Innspilling (22).m4a\n",
      "fileName:  recordings/speaker-1-desktop-speakers/Innspilling (43).m4a\n",
      "fileName:  recordings/speaker-4-Phillips-tv/Innspilling (35).m4a\n",
      "fileName:  recordings/speaker-4-Phillips-tv/Innspilling (21).m4a\n",
      "fileName:  recordings/speaker-3-LG_soundbar/Innspilling (2).m4a\n",
      "fileName:  recordings/speaker-3-LG_soundbar/Innspilling (43).m4a\n",
      "fileName:  recordings/speaker-3-LG_soundbar/Innspilling (17).m4a\n",
      "fileName:  recordings/speaker-4-Phillips-tv/Innspilling (29).m4a\n",
      "fileName:  recordings/speaker-3-LG_soundbar/Innspilling (39).m4a\n",
      "fileName:  recordings/speaker-1-desktop-speakers/Innspilling (40).m4a\n",
      "fileName:  recordings/speaker-1-desktop-speakers/Innspilling (31).m4a\n",
      "fileName:  recordings/speaker-4-Phillips-tv/Innspilling (50).m4a\n",
      "fileName:  recordings/original-recordings/Innspilling (14).m4a\n",
      "fileName:  recordings/original-recordings/Innspilling (12).m4a\n",
      "fileName:  recordings/speaker-2-soundbox/Innspilling (38).m4a\n",
      "fileName:  recordings/speaker-2-soundbox/Innspilling (41).m4a\n",
      "fileName:  recordings/speaker-2-soundbox/Innspilling (21).m4a\n",
      "fileName:  recordings/speaker-2-soundbox/Innspilling (43).m4a\n",
      "fileName:  recordings/speaker-1-desktop-speakers/Innspilling (38).m4a\n",
      "fileName:  recordings/speaker-4-Phillips-tv/Innspilling (16).m4a\n",
      "fileName:  recordings/speaker-1-desktop-speakers/Innspilling (12).m4a\n",
      "fileName:  recordings/speaker-4-Phillips-tv/Innspilling (36).m4a\n",
      "fileName:  recordings/speaker-2-soundbox/Innspilling (37).m4a\n",
      "fileName:  recordings/speaker-4-Phillips-tv/Innspilling (20).m4a\n",
      "fileName:  recordings/speaker-1-desktop-speakers/Innspilling (36).m4a\n",
      "fileName:  recordings/original-recordings/Innspilling (3).m4a\n",
      "fileName:  recordings/speaker-2-soundbox/Innspilling (2).m4a\n",
      "fileName:  recordings/speaker-3-LG_soundbar/Innspilling (13).m4a\n",
      "fileName:  recordings/speaker-3-LG_soundbar/Innspilling (40).m4a\n",
      "fileName:  recordings/speaker-3-LG_soundbar/Innspilling (42).m4a\n",
      "fileName:  recordings/speaker-3-LG_soundbar/Innspilling (1).m4a\n",
      "fileName:  recordings/speaker-4-Phillips-tv/Innspilling (15).m4a\n",
      "fileName:  recordings/speaker-1-desktop-speakers/Innspilling (33).m4a\n",
      "fileName:  recordings/original-recordings/Innspilling (21).m4a\n",
      "fileName:  recordings/speaker-3-LG_soundbar/Innspilling (46).m4a\n",
      "fileName:  recordings/speaker-2-soundbox/Innspilling (40).m4a\n",
      "fileName:  recordings/speaker-4-Phillips-tv/Innspilling (32).m4a\n",
      "fileName:  recordings/speaker-2-soundbox/Innspilling (45).m4a\n",
      "fileName:  recordings/speaker-2-soundbox/Innspilling (31).m4a\n",
      "fileName:  recordings/original-recordings/Innspilling (42).m4a\n",
      "fileName:  recordings/speaker-4-Phillips-tv/Innspilling (34).m4a\n",
      "fileName:  recordings/speaker-2-soundbox/Innspilling (17).m4a\n",
      "fileName:  recordings/speaker-1-desktop-speakers/Innspilling (17).m4a\n",
      "fileName:  recordings/speaker-2-soundbox/Innspilling (1).m4a\n",
      "fileName:  recordings/original-recordings/Innspilling (50).m4a\n",
      "fileName:  recordings/speaker-1-desktop-speakers/Innspilling (44).m4a\n",
      "fileName:  recordings/speaker-2-soundbox/Innspilling (13).m4a\n",
      "fileName:  recordings/speaker-1-desktop-speakers/Innspilling (46).m4a\n",
      "fileName:  recordings/speaker-3-LG_soundbar/Innspilling (11).m4a\n",
      "fileName:  recordings/speaker-3-LG_soundbar/Innspilling (20).m4a\n",
      "fileName:  recordings/speaker-2-soundbox/Innspilling (20).m4a\n",
      "fileName:  recordings/original-recordings/Innspilling (47).m4a\n",
      "fileName:  recordings/original-recordings/Innspilling (28).m4a\n",
      "fileName:  recordings/speaker-1-desktop-speakers/Innspilling (14).m4a\n",
      "235    [[-627.7421, 50.238598, -18.09772, 14.362102, ...\n",
      "157    [[-504.3177, 63.04232, -15.625175, 37.061897, ...\n",
      "241    [[-561.6722, 51.338535, -38.988167, 23.38096, ...\n",
      "165    [[-531.37573, 45.435135, -12.522977, 40.92892,...\n",
      "220    [[-585.51953, 60.98357, -25.306355, 6.6776967,...\n",
      "209    [[-620.84406, 53.94023, -18.383823, 12.298676,...\n",
      "59     [[-571.68365, 0.9637484, -25.395756, 31.472155...\n",
      "78     [[-572.6786, 20.20116, -11.618311, 29.39372, 2...\n",
      "42     [[-610.3304, 40.931488, -13.532188, 12.465606,...\n",
      "120    [[-601.1827, 33.01021, -21.543465, 19.645042, ...\n",
      "dtype: object\n",
      "TESTDATA\n",
      "fileName:  recordings/speaker-1-desktop-speakers/Innspilling (27).m4a\n",
      "fileName:  recordings/speaker-1-desktop-speakers/Innspilling (3).m4a\n",
      "fileName:  recordings/speaker-4-Phillips-tv/Innspilling (7).m4a\n",
      "fileName:  recordings/speaker-2-soundbox/Innspilling (10).m4a\n",
      "fileName:  recordings/speaker-4-Phillips-tv/Innspilling (26).m4a\n",
      "fileName:  recordings/speaker-2-soundbox/Innspilling (16).m4a\n",
      "fileName:  recordings/speaker-4-Phillips-tv/Innspilling (3).m4a\n",
      "fileName:  recordings/speaker-1-desktop-speakers/Innspilling (49).m4a\n",
      "fileName:  recordings/speaker-1-desktop-speakers/Innspilling (26).m4a\n",
      "fileName:  recordings/speaker-2-soundbox/Innspilling (35).m4a\n",
      "fileName:  recordings/speaker-2-soundbox/Innspilling (47).m4a\n",
      "fileName:  recordings/speaker-3-LG_soundbar/Innspilling (15).m4a\n",
      "fileName:  recordings/speaker-2-soundbox/Innspilling (19).m4a\n",
      "fileName:  recordings/speaker-3-LG_soundbar/Innspilling (7).m4a\n",
      "fileName:  recordings/original-recordings/Innspilling (8).m4a\n",
      "fileName:  recordings/original-recordings/Innspilling (36).m4a\n",
      "fileName:  recordings/original-recordings/Innspilling (19).m4a\n",
      "fileName:  recordings/speaker-2-soundbox/Innspilling (24).m4a\n",
      "fileName:  recordings/speaker-4-Phillips-tv/Innspilling (41).m4a\n",
      "fileName:  recordings/speaker-2-soundbox/Innspilling (11).m4a\n",
      "fileName:  recordings/speaker-3-LG_soundbar/Innspilling (28).m4a\n",
      "fileName:  recordings/speaker-2-soundbox/Innspilling (49).m4a\n",
      "fileName:  recordings/original-recordings/Innspilling (6).m4a\n",
      "fileName:  recordings/speaker-2-soundbox/Innspilling (4).m4a\n",
      "fileName:  recordings/original-recordings/Innspilling (49).m4a\n",
      "fileName:  recordings/original-recordings/Innspilling (48).m4a\n",
      "fileName:  recordings/speaker-1-desktop-speakers/Innspilling (50).m4a\n",
      "fileName:  recordings/original-recordings/Innspilling (33).m4a\n",
      "fileName:  recordings/speaker-3-LG_soundbar/Innspilling (23).m4a\n",
      "fileName:  recordings/speaker-3-LG_soundbar/Innspilling (45).m4a\n",
      "fileName:  recordings/speaker-2-soundbox/Innspilling (33).m4a\n",
      "fileName:  recordings/speaker-1-desktop-speakers/Innspilling (6).m4a\n",
      "fileName:  recordings/speaker-2-soundbox/Innspilling (29).m4a\n",
      "fileName:  recordings/speaker-3-LG_soundbar/Innspilling (19).m4a\n",
      "fileName:  recordings/speaker-3-LG_soundbar/Innspilling (25).m4a\n",
      "fileName:  recordings/speaker-4-Phillips-tv/Innspilling (17).m4a\n",
      "fileName:  recordings/speaker-4-Phillips-tv/Innspilling (47).m4a\n",
      "fileName:  recordings/original-recordings/Innspilling (45).m4a\n",
      "fileName:  recordings/original-recordings/Innspilling (24).m4a\n",
      "fileName:  recordings/speaker-3-LG_soundbar/Innspilling (16).m4a\n",
      "fileName:  recordings/original-recordings/Innspilling (26).m4a\n",
      "fileName:  recordings/speaker-4-Phillips-tv/Innspilling (42).m4a\n",
      "fileName:  recordings/speaker-4-Phillips-tv/Innspilling (44).m4a\n",
      "fileName:  recordings/speaker-2-soundbox/Innspilling (9).m4a\n",
      "fileName:  recordings/speaker-1-desktop-speakers/Innspilling (47).m4a\n",
      "fileName:  recordings/speaker-3-LG_soundbar/Innspilling (14).m4a\n",
      "fileName:  recordings/original-recordings/Innspilling (7).m4a\n",
      "fileName:  recordings/speaker-1-desktop-speakers/Innspilling (45).m4a\n",
      "fileName:  recordings/speaker-1-desktop-speakers/Innspilling (48).m4a\n",
      "fileName:  recordings/speaker-1-desktop-speakers/Innspilling (15).m4a\n",
      "fileName:  recordings/speaker-1-desktop-speakers/Innspilling (42).m4a\n",
      "fileName:  recordings/speaker-3-LG_soundbar/Innspilling (30).m4a\n",
      "fileName:  recordings/speaker-3-LG_soundbar/Innspilling (8).m4a\n",
      "fileName:  recordings/speaker-2-soundbox/Innspilling (28).m4a\n",
      "fileName:  recordings/speaker-2-soundbox/Innspilling (23).m4a\n",
      "fileName:  recordings/speaker-4-Phillips-tv/Innspilling (30).m4a\n",
      "fileName:  recordings/original-recordings/Innspilling (9).m4a\n",
      "fileName:  recordings/speaker-2-soundbox/Innspilling (30).m4a\n",
      "fileName:  recordings/speaker-2-soundbox/Innspilling (7).m4a\n",
      "fileName:  recordings/speaker-1-desktop-speakers/Innspilling (20).m4a\n",
      "fileName:  recordings/speaker-4-Phillips-tv/Innspilling (12).m4a\n",
      "fileName:  recordings/speaker-2-soundbox/Innspilling (14).m4a\n",
      "fileName:  recordings/original-recordings/Innspilling (23).m4a\n",
      "fileName:  recordings/speaker-4-Phillips-tv/Innspilling (18).m4a\n",
      "fileName:  recordings/speaker-1-desktop-speakers/Innspilling (5).m4a\n",
      "fileName:  recordings/original-recordings/Innspilling (10).m4a\n",
      "fileName:  recordings/speaker-1-desktop-speakers/Innspilling (37).m4a\n",
      "fileName:  recordings/speaker-2-soundbox/Innspilling (26).m4a\n",
      "fileName:  recordings/speaker-3-LG_soundbar/Innspilling (50).m4a\n",
      "fileName:  recordings/speaker-3-LG_soundbar/Innspilling (33).m4a\n",
      "fileName:  recordings/original-recordings/Innspilling (46).m4a\n",
      "fileName:  recordings/speaker-1-desktop-speakers/Innspilling (29).m4a\n",
      "fileName:  recordings/original-recordings/Innspilling (27).m4a\n",
      "fileName:  recordings/speaker-2-soundbox/Innspilling (39).m4a\n",
      "fileName:  recordings/original-recordings/Innspilling (30).m4a\n",
      "7     [[-581.72217, 15.437065, -27.14705, 26.680485,...\n",
      "12    [[-543.1673, 13.679497, -25.95537, 24.771755, ...\n",
      "15    [[-575.2499, 61.509716, -26.461647, 6.011696, ...\n",
      "17    [[-553.9367, 40.429813, -35.85821, 28.133095, ...\n",
      "23    [[-601.55804, 50.842186, -25.462124, 16.118166...\n",
      "24    [[-539.74713, 46.37148, -36.588165, 21.471128,...\n",
      "34    [[-590.8226, 49.206154, -20.159605, 5.888608, ...\n",
      "35    [[-600.436, 22.278051, -21.443554, 21.536417, ...\n",
      "41    [[-580.49695, 18.339418, -25.477211, 28.834969...\n",
      "44    [[-557.6207, 38.8889, -38.681522, 28.149332, 2...\n",
      "dtype: object\n"
     ]
    }
   ],
   "source": [
    "# Function for extracting the mffcs which we will use as features for the task\n",
    "# Inspired by and based upon https://www.analyticsvidhya.com/blog/2017/08/audio-voice-processing-deep-learning/\n",
    "\n",
    "def feature_extract(row):\n",
    "    # Getting the full path\n",
    "    fileName = row.path + '/' + row.file\n",
    "    print('fileName: ', fileName)\n",
    "\n",
    "    # Loading the file as floating point time series\n",
    "    X, sample_rate = librosa.load(fileName, res_type='kaiser_fast')\n",
    "\n",
    "    # Generate MFCCs from the time series\n",
    "    mfccs = np.mean(librosa.feature.mfcc(y=X, sr=sample_rate, n_mfcc=40).T,axis=0)\n",
    "\n",
    "    feature = mfccs\n",
    "    label = row.label\n",
    "    return [feature, label]\n",
    "\n",
    "tempTrain = train_df.apply(feature_extract, axis=1) # Our new df holding the data with extracted features\n",
    "print(tempTrain[:10])\n",
    "\n",
    "tempTest = test_df.apply(feature_extract, axis=1)\n",
    "print(tempTest[:10])"
   ]
  },
  {
   "cell_type": "code",
   "execution_count": 622,
   "metadata": {},
   "outputs": [
    {
     "output_type": "stream",
     "name": "stdout",
     "text": [
      "[array([-591.32825   ,   58.145115  ,  -30.642847  ,   13.672411  ,\n          2.602554  ,   12.371793  ,  -25.468023  ,    7.1586123 ,\n        -24.559341  ,    8.191494  ,  -10.488945  ,    4.053541  ,\n        -12.448172  ,    1.6702914 ,  -19.699337  ,    2.9578776 ,\n         -4.292734  ,   -1.002752  ,   -0.7726733 ,    4.5480847 ,\n        -10.21619   ,    2.2369764 ,   -0.82680225,    1.6215646 ,\n         -3.311687  ,   -1.3864136 ,    0.9442813 ,   -2.7545183 ,\n         -1.5212698 ,   -1.1675965 ,   -1.779974  ,   -2.4015484 ,\n         -3.1145072 ,   -4.0840607 ,    0.69110674,   -0.59805316,\n         -3.4075685 ,   -1.9741423 ,   -2.8234973 ,   -1.368772  ],\n      dtype=float32), 'tv']\n(175,)\n"
     ]
    }
   ],
   "source": [
    "print(tempTrain[1])\n",
    "print(tempTrain.shape)"
   ]
  },
  {
   "cell_type": "code",
   "execution_count": 624,
   "metadata": {},
   "outputs": [
    {
     "output_type": "stream",
     "name": "stdout",
     "text": [
      "[array([-5.8172217e+02,  1.5437065e+01, -2.7147051e+01,  2.6680485e+01,\n",
      "        8.5790377e+00,  3.0137774e-01, -2.2544842e+01,  1.6496386e+01,\n",
      "       -2.1896687e+01,  1.1590652e+01, -7.5842280e+00, -1.5515449e+00,\n",
      "       -1.7282608e+01,  3.3958380e+00, -1.3441625e+01, -5.9454215e-01,\n",
      "       -5.8711839e+00, -6.2067981e+00, -2.3468170e+00,  3.0843818e+00,\n",
      "       -7.5957537e+00, -2.0800567e+00, -2.7862184e+00, -7.5124770e-01,\n",
      "       -3.0628166e+00, -6.7314804e-01,  1.6105751e+00, -1.8564489e+00,\n",
      "        6.7806154e-01,  1.2673815e+00, -1.9276826e+00, -4.8646188e+00,\n",
      "        3.1495836e-01, -3.2074275e+00,  1.2309990e+00, -1.6365238e+00,\n",
      "       -2.0889108e+00, -5.2553755e-01, -3.7409916e+00,  2.6506600e+00],\n",
      "      dtype=float32), 'desktop']\n",
      "[array([-5.4316730e+02,  1.3679497e+01, -2.5955370e+01,  2.4771755e+01,\n",
      "        1.5104321e+00, -2.6881778e+00, -2.6984690e+01,  1.0213340e+01,\n",
      "       -2.8260460e+01,  1.0069058e+01, -7.6664085e+00,  4.7012833e-01,\n",
      "       -1.6081234e+01,  4.5798540e+00, -1.3160213e+01,  2.7852352e+00,\n",
      "       -8.6233234e+00, -6.3258443e+00, -1.6407747e+00,  4.0590315e+00,\n",
      "       -9.3824224e+00, -1.9119247e+00, -3.3917160e+00, -4.7257552e-01,\n",
      "       -1.3415333e+00, -2.2928512e+00, -3.6873034e-01, -2.1466403e+00,\n",
      "        1.2338682e+00,  2.8391862e+00, -1.5530856e+00, -5.0914178e+00,\n",
      "       -2.2683026e-01, -2.8802266e+00,  1.7421178e+00, -1.4024311e+00,\n",
      "       -1.7538962e+00, -2.1334980e-01, -4.8674660e+00,  2.0548654e+00],\n",
      "      dtype=float32), 'desktop']\n",
      "[array([-5.7524988e+02,  6.1509716e+01, -2.6461647e+01,  6.0116959e+00,\n",
      "        1.9144968e+00,  8.8988686e+00, -2.8389923e+01,  7.2348800e+00,\n",
      "       -2.3513237e+01,  5.3937926e+00, -1.1973056e+01,  6.1633554e+00,\n",
      "       -1.2515305e+01, -3.9401141e-01, -1.8901701e+01,  1.9295692e+00,\n",
      "       -3.8302801e+00, -4.9196345e-01,  1.6741642e+00,  1.9870436e+00,\n",
      "       -1.0430558e+01,  1.8510144e+00, -1.8370447e-01,  6.2619400e-01,\n",
      "       -1.9911690e+00, -2.0224187e+00,  2.1920857e+00, -4.5994301e+00,\n",
      "       -2.5630903e+00, -1.6066854e-01, -1.3666070e+00, -2.4810147e+00,\n",
      "       -3.3572681e+00, -4.1603332e+00,  2.0095186e+00, -1.1648389e+00,\n",
      "       -3.7976003e+00, -1.9443566e+00, -1.7998720e+00, -1.8739861e+00],\n",
      "      dtype=float32), 'tv']\n",
      "[array([-5.5393671e+02,  4.0429813e+01, -3.5858212e+01,  2.8133095e+01,\n",
      "        2.3893221e+01,  4.0886106e+00, -2.9297789e+01,  1.1597335e+01,\n",
      "       -2.7268976e+01,  2.5959928e+00, -6.8644118e+00, -3.7793810e+00,\n",
      "       -2.0827099e+01,  5.4713440e+00, -1.8526636e+01, -1.7331228e+00,\n",
      "       -4.7637925e+00, -2.2270474e+00, -3.8608658e+00, -5.1300511e+00,\n",
      "       -1.1871524e+01, -3.4775074e+00, -6.7075782e+00, -5.1853018e+00,\n",
      "        2.9696590e-01, -1.8029873e-01,  4.8536044e-01, -1.5706462e+00,\n",
      "        6.4477930e+00,  1.1534374e+00, -1.3170353e+00, -4.0090305e-01,\n",
      "       -4.3555292e-01, -2.4700768e+00,  1.4951431e+00, -1.4366173e+00,\n",
      "       -3.9797740e+00, -2.8695922e+00, -2.1163967e-01,  2.1440310e-02],\n",
      "      dtype=float32), 'soundbox']\n",
      "[array([-6.0155804e+02,  5.0842186e+01, -2.5462124e+01,  1.6118166e+01,\n",
      "        7.0268421e+00,  1.2205647e+01, -2.5674950e+01,  9.9769402e+00,\n",
      "       -2.1962282e+01,  7.1431365e+00, -1.0907024e+01,  4.1724257e+00,\n",
      "       -1.2792637e+01,  1.9432200e+00, -1.8577726e+01,  1.4426363e+00,\n",
      "       -3.0167065e+00, -9.1276847e-02, -5.5141795e-01,  2.4466085e+00,\n",
      "       -8.1208963e+00,  1.6902474e+00, -4.1502431e-01,  6.2076741e-01,\n",
      "       -4.0514731e+00, -1.9148711e+00,  1.3418436e+00, -4.1712499e+00,\n",
      "       -8.9515638e-01, -1.7036206e+00, -2.3835652e+00, -2.6701615e+00,\n",
      "       -2.4374571e+00, -3.9276471e+00,  8.6845696e-01, -1.3196766e+00,\n",
      "       -3.5807219e+00, -1.7878497e+00, -1.6093911e+00, -1.2269818e+00],\n",
      "      dtype=float32), 'tv']\n",
      "[array([-5.3974713e+02,  4.6371479e+01, -3.6588165e+01,  2.1471128e+01,\n",
      "        2.1287794e+01,  3.0427656e+00, -2.8720049e+01,  8.1267080e+00,\n",
      "       -2.4802225e+01,  1.8127352e+00, -5.6888394e+00, -2.6384230e+00,\n",
      "       -1.7810074e+01,  3.9676154e+00, -1.2916742e+01, -1.9036102e+00,\n",
      "       -4.4887724e+00, -3.8895283e+00, -2.7042696e+00, -5.5794182e+00,\n",
      "       -1.3585083e+01, -4.4178505e+00, -6.5428948e+00, -5.6654100e+00,\n",
      "        4.2161065e-01, -2.0632772e+00,  7.7821785e-01, -2.7732315e+00,\n",
      "        6.3354306e+00,  1.3445200e+00,  3.2899046e-01, -1.8209517e+00,\n",
      "       -1.8409592e+00, -3.2800243e+00,  6.8542141e-01, -2.9761260e+00,\n",
      "       -4.8969607e+00, -3.9278967e+00, -1.9000001e-01,  3.3120784e-01],\n",
      "      dtype=float32), 'soundbox']\n",
      "[array([-5.9082257e+02,  4.9206154e+01, -2.0159605e+01,  5.8886080e+00,\n",
      "       -4.9500972e-02,  1.3155242e+01, -2.0942163e+01,  8.1453199e+00,\n",
      "       -2.1774181e+01,  5.9677820e+00, -6.3399000e+00,  6.0234852e+00,\n",
      "       -1.0011821e+01,  1.8907093e+00, -1.8519794e+01,  2.2629569e+00,\n",
      "       -3.7708659e+00, -2.4945743e+00,  5.3814214e-01,  3.8428274e-01,\n",
      "       -9.0204439e+00, -9.0205652e-01, -6.9524342e-01, -5.4526687e-01,\n",
      "       -1.3788587e+00, -1.7846265e+00,  1.3356360e+00, -4.5525222e+00,\n",
      "       -6.3573241e-01, -5.6124121e-01, -2.0361180e+00, -2.7215033e+00,\n",
      "       -2.1458035e+00, -3.5974898e+00,  2.7826872e+00, -9.4997102e-01,\n",
      "       -3.7473819e+00, -1.9677769e+00, -1.4729813e+00, -1.1524497e+00],\n",
      "      dtype=float32), 'tv']\n",
      "[array([-6.0043597e+02,  2.2278051e+01, -2.1443554e+01,  2.1536417e+01,\n",
      "        5.3258643e+00,  7.8104515e+00, -2.4808245e+01,  1.5979002e+01,\n",
      "       -2.2178404e+01,  1.3008118e+01, -8.6466599e+00,  1.2719412e+00,\n",
      "       -1.9069735e+01,  6.9536982e+00, -1.3197467e+01,  2.3983507e+00,\n",
      "       -8.3083467e+00, -2.2085142e+00, -4.1863174e+00,  3.1424689e+00,\n",
      "       -9.1838026e+00, -1.3249568e+00, -3.9548357e+00,  1.7451742e+00,\n",
      "       -4.1631188e+00,  2.0057267e-01,  2.2982015e-01,  4.2335203e-01,\n",
      "       -1.2210792e+00,  2.7652168e+00, -4.5410671e+00, -3.0442724e+00,\n",
      "       -5.6507057e-01, -2.6200609e+00, -3.6712554e-01, -1.8104733e+00,\n",
      "       -3.3776321e+00, -2.9510954e-01, -3.8286600e+00,  2.8646905e+00],\n",
      "      dtype=float32), 'desktop']\n",
      "[array([-5.8049695e+02,  1.8339418e+01, -2.5477211e+01,  2.8834969e+01,\n",
      "        1.0733082e+01,  2.5553279e+00, -2.6924692e+01,  1.3815959e+01,\n",
      "       -2.4635380e+01,  1.2818978e+01, -1.0493867e+01, -1.1182035e+00,\n",
      "       -1.8872288e+01,  4.6288295e+00, -1.4407450e+01,  1.0052469e+00,\n",
      "       -6.8285818e+00, -3.8138845e+00, -3.0941374e+00,  3.8069670e+00,\n",
      "       -9.0295973e+00, -8.2112163e-01, -2.9426596e+00,  1.2195065e+00,\n",
      "       -2.2099118e+00, -9.8821741e-01,  2.9279229e-01, -2.3119390e+00,\n",
      "        1.0222565e+00,  9.3817043e-01, -1.8829192e+00, -4.5062947e+00,\n",
      "       -1.2911744e-01, -4.2453604e+00, -2.3504506e-01, -1.9688642e+00,\n",
      "       -2.3235459e+00,  4.1933447e-01, -4.0103641e+00,  2.9502344e+00],\n",
      "      dtype=float32), 'desktop']\n",
      "[array([-5.5762073e+02,  3.8888901e+01, -3.8681522e+01,  2.8149332e+01,\n",
      "        2.3050287e+01,  2.4440265e+00, -2.9594297e+01,  1.2378495e+01,\n",
      "       -2.5549009e+01,  3.4054198e+00, -5.2454762e+00, -3.2329714e+00,\n",
      "       -2.1017458e+01,  7.4503126e+00, -1.7383350e+01, -2.4177365e+00,\n",
      "       -4.9508376e+00, -4.4458694e+00, -4.3884888e+00, -5.5180902e+00,\n",
      "       -1.1096642e+01, -4.0119319e+00, -6.4634385e+00, -5.0564756e+00,\n",
      "        1.1681658e+00, -3.7564224e-01,  1.6369815e+00, -2.4735453e+00,\n",
      "        6.0552082e+00,  5.8109494e-04, -1.2671815e+00, -9.6214491e-01,\n",
      "       -6.6646808e-01, -3.0250075e+00,  9.5783573e-01, -1.3463717e+00,\n",
      "       -3.3330824e+00, -1.9097985e+00,  1.4740278e-01,  5.8795100e-01],\n",
      "      dtype=float32), 'soundbox']\n",
      "[array([-5.46765564e+02,  5.53529167e+01, -4.20430107e+01,  2.49323483e+01,\n",
      "        2.69878578e+01,  8.46184969e-01, -2.56593494e+01,  6.29912186e+00,\n",
      "       -2.85955944e+01,  3.21980858e+00, -4.52531624e+00, -5.25601006e+00,\n",
      "       -1.82220058e+01,  2.03102303e+00, -1.53921881e+01, -1.55830407e+00,\n",
      "       -3.78629708e+00, -5.03112650e+00, -2.92892981e+00, -5.62250566e+00,\n",
      "       -1.09635029e+01, -5.33206415e+00, -6.59481907e+00, -6.47499418e+00,\n",
      "       -1.87253237e-01, -1.60977817e+00,  1.51453912e+00, -3.76417232e+00,\n",
      "        5.49642563e+00, -2.52558380e-01,  1.23611204e-01, -1.33611202e+00,\n",
      "       -2.29497105e-01, -3.25170255e+00,  1.49943209e+00, -1.39032352e+00,\n",
      "       -3.04128242e+00, -2.07807970e+00, -9.17031288e-01,  2.69046426e-01],\n",
      "      dtype=float32), 'soundbox']\n",
      "[array([-6.15029968e+02,  5.01283569e+01, -4.01145744e+00,  1.47147427e+01,\n",
      "        1.46531563e+01,  1.56443110e+01, -1.58401814e+01,  1.44820051e+01,\n",
      "       -1.79448776e+01,  1.56880703e+01, -8.11510181e+00,  8.36657810e+00,\n",
      "       -1.28949623e+01,  7.82291174e+00, -1.87183914e+01,  2.65872741e+00,\n",
      "       -4.84809971e+00, -2.72974801e+00, -5.95546818e+00, -3.06423688e+00,\n",
      "       -8.53462410e+00,  4.05667961e-01, -4.28069353e+00, -2.23959088e+00,\n",
      "       -3.42840290e+00, -1.52033076e-01, -3.16905379e+00, -1.49527800e+00,\n",
      "        9.79340136e-01, -5.26421368e-02, -5.09009266e+00, -1.81124508e+00,\n",
      "       -1.94313991e+00, -1.94173586e+00, -1.20937645e-01, -1.82472205e+00,\n",
      "       -4.40511036e+00, -3.28021836e+00, -4.56452703e+00, -3.57757974e+00],\n",
      "      dtype=float32), 'soundbar']\n",
      "[array([-5.6791089e+02,  4.7633442e+01, -3.6914635e+01,  2.4432648e+01,\n",
      "        2.4043770e+01,  4.2611136e+00, -2.6952908e+01,  1.1693832e+01,\n",
      "       -2.5603075e+01,  3.2594333e+00, -7.1079979e+00, -3.4058349e+00,\n",
      "       -1.6757183e+01,  4.0998898e+00, -1.5683642e+01, -2.5311019e+00,\n",
      "       -2.6090152e+00, -3.8710887e+00, -4.8129802e+00, -6.9730072e+00,\n",
      "       -1.1160438e+01, -3.4996665e+00, -6.7829499e+00, -4.1276646e+00,\n",
      "        7.7371919e-01, -8.3400410e-01,  1.5273268e+00, -1.9855399e+00,\n",
      "        7.6780419e+00,  8.8647550e-01,  2.5305799e-01, -1.8859823e+00,\n",
      "        8.5642152e-02, -2.7403848e+00,  9.0775269e-01, -2.8607075e+00,\n",
      "       -4.7613239e+00, -3.3920150e+00, -1.0876297e+00, -1.0680953e-01],\n",
      "      dtype=float32), 'soundbox']\n",
      "[array([-5.6431287e+02,  3.7263973e+01, -7.9041553e+00,  2.1488432e+01,\n",
      "        1.9945692e+01,  1.0266680e+01, -2.1440014e+01,  1.2944901e+01,\n",
      "       -2.3099997e+01,  1.8385094e+01, -1.4453529e+01,  1.0209533e+01,\n",
      "       -1.6486784e+01,  6.1432590e+00, -1.9152069e+01,  4.6147542e+00,\n",
      "       -7.4795156e+00, -2.3089499e+00, -5.5140443e+00, -2.2437084e+00,\n",
      "       -1.3566376e+01,  4.1679296e+00, -5.7739830e+00, -1.7922944e+00,\n",
      "       -6.7449775e+00, -7.1120434e-02, -4.7694416e+00, -2.3330474e+00,\n",
      "       -1.7942383e+00,  3.8089421e-01, -6.5734243e+00, -2.5289249e+00,\n",
      "       -2.8516011e+00, -9.5249104e-01,  8.8526726e-01, -2.1663353e-01,\n",
      "       -4.3086047e+00, -1.3760414e+00, -5.2218623e+00, -3.7359982e+00],\n",
      "      dtype=float32), 'soundbar']\n",
      "[array([-4.9878918e+02,  8.1776604e+01, -1.6073933e+01,  2.6795731e+01,\n",
      "        1.5608863e+01,  6.6594014e+00, -1.6421211e+01,  7.2742367e+00,\n",
      "       -1.7387671e+01,  6.5653095e+00, -9.1744728e+00, -5.0565133e+00,\n",
      "       -9.0282841e+00, -6.3552608e+00, -1.2816061e+01,  4.3175244e-01,\n",
      "       -3.9205022e+00, -3.5654728e+00, -4.8542905e+00, -1.8079063e+00,\n",
      "       -7.2130728e+00, -1.8669599e+00, -3.4329114e+00, -2.4954827e+00,\n",
      "       -7.1829009e-01, -3.1122987e+00, -2.4546278e+00, -4.9456358e+00,\n",
      "       -1.8344753e+00, -1.9638134e+00, -1.4073775e+00, -2.8729291e+00,\n",
      "       -7.9640901e-01, -3.7694225e+00,  8.3088970e-01, -2.8203609e+00,\n",
      "       -3.2396836e+00, -2.3065431e+00, -2.7397807e+00, -1.8652489e+00],\n",
      "      dtype=float32), 'original']\n",
      "[array([-5.3806421e+02,  5.4179409e+01, -9.0544720e+00,  2.8294733e+01,\n",
      "        1.1251706e+01,  1.3079663e+01, -1.2528735e+01,  5.1555514e+00,\n",
      "       -1.2635855e+01,  5.3141637e+00, -4.0873470e+00, -9.9492776e-01,\n",
      "       -9.3695660e+00,  1.4657960e+00, -1.0314222e+01, -9.5081162e-01,\n",
      "       -3.8548636e+00, -4.6299977e+00, -2.0613947e+00, -1.8245646e+00,\n",
      "       -7.1486716e+00, -2.9557917e+00, -1.1063212e+00, -4.4729047e-02,\n",
      "       -3.3395222e-01, -6.1985636e-01,  3.1502631e-02, -3.4131024e+00,\n",
      "        1.5047866e+00,  3.0916879e-02, -2.2191343e+00, -1.4514023e+00,\n",
      "       -1.5442430e+00, -2.5425458e+00, -2.3223314e-01, -2.5315633e+00,\n",
      "       -3.8790815e+00, -1.6528870e+00, -3.8369458e+00, -2.4590445e+00],\n",
      "      dtype=float32), 'original']\n",
      "[array([-5.3771466e+02,  7.5956612e+01, -7.9867935e+00,  2.7409794e+01,\n",
      "        1.7916662e+01,  1.0500607e+01, -1.6229767e+01,  1.0736038e+01,\n",
      "       -1.5489843e+01,  9.4904966e+00, -1.2409939e+01, -5.2258533e-01,\n",
      "       -1.1483019e+01, -1.0479016e+00, -1.4086548e+01,  1.4413471e+00,\n",
      "       -4.1874180e+00, -4.9507985e+00, -3.0031543e+00, -3.6733055e+00,\n",
      "       -8.5583687e+00, -2.7033296e-01, -4.0256290e+00, -1.6164334e+00,\n",
      "       -4.8874614e-01, -1.4489291e+00,  4.2287084e-01, -2.5232441e+00,\n",
      "       -4.6484417e-01, -2.1514933e+00, -9.7539169e-01, -4.0698743e+00,\n",
      "       -6.4916372e-01, -3.3134651e+00,  1.9483437e-03, -3.3411067e+00,\n",
      "       -3.6504178e+00, -3.6827121e+00, -2.3665047e+00, -4.3439478e-01],\n",
      "      dtype=float32), 'original']\n",
      "[array([-5.5592780e+02,  2.3352268e+01, -3.6563641e+01,  3.2359898e+01,\n",
      "        2.1661081e+01,  4.2764869e+00, -2.8233864e+01,  1.1413765e+01,\n",
      "       -2.6683443e+01,  4.6715317e+00, -2.8755410e+00, -3.8905857e+00,\n",
      "       -1.9673647e+01,  7.2686973e+00, -1.6150885e+01, -1.1458656e+00,\n",
      "       -3.5165296e+00, -2.9101622e+00, -2.5373676e+00, -5.8047967e+00,\n",
      "       -1.0811537e+01, -3.2491286e+00, -5.2895956e+00, -4.7407060e+00,\n",
      "        1.7798351e-01, -2.1577961e+00,  1.4133468e+00, -1.9691721e+00,\n",
      "        5.7340384e+00,  5.2837074e-01, -3.1934455e-01,  2.5937987e-02,\n",
      "        2.3656443e-01, -2.6094558e+00,  2.4817060e-01, -1.5932959e+00,\n",
      "       -3.9970865e+00, -2.9163232e+00, -1.3322178e+00, -1.6444825e-01],\n",
      "      dtype=float32), 'soundbox']\n",
      "[array([-6.2089746e+02,  4.6605080e+01, -1.7608940e+01,  1.6418678e+01,\n",
      "        4.2472901e+00,  1.6095333e+01, -2.2571301e+01,  1.2695479e+01,\n",
      "       -1.9167103e+01,  7.9059129e+00, -1.0078284e+01,  5.6635838e+00,\n",
      "       -1.5132243e+01,  4.7043262e+00, -1.8109045e+01,  2.2691493e+00,\n",
      "       -6.4813871e+00,  2.5684673e-01, -1.9065309e+00,  2.3162177e+00,\n",
      "       -7.0206366e+00,  1.8802551e+00, -3.2186298e+00,  2.9089203e-01,\n",
      "       -3.6199753e+00, -5.8532172e-01, -8.9543676e-01, -2.0752687e+00,\n",
      "       -2.8613040e-01, -2.0073125e-01, -3.3963161e+00, -2.4146135e+00,\n",
      "       -3.1845644e+00, -2.4340265e+00,  1.2476488e+00, -1.3872865e+00,\n",
      "       -4.4263597e+00, -2.1451960e+00, -2.9581537e+00, -8.7754005e-01],\n",
      "      dtype=float32), 'tv']\n",
      "[array([-5.2447339e+02,  5.0149990e+01, -4.0089699e+01,  2.1636187e+01,\n",
      "        2.2385870e+01, -1.2373484e+00, -2.6588018e+01,  9.6280746e+00,\n",
      "       -2.7149797e+01,  6.3813049e-01, -7.2169762e+00, -3.7019656e+00,\n",
      "       -1.8355789e+01,  4.0602188e+00, -1.5276533e+01, -3.3248808e+00,\n",
      "       -3.4791105e+00, -4.7909784e+00, -2.9838614e+00, -7.8310814e+00,\n",
      "       -1.3709932e+01, -4.9826083e+00, -6.0203252e+00, -6.2855711e+00,\n",
      "        6.5085745e-01, -2.7860420e+00,  1.7199209e+00, -3.3245268e+00,\n",
      "        7.7170935e+00,  1.6396634e-02,  4.9285942e-01, -1.0590798e+00,\n",
      "       -1.2286260e+00, -3.1909738e+00,  1.4665706e+00, -1.4549297e+00,\n",
      "       -4.3363729e+00, -2.8026667e+00, -1.2213709e+00,  9.2367953e-01],\n",
      "      dtype=float32), 'soundbox']\n",
      "[array([-6.1121057e+02,  3.8203815e+01, -5.1635070e+00,  2.3402184e+01,\n",
      "        2.0657461e+01,  1.4819007e+01, -1.6941685e+01,  1.6341255e+01,\n",
      "       -1.9876225e+01,  1.8588326e+01, -1.3438279e+01,  7.9241719e+00,\n",
      "       -1.3716118e+01,  7.4441185e+00, -1.8259960e+01,  1.6045899e+00,\n",
      "       -5.5826826e+00, -1.6743380e+00, -4.8183331e+00, -1.7341195e+00,\n",
      "       -9.3161440e+00,  2.3819940e+00, -7.0615335e+00, -2.2466402e+00,\n",
      "       -5.0413041e+00,  2.1161003e+00, -3.5865037e+00, -3.0275545e-01,\n",
      "        8.6406189e-01, -7.2270587e-02, -5.3384638e+00, -1.8748819e+00,\n",
      "       -2.0409169e+00, -1.5162629e+00, -3.3938196e-01, -7.8038317e-01,\n",
      "       -3.8665192e+00, -2.7014163e+00, -4.7382102e+00, -2.6619976e+00],\n",
      "      dtype=float32), 'soundbar']\n",
      "[array([-5.8128192e+02,  4.0254982e+01, -3.0200613e+01,  2.3509468e+01,\n",
      "        2.3755754e+01,  7.0279617e+00, -2.3792812e+01,  1.0035819e+01,\n",
      "       -2.1921564e+01,  3.5319633e+00, -3.2928765e+00, -3.2899265e+00,\n",
      "       -1.9447868e+01,  3.2983160e+00, -1.2995637e+01, -3.9597745e+00,\n",
      "       -5.5617142e+00, -3.0628953e+00, -3.1698523e+00, -6.4577641e+00,\n",
      "       -8.8414192e+00, -4.0247912e+00, -4.7493401e+00, -4.4318314e+00,\n",
      "        4.2308173e-01, -3.2909715e-01,  2.8397715e+00, -1.3683338e+00,\n",
      "        6.5404940e+00,  2.2881374e+00, -1.3355594e+00, -1.4018885e+00,\n",
      "        5.4626212e-02, -2.2974093e+00,  9.4326103e-01, -1.6431416e+00,\n",
      "       -3.4468336e+00, -2.8389430e+00, -1.1880592e+00,  5.3304070e-01],\n",
      "      dtype=float32), 'soundbox']\n",
      "[array([-5.4968793e+02,  5.8773941e+01,  4.2757440e-01,  3.2194107e+01,\n",
      "        1.7950027e+01,  1.1595440e+01, -1.7933064e+01,  1.1329519e+01,\n",
      "       -1.2303602e+01,  9.5733156e+00, -7.7591267e+00,  8.9868402e-01,\n",
      "       -1.2084302e+01,  5.8644760e-01, -1.3435293e+01,  8.4598398e-01,\n",
      "       -6.8963909e+00, -3.4370074e+00, -4.8841009e+00, -4.0751576e+00,\n",
      "       -6.7261643e+00, -8.1150293e-01, -2.3668373e+00, -4.4711253e-01,\n",
      "       -6.9936317e-01, -7.4660021e-01, -1.6685067e+00, -4.6562707e-01,\n",
      "       -4.7903022e-01, -1.1214180e+00, -2.7377253e+00, -1.3539881e+00,\n",
      "       -1.8288947e+00, -3.1825061e+00, -1.9782982e+00, -1.7244310e+00,\n",
      "       -2.8576739e+00, -3.1374097e+00, -3.0509734e+00, -1.2185723e+00],\n",
      "      dtype=float32), 'original']\n",
      "[array([-5.64645325e+02,  3.49969940e+01, -3.23808212e+01,  2.74211540e+01,\n",
      "        1.32788162e+01,  1.27727842e+01, -3.02277260e+01,  1.51190815e+01,\n",
      "       -2.55676918e+01,  6.43670750e+00, -7.62770414e+00,  1.63796329e+00,\n",
      "       -2.25797958e+01,  9.32873917e+00, -1.90864277e+01,  1.26433420e+00,\n",
      "       -6.40027857e+00, -1.26519871e+00, -6.75472736e+00, -3.63815498e+00,\n",
      "       -1.16919775e+01, -5.44755459e-01, -7.77434826e+00, -4.16453457e+00,\n",
      "       -3.14889133e-01,  3.27788806e-03,  1.73767582e-01, -9.58781898e-01,\n",
      "        5.19624615e+00,  2.16100574e+00, -2.02202725e+00, -9.87888515e-01,\n",
      "       -1.66740906e+00, -1.88538861e+00,  7.29881763e-01, -8.12886536e-01,\n",
      "       -4.25010395e+00, -3.96819901e+00,  9.36793759e-02,  3.34272802e-01],\n",
      "      dtype=float32), 'soundbox']\n",
      "[array([-5.6605505e+02,  6.5777374e+01,  3.7021726e-01,  2.7215195e+01,\n",
      "        1.9031624e+01,  1.4918385e+01, -1.4747808e+01,  8.1187296e+00,\n",
      "       -1.2243243e+01,  8.0988197e+00, -5.5541239e+00, -6.9077677e-01,\n",
      "       -1.2053866e+01, -9.9289954e-02, -1.0579873e+01, -8.9500606e-01,\n",
      "       -4.9908099e+00, -4.4879708e+00, -1.1287595e+00, -3.4741633e+00,\n",
      "       -7.2015114e+00, -2.1178403e+00, -8.2892507e-01, -9.1200978e-01,\n",
      "       -2.4645463e-01, -9.2057943e-01,  1.8797173e-01, -1.3653529e+00,\n",
      "       -9.3602645e-01,  1.1796166e-01, -1.8776640e+00, -1.8823812e+00,\n",
      "       -8.7469465e-01, -3.4020283e+00, -1.7576227e+00, -2.5545340e+00,\n",
      "       -3.0797558e+00, -2.5977476e+00, -3.2600732e+00, -7.7958328e-01],\n",
      "      dtype=float32), 'original']\n",
      "[array([-5.2958417e+02,  8.2151978e+01, -9.1243000e+00,  2.4659618e+01,\n",
      "        1.8671864e+01,  1.3449882e+01, -1.6474421e+01,  4.4112878e+00,\n",
      "       -1.6458694e+01,  5.1763005e+00, -6.8930354e+00, -2.8061657e+00,\n",
      "       -1.2160857e+01, -2.6030133e+00, -1.3047684e+01, -1.2045470e+00,\n",
      "       -4.7000008e+00, -4.1609221e+00, -2.5224006e+00, -1.1299332e+00,\n",
      "       -7.4675307e+00, -3.6008296e+00, -1.3077459e+00, -1.4448260e+00,\n",
      "       -1.5795183e+00, -2.0960853e+00, -1.0566518e+00, -2.2281189e+00,\n",
      "       -1.0225335e+00, -1.5611540e+00, -2.7368071e+00, -1.7130185e+00,\n",
      "       -1.7860669e+00, -3.1387877e+00, -4.0969530e-01, -3.1561224e+00,\n",
      "       -2.3702445e+00, -3.2816682e+00, -3.5393088e+00, -7.3224658e-01],\n",
      "      dtype=float32), 'original']\n",
      "[array([-5.8569000e+02,  1.6961102e+01, -2.0822533e+01,  2.7917007e+01,\n",
      "        3.5168624e+00,  3.6213026e+00, -2.7210531e+01,  1.4775797e+01,\n",
      "       -2.4727655e+01,  1.3820496e+01, -1.2879319e+01,  3.2705002e+00,\n",
      "       -1.9824411e+01,  6.7461596e+00, -1.5139296e+01,  2.4298804e+00,\n",
      "       -7.2882957e+00, -2.5772381e+00, -4.2115908e+00,  4.6285868e+00,\n",
      "       -1.0427236e+01,  8.0357665e-01, -5.0923247e+00,  2.3657975e+00,\n",
      "       -3.5834849e+00,  8.3241862e-01, -6.4896953e-01,  4.2408243e-01,\n",
      "       -1.5330081e+00,  3.8994532e+00, -4.1686916e+00, -2.3783803e+00,\n",
      "       -1.6058156e+00, -2.1517210e+00, -1.7962124e+00, -3.6753601e-01,\n",
      "       -4.5528030e+00,  1.4448031e+00, -5.1715336e+00,  3.7754869e+00],\n",
      "      dtype=float32), 'desktop']\n",
      "[array([-5.6532135e+02,  7.2677986e+01, -3.2879360e+00,  2.6140440e+01,\n",
      "        1.7299978e+01,  1.0971479e+01, -1.7365585e+01,  1.0481114e+01,\n",
      "       -1.1185191e+01,  8.1563425e+00, -7.6311045e+00,  1.5106972e+00,\n",
      "       -8.9333563e+00, -1.9679868e-01, -1.1077169e+01, -9.6372056e-01,\n",
      "       -3.9887884e+00, -5.6498656e+00, -2.2377117e+00, -2.2178955e+00,\n",
      "       -6.4848771e+00, -8.3745390e-01, -1.0857546e+00, -1.4259717e+00,\n",
      "        8.1021976e-01, -8.6544567e-01,  1.1711558e+00, -3.4312134e+00,\n",
      "        1.6313782e+00, -7.6136529e-01, -7.4226010e-01, -2.0141373e+00,\n",
      "       -1.9341729e+00, -2.7040920e+00, -3.9086765e-01, -3.0885329e+00,\n",
      "       -3.2380269e+00, -1.8778633e+00, -1.6508917e+00, -1.4183692e+00],\n",
      "      dtype=float32), 'original']\n",
      "[array([-5.9593390e+02,  3.3485451e+01, -1.9375445e+00,  2.3257133e+01,\n",
      "        1.5500379e+01,  1.6116976e+01, -1.5523348e+01,  1.5115747e+01,\n",
      "       -2.1596407e+01,  1.7408007e+01, -1.3194918e+01,  7.8256245e+00,\n",
      "       -1.6235537e+01,  8.1143303e+00, -1.9134012e+01,  4.7546153e+00,\n",
      "       -7.1197329e+00,  1.0691395e-01, -6.0579605e+00, -1.2631609e+00,\n",
      "       -1.1715475e+01,  3.2264907e+00, -7.0677390e+00, -2.4379063e+00,\n",
      "       -5.9201665e+00,  4.1005006e-01, -4.5271850e+00, -1.5972033e+00,\n",
      "       -7.3929888e-01,  4.2617825e-01, -5.2605739e+00, -1.8162427e+00,\n",
      "       -2.4294891e+00, -1.5282948e+00, -4.1013964e-02, -3.0860004e-01,\n",
      "       -4.9603581e+00, -3.6808479e-01, -5.6824222e+00, -2.4233594e+00],\n",
      "      dtype=float32), 'soundbar']\n",
      "[array([-6.1508734e+02,  3.6353733e+01, -1.4701605e+00,  2.5147970e+01,\n",
      "        1.7504234e+01,  1.6625050e+01, -1.7991871e+01,  1.5448214e+01,\n",
      "       -1.8074703e+01,  1.5849069e+01, -1.1471411e+01,  9.4788656e+00,\n",
      "       -1.5896399e+01,  9.3682146e+00, -1.9000118e+01,  3.9563308e+00,\n",
      "       -7.0125608e+00, -9.5070437e-02, -6.8866978e+00, -1.0904750e+00,\n",
      "       -1.0279393e+01,  2.2254994e+00, -5.9807639e+00, -9.0783650e-01,\n",
      "       -5.6077008e+00,  2.3839173e+00, -3.9170020e+00, -1.3025423e+00,\n",
      "       -6.7278165e-01,  1.2162663e+00, -7.1014647e+00, -1.2096484e+00,\n",
      "       -3.4071488e+00, -1.2754029e+00, -1.2773581e+00, -6.9903719e-01,\n",
      "       -5.3882470e+00, -1.5230306e+00, -5.4814119e+00, -2.8100514e+00],\n",
      "      dtype=float32), 'soundbar']\n",
      "[array([-5.8491443e+02,  4.7004353e+01, -3.1330046e+01,  2.4507494e+01,\n",
      "        2.0796200e+01,  7.2993178e+00, -2.7339521e+01,  1.2602630e+01,\n",
      "       -2.2994650e+01,  6.5683713e+00, -6.0533290e+00, -1.2941525e-02,\n",
      "       -1.8278851e+01,  4.4009790e+00, -1.3761792e+01, -1.9582725e+00,\n",
      "       -5.6410189e+00, -3.9529686e+00, -6.1719074e+00, -4.0989690e+00,\n",
      "       -1.0217957e+01, -3.0555596e+00, -6.1987057e+00, -4.2396612e+00,\n",
      "       -3.3773798e-01, -1.6452278e-01,  1.9608378e+00, -1.6069603e+00,\n",
      "        6.6257210e+00,  7.5022966e-01, -3.3043224e-01, -1.3483807e+00,\n",
      "       -6.5008825e-01, -1.8002129e+00,  2.1068599e+00, -2.3461201e+00,\n",
      "       -3.4099770e+00, -2.7399225e+00, -1.0014094e+00, -1.0770594e+00],\n",
      "      dtype=float32), 'soundbox']\n",
      "[array([-5.8125867e+02,  1.1015535e+01, -1.7743593e+01,  2.7317175e+01,\n",
      "        8.1811895e+00,  2.8776174e+00, -2.5941500e+01,  1.5750168e+01,\n",
      "       -2.3564217e+01,  1.1092439e+01, -8.9129457e+00,  2.2833812e-01,\n",
      "       -1.8206268e+01,  4.1215372e+00, -1.5083576e+01,  6.1907727e-01,\n",
      "       -9.0773277e+00, -3.2686570e+00, -4.7667885e+00,  1.8751192e+00,\n",
      "       -7.7516837e+00, -7.5206995e-01, -4.0161486e+00,  9.0159100e-01,\n",
      "       -2.4503124e+00,  5.0697917e-01, -1.4524752e-01, -2.8299347e-01,\n",
      "        5.2337724e-01,  2.0491185e+00, -3.0394554e+00, -3.2152166e+00,\n",
      "       -2.9085919e-01, -3.0613739e+00,  5.3137142e-02, -1.0804083e+00,\n",
      "       -2.4477465e+00, -4.9083686e-01, -4.5628166e+00,  3.2341626e+00],\n",
      "      dtype=float32), 'desktop']\n",
      "[array([-5.3981061e+02,  3.9121407e+01, -4.3127911e+01,  2.8535328e+01,\n",
      "        2.4826357e+01,  5.4612422e+00, -3.0810579e+01,  7.5505753e+00,\n",
      "       -2.8701910e+01,  3.8315511e+00, -7.0129156e+00, -2.2679372e-01,\n",
      "       -1.9536034e+01,  4.6699572e+00, -1.6378637e+01, -3.9000234e-01,\n",
      "       -4.3134618e+00, -3.3256385e+00, -4.8568997e+00, -4.5542297e+00,\n",
      "       -1.2467802e+01, -2.9380474e+00, -7.1887255e+00, -5.3932171e+00,\n",
      "        4.1695586e-01, -1.1944350e+00,  1.6518650e+00, -3.3070650e+00,\n",
      "        4.5252266e+00,  8.4027714e-01, -2.0489152e-01, -4.6917856e-02,\n",
      "       -1.6211034e+00, -2.6182079e+00,  1.1195962e+00, -6.8280482e-01,\n",
      "       -2.8757854e+00, -9.2022097e-01, -2.8537649e-01,  6.8424381e-03],\n",
      "      dtype=float32), 'soundbox']\n",
      "[array([-6.04874268e+02,  3.81898880e+01, -3.48300719e+00,  2.36139412e+01,\n",
      "        1.92448215e+01,  1.59153309e+01, -1.69465389e+01,  1.61588974e+01,\n",
      "       -2.04347820e+01,  1.61284428e+01, -1.43339405e+01,  8.83576107e+00,\n",
      "       -1.52457361e+01,  7.73031712e+00, -2.13278370e+01,  4.66823816e+00,\n",
      "       -5.29253912e+00, -3.51339400e-01, -6.46501064e+00, -1.94520998e+00,\n",
      "       -1.26453419e+01,  3.38939857e+00, -6.62683725e+00, -2.28226513e-01,\n",
      "       -5.10495663e+00,  1.82351637e+00, -3.49096990e+00, -1.03967273e+00,\n",
      "       -7.53615677e-01,  5.94179273e-01, -4.78540277e+00, -2.54560804e+00,\n",
      "       -2.21504951e+00, -7.55761147e-01, -2.28081226e-01, -1.01615858e+00,\n",
      "       -5.55971050e+00, -2.47856116e+00, -5.37077141e+00, -1.63801491e+00],\n",
      "      dtype=float32), 'soundbar']\n",
      "[array([-5.9477332e+02,  1.5868012e+01, -5.7093740e+00,  3.1587267e+01,\n",
      "        1.6035343e+01,  1.1149027e+01, -1.4750656e+01,  1.5628018e+01,\n",
      "       -1.9084347e+01,  1.9367018e+01, -1.1081849e+01,  8.3913298e+00,\n",
      "       -1.5392496e+01,  1.0588849e+01, -1.9792295e+01,  3.1286194e+00,\n",
      "       -5.7469444e+00, -4.6744502e-01, -6.0175533e+00, -1.1357818e+00,\n",
      "       -1.1200541e+01,  1.3234001e+00, -6.0271010e+00, -1.6220639e+00,\n",
      "       -6.8795629e+00,  9.6375173e-01, -3.4174886e+00, -3.3404770e-01,\n",
      "        4.5930845e-01,  1.4435407e+00, -6.8450303e+00, -1.1179595e+00,\n",
      "       -1.6265887e+00, -1.7825088e-01, -2.4196045e-01,  5.1156205e-01,\n",
      "       -4.8728499e+00, -1.1518818e+00, -5.8283987e+00, -2.3975413e+00],\n",
      "      dtype=float32), 'soundbar']\n",
      "[array([-5.9423334e+02,  5.7151245e+01, -2.4233898e+01,  1.2409971e+01,\n",
      "       -6.3335776e-01,  8.2137718e+00, -2.0489054e+01,  9.2455158e+00,\n",
      "       -2.4811378e+01,  6.2240233e+00, -1.1176520e+01,  2.4890344e+00,\n",
      "       -1.0374407e+01,  2.0013139e+00, -2.0474209e+01,  3.2385993e+00,\n",
      "       -1.2226722e+00, -1.2746218e+00,  2.8903446e-01,  2.8353639e+00,\n",
      "       -9.9683504e+00,  1.5382951e-01,  4.4913489e-01,  9.5108038e-01,\n",
      "       -3.0464134e+00, -8.1134039e-01,  1.3564619e+00, -3.1888194e+00,\n",
      "       -9.5145893e-01, -1.3156391e+00, -1.1907805e+00, -1.8822272e+00,\n",
      "       -4.6391382e+00, -4.0351596e+00,  1.9265268e+00, -1.6136818e+00,\n",
      "       -3.7648630e+00, -2.1084075e+00, -1.5500041e+00, -1.4036831e+00],\n",
      "      dtype=float32), 'tv']\n",
      "[array([-6.0019659e+02,  6.2965412e+01, -2.3743553e+01,  1.0610271e+01,\n",
      "        3.7048352e+00,  1.0243713e+01, -2.3929867e+01,  5.7254176e+00,\n",
      "       -2.2822830e+01,  6.8684292e+00, -1.0761393e+01,  3.8628166e+00,\n",
      "       -1.2534724e+01,  4.7234437e-01, -1.7806675e+01,  3.1825583e+00,\n",
      "       -4.0904274e+00, -2.4466441e+00,  4.8340014e-01,  2.9518754e+00,\n",
      "       -8.6815462e+00,  7.6948953e-01, -7.6921380e-01, -6.5742648e-01,\n",
      "       -3.3588579e+00, -1.0269873e+00,  1.5236653e+00, -3.8861053e+00,\n",
      "       -4.8680955e-01, -1.8078912e+00, -1.6299543e+00, -3.0202975e+00,\n",
      "       -2.9606788e+00, -3.3409271e+00,  1.8938185e+00, -1.5703441e+00,\n",
      "       -4.8399739e+00, -2.1607013e+00, -1.7753001e+00, -1.1141651e+00],\n",
      "      dtype=float32), 'tv']\n",
      "[array([-5.61544495e+02,  7.05529175e+01, -5.60824966e+00,  3.20891533e+01,\n",
      "        1.88803825e+01,  1.30742445e+01, -1.75578136e+01,  7.74884367e+00,\n",
      "       -1.41032324e+01,  7.67211390e+00, -8.19994068e+00,  1.04111230e+00,\n",
      "       -1.11750240e+01,  2.64756203e+00, -1.29202909e+01, -1.06889510e+00,\n",
      "       -5.81192684e+00, -3.71601868e+00, -2.24023581e+00, -2.44131088e+00,\n",
      "       -6.98625135e+00, -1.77499545e+00, -2.50391865e+00, -9.78278637e-01,\n",
      "       -2.25193277e-01, -7.54171669e-01,  9.59207565e-02, -3.88808727e+00,\n",
      "       -5.04527986e-01, -1.07518578e+00, -2.47260499e+00, -1.34292936e+00,\n",
      "       -9.09792006e-01, -3.47732615e+00, -7.64599562e-01, -1.90431666e+00,\n",
      "       -1.88819945e+00, -2.37183785e+00, -3.30395484e+00, -1.60188174e+00],\n",
      "      dtype=float32), 'original']\n",
      "[array([-4.9705533e+02,  3.9684738e+01, -1.5704365e+01,  3.9544224e+01,\n",
      "        1.3167666e+01,  8.6000624e+00, -1.8843630e+01,  7.7696171e+00,\n",
      "       -1.7478235e+01,  1.1034585e+01, -8.2688284e+00, -3.4789318e-01,\n",
      "       -1.4702800e+01,  3.3528795e+00, -1.4394220e+01,  2.2176278e+00,\n",
      "       -6.7196565e+00, -2.2226999e+00, -1.8015710e+00, -2.0496347e+00,\n",
      "       -8.9155922e+00, -5.7438463e-01, -2.5461009e+00, -1.7564662e+00,\n",
      "       -2.3657062e+00, -1.4321901e+00, -9.4223309e-01, -2.5802584e+00,\n",
      "       -1.9863937e+00, -1.5724086e+00, -2.4770930e+00, -7.4957901e-01,\n",
      "       -1.1834375e+00, -2.5313637e+00, -1.7628744e+00, -1.8769919e+00,\n",
      "       -2.1835213e+00, -1.7257091e+00, -2.6257780e+00, -2.1481636e+00],\n",
      "      dtype=float32), 'original']\n",
      "[array([-5.8244519e+02,  3.3751541e+01, -2.9314611e+00,  1.9375320e+01,\n",
      "        1.4941488e+01,  1.5271160e+01, -1.7403244e+01,  1.3424093e+01,\n",
      "       -1.8310944e+01,  1.7173058e+01, -1.3790832e+01,  9.7407608e+00,\n",
      "       -1.6223175e+01,  8.8342590e+00, -1.7392017e+01,  5.2525172e+00,\n",
      "       -9.0834160e+00, -7.2900021e-01, -6.6283269e+00, -1.0978609e+00,\n",
      "       -1.4038672e+01,  3.7755237e+00, -6.5798378e+00, -1.9910828e+00,\n",
      "       -6.3818483e+00,  5.7531780e-01, -4.6610479e+00, -2.2160501e+00,\n",
      "       -1.0894939e+00,  2.8782287e-01, -5.7042475e+00, -2.4247012e+00,\n",
      "       -2.8886049e+00, -1.0849324e+00,  3.3872786e-01, -4.4524384e-01,\n",
      "       -5.2054753e+00, -1.6147156e+00, -4.6504602e+00, -2.2764251e+00],\n",
      "      dtype=float32), 'soundbar']\n",
      "[array([-5.1550665e+02,  7.2095230e+01, -1.5670778e+01,  3.4398209e+01,\n",
      "        2.0113098e+01,  1.0822947e+01, -2.1670895e+01,  1.0020601e+01,\n",
      "       -1.8080009e+01,  1.1348887e+01, -1.3611813e+01, -1.6839104e+00,\n",
      "       -1.4000449e+01,  9.0653753e-01, -1.4494003e+01,  1.8773556e+00,\n",
      "       -5.1742187e+00, -4.7146940e+00, -4.2301655e+00, -1.7569170e+00,\n",
      "       -8.6905537e+00, -1.9622061e-01, -3.8067834e+00, -2.4336452e+00,\n",
      "       -2.7475598e+00, -2.0628519e+00, -2.3324601e-01, -3.7275314e+00,\n",
      "       -8.6537254e-01, -4.1315680e+00, -1.3064765e+00, -2.5546937e+00,\n",
      "       -8.8400352e-01, -3.7414751e+00, -1.6870843e+00, -2.2583635e+00,\n",
      "       -2.9403684e+00, -1.6667001e+00, -2.7792768e+00, -1.4305885e+00],\n",
      "      dtype=float32), 'original']\n",
      "[array([-6.1357581e+02,  4.7768326e+01, -2.2788124e+01,  1.6293348e+01,\n",
      "        3.7913017e+00,  1.6539753e+01, -2.2658428e+01,  1.2636572e+01,\n",
      "       -2.0709219e+01,  8.6805258e+00, -1.0571985e+01,  6.2655759e+00,\n",
      "       -1.4384554e+01,  3.9130640e+00, -2.0125570e+01,  2.3204634e+00,\n",
      "       -5.4511061e+00,  1.1115147e+00, -2.8299625e+00,  3.1358895e+00,\n",
      "       -8.7863464e+00,  7.7464479e-01, -1.0587341e+00,  3.1086199e+00,\n",
      "       -3.7236218e+00, -1.1732949e+00, -7.4168402e-01, -3.0102072e+00,\n",
      "       -3.9824462e-01, -1.0539020e+00, -4.3171854e+00, -1.2811112e+00,\n",
      "       -2.7062242e+00, -2.4738762e+00,  1.9811983e-01, -6.3387978e-01,\n",
      "       -5.0125618e+00, -1.7723492e+00, -3.0990958e+00, -2.0823362e-01],\n",
      "      dtype=float32), 'tv']\n",
      "[array([-6.0567719e+02,  5.8275135e+01, -2.5439934e+01,  9.4064541e+00,\n",
      "        3.1728604e+00,  1.4620117e+01, -2.2426109e+01,  9.6489658e+00,\n",
      "       -2.2766348e+01,  5.8818336e+00, -1.1955576e+01,  7.0244398e+00,\n",
      "       -1.2951022e+01,  2.9150972e+00, -2.1939713e+01,  1.3757297e+00,\n",
      "       -3.0695746e+00,  8.5113294e-02, -8.4933078e-01,  3.4471610e+00,\n",
      "       -1.0065270e+01,  1.3816491e+00, -3.0175796e-01,  2.2724345e+00,\n",
      "       -3.0013459e+00, -4.9908760e-01,  1.0486630e+00, -3.0807991e+00,\n",
      "       -1.6452945e+00, -1.2746323e+00, -2.7410312e+00, -2.4572983e+00,\n",
      "       -3.4983861e+00, -4.8439384e+00,  4.6201298e-01, -8.0021209e-01,\n",
      "       -5.8154917e+00, -1.7996715e+00, -1.3480648e+00, -1.2453007e+00],\n",
      "      dtype=float32), 'tv']\n",
      "[array([-5.4112451e+02,  5.5363541e+01, -4.2054550e+01,  2.2750778e+01,\n",
      "        2.2930027e+01,  1.8946638e+00, -3.2692711e+01,  1.1081169e+01,\n",
      "       -3.0106321e+01,  4.9215651e+00, -1.1395676e+01, -4.7036004e+00,\n",
      "       -1.6826437e+01,  3.5972462e+00, -1.6370710e+01, -3.5778868e-01,\n",
      "       -4.2544203e+00, -4.1157870e+00, -4.3086610e+00, -5.5907450e+00,\n",
      "       -1.2802691e+01, -4.0357280e+00, -6.3430076e+00, -4.9010868e+00,\n",
      "        1.3484232e+00, -1.0485686e+00,  4.2927107e-01, -1.3003981e+00,\n",
      "        6.6645732e+00,  4.0610144e-01,  4.9630992e-02, -1.2961204e+00,\n",
      "       -6.7055833e-01, -3.0299513e+00,  1.5852607e+00, -2.0950491e+00,\n",
      "       -3.8314612e+00, -3.2183959e+00, -2.0569232e-01,  2.4037352e-01],\n",
      "      dtype=float32), 'soundbox']\n",
      "[array([-5.71887695e+02,  2.82497463e+01, -2.79426880e+01,  2.64456348e+01,\n",
      "        7.03519869e+00, -3.73890072e-01, -2.58449974e+01,  1.19010162e+01,\n",
      "       -2.83042526e+01,  1.28629875e+01, -1.11250238e+01, -1.55935615e-01,\n",
      "       -1.92757874e+01,  4.72085571e+00, -1.31354065e+01,  3.68562627e+00,\n",
      "       -9.01615238e+00, -6.45194817e+00, -3.88745618e+00,  4.79237461e+00,\n",
      "       -9.99911594e+00, -1.56055760e+00, -3.60083008e+00,  1.32244480e+00,\n",
      "       -3.63480639e+00,  1.37243057e-02,  1.11505759e+00, -2.12760234e+00,\n",
      "       -4.27151561e-01,  1.44525743e+00, -1.56952477e+00, -4.05693197e+00,\n",
      "       -8.55476677e-01, -3.47268820e+00,  1.99010587e+00, -4.36340004e-01,\n",
      "       -1.22238874e+00,  2.46588483e-01, -3.76757216e+00,  2.77401495e+00],\n",
      "      dtype=float32), 'desktop']\n",
      "[array([-6.1290662e+02,  4.1243176e+01, -2.8979862e+00,  1.9046654e+01,\n",
      "        1.0243899e+01,  2.0166910e+01, -1.8116779e+01,  1.6686165e+01,\n",
      "       -2.0378746e+01,  1.6988695e+01, -8.7070646e+00,  8.8943348e+00,\n",
      "       -1.2795365e+01,  8.5793457e+00, -1.6528006e+01,  3.4966815e+00,\n",
      "       -5.5421572e+00, -8.5679609e-01, -7.5769782e+00, -1.1567804e+00,\n",
      "       -8.4463987e+00,  5.6109899e-01, -7.5015388e+00, -2.3010776e+00,\n",
      "       -5.1549387e+00,  5.4567415e-01, -2.9614999e+00, -1.2292961e+00,\n",
      "        1.1845033e+00,  4.6604285e-01, -5.1071210e+00, -2.3890061e+00,\n",
      "       -1.8356990e+00, -4.2316154e-01,  4.4951010e-01, -1.0580664e+00,\n",
      "       -5.2829709e+00, -2.3623002e+00, -5.4258261e+00, -1.4538480e+00],\n",
      "      dtype=float32), 'soundbar']\n",
      "[array([-4.8463693e+02,  8.1752960e+01, -1.1762919e+01,  2.3765251e+01,\n",
      "        1.3106876e+01,  3.8163655e+00, -2.0097157e+01,  6.5060277e+00,\n",
      "       -1.7470091e+01,  8.9525023e+00, -1.0588861e+01,  1.0611111e+00,\n",
      "       -1.1636703e+01, -3.3977640e+00, -1.0635464e+01,  8.2685512e-01,\n",
      "       -6.8904052e+00, -6.9097576e+00, -2.3272359e+00, -2.7307549e+00,\n",
      "       -1.0602020e+01, -1.2718073e+00, -4.0713005e+00, -3.5705576e+00,\n",
      "       -1.4000115e+00, -3.3583605e+00, -1.9378011e-01, -2.9692883e+00,\n",
      "       -2.8042998e+00, -1.6354718e+00, -2.9299471e+00, -3.1537948e+00,\n",
      "       -2.6112111e+00, -2.6964009e+00,  3.6782649e-01, -2.3182552e+00,\n",
      "       -2.4939196e+00, -2.3300266e+00, -2.6521149e+00, -1.8116933e+00],\n",
      "      dtype=float32), 'original']\n",
      "[array([-5.9204474e+02,  2.3941742e+01, -2.5443245e+01,  2.5898605e+01,\n",
      "        5.5737510e+00,  4.6447587e+00, -2.6493748e+01,  1.5516406e+01,\n",
      "       -2.5084175e+01,  1.2631762e+01, -9.7879162e+00,  2.0984809e+00,\n",
      "       -1.9325104e+01,  6.6552639e+00, -1.4493877e+01,  2.6755030e+00,\n",
      "       -8.1242447e+00, -2.0231586e+00, -4.3663139e+00,  3.9022498e+00,\n",
      "       -9.4669905e+00, -6.4330751e-01, -4.5324030e+00,  1.1361922e+00,\n",
      "       -4.5695233e+00,  2.2572005e-01,  7.2326139e-02, -4.1691709e-01,\n",
      "       -2.7534428e-01,  2.6124289e+00, -3.8837502e+00, -2.6341145e+00,\n",
      "       -1.3039603e+00, -2.7234037e+00,  4.5599765e-01, -1.2064229e+00,\n",
      "       -3.7501423e+00,  5.9129115e-02, -4.9438343e+00,  2.9293540e+00],\n",
      "      dtype=float32), 'desktop']\n",
      "[array([-5.7639545e+02,  2.5841711e+01, -2.4084726e+01,  2.5355709e+01,\n",
      "        6.6952128e+00,  4.3222103e+00, -2.8000132e+01,  1.2271025e+01,\n",
      "       -2.7092888e+01,  1.0686719e+01, -1.0342693e+01, -1.1259650e+00,\n",
      "       -2.0207922e+01,  5.3385797e+00, -1.4473208e+01,  1.1676627e+00,\n",
      "       -9.1076460e+00, -2.7811787e+00, -4.5525303e+00,  5.4700260e+00,\n",
      "       -9.1663952e+00, -1.3483859e+00, -3.5375748e+00,  2.2668724e+00,\n",
      "       -3.6099477e+00,  1.1797607e-01, -9.5492387e-01,  2.0881838e-01,\n",
      "        1.5309332e-01,  3.4032259e+00, -3.4228199e+00, -3.2528384e+00,\n",
      "       -1.5549893e+00, -2.8990197e+00,  1.0498950e+00, -1.8491907e+00,\n",
      "       -2.6757746e+00, -1.0596770e+00, -4.9209566e+00,  3.0116167e+00],\n",
      "      dtype=float32), 'desktop']\n",
      "[array([-6.01489319e+02,  3.65988388e+01, -2.34228916e+01,  1.39076767e+01,\n",
      "        4.16613770e+00,  4.09663582e+00, -2.40944462e+01,  1.23015223e+01,\n",
      "       -2.27474976e+01,  1.14553032e+01, -5.96376705e+00,  1.30469930e+00,\n",
      "       -1.47266102e+01,  5.69306087e+00, -1.29875727e+01,  1.33268559e+00,\n",
      "       -5.73002100e+00, -4.95277643e+00, -4.41386461e+00,  1.26220500e+00,\n",
      "       -6.78742981e+00, -2.93942237e+00, -4.35362768e+00, -8.93337607e-01,\n",
      "       -1.70391417e+00, -8.39498401e-01, -5.54842234e-01, -2.05880380e+00,\n",
      "        1.35462427e+00,  9.80564833e-01, -2.38952661e+00, -3.56138706e+00,\n",
      "        1.05968416e-01, -3.26315904e+00,  1.69700634e+00, -1.65789258e+00,\n",
      "       -2.16152263e+00, -1.49458659e+00, -4.14976358e+00,  1.75664687e+00],\n",
      "      dtype=float32), 'desktop']\n",
      "[array([-5.8428143e+02,  1.9642727e+01, -2.8791893e+01,  2.6100910e+01,\n",
      "        6.6573510e+00,  3.2316554e+00, -2.3719656e+01,  1.4818893e+01,\n",
      "       -2.3448458e+01,  1.2763531e+01, -8.3709412e+00, -8.4448886e-01,\n",
      "       -1.8959684e+01,  4.8105478e+00, -1.2844271e+01,  1.4404759e+00,\n",
      "       -7.7866216e+00, -4.0996947e+00, -3.5722532e+00,  3.4263387e+00,\n",
      "       -7.8209600e+00, -2.4974501e+00, -2.1168175e+00,  1.8494279e+00,\n",
      "       -3.1040535e+00, -5.4059368e-01,  1.2029109e+00, -1.2274547e+00,\n",
      "        1.4962184e+00,  1.4154274e+00, -2.0394607e+00, -3.8704698e+00,\n",
      "       -2.4287422e-01, -3.2193315e+00,  1.4769883e+00, -8.4920925e-01,\n",
      "       -2.8212442e+00, -6.7192686e-01, -4.3029451e+00,  2.6212001e+00],\n",
      "      dtype=float32), 'desktop']\n",
      "[array([-6.0034198e+02,  2.5520947e+01, -5.5994148e+00,  2.5116032e+01,\n",
      "        1.7617027e+01,  1.6623909e+01, -2.0127251e+01,  1.6816154e+01,\n",
      "       -1.9559671e+01,  1.6263117e+01, -1.2230856e+01,  9.3833199e+00,\n",
      "       -1.7290615e+01,  9.6396542e+00, -1.9173111e+01,  4.6605682e+00,\n",
      "       -5.5117373e+00, -1.7181646e+00, -5.8936586e+00, -1.4816500e+00,\n",
      "       -1.0270893e+01,  2.1355677e+00, -7.1188445e+00, -2.2301667e+00,\n",
      "       -6.9452615e+00,  1.4144558e+00, -3.3110554e+00, -1.5891180e+00,\n",
      "        6.5196711e-01,  8.6458290e-01, -6.1793599e+00, -1.3288735e+00,\n",
      "       -2.7233613e+00, -5.8846486e-01,  9.4742262e-01,  1.5799639e-01,\n",
      "       -4.1029038e+00, -1.7210643e-01, -4.8167109e+00, -2.2378728e+00],\n",
      "      dtype=float32), 'soundbar']\n",
      "[array([-5.7609351e+02,  3.7198540e+01, -9.3463364e+00,  2.4455795e+01,\n",
      "        1.9146980e+01,  1.4497192e+01, -1.7297489e+01,  1.4636295e+01,\n",
      "       -2.3410252e+01,  1.6728804e+01, -1.3337469e+01,  5.6580143e+00,\n",
      "       -1.5959565e+01,  5.6810303e+00, -2.1851143e+01,  4.3534646e+00,\n",
      "       -5.8991303e+00,  2.1164168e-01, -8.2424421e+00, -9.0902495e-01,\n",
      "       -1.1165837e+01,  3.0606573e+00, -6.4239750e+00, -1.2224478e+00,\n",
      "       -5.8104758e+00,  1.0643712e+00, -5.9256692e+00, -3.1804538e+00,\n",
      "       -7.4055851e-01,  1.1408095e+00, -6.3075552e+00, -2.3598590e+00,\n",
      "       -2.0454638e+00, -9.7982657e-01,  1.7358278e+00, -6.9257009e-01,\n",
      "       -5.7877402e+00, -1.5007298e+00, -5.3067360e+00, -3.0144320e+00],\n",
      "      dtype=float32), 'soundbar']\n",
      "[array([-5.7563025e+02,  4.6252048e+01, -3.5695473e+01,  2.4542753e+01,\n",
      "        2.7588161e+01,  3.4775691e+00, -2.5553988e+01,  1.2106265e+01,\n",
      "       -2.5291405e+01,  5.7397099e+00, -7.1051245e+00, -5.1702166e+00,\n",
      "       -1.6308294e+01,  2.3747659e+00, -1.3938108e+01, -3.8643730e+00,\n",
      "       -1.7583151e+00, -3.6478927e+00, -2.6225741e+00, -6.8230348e+00,\n",
      "       -8.5913277e+00, -4.0949941e+00, -6.1164184e+00, -4.0722632e+00,\n",
      "        1.2978889e+00,  7.3080188e-01,  7.5944167e-01, -1.0241289e+00,\n",
      "        7.2833791e+00,  1.3581336e+00,  3.0522546e-01, -9.0134460e-01,\n",
      "        1.8448812e-01, -2.8157110e+00,  1.9127451e+00, -1.9215190e+00,\n",
      "       -3.0145528e+00, -2.1402001e+00, -9.3309832e-01,  1.8484811e-01],\n",
      "      dtype=float32), 'soundbox']\n",
      "[array([-5.6603693e+02,  4.6264771e+01, -3.4464897e+01,  2.6504534e+01,\n",
      "        1.8642866e+01,  6.9764562e+00, -2.6577429e+01,  1.2570253e+01,\n",
      "       -2.8064259e+01,  5.7404952e+00, -5.5491261e+00, -2.3937187e+00,\n",
      "       -1.8978634e+01,  4.7686157e+00, -1.5322018e+01, -5.7149965e-01,\n",
      "       -5.2024283e+00, -2.0735700e+00, -5.7342448e+00, -4.8884764e+00,\n",
      "       -1.1128603e+01, -3.7334175e+00, -6.7708082e+00, -4.8489313e+00,\n",
      "        1.3603675e+00, -8.3602481e-02, -5.6109291e-02, -2.9037921e+00,\n",
      "        5.4458709e+00, -5.9748318e-02, -9.8148763e-01, -1.4163251e+00,\n",
      "       -1.1552118e+00, -3.1469994e+00,  1.2883278e+00, -1.5331421e+00,\n",
      "       -3.3544965e+00, -2.4130166e+00, -1.0747765e+00, -3.2361455e-02],\n",
      "      dtype=float32), 'soundbox']\n",
      "[array([-607.11975   ,   45.413437  ,  -21.251366  ,   16.100698  ,\n",
      "          3.1607835 ,   15.143676  ,  -25.921108  ,   11.851527  ,\n",
      "        -20.649456  ,    7.373007  ,   -9.644407  ,    7.1419134 ,\n",
      "        -13.855596  ,    4.5008173 ,  -17.894007  ,    2.4055328 ,\n",
      "         -4.0226226 ,   -0.7194868 ,   -1.3717308 ,    2.031862  ,\n",
      "         -7.6997895 ,    1.5250163 ,   -2.2835944 ,    0.8024306 ,\n",
      "         -4.1426163 ,   -0.984041  ,    0.76215065,   -3.7233746 ,\n",
      "         -1.8292997 ,   -1.7964448 ,   -3.1341486 ,   -1.922492  ,\n",
      "         -3.2266302 ,   -3.2910347 ,    1.0488261 ,   -0.76122034,\n",
      "         -4.575211  ,   -1.3994201 ,   -1.7185478 ,   -1.0286701 ],\n",
      "      dtype=float32), 'tv']\n",
      "[array([-498.46286   ,   84.84661   ,  -11.831238  ,   22.815798  ,\n",
      "         14.095221  ,    7.1459155 ,  -20.136818  ,    9.132415  ,\n",
      "        -18.15984   ,   12.006161  ,  -15.737983  ,   -1.7736354 ,\n",
      "         -8.772309  ,   -3.3531487 ,  -12.802143  ,    3.4262004 ,\n",
      "         -6.722713  ,   -5.785277  ,   -2.8834832 ,   -2.4546645 ,\n",
      "        -10.429635  ,   -0.91689783,   -3.9297283 ,   -3.5698524 ,\n",
      "         -1.4699824 ,   -3.0090082 ,   -1.2135698 ,   -2.895144  ,\n",
      "         -1.4790107 ,   -2.66831   ,   -1.3709981 ,   -3.603828  ,\n",
      "         -1.1043292 ,   -3.3963156 ,    0.5324414 ,   -2.4746401 ,\n",
      "         -2.5950398 ,   -3.177107  ,   -2.6716912 ,   -1.0523529 ],\n",
      "      dtype=float32), 'original']\n",
      "[array([-5.6252374e+02,  3.5992397e+01, -3.5740826e+01,  2.8054934e+01,\n",
      "        2.4806597e+01,  5.4097686e+00, -2.8113945e+01,  1.2752034e+01,\n",
      "       -2.4629576e+01,  4.3160467e+00, -3.8326669e+00, -1.8685566e+00,\n",
      "       -1.9632971e+01,  5.4959249e+00, -1.5097651e+01, -3.3458834e+00,\n",
      "       -3.3180962e+00, -4.9028091e+00, -3.8667419e+00, -6.0541182e+00,\n",
      "       -9.4909410e+00, -4.0292249e+00, -7.3197088e+00, -5.0557323e+00,\n",
      "        9.7428757e-01, -8.6140335e-01,  1.8097314e+00, -3.3487647e+00,\n",
      "        6.5904431e+00, -2.4270427e-01, -6.7390525e-01, -4.1561791e-01,\n",
      "       -1.0482210e+00, -2.4422660e+00,  9.6086055e-01, -2.1200595e+00,\n",
      "       -3.6468532e+00, -2.1626375e+00, -1.0835241e+00, -1.7045952e-01],\n",
      "      dtype=float32), 'soundbox']\n",
      "[array([-5.2782220e+02,  5.5382481e+01, -4.0427513e+01,  2.4001175e+01,\n",
      "        2.6004232e+01, -5.6100643e-01, -3.2222366e+01,  1.0395691e+01,\n",
      "       -2.8570267e+01,  2.4555364e+00, -5.4382010e+00, -3.3367071e+00,\n",
      "       -1.8247734e+01,  3.0238957e+00, -1.5026470e+01, -2.1047995e+00,\n",
      "       -4.0423503e+00, -5.3161030e+00, -3.6130602e+00, -6.9401159e+00,\n",
      "       -1.3728601e+01, -5.0295033e+00, -7.2540622e+00, -6.5460663e+00,\n",
      "        7.0876932e-01, -2.5176928e+00,  9.5494682e-01, -2.3311071e+00,\n",
      "        5.7489038e+00,  1.0441954e+00, -3.2588154e-01, -1.2889673e+00,\n",
      "       -1.7532427e+00, -2.8573837e+00,  1.2947855e+00, -1.9217204e+00,\n",
      "       -3.0656440e+00, -2.6413987e+00, -1.5903249e-02, -6.1173635e-03],\n",
      "      dtype=float32), 'soundbox']\n",
      "[array([-5.7456427e+02,  2.5931290e+01, -2.3038288e+01,  2.3205235e+01,\n",
      "        3.6636715e+00,  2.1412325e+00, -2.7460440e+01,  1.1569419e+01,\n",
      "       -2.6689573e+01,  1.1910829e+01, -8.3501825e+00,  3.0061207e+00,\n",
      "       -1.5886420e+01,  4.7565632e+00, -1.4309108e+01,  2.1936889e+00,\n",
      "       -8.9445953e+00, -5.3180351e+00, -3.4235489e+00,  3.3463318e+00,\n",
      "       -1.1095232e+01, -9.5490456e-01, -3.6694930e+00,  1.3739331e+00,\n",
      "       -1.4808424e+00, -1.4695077e+00,  6.9510645e-01, -2.4176102e+00,\n",
      "        1.0169048e+00,  1.9738029e+00, -2.0194414e+00, -4.2395601e+00,\n",
      "       -6.0312444e-01, -3.6203051e+00,  5.6260949e-01, -1.5066639e+00,\n",
      "       -2.1105716e+00, -4.2287207e-01, -4.5617456e+00,  2.9330578e+00],\n",
      "      dtype=float32), 'desktop']\n",
      "[array([-5.7922998e+02,  5.2765785e+01, -2.5369719e+01,  1.1769825e+01,\n",
      "       -3.2198124e+00,  1.5621874e+01, -2.4639109e+01,  8.0762053e+00,\n",
      "       -2.2914003e+01,  6.1221404e+00, -1.3353784e+01,  4.0742488e+00,\n",
      "       -1.2087166e+01, -6.5396167e-02, -2.0032534e+01,  2.8169885e+00,\n",
      "       -3.8884554e+00,  3.7383056e-01, -5.2109927e-01,  3.4634085e+00,\n",
      "       -1.0510932e+01,  2.4096718e+00, -5.3413844e-01,  2.7000732e+00,\n",
      "       -3.2743592e+00, -4.4153860e-01,  4.9954975e-01, -4.7588706e+00,\n",
      "       -2.3103042e+00, -1.8103077e+00, -3.1153510e+00, -2.9795711e+00,\n",
      "       -3.2266197e+00, -3.7949841e+00,  2.2472363e+00, -1.5718260e+00,\n",
      "       -4.6361260e+00, -2.0311594e+00, -1.9000771e+00, -1.4205605e+00],\n",
      "      dtype=float32), 'tv']\n",
      "[array([-5.7511841e+02,  4.0267845e+01, -2.7150185e+01,  1.4612616e+01,\n",
      "        1.8942650e+01,  6.9485135e+00, -2.4823750e+01,  9.1751137e+00,\n",
      "       -2.5421829e+01,  4.2907281e+00, -4.1750112e+00, -2.7279580e+00,\n",
      "       -1.5859545e+01,  4.0263128e+00, -1.1754209e+01, -2.4383006e+00,\n",
      "       -1.8414198e+00, -3.4641697e+00, -3.6884546e+00, -5.3002391e+00,\n",
      "       -6.3167892e+00, -5.6063380e+00, -5.4070559e+00, -4.7863536e+00,\n",
      "        9.7266072e-01, -1.6488147e+00,  1.6972454e+00, -1.6434648e+00,\n",
      "        7.6539230e+00,  1.4118749e+00, -9.8743284e-01, -1.4201901e+00,\n",
      "       -1.4430481e+00, -2.7466090e+00,  1.2348834e+00, -1.6666961e+00,\n",
      "       -4.0226250e+00, -3.2313874e+00, -1.8338919e+00, -1.3356982e-01],\n",
      "      dtype=float32), 'soundbox']\n",
      "[array([-5.1850970e+02,  7.1244629e+01, -6.2812004e+00,  2.7281898e+01,\n",
      "        1.3851347e+01,  1.0277125e+01, -1.5103902e+01,  7.4185629e+00,\n",
      "       -1.7802971e+01,  8.3378201e+00, -8.4781542e+00, -2.9045131e+00,\n",
      "       -1.1339111e+01, -1.8198107e+00, -1.1966292e+01,  1.9857608e+00,\n",
      "       -5.1189041e+00, -3.3984494e+00, -2.6878693e+00, -2.8109648e+00,\n",
      "       -7.9726386e+00, -1.1787713e+00, -3.9130263e+00, -3.0982673e+00,\n",
      "       -6.0791682e-02, -1.9803389e+00, -1.0762117e+00, -4.2561684e+00,\n",
      "        6.6712871e-02, -2.2144828e+00, -1.8864408e+00, -2.8842969e+00,\n",
      "       -1.7589490e+00, -3.2268739e+00,  5.3814119e-01, -1.2665011e+00,\n",
      "       -2.4855237e+00, -1.3191676e+00, -3.4110489e+00, -8.1713802e-01],\n",
      "      dtype=float32), 'original']\n",
      "[array([-5.8998279e+02,  4.9161282e+01, -2.3171362e+01,  9.9584808e+00,\n",
      "        1.4420407e+00,  1.4625758e+01, -2.0257980e+01,  5.7801857e+00,\n",
      "       -2.0987497e+01,  2.3848667e+00, -8.4767733e+00,  6.0886421e+00,\n",
      "       -1.2163481e+01, -7.7006303e-02, -2.0658310e+01,  9.2069834e-01,\n",
      "       -2.2347438e+00, -7.3124558e-01,  2.1164989e+00,  1.1370659e+00,\n",
      "       -7.5773907e+00, -1.2883504e-01,  8.1573808e-01,  1.1787159e+00,\n",
      "       -3.3554978e+00, -3.1289337e+00,  1.5316806e+00, -4.9000354e+00,\n",
      "       -9.8304665e-01, -7.8400350e-01, -1.9331689e+00, -2.8553545e+00,\n",
      "       -2.7965016e+00, -3.7474864e+00,  2.3729661e+00, -1.2472099e+00,\n",
      "       -5.0884538e+00, -2.3653464e+00, -1.2059416e+00, -1.7698264e+00],\n",
      "      dtype=float32), 'tv']\n",
      "[array([-5.3120044e+02,  1.4592017e+01, -3.3055313e+01,  3.2411037e+01,\n",
      "        7.8673143e+00, -5.3985844e+00, -3.3079521e+01,  1.0361974e+01,\n",
      "       -3.1246529e+01,  1.4199959e+01, -1.1842737e+01,  2.1246364e+00,\n",
      "       -2.0293282e+01,  3.9914496e+00, -1.2146849e+01,  1.8145928e+00,\n",
      "       -1.2070258e+01, -2.0675404e+00, -4.6122513e+00,  5.7359247e+00,\n",
      "       -1.2969326e+01,  9.9075705e-01, -6.3181858e+00,  2.0361030e+00,\n",
      "       -2.7039528e+00,  6.4291227e-01, -1.4820358e-01, -4.9181339e-01,\n",
      "       -6.0783166e-01,  4.1268587e+00, -3.2464194e+00, -3.7333384e+00,\n",
      "       -6.6637290e-01, -3.1736081e+00,  7.0523381e-01, -2.9456112e-01,\n",
      "       -2.8950062e+00,  9.1929966e-01, -5.0435605e+00,  3.8586016e+00],\n",
      "      dtype=float32), 'desktop']\n",
      "[array([-5.1957349e+02,  6.5143784e+01, -4.1916194e+00,  3.2663548e+01,\n",
      "        1.5345879e+01,  1.1260621e+01, -1.7219177e+01,  9.6347399e+00,\n",
      "       -1.5525240e+01,  9.2695227e+00, -1.1746736e+01, -1.8914784e-01,\n",
      "       -1.4910244e+01,  1.9634091e+00, -1.5794768e+01,  2.6467314e+00,\n",
      "       -7.5250196e+00, -2.8559303e+00, -3.4410112e+00, -1.6942292e+00,\n",
      "       -9.0143766e+00,  1.6702095e-01, -3.9767916e+00, -1.9840523e+00,\n",
      "       -2.3601618e+00, -5.9094310e-01, -2.3518844e+00, -2.2369516e+00,\n",
      "       -1.3135326e+00, -1.0467308e+00, -2.5902412e+00, -2.4499738e+00,\n",
      "       -1.8185042e+00, -3.4083066e+00, -7.5573051e-01, -2.3642690e+00,\n",
      "       -3.5818663e+00, -3.0233724e+00, -2.6069446e+00, -1.7024199e+00],\n",
      "      dtype=float32), 'original']\n",
      "[array([-5.6396515e+02,  1.7770031e+01, -2.9874294e+01,  2.8944935e+01,\n",
      "        4.9810481e+00, -2.7713470e+00, -2.5854124e+01,  1.4785554e+01,\n",
      "       -2.8779770e+01,  1.5438108e+01, -1.0016311e+01, -2.9749558e+00,\n",
      "       -1.6908146e+01,  5.5025883e+00, -1.2822015e+01,  1.5132592e+00,\n",
      "       -7.4049373e+00, -4.5835876e+00, -4.9861593e+00,  3.9555285e+00,\n",
      "       -8.6897726e+00, -1.6457123e+00, -4.0857110e+00,  1.5995686e+00,\n",
      "       -1.3612748e+00, -8.1913930e-01,  6.9550109e-01, -2.8884966e+00,\n",
      "        1.8455514e+00,  1.2954646e+00, -1.5136038e+00, -3.2562966e+00,\n",
      "       -2.6175356e-01, -3.7962413e+00,  5.3533125e-01, -1.4810542e+00,\n",
      "       -2.0861981e+00, -4.3557540e-01, -4.3274460e+00,  2.9666073e+00],\n",
      "      dtype=float32), 'desktop']\n",
      "[array([-5.5782166e+02,  4.5977818e+01, -4.0951050e+01,  3.0396818e+01,\n",
      "        2.6663189e+01,  5.7293262e+00, -3.1204407e+01,  1.3281369e+01,\n",
      "       -2.7625402e+01,  6.9617677e+00, -7.3122711e+00, -3.6850502e+00,\n",
      "       -2.0559385e+01,  5.6084409e+00, -1.6672791e+01, -1.0859647e+00,\n",
      "       -3.2298064e+00, -2.6139700e+00, -5.0667796e+00, -4.1104307e+00,\n",
      "       -1.1401943e+01, -3.3635468e+00, -7.0560384e+00, -4.6534762e+00,\n",
      "       -8.5979730e-01, -1.0493888e+00,  1.0727903e+00, -1.9369382e+00,\n",
      "        6.1525407e+00, -7.4127024e-01, -3.0660135e-01, -8.9954168e-01,\n",
      "       -7.9310745e-01, -3.3379328e+00, -2.6754454e-01, -2.2410853e+00,\n",
      "       -3.8313169e+00, -3.1039846e+00, -1.1233146e+00, -3.7233475e-01],\n",
      "      dtype=float32), 'soundbox']\n",
      "[array([-6.09485352e+02,  3.01900368e+01,  3.07779282e-01,  2.45124168e+01,\n",
      "        1.65788116e+01,  1.49491062e+01, -1.74231911e+01,  1.56073570e+01,\n",
      "       -1.60768929e+01,  1.84197826e+01, -1.37767191e+01,  1.11807604e+01,\n",
      "       -1.57820034e+01,  9.28945637e+00, -1.93056507e+01,  4.18110943e+00,\n",
      "       -5.75024366e+00, -9.68060017e-01, -6.05858994e+00, -1.39809620e+00,\n",
      "       -1.08246155e+01,  3.14128017e+00, -7.40860367e+00, -1.38000190e+00,\n",
      "       -6.04810905e+00,  1.93834782e+00, -4.40943480e+00, -3.14221054e-01,\n",
      "       -1.38954580e+00,  2.17157960e+00, -7.19259930e+00, -1.17839277e+00,\n",
      "       -4.23250437e+00, -6.28078759e-01, -1.41640425e+00, -6.36469200e-02,\n",
      "       -5.85142136e+00, -4.37364668e-01, -5.35837793e+00, -1.48352027e+00],\n",
      "      dtype=float32), 'soundbar']\n",
      "[array([-6.1714886e+02,  3.7946640e+01, -3.0904377e+00,  2.3022724e+01,\n",
      "        1.5769100e+01,  1.6653313e+01, -1.8907005e+01,  1.7766006e+01,\n",
      "       -1.7787254e+01,  1.7754478e+01, -1.1517527e+01,  1.0969492e+01,\n",
      "       -1.5701331e+01,  8.3962784e+00, -1.8693720e+01,  4.3700109e+00,\n",
      "       -6.7081299e+00, -8.7389773e-01, -6.7547317e+00, -4.7212444e-02,\n",
      "       -1.0482546e+01,  3.2524180e+00, -6.1277080e+00, -1.0414993e+00,\n",
      "       -4.9479804e+00,  1.5322033e+00, -3.7958341e+00, -1.4163766e+00,\n",
      "       -2.3496880e-01,  1.1623503e+00, -5.9498115e+00, -1.3688589e+00,\n",
      "       -3.4114561e+00, -1.0712887e+00, -2.9722738e-01, -1.0798690e+00,\n",
      "       -5.2061882e+00, -1.5568165e+00, -4.4784002e+00, -2.6735151e+00],\n",
      "      dtype=float32), 'soundbar']\n",
      "[array([-5.5786218e+02,  6.6727699e+01, -7.4449258e+00,  2.8354414e+01,\n",
      "        2.5306627e+01,  8.6263781e+00, -1.5021782e+01,  8.7720537e+00,\n",
      "       -1.4167049e+01,  8.5156746e+00, -5.2039762e+00, -5.1613224e-01,\n",
      "       -9.6992283e+00, -4.8933765e-01, -9.7578478e+00, -1.6987212e+00,\n",
      "       -3.0975308e+00, -5.4065599e+00, -1.0913718e+00, -3.7196836e+00,\n",
      "       -6.4920578e+00, -1.9603145e+00, -1.7960998e+00, -2.8170850e+00,\n",
      "       -6.0626388e-01,  7.7461794e-02,  1.0061352e+00, -1.9289768e+00,\n",
      "        9.5312953e-01, -2.5684142e+00, -1.6453899e+00, -3.8550729e-01,\n",
      "       -2.0922201e+00, -3.1346428e+00, -7.1812809e-01, -2.8136108e+00,\n",
      "       -3.6985321e+00, -1.9514014e+00, -2.7264524e+00, -3.0725272e+00],\n",
      "      dtype=float32), 'original']\n",
      "[array([-5.5607306e+02,  1.2628038e+01, -2.8880203e+01,  3.0753382e+01,\n",
      "        8.5891638e+00,  1.7542689e+00, -2.8015966e+01,  9.2242956e+00,\n",
      "       -2.6138939e+01,  1.1320672e+01, -1.1670443e+01,  2.0993278e+00,\n",
      "       -1.9047968e+01,  4.6293139e+00, -1.3784597e+01,  2.5732081e+00,\n",
      "       -9.4460239e+00, -4.9390502e+00, -3.9478457e+00,  4.4740691e+00,\n",
      "       -1.0386266e+01, -8.2669789e-01, -4.0433898e+00,  1.6895828e+00,\n",
      "       -2.7124662e+00,  2.2159548e-01,  4.2977861e-01, -3.0165741e+00,\n",
      "       -6.8714464e-01,  2.9961207e+00, -2.3176131e+00, -3.2853205e+00,\n",
      "       -1.5718553e+00, -3.0186086e+00,  7.8083169e-01, -1.2558781e-01,\n",
      "       -2.1065707e+00,  6.6905820e-01, -4.3232908e+00,  2.6909788e+00],\n",
      "      dtype=float32), 'desktop']\n",
      "[array([-5.38524170e+02,  6.59608078e+01, -1.49188509e+01,  3.85040703e+01,\n",
      "        1.75285835e+01,  1.09349642e+01, -1.88540077e+01,  1.46170225e+01,\n",
      "       -1.49216919e+01,  1.30692024e+01, -1.09489985e+01,  8.07939172e-01,\n",
      "       -1.45099030e+01,  2.08275080e+00, -1.61741924e+01,  1.08088017e+00,\n",
      "       -4.61255455e+00, -4.70828247e+00, -3.18857694e+00, -7.14457572e-01,\n",
      "       -8.21760559e+00, -6.60956427e-02, -4.37627363e+00, -1.86250091e+00,\n",
      "       -2.65059996e+00,  5.33394963e-02, -7.52082825e-01, -1.91190708e+00,\n",
      "       -9.29343820e-01, -1.62329483e+00, -2.37989116e+00, -2.89612699e+00,\n",
      "       -1.21695685e+00, -3.19843102e+00, -1.16561103e+00, -1.97560000e+00,\n",
      "       -2.06808805e+00, -2.67913580e+00, -3.71603775e+00, -1.72024000e+00],\n",
      "      dtype=float32), 'original']\n",
      "[array([-5.3533997e+02,  5.3444424e+01, -5.0319176e+01,  2.8853138e+01,\n",
      "        2.7940895e+01,  1.5030098e+00, -2.9919474e+01,  8.3519487e+00,\n",
      "       -3.1122877e+01,  3.3572865e+00, -5.1882796e+00, -6.1973233e+00,\n",
      "       -1.8186380e+01,  4.2473049e+00, -1.6865150e+01, -2.0233128e+00,\n",
      "       -3.1762917e+00, -4.2759366e+00, -3.7190809e+00, -3.6573956e+00,\n",
      "       -1.2806335e+01, -3.2834957e+00, -6.7523165e+00, -5.0729823e+00,\n",
      "       -2.2526529e-02, -2.7277164e+00,  1.1341654e+00, -1.8391466e+00,\n",
      "        6.8719106e+00, -4.3484616e-01,  1.8195441e-01, -1.4686635e+00,\n",
      "       -4.9784425e-01, -3.3341007e+00,  4.3663770e-01, -1.8680370e+00,\n",
      "       -2.8892188e+00, -3.0273240e+00, -1.6491203e+00, -7.6829517e-01],\n",
      "      dtype=float32), 'soundbox']\n",
      "[array([-5.3092377e+02,  5.8702419e+01, -1.0743001e+01,  3.1844339e+01,\n",
      "        1.7257523e+01,  1.1937184e+01, -1.9895561e+01,  1.0479302e+01,\n",
      "       -1.4986324e+01,  9.4320517e+00, -8.7226810e+00,  2.0318344e+00,\n",
      "       -1.4312571e+01,  1.8576853e+00, -1.2956591e+01,  5.5775189e-01,\n",
      "       -4.4509139e+00, -6.0006127e+00, -2.3374937e+00, -2.8735790e+00,\n",
      "       -6.6109691e+00, -2.7524263e-01, -4.5283356e+00, -2.8311248e+00,\n",
      "       -1.6596875e+00, -1.1208344e+00, -2.1759650e-01, -3.8371868e+00,\n",
      "       -5.6522556e-02, -2.6162293e+00, -1.4141738e+00, -1.4041201e+00,\n",
      "       -2.1530797e+00, -3.2638505e+00, -3.7084562e-01, -1.9995016e+00,\n",
      "       -2.5585768e+00, -1.4171259e+00, -2.1583760e+00, -1.0433384e+00],\n",
      "      dtype=float32), 'original']\n"
     ]
    }
   ],
   "source": [
    "# Creating our feature matrix and target vector for the training and test set\n",
    "X_train = []\n",
    "y_train = []\n",
    "for obj in tempTrain:\n",
    "    #print(obj)\n",
    "    X_train.append(obj[0])\n",
    "    y_train.append(obj[1])\n",
    "\n",
    "X_test = []\n",
    "y_test = []\n",
    "for obj in tempTest:\n",
    "    print(obj)\n",
    "    X_test.append(obj[0])\n",
    "    y_test.append(obj[1])"
   ]
  },
  {
   "cell_type": "code",
   "execution_count": 625,
   "metadata": {},
   "outputs": [
    {
     "output_type": "stream",
     "name": "stdout",
     "text": [
      "['tv', 'original', 'soundbox', 'original', 'tv', 'tv', 'desktop', 'soundbar', 'tv', 'tv', 'soundbox', 'tv', 'tv', 'tv', 'desktop', 'original', 'soundbox', 'original', 'tv', 'tv', 'desktop', 'tv', 'soundbox', 'desktop', 'soundbar', 'soundbox', 'original', 'soundbox', 'soundbox', 'tv', 'soundbar', 'soundbar', 'original', 'soundbar', 'soundbox', 'tv', 'desktop', 'desktop', 'tv', 'tv', 'soundbox', 'desktop', 'soundbox', 'desktop', 'soundbox', 'soundbar', 'original', 'soundbar', 'soundbox', 'original', 'tv', 'desktop', 'desktop', 'tv', 'desktop', 'tv', 'soundbar', 'desktop', 'desktop', 'desktop', 'desktop', 'tv', 'original', 'tv', 'tv', 'desktop', 'soundbar', 'soundbar', 'soundbar', 'soundbar', 'desktop', 'soundbar', 'desktop', 'soundbar', 'tv', 'soundbar', 'desktop', 'soundbar', 'original', 'desktop', 'soundbar', 'original', 'soundbox', 'tv', 'tv', 'original', 'original', 'soundbar', 'desktop', 'soundbar', 'tv', 'original', 'tv', 'original', 'original', 'original', 'soundbox', 'original', 'soundbar', 'original', 'tv', 'desktop', 'desktop', 'soundbox', 'tv', 'soundbox', 'soundbar', 'soundbar', 'soundbox', 'soundbar', 'soundbar', 'original', 'original', 'soundbar', 'soundbox', 'desktop', 'soundbar', 'original', 'tv', 'original', 'original', 'original', 'desktop', 'tv', 'tv', 'soundbar', 'soundbar', 'soundbar', 'tv', 'soundbar', 'desktop', 'desktop', 'tv', 'original', 'original', 'soundbox', 'soundbox', 'soundbox', 'soundbox', 'desktop', 'tv', 'desktop', 'tv', 'soundbox', 'tv', 'desktop', 'original', 'soundbox', 'soundbar', 'soundbar', 'soundbar', 'soundbar', 'tv', 'desktop', 'original', 'soundbar', 'soundbox', 'tv', 'soundbox', 'soundbox', 'original', 'tv', 'soundbox', 'desktop', 'soundbox', 'original', 'desktop', 'soundbox', 'desktop', 'soundbar', 'soundbar', 'soundbox', 'original', 'original', 'desktop']\n['desktop', 'desktop', 'tv', 'soundbox', 'tv', 'soundbox', 'tv', 'desktop', 'desktop', 'soundbox', 'soundbox', 'soundbar', 'soundbox', 'soundbar', 'original', 'original', 'original', 'soundbox', 'tv', 'soundbox', 'soundbar', 'soundbox', 'original', 'soundbox', 'original', 'original', 'desktop', 'original', 'soundbar', 'soundbar', 'soundbox', 'desktop', 'soundbox', 'soundbar', 'soundbar', 'tv', 'tv', 'original', 'original', 'soundbar', 'original', 'tv', 'tv', 'soundbox', 'desktop', 'soundbar', 'original', 'desktop', 'desktop', 'desktop', 'desktop', 'soundbar', 'soundbar', 'soundbox', 'soundbox', 'tv', 'original', 'soundbox', 'soundbox', 'desktop', 'tv', 'soundbox', 'original', 'tv', 'desktop', 'original', 'desktop', 'soundbox', 'soundbar', 'soundbar', 'original', 'desktop', 'original', 'soundbox', 'original']\n[4, 0, 2, 0, 4, 4, 1, 3, 4, 4, 2, 4, 4, 4, 1, 0, 2, 0, 4, 4, 1, 4, 2, 1, 3, 2, 0, 2, 2, 4, 3, 3, 0, 3, 2, 4, 1, 1, 4, 4, 2, 1, 2, 1, 2, 3, 0, 3, 2, 0, 4, 1, 1, 4, 1, 4, 3, 1, 1, 1, 1, 4, 0, 4, 4, 1, 3, 3, 3, 3, 1, 3, 1, 3, 4, 3, 1, 3, 0, 1, 3, 0, 2, 4, 4, 0, 0, 3, 1, 3, 4, 0, 4, 0, 0, 0, 2, 0, 3, 0, 4, 1, 1, 2, 4, 2, 3, 3, 2, 3, 3, 0, 0, 3, 2, 1, 3, 0, 4, 0, 0, 0, 1, 4, 4, 3, 3, 3, 4, 3, 1, 1, 4, 0, 0, 2, 2, 2, 2, 1, 4, 1, 4, 2, 4, 1, 0, 2, 3, 3, 3, 3, 4, 1, 0, 3, 2, 4, 2, 2, 0, 4, 2, 1, 2, 0, 1, 2, 1, 3, 3, 2, 0, 0, 1]\n[1, 1, 4, 2, 4, 2, 4, 1, 1, 2, 2, 3, 2, 3, 0, 0, 0, 2, 4, 2, 3, 2, 0, 2, 0, 0, 1, 0, 3, 3, 2, 1, 2, 3, 3, 4, 4, 0, 0, 3, 0, 4, 4, 2, 1, 3, 0, 1, 1, 1, 1, 3, 3, 2, 2, 4, 0, 2, 2, 1, 4, 2, 0, 4, 1, 0, 1, 2, 3, 3, 0, 1, 0, 2, 0]\n"
     ]
    }
   ],
   "source": [
    "# Making separate target arrays for sklearn and keras frameworks, as they work on different target\n",
    "print(y_train)\n",
    "print(y_test)\n",
    "\n",
    "# Creating the target vector for the conventional machine learning algorithms in sklearn which expect integer arrays. Creating an empty list for this\n",
    "y_train_cl = []\n",
    "for label in y_train:\n",
    "    if label == 'original':\n",
    "        y_train_cl.append(0)\n",
    "    elif label == 'desktop':\n",
    "        y_train_cl.append(1)\n",
    "    elif label == 'soundbox':\n",
    "        y_train_cl.append(2)\n",
    "    elif label == 'soundbar':\n",
    "        y_train_cl.append(3)\n",
    "    else:\n",
    "        y_train_cl.append(4)\n",
    "print(y_train_cl)\n",
    "\n",
    "# Doing the same thing as above for the test vector\n",
    "y_test_cl = []\n",
    "for label in y_test:\n",
    "    if label == 'original':\n",
    "        y_test_cl.append(0)\n",
    "    elif label == 'desktop':\n",
    "        y_test_cl.append(1)\n",
    "    elif label == 'soundbox':\n",
    "        y_test_cl.append(2)\n",
    "    elif label == 'soundbar':\n",
    "        y_test_cl.append(3)\n",
    "    else:\n",
    "        y_test_cl.append(4)\n",
    "print(y_test_cl)\n"
   ]
  },
  {
   "source": [
    "We ended up not using the hot encoded arrays"
   ],
   "cell_type": "markdown",
   "metadata": {}
  },
  {
   "cell_type": "code",
   "execution_count": 626,
   "metadata": {},
   "outputs": [
    {
     "output_type": "stream",
     "name": "stdout",
     "text": [
      "[0. 0. 0. 0. 1.]\n",
      "[1. 0. 0. 0. 0.]\n",
      "[[0. 0. 0. 0. 1.]\n",
      " [0. 1. 0. 0. 0.]\n",
      " [0. 0. 0. 1. 0.]\n",
      " [0. 1. 0. 0. 0.]\n",
      " [0. 0. 0. 0. 1.]\n",
      " [0. 0. 0. 0. 1.]\n",
      " [1. 0. 0. 0. 0.]\n",
      " [0. 0. 1. 0. 0.]\n",
      " [0. 0. 0. 0. 1.]\n",
      " [0. 0. 0. 0. 1.]\n",
      " [0. 0. 0. 1. 0.]\n",
      " [0. 0. 0. 0. 1.]\n",
      " [0. 0. 0. 0. 1.]\n",
      " [0. 0. 0. 0. 1.]\n",
      " [1. 0. 0. 0. 0.]\n",
      " [0. 1. 0. 0. 0.]\n",
      " [0. 0. 0. 1. 0.]\n",
      " [0. 1. 0. 0. 0.]\n",
      " [0. 0. 0. 0. 1.]\n",
      " [0. 0. 0. 0. 1.]\n",
      " [1. 0. 0. 0. 0.]\n",
      " [0. 0. 0. 0. 1.]\n",
      " [0. 0. 0. 1. 0.]\n",
      " [1. 0. 0. 0. 0.]\n",
      " [0. 0. 1. 0. 0.]\n",
      " [0. 0. 0. 1. 0.]\n",
      " [0. 1. 0. 0. 0.]\n",
      " [0. 0. 0. 1. 0.]\n",
      " [0. 0. 0. 1. 0.]\n",
      " [0. 0. 0. 0. 1.]\n",
      " [0. 0. 1. 0. 0.]\n",
      " [0. 0. 1. 0. 0.]\n",
      " [0. 1. 0. 0. 0.]\n",
      " [0. 0. 1. 0. 0.]\n",
      " [0. 0. 0. 1. 0.]\n",
      " [0. 0. 0. 0. 1.]\n",
      " [1. 0. 0. 0. 0.]\n",
      " [1. 0. 0. 0. 0.]\n",
      " [0. 0. 0. 0. 1.]\n",
      " [0. 0. 0. 0. 1.]\n",
      " [0. 0. 0. 1. 0.]\n",
      " [1. 0. 0. 0. 0.]\n",
      " [0. 0. 0. 1. 0.]\n",
      " [1. 0. 0. 0. 0.]\n",
      " [0. 0. 0. 1. 0.]\n",
      " [0. 0. 1. 0. 0.]\n",
      " [0. 1. 0. 0. 0.]\n",
      " [0. 0. 1. 0. 0.]\n",
      " [0. 0. 0. 1. 0.]\n",
      " [0. 1. 0. 0. 0.]\n",
      " [0. 0. 0. 0. 1.]\n",
      " [1. 0. 0. 0. 0.]\n",
      " [1. 0. 0. 0. 0.]\n",
      " [0. 0. 0. 0. 1.]\n",
      " [1. 0. 0. 0. 0.]\n",
      " [0. 0. 0. 0. 1.]\n",
      " [0. 0. 1. 0. 0.]\n",
      " [1. 0. 0. 0. 0.]\n",
      " [1. 0. 0. 0. 0.]\n",
      " [1. 0. 0. 0. 0.]\n",
      " [1. 0. 0. 0. 0.]\n",
      " [0. 0. 0. 0. 1.]\n",
      " [0. 1. 0. 0. 0.]\n",
      " [0. 0. 0. 0. 1.]\n",
      " [0. 0. 0. 0. 1.]\n",
      " [1. 0. 0. 0. 0.]\n",
      " [0. 0. 1. 0. 0.]\n",
      " [0. 0. 1. 0. 0.]\n",
      " [0. 0. 1. 0. 0.]\n",
      " [0. 0. 1. 0. 0.]\n",
      " [1. 0. 0. 0. 0.]\n",
      " [0. 0. 1. 0. 0.]\n",
      " [1. 0. 0. 0. 0.]\n",
      " [0. 0. 1. 0. 0.]\n",
      " [0. 0. 0. 0. 1.]\n",
      " [0. 0. 1. 0. 0.]\n",
      " [1. 0. 0. 0. 0.]\n",
      " [0. 0. 1. 0. 0.]\n",
      " [0. 1. 0. 0. 0.]\n",
      " [1. 0. 0. 0. 0.]\n",
      " [0. 0. 1. 0. 0.]\n",
      " [0. 1. 0. 0. 0.]\n",
      " [0. 0. 0. 1. 0.]\n",
      " [0. 0. 0. 0. 1.]\n",
      " [0. 0. 0. 0. 1.]\n",
      " [0. 1. 0. 0. 0.]\n",
      " [0. 1. 0. 0. 0.]\n",
      " [0. 0. 1. 0. 0.]\n",
      " [1. 0. 0. 0. 0.]\n",
      " [0. 0. 1. 0. 0.]\n",
      " [0. 0. 0. 0. 1.]\n",
      " [0. 1. 0. 0. 0.]\n",
      " [0. 0. 0. 0. 1.]\n",
      " [0. 1. 0. 0. 0.]\n",
      " [0. 1. 0. 0. 0.]\n",
      " [0. 1. 0. 0. 0.]\n",
      " [0. 0. 0. 1. 0.]\n",
      " [0. 1. 0. 0. 0.]\n",
      " [0. 0. 1. 0. 0.]\n",
      " [0. 1. 0. 0. 0.]\n",
      " [0. 0. 0. 0. 1.]\n",
      " [1. 0. 0. 0. 0.]\n",
      " [1. 0. 0. 0. 0.]\n",
      " [0. 0. 0. 1. 0.]\n",
      " [0. 0. 0. 0. 1.]\n",
      " [0. 0. 0. 1. 0.]\n",
      " [0. 0. 1. 0. 0.]\n",
      " [0. 0. 1. 0. 0.]\n",
      " [0. 0. 0. 1. 0.]\n",
      " [0. 0. 1. 0. 0.]\n",
      " [0. 0. 1. 0. 0.]\n",
      " [0. 1. 0. 0. 0.]\n",
      " [0. 1. 0. 0. 0.]\n",
      " [0. 0. 1. 0. 0.]\n",
      " [0. 0. 0. 1. 0.]\n",
      " [1. 0. 0. 0. 0.]\n",
      " [0. 0. 1. 0. 0.]\n",
      " [0. 1. 0. 0. 0.]\n",
      " [0. 0. 0. 0. 1.]\n",
      " [0. 1. 0. 0. 0.]\n",
      " [0. 1. 0. 0. 0.]\n",
      " [0. 1. 0. 0. 0.]\n",
      " [1. 0. 0. 0. 0.]\n",
      " [0. 0. 0. 0. 1.]\n",
      " [0. 0. 0. 0. 1.]\n",
      " [0. 0. 1. 0. 0.]\n",
      " [0. 0. 1. 0. 0.]\n",
      " [0. 0. 1. 0. 0.]\n",
      " [0. 0. 0. 0. 1.]\n",
      " [0. 0. 1. 0. 0.]\n",
      " [1. 0. 0. 0. 0.]\n",
      " [1. 0. 0. 0. 0.]\n",
      " [0. 0. 0. 0. 1.]\n",
      " [0. 1. 0. 0. 0.]\n",
      " [0. 1. 0. 0. 0.]\n",
      " [0. 0. 0. 1. 0.]\n",
      " [0. 0. 0. 1. 0.]\n",
      " [0. 0. 0. 1. 0.]\n",
      " [0. 0. 0. 1. 0.]\n",
      " [1. 0. 0. 0. 0.]\n",
      " [0. 0. 0. 0. 1.]\n",
      " [1. 0. 0. 0. 0.]\n",
      " [0. 0. 0. 0. 1.]\n",
      " [0. 0. 0. 1. 0.]\n",
      " [0. 0. 0. 0. 1.]\n",
      " [1. 0. 0. 0. 0.]\n",
      " [0. 1. 0. 0. 0.]\n",
      " [0. 0. 0. 1. 0.]\n",
      " [0. 0. 1. 0. 0.]\n",
      " [0. 0. 1. 0. 0.]\n",
      " [0. 0. 1. 0. 0.]\n",
      " [0. 0. 1. 0. 0.]\n",
      " [0. 0. 0. 0. 1.]\n",
      " [1. 0. 0. 0. 0.]\n",
      " [0. 1. 0. 0. 0.]\n",
      " [0. 0. 1. 0. 0.]\n",
      " [0. 0. 0. 1. 0.]\n",
      " [0. 0. 0. 0. 1.]\n",
      " [0. 0. 0. 1. 0.]\n",
      " [0. 0. 0. 1. 0.]\n",
      " [0. 1. 0. 0. 0.]\n",
      " [0. 0. 0. 0. 1.]\n",
      " [0. 0. 0. 1. 0.]\n",
      " [1. 0. 0. 0. 0.]\n",
      " [0. 0. 0. 1. 0.]\n",
      " [0. 1. 0. 0. 0.]\n",
      " [1. 0. 0. 0. 0.]\n",
      " [0. 0. 0. 1. 0.]\n",
      " [1. 0. 0. 0. 0.]\n",
      " [0. 0. 1. 0. 0.]\n",
      " [0. 0. 1. 0. 0.]\n",
      " [0. 0. 0. 1. 0.]\n",
      " [0. 1. 0. 0. 0.]\n",
      " [0. 1. 0. 0. 0.]\n",
      " [1. 0. 0. 0. 0.]]\n"
     ]
    }
   ],
   "source": [
    "# Making separate target arrays for sklearn and keras frameworks, as they work on different target\n",
    "\n",
    "# Hot encoding y for keras, as keras doesn't use integer target arrays like sklearn\n",
    "lb = LabelEncoder()\n",
    "y_train = np_utils.to_categorical(lb.fit_transform(y_train))\n",
    "\n",
    "y_test = np_utils.to_categorical(lb.fit_transform(y_test))\n",
    "print(y_train[0])\n",
    "print(y_test[0])\n",
    "print(y_train)"
   ]
  },
  {
   "cell_type": "code",
   "execution_count": 627,
   "metadata": {},
   "outputs": [
    {
     "output_type": "stream",
     "name": "stdout",
     "text": [
      "(175, 40)\n(75, 40)\n"
     ]
    }
   ],
   "source": [
    "# Converting the training features and test features to a numpy array \n",
    "X_train = np.array(X_train)\n",
    "X_test = np.array(X_test)\n",
    "\n",
    "print(X_train.shape)\n",
    "print(X_test.shape)"
   ]
  },
  {
   "source": [
    "Standardizing the features. This assumes the data has a Gaussian distribution."
   ],
   "cell_type": "markdown",
   "metadata": {}
  },
  {
   "cell_type": "code",
   "execution_count": 628,
   "metadata": {},
   "outputs": [
    {
     "output_type": "stream",
     "name": "stdout",
     "text": [
      "[[-1.6188706   0.41126454  0.1346086  -1.2211045  -0.559442    0.94084805\n  -0.28844193  0.22442767  0.54264987 -0.5157379   0.2832214   0.81851155\n   0.7698508  -0.5996754  -0.2559101   0.27164593  0.8598349   1.1497234\n   1.4484222   0.31740934  1.0379963   0.33730784  0.72643745  0.2542363\n  -0.40380242  0.33642593  0.26946673  0.09685612 -0.48443234 -0.78548515\n   0.08640414  0.46069092 -1.6354322  -0.41168883  0.5979216  -0.19200762\n  -0.5149683  -0.69042724  0.64910805 -0.8215385 ]\n [ 1.9594336   1.0857      0.34332782  1.8849384   0.25931156 -0.56179446\n   0.94528735 -0.7638062   0.6400227   0.34862927 -0.5552682  -0.8227929\n   0.94604385 -0.7463177   0.7146383  -0.5162396   0.42767757 -0.7550391\n   0.47504565 -0.26055682  1.0966371  -0.35378435  0.20264646 -0.25363174\n   0.39448676 -0.277624   -0.13385616 -0.27326104 -0.4839479  -1.0415351\n  -0.27482098  0.29593018  0.06537206  0.19433291 -0.89149255 -1.5984582\n   1.6437768  -0.8859535  -0.57043475 -1.0304682 ]\n [ 0.2966201   0.46920368 -1.6288537   0.01295775  1.7567112  -0.31158286\n  -1.0533009  -1.3097925  -1.0643297  -1.8802506   1.9139367  -1.6953833\n  -1.1827844  -0.16702935  0.40808374 -2.3886878   0.69390535 -0.0904083\n  -0.18262981 -1.3995881  -0.46843645 -2.2279668  -0.55751055 -1.7120717\n   1.1432256  -1.5227917   0.54377925  0.08518301  1.7831748   0.1993206\n   0.85713917  0.8851725   0.6060292   0.16696864  1.1099106  -0.38402596\n   0.85959107 -0.690671    1.3532972   0.9734744 ]]\n[[0. 0. 0. 0. 1.]\n [0. 1. 0. 0. 0.]\n [0. 0. 0. 1. 0.]\n [0. 1. 0. 0. 0.]\n [0. 0. 0. 0. 1.]]\n"
     ]
    }
   ],
   "source": [
    "# Standardizing the features\n",
    "scaler = preprocessing.StandardScaler()\n",
    "X_train = scaler.fit_transform(X_train)\n",
    "X_test = scaler.fit_transform(X_test)\n",
    "\n",
    "print(X_train[:3])\n",
    "print(y_train[:5])"
   ]
  },
  {
   "source": [
    "# The conventional machine learning algorithm we chose for this task was the Support Vector Machine\n",
    "The reasoning behind this was first of all that our problem was a classification problem, and SVM can do both classification and regression.\n",
    "We figured that since the SVM allows us to specify the kernels, and then find an optimal boundary in between these resulting outputs, that it would be the best at separating our data and getting the labels right.\n",
    "\n",
    "We decided upon testing four different kernel functions for this conventional implementation to see if there was any difference. The theory behind\n",
    "being that the linear would perform the \"best\" of them. This being because the number of features in the problem were larger than the number of samples, and that the data was fairly \"simple\". We also hypothesized that the different models would all easily distinguish between the recordings of the different speakers, seeing as there were clear differences to the naked ear in regards to both volume and perception. With this meaning that the way one would describe sound as a human, the way we percieve it, it was very distinctive and seeing as we used MFCCs, which use Mel scaling to try and model the way a human would hear, our theory was that our models would perform extremely and also maybe unrealistically well.\n",
    "\n",
    "Our implementation of the SVM with different kernels are below, inspired by the multiclass_svm.py lab material and https://towardsdatascience.com/multiclass-classification-with-support-vector-machines-svm-kernel-trick-kernel-functions-f9d5377d6f02"
   ],
   "cell_type": "markdown",
   "metadata": {}
  },
  {
   "cell_type": "code",
   "execution_count": 629,
   "metadata": {},
   "outputs": [],
   "source": [
    "# Converting the test data integer arrays\n",
    "y_test_cl = np.array(y_test_cl)\n",
    "y_train_cl = np.array(y_train_cl)\n",
    "\n",
    "# The linear SVM\n",
    "linear = svm.SVC(kernel='linear', C=1, decision_function_shape='ovo').fit(X_train, y_train_cl)\n",
    "\n",
    "# The Radial basis function kernel\n",
    "rbf = svm.SVC(kernel='rbf', gamma=1, C=1, decision_function_shape='ovo').fit(X_train, y_train_cl)\n",
    "\n",
    "# The Polynomial kernel\n",
    "poly = svm.SVC(kernel='poly', degree=3, C=1, decision_function_shape='ovo').fit(X_train, y_train_cl)\n",
    "\n",
    "# The sigmoid kernel\n",
    "sig = svm.SVC(kernel='sigmoid', C=1, decision_function_shape='ovo').fit(X_train, y_train_cl)"
   ]
  },
  {
   "source": [
    "### Evaluating the models"
   ],
   "cell_type": "markdown",
   "metadata": {}
  },
  {
   "cell_type": "code",
   "execution_count": 632,
   "metadata": {},
   "outputs": [
    {
     "output_type": "stream",
     "name": "stdout",
     "text": [
      "Accuracy Linear Kernel: 1.0\nAccuracy Polynomial Kernel: 1.0\nAccuracy Radial Basis Kernel: 0.14666666666666667\nAccuracy Sigmoid Kernel: 1.0\n"
     ]
    }
   ],
   "source": [
    "# Making the predictions\n",
    "linear_pred = linear.predict(X_test)\n",
    "poly_pred = poly.predict(X_test)\n",
    "rbf_pred = rbf.predict(X_test)\n",
    "sig_pred = sig.predict(X_test)\n",
    "\n",
    "# Measuring the accuracy \n",
    "accuracy_lin = linear.score(X_test, y_test_cl)\n",
    "accuracy_poly = poly.score(X_test, y_test_cl)\n",
    "accuracy_rbf = rbf.score(X_test, y_test_cl)\n",
    "accuracy_sig = sig.score(X_test, y_test_cl)\n",
    "\n",
    "print('Accuracy Linear Kernel:', accuracy_lin)\n",
    "print('Accuracy Polynomial Kernel:', accuracy_poly)\n",
    "print('Accuracy Radial Basis Kernel:', accuracy_rbf)\n",
    "print('Accuracy Sigmoid Kernel:', accuracy_sig)"
   ]
  },
  {
   "source": [
    "### Calculating the F1 scores for all the kernels"
   ],
   "cell_type": "markdown",
   "metadata": {}
  },
  {
   "cell_type": "code",
   "execution_count": 633,
   "metadata": {},
   "outputs": [
    {
     "output_type": "stream",
     "name": "stdout",
     "text": [
      "linear:  1.0\npolynomial:  1.0\nradial basis function:  0.05116279069767442\nsigmoid:  1.0\n"
     ]
    }
   ],
   "source": [
    "# Calculating the F1 score\n",
    "from sklearn.metrics import f1_score\n",
    "\n",
    "f1_lin = f1_score(y_test_cl, linear_pred, average='macro')\n",
    "f1_poly = f1_score(y_test_cl, poly_pred, average='macro')\n",
    "f1_rbf = f1_score(y_test_cl, rbf_pred, average='macro')\n",
    "f1_sig = f1_score(y_test_cl, sig_pred, average='macro')\n",
    "\n",
    "print('linear: ', f1_lin)\n",
    "print('polynomial: ', f1_poly)\n",
    "print('radial basis function: ', f1_rbf)\n",
    "print('sigmoid: ', f1_sig)"
   ]
  },
  {
   "source": [
    "### Creating a confusion matrix for all the kernels."
   ],
   "cell_type": "markdown",
   "metadata": {}
  },
  {
   "cell_type": "code",
   "execution_count": 437,
   "metadata": {},
   "outputs": [
    {
     "output_type": "stream",
     "name": "stdout",
     "text": [
      "[[17  0  0  0  0]\n [ 0 13  0  0  0]\n [ 0  0 10  0  0]\n [ 0  0  0 18  0]\n [ 0  0  0  0 17]]\n[[17  0  0  0  0]\n [ 0 13  0  0  0]\n [ 0  0 10  0  0]\n [ 0  0  0 18  0]\n [ 0  0  0  0 17]]\n[[ 0  0 17  0  0]\n [ 0  0 13  0  0]\n [ 0  0 10  0  0]\n [ 0  0 18  0  0]\n [ 0  0 17  0  0]]\n[[17  0  0  0  0]\n [ 0 13  0  0  0]\n [ 0  0 10  0  0]\n [ 0  0  0 18  0]\n [ 0  0  0  0 17]]\n"
     ]
    }
   ],
   "source": [
    "cm_lin = confusion_matrix(y_test_cl, linear_pred)\n",
    "cm_poly = confusion_matrix(y_test_cl, poly_pred)\n",
    "cm_rbf = confusion_matrix(y_test_cl, rbf_pred)\n",
    "cm_sig = confusion_matrix(y_test_cl, sig_pred)\n",
    "print(cm_lin)\n",
    "print(cm_poly)\n",
    "print(cm_rbf)\n",
    "print(cm_sig)"
   ]
  },
  {
   "source": [
    "## What we see here\n",
    "is that the linear, polynomial and sigmoid kernels all had 100% accuracy, while the radial basis function only managed 0.15%, and also had a bad F1 score. It classified everything as the 'soundbox' label. Our theory regarding the rbf kernel is as previous stated, that the number of features are larger than the number of instances, and this causes the bad performance.\n",
    "\n",
    "Our main theory for why the other had such high scores is that our dataset is very \"clean\" and is relatively small also. As previously stated it was easy to classify the different speakers using nothing but our human perception. We think that if we had a larger and messier dataset, we would not have seen 100% accuracy as we are seeing now. "
   ],
   "cell_type": "markdown",
   "metadata": {}
  },
  {
   "source": [
    "# Deep learning\n",
    "For this next section we will use a vanilla CNN model to perform the exact same measures that we did with the support vector machines and\n",
    "compare the performances. Our theory now points in the direction of the CNN performing worse than the SVM because of the small size of the dataset, but we are not completely sure about this, seeing as the data is also easily classifiable"
   ],
   "cell_type": "markdown",
   "metadata": {}
  },
  {
   "cell_type": "code",
   "execution_count": 555,
   "metadata": {},
   "outputs": [
    {
     "output_type": "stream",
     "name": "stdout",
     "text": [
      "(75, 40)\n"
     ]
    }
   ],
   "source": [
    "print(X_test.shape)"
   ]
  },
  {
   "cell_type": "code",
   "execution_count": 556,
   "metadata": {},
   "outputs": [
    {
     "output_type": "stream",
     "name": "stdout",
     "text": [
      "(175, 40)\n(175, 40, 1)\n(175, 5)\n(175,)\n"
     ]
    }
   ],
   "source": [
    "print(X_train.shape)\n",
    "X_train_rs = X_train.reshape(np.append(X_train.shape, 1))\n",
    "X_test_rs = X_test.reshape(np.append(X_test.shape, 1))\n",
    "print(X_train_rs.shape)\n",
    "\n",
    "print(y_train.shape)\n",
    "print(y_train_cl.shape)"
   ]
  },
  {
   "source": [
    "### Creating the CNN model\n",
    "For this model we chose a rather basic plain design, nothing fancy. We also have to use 1D convolutions because of the dimensions and shape of the audio data, in contrast to 2D convolutions one probably with use when it comes to image classification"
   ],
   "cell_type": "markdown",
   "metadata": {}
  },
  {
   "cell_type": "code",
   "execution_count": 557,
   "metadata": {},
   "outputs": [],
   "source": [
    "# Creating the CNN\n",
    "model = models.Sequential([\n",
    "    layers.Conv1D(filters=20, kernel_size=(6), activation='relu', input_shape=(X_train_rs.shape[1:])),\n",
    "    layers.MaxPooling1D(2),\n",
    "\n",
    "    layers.Conv1D(filters=44, kernel_size=(6), activation='relu'),\n",
    "    layers.MaxPooling1D(2),\n",
    "\n",
    "    layers.Flatten(),\n",
    "    layers.Dense(127, activation='relu'),\n",
    "    layers.Dense(5, activation='softmax')\n",
    "])"
   ]
  },
  {
   "source": [
    "### Using the sparse_categorical_crossentropy, seeing as our Y's, target vector, is integer and not one hot encoded, although we were doing one hot encoding at first."
   ],
   "cell_type": "markdown",
   "metadata": {}
  },
  {
   "cell_type": "code",
   "execution_count": 558,
   "metadata": {},
   "outputs": [],
   "source": [
    "# Compiling the model\n",
    "model.compile(optimizer='adam',\n",
    "              loss='sparse_categorical_crossentropy',\n",
    "              metrics=['accuracy'])"
   ]
  },
  {
   "cell_type": "code",
   "execution_count": 559,
   "metadata": {},
   "outputs": [
    {
     "output_type": "stream",
     "name": "stdout",
     "text": [
      "Epoch 1/12\n",
      "6/6 [==============================] - 1s 47ms/step - loss: 1.5749 - accuracy: 0.2774 - val_loss: 1.2890 - val_accuracy: 0.8267\n",
      "Epoch 2/12\n",
      "6/6 [==============================] - 0s 12ms/step - loss: 1.1686 - accuracy: 0.9183 - val_loss: 0.9308 - val_accuracy: 0.8533\n",
      "Epoch 3/12\n",
      "6/6 [==============================] - 0s 12ms/step - loss: 0.8204 - accuracy: 0.9159 - val_loss: 0.5650 - val_accuracy: 0.9867\n",
      "Epoch 4/12\n",
      "6/6 [==============================] - 0s 13ms/step - loss: 0.4687 - accuracy: 1.0000 - val_loss: 0.3113 - val_accuracy: 0.9733\n",
      "Epoch 5/12\n",
      "6/6 [==============================] - 0s 12ms/step - loss: 0.2269 - accuracy: 1.0000 - val_loss: 0.1606 - val_accuracy: 1.0000\n",
      "Epoch 6/12\n",
      "6/6 [==============================] - 0s 13ms/step - loss: 0.1106 - accuracy: 0.9949 - val_loss: 0.0886 - val_accuracy: 1.0000\n",
      "Epoch 7/12\n",
      "6/6 [==============================] - 0s 12ms/step - loss: 0.0587 - accuracy: 1.0000 - val_loss: 0.0767 - val_accuracy: 0.9867\n",
      "Epoch 8/12\n",
      "6/6 [==============================] - 0s 13ms/step - loss: 0.0325 - accuracy: 1.0000 - val_loss: 0.0405 - val_accuracy: 1.0000\n",
      "Epoch 9/12\n",
      "6/6 [==============================] - 0s 12ms/step - loss: 0.0204 - accuracy: 1.0000 - val_loss: 0.0318 - val_accuracy: 1.0000\n",
      "Epoch 10/12\n",
      "6/6 [==============================] - 0s 12ms/step - loss: 0.0130 - accuracy: 1.0000 - val_loss: 0.0324 - val_accuracy: 0.9867\n",
      "Epoch 11/12\n",
      "6/6 [==============================] - 0s 13ms/step - loss: 0.0105 - accuracy: 1.0000 - val_loss: 0.0328 - val_accuracy: 0.9867\n",
      "Epoch 12/12\n",
      "6/6 [==============================] - 0s 12ms/step - loss: 0.0110 - accuracy: 1.0000 - val_loss: 0.0278 - val_accuracy: 0.9867\n"
     ]
    }
   ],
   "source": [
    "results = model.fit(X_train_rs, y_train_cl, validation_data=(X_test_rs, y_test_cl), epochs=12)"
   ]
  },
  {
   "source": [
    "### Visualizing the loss of the model to see if we are over- or underfitting the model."
   ],
   "cell_type": "markdown",
   "metadata": {}
  },
  {
   "cell_type": "code",
   "execution_count": 561,
   "metadata": {},
   "outputs": [
    {
     "output_type": "execute_result",
     "data": {
      "text/plain": [
       "<Figure size 432x288 with 0 Axes>"
      ]
     },
     "metadata": {},
     "execution_count": 561
    },
    {
     "output_type": "execute_result",
     "data": {
      "text/plain": [
       "[<matplotlib.lines.Line2D at 0x29784305970>]"
      ]
     },
     "metadata": {},
     "execution_count": 561
    },
    {
     "output_type": "execute_result",
     "data": {
      "text/plain": [
       "[<matplotlib.lines.Line2D at 0x29784305dc0>]"
      ]
     },
     "metadata": {},
     "execution_count": 561
    },
    {
     "output_type": "execute_result",
     "data": {
      "text/plain": [
       "Text(0.5, 1.0, 'Training and validation loss')"
      ]
     },
     "metadata": {},
     "execution_count": 561
    },
    {
     "output_type": "execute_result",
     "data": {
      "text/plain": [
       "Text(0.5, 0, 'Epochs')"
      ]
     },
     "metadata": {},
     "execution_count": 561
    },
    {
     "output_type": "execute_result",
     "data": {
      "text/plain": [
       "Text(0, 0.5, 'Loss')"
      ]
     },
     "metadata": {},
     "execution_count": 561
    },
    {
     "output_type": "execute_result",
     "data": {
      "text/plain": [
       "<matplotlib.legend.Legend at 0x29784305ee0>"
      ]
     },
     "metadata": {},
     "execution_count": 561
    },
    {
     "output_type": "display_data",
     "data": {
      "text/plain": "<Figure size 432x288 with 1 Axes>",
      "image/svg+xml": "<?xml version=\"1.0\" encoding=\"utf-8\" standalone=\"no\"?>\r\n<!DOCTYPE svg PUBLIC \"-//W3C//DTD SVG 1.1//EN\"\r\n  \"http://www.w3.org/Graphics/SVG/1.1/DTD/svg11.dtd\">\r\n<!-- Created with matplotlib (https://matplotlib.org/) -->\r\n<svg height=\"277.314375pt\" version=\"1.1\" viewBox=\"0 0 385.78125 277.314375\" width=\"385.78125pt\" xmlns=\"http://www.w3.org/2000/svg\" xmlns:xlink=\"http://www.w3.org/1999/xlink\">\r\n <metadata>\r\n  <rdf:RDF xmlns:cc=\"http://creativecommons.org/ns#\" xmlns:dc=\"http://purl.org/dc/elements/1.1/\" xmlns:rdf=\"http://www.w3.org/1999/02/22-rdf-syntax-ns#\">\r\n   <cc:Work>\r\n    <dc:type rdf:resource=\"http://purl.org/dc/dcmitype/StillImage\"/>\r\n    <dc:date>2021-06-06T21:36:25.059383</dc:date>\r\n    <dc:format>image/svg+xml</dc:format>\r\n    <dc:creator>\r\n     <cc:Agent>\r\n      <dc:title>Matplotlib v3.3.2, https://matplotlib.org/</dc:title>\r\n     </cc:Agent>\r\n    </dc:creator>\r\n   </cc:Work>\r\n  </rdf:RDF>\r\n </metadata>\r\n <defs>\r\n  <style type=\"text/css\">*{stroke-linecap:butt;stroke-linejoin:round;}</style>\r\n </defs>\r\n <g id=\"figure_1\">\r\n  <g id=\"patch_1\">\r\n   <path d=\"M 0 277.314375 \r\nL 385.78125 277.314375 \r\nL 385.78125 0 \r\nL 0 0 \r\nz\r\n\" style=\"fill:none;\"/>\r\n  </g>\r\n  <g id=\"axes_1\">\r\n   <g id=\"patch_2\">\r\n    <path d=\"M 43.78125 239.758125 \r\nL 378.58125 239.758125 \r\nL 378.58125 22.318125 \r\nL 43.78125 22.318125 \r\nz\r\n\" style=\"fill:#ffffff;\"/>\r\n   </g>\r\n   <g id=\"matplotlib.axis_1\">\r\n    <g id=\"xtick_1\">\r\n     <g id=\"line2d_1\">\r\n      <defs>\r\n       <path d=\"M 0 0 \r\nL 0 3.5 \r\n\" id=\"mc0231ae177\" style=\"stroke:#000000;stroke-width:0.8;\"/>\r\n      </defs>\r\n      <g>\r\n       <use style=\"stroke:#000000;stroke-width:0.8;\" x=\"86.668853\" xlink:href=\"#mc0231ae177\" y=\"239.758125\"/>\r\n      </g>\r\n     </g>\r\n     <g id=\"text_1\">\r\n      <!-- 2 -->\r\n      <g transform=\"translate(83.487603 254.356562)scale(0.1 -0.1)\">\r\n       <defs>\r\n        <path d=\"M 19.1875 8.296875 \r\nL 53.609375 8.296875 \r\nL 53.609375 0 \r\nL 7.328125 0 \r\nL 7.328125 8.296875 \r\nQ 12.9375 14.109375 22.625 23.890625 \r\nQ 32.328125 33.6875 34.8125 36.53125 \r\nQ 39.546875 41.84375 41.421875 45.53125 \r\nQ 43.3125 49.21875 43.3125 52.78125 \r\nQ 43.3125 58.59375 39.234375 62.25 \r\nQ 35.15625 65.921875 28.609375 65.921875 \r\nQ 23.96875 65.921875 18.8125 64.3125 \r\nQ 13.671875 62.703125 7.8125 59.421875 \r\nL 7.8125 69.390625 \r\nQ 13.765625 71.78125 18.9375 73 \r\nQ 24.125 74.21875 28.421875 74.21875 \r\nQ 39.75 74.21875 46.484375 68.546875 \r\nQ 53.21875 62.890625 53.21875 53.421875 \r\nQ 53.21875 48.921875 51.53125 44.890625 \r\nQ 49.859375 40.875 45.40625 35.40625 \r\nQ 44.1875 33.984375 37.640625 27.21875 \r\nQ 31.109375 20.453125 19.1875 8.296875 \r\nz\r\n\" id=\"DejaVuSans-50\"/>\r\n       </defs>\r\n       <use xlink:href=\"#DejaVuSans-50\"/>\r\n      </g>\r\n     </g>\r\n    </g>\r\n    <g id=\"xtick_2\">\r\n     <g id=\"line2d_2\">\r\n      <g>\r\n       <use style=\"stroke:#000000;stroke-width:0.8;\" x=\"142.007696\" xlink:href=\"#mc0231ae177\" y=\"239.758125\"/>\r\n      </g>\r\n     </g>\r\n     <g id=\"text_2\">\r\n      <!-- 4 -->\r\n      <g transform=\"translate(138.826446 254.356562)scale(0.1 -0.1)\">\r\n       <defs>\r\n        <path d=\"M 37.796875 64.3125 \r\nL 12.890625 25.390625 \r\nL 37.796875 25.390625 \r\nz\r\nM 35.203125 72.90625 \r\nL 47.609375 72.90625 \r\nL 47.609375 25.390625 \r\nL 58.015625 25.390625 \r\nL 58.015625 17.1875 \r\nL 47.609375 17.1875 \r\nL 47.609375 0 \r\nL 37.796875 0 \r\nL 37.796875 17.1875 \r\nL 4.890625 17.1875 \r\nL 4.890625 26.703125 \r\nz\r\n\" id=\"DejaVuSans-52\"/>\r\n       </defs>\r\n       <use xlink:href=\"#DejaVuSans-52\"/>\r\n      </g>\r\n     </g>\r\n    </g>\r\n    <g id=\"xtick_3\">\r\n     <g id=\"line2d_3\">\r\n      <g>\r\n       <use style=\"stroke:#000000;stroke-width:0.8;\" x=\"197.346539\" xlink:href=\"#mc0231ae177\" y=\"239.758125\"/>\r\n      </g>\r\n     </g>\r\n     <g id=\"text_3\">\r\n      <!-- 6 -->\r\n      <g transform=\"translate(194.165289 254.356562)scale(0.1 -0.1)\">\r\n       <defs>\r\n        <path d=\"M 33.015625 40.375 \r\nQ 26.375 40.375 22.484375 35.828125 \r\nQ 18.609375 31.296875 18.609375 23.390625 \r\nQ 18.609375 15.53125 22.484375 10.953125 \r\nQ 26.375 6.390625 33.015625 6.390625 \r\nQ 39.65625 6.390625 43.53125 10.953125 \r\nQ 47.40625 15.53125 47.40625 23.390625 \r\nQ 47.40625 31.296875 43.53125 35.828125 \r\nQ 39.65625 40.375 33.015625 40.375 \r\nz\r\nM 52.59375 71.296875 \r\nL 52.59375 62.3125 \r\nQ 48.875 64.0625 45.09375 64.984375 \r\nQ 41.3125 65.921875 37.59375 65.921875 \r\nQ 27.828125 65.921875 22.671875 59.328125 \r\nQ 17.53125 52.734375 16.796875 39.40625 \r\nQ 19.671875 43.65625 24.015625 45.921875 \r\nQ 28.375 48.1875 33.59375 48.1875 \r\nQ 44.578125 48.1875 50.953125 41.515625 \r\nQ 57.328125 34.859375 57.328125 23.390625 \r\nQ 57.328125 12.15625 50.6875 5.359375 \r\nQ 44.046875 -1.421875 33.015625 -1.421875 \r\nQ 20.359375 -1.421875 13.671875 8.265625 \r\nQ 6.984375 17.96875 6.984375 36.375 \r\nQ 6.984375 53.65625 15.1875 63.9375 \r\nQ 23.390625 74.21875 37.203125 74.21875 \r\nQ 40.921875 74.21875 44.703125 73.484375 \r\nQ 48.484375 72.75 52.59375 71.296875 \r\nz\r\n\" id=\"DejaVuSans-54\"/>\r\n       </defs>\r\n       <use xlink:href=\"#DejaVuSans-54\"/>\r\n      </g>\r\n     </g>\r\n    </g>\r\n    <g id=\"xtick_4\">\r\n     <g id=\"line2d_4\">\r\n      <g>\r\n       <use style=\"stroke:#000000;stroke-width:0.8;\" x=\"252.685382\" xlink:href=\"#mc0231ae177\" y=\"239.758125\"/>\r\n      </g>\r\n     </g>\r\n     <g id=\"text_4\">\r\n      <!-- 8 -->\r\n      <g transform=\"translate(249.504132 254.356562)scale(0.1 -0.1)\">\r\n       <defs>\r\n        <path d=\"M 31.78125 34.625 \r\nQ 24.75 34.625 20.71875 30.859375 \r\nQ 16.703125 27.09375 16.703125 20.515625 \r\nQ 16.703125 13.921875 20.71875 10.15625 \r\nQ 24.75 6.390625 31.78125 6.390625 \r\nQ 38.8125 6.390625 42.859375 10.171875 \r\nQ 46.921875 13.96875 46.921875 20.515625 \r\nQ 46.921875 27.09375 42.890625 30.859375 \r\nQ 38.875 34.625 31.78125 34.625 \r\nz\r\nM 21.921875 38.8125 \r\nQ 15.578125 40.375 12.03125 44.71875 \r\nQ 8.5 49.078125 8.5 55.328125 \r\nQ 8.5 64.0625 14.71875 69.140625 \r\nQ 20.953125 74.21875 31.78125 74.21875 \r\nQ 42.671875 74.21875 48.875 69.140625 \r\nQ 55.078125 64.0625 55.078125 55.328125 \r\nQ 55.078125 49.078125 51.53125 44.71875 \r\nQ 48 40.375 41.703125 38.8125 \r\nQ 48.828125 37.15625 52.796875 32.3125 \r\nQ 56.78125 27.484375 56.78125 20.515625 \r\nQ 56.78125 9.90625 50.3125 4.234375 \r\nQ 43.84375 -1.421875 31.78125 -1.421875 \r\nQ 19.734375 -1.421875 13.25 4.234375 \r\nQ 6.78125 9.90625 6.78125 20.515625 \r\nQ 6.78125 27.484375 10.78125 32.3125 \r\nQ 14.796875 37.15625 21.921875 38.8125 \r\nz\r\nM 18.3125 54.390625 \r\nQ 18.3125 48.734375 21.84375 45.5625 \r\nQ 25.390625 42.390625 31.78125 42.390625 \r\nQ 38.140625 42.390625 41.71875 45.5625 \r\nQ 45.3125 48.734375 45.3125 54.390625 \r\nQ 45.3125 60.0625 41.71875 63.234375 \r\nQ 38.140625 66.40625 31.78125 66.40625 \r\nQ 25.390625 66.40625 21.84375 63.234375 \r\nQ 18.3125 60.0625 18.3125 54.390625 \r\nz\r\n\" id=\"DejaVuSans-56\"/>\r\n       </defs>\r\n       <use xlink:href=\"#DejaVuSans-56\"/>\r\n      </g>\r\n     </g>\r\n    </g>\r\n    <g id=\"xtick_5\">\r\n     <g id=\"line2d_5\">\r\n      <g>\r\n       <use style=\"stroke:#000000;stroke-width:0.8;\" x=\"308.024225\" xlink:href=\"#mc0231ae177\" y=\"239.758125\"/>\r\n      </g>\r\n     </g>\r\n     <g id=\"text_5\">\r\n      <!-- 10 -->\r\n      <g transform=\"translate(301.661725 254.356562)scale(0.1 -0.1)\">\r\n       <defs>\r\n        <path d=\"M 12.40625 8.296875 \r\nL 28.515625 8.296875 \r\nL 28.515625 63.921875 \r\nL 10.984375 60.40625 \r\nL 10.984375 69.390625 \r\nL 28.421875 72.90625 \r\nL 38.28125 72.90625 \r\nL 38.28125 8.296875 \r\nL 54.390625 8.296875 \r\nL 54.390625 0 \r\nL 12.40625 0 \r\nz\r\n\" id=\"DejaVuSans-49\"/>\r\n        <path d=\"M 31.78125 66.40625 \r\nQ 24.171875 66.40625 20.328125 58.90625 \r\nQ 16.5 51.421875 16.5 36.375 \r\nQ 16.5 21.390625 20.328125 13.890625 \r\nQ 24.171875 6.390625 31.78125 6.390625 \r\nQ 39.453125 6.390625 43.28125 13.890625 \r\nQ 47.125 21.390625 47.125 36.375 \r\nQ 47.125 51.421875 43.28125 58.90625 \r\nQ 39.453125 66.40625 31.78125 66.40625 \r\nz\r\nM 31.78125 74.21875 \r\nQ 44.046875 74.21875 50.515625 64.515625 \r\nQ 56.984375 54.828125 56.984375 36.375 \r\nQ 56.984375 17.96875 50.515625 8.265625 \r\nQ 44.046875 -1.421875 31.78125 -1.421875 \r\nQ 19.53125 -1.421875 13.0625 8.265625 \r\nQ 6.59375 17.96875 6.59375 36.375 \r\nQ 6.59375 54.828125 13.0625 64.515625 \r\nQ 19.53125 74.21875 31.78125 74.21875 \r\nz\r\n\" id=\"DejaVuSans-48\"/>\r\n       </defs>\r\n       <use xlink:href=\"#DejaVuSans-49\"/>\r\n       <use x=\"63.623047\" xlink:href=\"#DejaVuSans-48\"/>\r\n      </g>\r\n     </g>\r\n    </g>\r\n    <g id=\"xtick_6\">\r\n     <g id=\"line2d_6\">\r\n      <g>\r\n       <use style=\"stroke:#000000;stroke-width:0.8;\" x=\"363.363068\" xlink:href=\"#mc0231ae177\" y=\"239.758125\"/>\r\n      </g>\r\n     </g>\r\n     <g id=\"text_6\">\r\n      <!-- 12 -->\r\n      <g transform=\"translate(357.000568 254.356562)scale(0.1 -0.1)\">\r\n       <use xlink:href=\"#DejaVuSans-49\"/>\r\n       <use x=\"63.623047\" xlink:href=\"#DejaVuSans-50\"/>\r\n      </g>\r\n     </g>\r\n    </g>\r\n    <g id=\"text_7\">\r\n     <!-- Epochs -->\r\n     <g transform=\"translate(193.265625 268.034687)scale(0.1 -0.1)\">\r\n      <defs>\r\n       <path d=\"M 9.8125 72.90625 \r\nL 55.90625 72.90625 \r\nL 55.90625 64.59375 \r\nL 19.671875 64.59375 \r\nL 19.671875 43.015625 \r\nL 54.390625 43.015625 \r\nL 54.390625 34.71875 \r\nL 19.671875 34.71875 \r\nL 19.671875 8.296875 \r\nL 56.78125 8.296875 \r\nL 56.78125 0 \r\nL 9.8125 0 \r\nz\r\n\" id=\"DejaVuSans-69\"/>\r\n       <path d=\"M 18.109375 8.203125 \r\nL 18.109375 -20.796875 \r\nL 9.078125 -20.796875 \r\nL 9.078125 54.6875 \r\nL 18.109375 54.6875 \r\nL 18.109375 46.390625 \r\nQ 20.953125 51.265625 25.265625 53.625 \r\nQ 29.59375 56 35.59375 56 \r\nQ 45.5625 56 51.78125 48.09375 \r\nQ 58.015625 40.1875 58.015625 27.296875 \r\nQ 58.015625 14.40625 51.78125 6.484375 \r\nQ 45.5625 -1.421875 35.59375 -1.421875 \r\nQ 29.59375 -1.421875 25.265625 0.953125 \r\nQ 20.953125 3.328125 18.109375 8.203125 \r\nz\r\nM 48.6875 27.296875 \r\nQ 48.6875 37.203125 44.609375 42.84375 \r\nQ 40.53125 48.484375 33.40625 48.484375 \r\nQ 26.265625 48.484375 22.1875 42.84375 \r\nQ 18.109375 37.203125 18.109375 27.296875 \r\nQ 18.109375 17.390625 22.1875 11.75 \r\nQ 26.265625 6.109375 33.40625 6.109375 \r\nQ 40.53125 6.109375 44.609375 11.75 \r\nQ 48.6875 17.390625 48.6875 27.296875 \r\nz\r\n\" id=\"DejaVuSans-112\"/>\r\n       <path d=\"M 30.609375 48.390625 \r\nQ 23.390625 48.390625 19.1875 42.75 \r\nQ 14.984375 37.109375 14.984375 27.296875 \r\nQ 14.984375 17.484375 19.15625 11.84375 \r\nQ 23.34375 6.203125 30.609375 6.203125 \r\nQ 37.796875 6.203125 41.984375 11.859375 \r\nQ 46.1875 17.53125 46.1875 27.296875 \r\nQ 46.1875 37.015625 41.984375 42.703125 \r\nQ 37.796875 48.390625 30.609375 48.390625 \r\nz\r\nM 30.609375 56 \r\nQ 42.328125 56 49.015625 48.375 \r\nQ 55.71875 40.765625 55.71875 27.296875 \r\nQ 55.71875 13.875 49.015625 6.21875 \r\nQ 42.328125 -1.421875 30.609375 -1.421875 \r\nQ 18.84375 -1.421875 12.171875 6.21875 \r\nQ 5.515625 13.875 5.515625 27.296875 \r\nQ 5.515625 40.765625 12.171875 48.375 \r\nQ 18.84375 56 30.609375 56 \r\nz\r\n\" id=\"DejaVuSans-111\"/>\r\n       <path d=\"M 48.78125 52.59375 \r\nL 48.78125 44.1875 \r\nQ 44.96875 46.296875 41.140625 47.34375 \r\nQ 37.3125 48.390625 33.40625 48.390625 \r\nQ 24.65625 48.390625 19.8125 42.84375 \r\nQ 14.984375 37.3125 14.984375 27.296875 \r\nQ 14.984375 17.28125 19.8125 11.734375 \r\nQ 24.65625 6.203125 33.40625 6.203125 \r\nQ 37.3125 6.203125 41.140625 7.25 \r\nQ 44.96875 8.296875 48.78125 10.40625 \r\nL 48.78125 2.09375 \r\nQ 45.015625 0.34375 40.984375 -0.53125 \r\nQ 36.96875 -1.421875 32.421875 -1.421875 \r\nQ 20.0625 -1.421875 12.78125 6.34375 \r\nQ 5.515625 14.109375 5.515625 27.296875 \r\nQ 5.515625 40.671875 12.859375 48.328125 \r\nQ 20.21875 56 33.015625 56 \r\nQ 37.15625 56 41.109375 55.140625 \r\nQ 45.0625 54.296875 48.78125 52.59375 \r\nz\r\n\" id=\"DejaVuSans-99\"/>\r\n       <path d=\"M 54.890625 33.015625 \r\nL 54.890625 0 \r\nL 45.90625 0 \r\nL 45.90625 32.71875 \r\nQ 45.90625 40.484375 42.875 44.328125 \r\nQ 39.84375 48.1875 33.796875 48.1875 \r\nQ 26.515625 48.1875 22.3125 43.546875 \r\nQ 18.109375 38.921875 18.109375 30.90625 \r\nL 18.109375 0 \r\nL 9.078125 0 \r\nL 9.078125 75.984375 \r\nL 18.109375 75.984375 \r\nL 18.109375 46.1875 \r\nQ 21.34375 51.125 25.703125 53.5625 \r\nQ 30.078125 56 35.796875 56 \r\nQ 45.21875 56 50.046875 50.171875 \r\nQ 54.890625 44.34375 54.890625 33.015625 \r\nz\r\n\" id=\"DejaVuSans-104\"/>\r\n       <path d=\"M 44.28125 53.078125 \r\nL 44.28125 44.578125 \r\nQ 40.484375 46.53125 36.375 47.5 \r\nQ 32.28125 48.484375 27.875 48.484375 \r\nQ 21.1875 48.484375 17.84375 46.4375 \r\nQ 14.5 44.390625 14.5 40.28125 \r\nQ 14.5 37.15625 16.890625 35.375 \r\nQ 19.28125 33.59375 26.515625 31.984375 \r\nL 29.59375 31.296875 \r\nQ 39.15625 29.25 43.1875 25.515625 \r\nQ 47.21875 21.78125 47.21875 15.09375 \r\nQ 47.21875 7.46875 41.1875 3.015625 \r\nQ 35.15625 -1.421875 24.609375 -1.421875 \r\nQ 20.21875 -1.421875 15.453125 -0.5625 \r\nQ 10.6875 0.296875 5.421875 2 \r\nL 5.421875 11.28125 \r\nQ 10.40625 8.6875 15.234375 7.390625 \r\nQ 20.0625 6.109375 24.8125 6.109375 \r\nQ 31.15625 6.109375 34.5625 8.28125 \r\nQ 37.984375 10.453125 37.984375 14.40625 \r\nQ 37.984375 18.0625 35.515625 20.015625 \r\nQ 33.0625 21.96875 24.703125 23.78125 \r\nL 21.578125 24.515625 \r\nQ 13.234375 26.265625 9.515625 29.90625 \r\nQ 5.8125 33.546875 5.8125 39.890625 \r\nQ 5.8125 47.609375 11.28125 51.796875 \r\nQ 16.75 56 26.8125 56 \r\nQ 31.78125 56 36.171875 55.265625 \r\nQ 40.578125 54.546875 44.28125 53.078125 \r\nz\r\n\" id=\"DejaVuSans-115\"/>\r\n      </defs>\r\n      <use xlink:href=\"#DejaVuSans-69\"/>\r\n      <use x=\"63.183594\" xlink:href=\"#DejaVuSans-112\"/>\r\n      <use x=\"126.660156\" xlink:href=\"#DejaVuSans-111\"/>\r\n      <use x=\"187.841797\" xlink:href=\"#DejaVuSans-99\"/>\r\n      <use x=\"242.822266\" xlink:href=\"#DejaVuSans-104\"/>\r\n      <use x=\"306.201172\" xlink:href=\"#DejaVuSans-115\"/>\r\n     </g>\r\n    </g>\r\n   </g>\r\n   <g id=\"matplotlib.axis_2\">\r\n    <g id=\"ytick_1\">\r\n     <g id=\"line2d_7\">\r\n      <defs>\r\n       <path d=\"M 0 0 \r\nL -3.5 0 \r\n\" id=\"m06537fb472\" style=\"stroke:#000000;stroke-width:0.8;\"/>\r\n      </defs>\r\n      <g>\r\n       <use style=\"stroke:#000000;stroke-width:0.8;\" x=\"43.78125\" xlink:href=\"#m06537fb472\" y=\"231.09296\"/>\r\n      </g>\r\n     </g>\r\n     <g id=\"text_8\">\r\n      <!-- 0.0 -->\r\n      <g transform=\"translate(20.878125 234.892179)scale(0.1 -0.1)\">\r\n       <defs>\r\n        <path d=\"M 10.6875 12.40625 \r\nL 21 12.40625 \r\nL 21 0 \r\nL 10.6875 0 \r\nz\r\n\" id=\"DejaVuSans-46\"/>\r\n       </defs>\r\n       <use xlink:href=\"#DejaVuSans-48\"/>\r\n       <use x=\"63.623047\" xlink:href=\"#DejaVuSans-46\"/>\r\n       <use x=\"95.410156\" xlink:href=\"#DejaVuSans-48\"/>\r\n      </g>\r\n     </g>\r\n    </g>\r\n    <g id=\"ytick_2\">\r\n     <g id=\"line2d_8\">\r\n      <g>\r\n       <use style=\"stroke:#000000;stroke-width:0.8;\" x=\"43.78125\" xlink:href=\"#m06537fb472\" y=\"204.981987\"/>\r\n      </g>\r\n     </g>\r\n     <g id=\"text_9\">\r\n      <!-- 0.2 -->\r\n      <g transform=\"translate(20.878125 208.781206)scale(0.1 -0.1)\">\r\n       <use xlink:href=\"#DejaVuSans-48\"/>\r\n       <use x=\"63.623047\" xlink:href=\"#DejaVuSans-46\"/>\r\n       <use x=\"95.410156\" xlink:href=\"#DejaVuSans-50\"/>\r\n      </g>\r\n     </g>\r\n    </g>\r\n    <g id=\"ytick_3\">\r\n     <g id=\"line2d_9\">\r\n      <g>\r\n       <use style=\"stroke:#000000;stroke-width:0.8;\" x=\"43.78125\" xlink:href=\"#m06537fb472\" y=\"178.871014\"/>\r\n      </g>\r\n     </g>\r\n     <g id=\"text_10\">\r\n      <!-- 0.4 -->\r\n      <g transform=\"translate(20.878125 182.670233)scale(0.1 -0.1)\">\r\n       <use xlink:href=\"#DejaVuSans-48\"/>\r\n       <use x=\"63.623047\" xlink:href=\"#DejaVuSans-46\"/>\r\n       <use x=\"95.410156\" xlink:href=\"#DejaVuSans-52\"/>\r\n      </g>\r\n     </g>\r\n    </g>\r\n    <g id=\"ytick_4\">\r\n     <g id=\"line2d_10\">\r\n      <g>\r\n       <use style=\"stroke:#000000;stroke-width:0.8;\" x=\"43.78125\" xlink:href=\"#m06537fb472\" y=\"152.76004\"/>\r\n      </g>\r\n     </g>\r\n     <g id=\"text_11\">\r\n      <!-- 0.6 -->\r\n      <g transform=\"translate(20.878125 156.559259)scale(0.1 -0.1)\">\r\n       <use xlink:href=\"#DejaVuSans-48\"/>\r\n       <use x=\"63.623047\" xlink:href=\"#DejaVuSans-46\"/>\r\n       <use x=\"95.410156\" xlink:href=\"#DejaVuSans-54\"/>\r\n      </g>\r\n     </g>\r\n    </g>\r\n    <g id=\"ytick_5\">\r\n     <g id=\"line2d_11\">\r\n      <g>\r\n       <use style=\"stroke:#000000;stroke-width:0.8;\" x=\"43.78125\" xlink:href=\"#m06537fb472\" y=\"126.649067\"/>\r\n      </g>\r\n     </g>\r\n     <g id=\"text_12\">\r\n      <!-- 0.8 -->\r\n      <g transform=\"translate(20.878125 130.448286)scale(0.1 -0.1)\">\r\n       <use xlink:href=\"#DejaVuSans-48\"/>\r\n       <use x=\"63.623047\" xlink:href=\"#DejaVuSans-46\"/>\r\n       <use x=\"95.410156\" xlink:href=\"#DejaVuSans-56\"/>\r\n      </g>\r\n     </g>\r\n    </g>\r\n    <g id=\"ytick_6\">\r\n     <g id=\"line2d_12\">\r\n      <g>\r\n       <use style=\"stroke:#000000;stroke-width:0.8;\" x=\"43.78125\" xlink:href=\"#m06537fb472\" y=\"100.538094\"/>\r\n      </g>\r\n     </g>\r\n     <g id=\"text_13\">\r\n      <!-- 1.0 -->\r\n      <g transform=\"translate(20.878125 104.337313)scale(0.1 -0.1)\">\r\n       <use xlink:href=\"#DejaVuSans-49\"/>\r\n       <use x=\"63.623047\" xlink:href=\"#DejaVuSans-46\"/>\r\n       <use x=\"95.410156\" xlink:href=\"#DejaVuSans-48\"/>\r\n      </g>\r\n     </g>\r\n    </g>\r\n    <g id=\"ytick_7\">\r\n     <g id=\"line2d_13\">\r\n      <g>\r\n       <use style=\"stroke:#000000;stroke-width:0.8;\" x=\"43.78125\" xlink:href=\"#m06537fb472\" y=\"74.427121\"/>\r\n      </g>\r\n     </g>\r\n     <g id=\"text_14\">\r\n      <!-- 1.2 -->\r\n      <g transform=\"translate(20.878125 78.226339)scale(0.1 -0.1)\">\r\n       <use xlink:href=\"#DejaVuSans-49\"/>\r\n       <use x=\"63.623047\" xlink:href=\"#DejaVuSans-46\"/>\r\n       <use x=\"95.410156\" xlink:href=\"#DejaVuSans-50\"/>\r\n      </g>\r\n     </g>\r\n    </g>\r\n    <g id=\"ytick_8\">\r\n     <g id=\"line2d_14\">\r\n      <g>\r\n       <use style=\"stroke:#000000;stroke-width:0.8;\" x=\"43.78125\" xlink:href=\"#m06537fb472\" y=\"48.316147\"/>\r\n      </g>\r\n     </g>\r\n     <g id=\"text_15\">\r\n      <!-- 1.4 -->\r\n      <g transform=\"translate(20.878125 52.115366)scale(0.1 -0.1)\">\r\n       <use xlink:href=\"#DejaVuSans-49\"/>\r\n       <use x=\"63.623047\" xlink:href=\"#DejaVuSans-46\"/>\r\n       <use x=\"95.410156\" xlink:href=\"#DejaVuSans-52\"/>\r\n      </g>\r\n     </g>\r\n    </g>\r\n    <g id=\"text_16\">\r\n     <!-- Loss -->\r\n     <g transform=\"translate(14.798438 142.005312)rotate(-90)scale(0.1 -0.1)\">\r\n      <defs>\r\n       <path d=\"M 9.8125 72.90625 \r\nL 19.671875 72.90625 \r\nL 19.671875 8.296875 \r\nL 55.171875 8.296875 \r\nL 55.171875 0 \r\nL 9.8125 0 \r\nz\r\n\" id=\"DejaVuSans-76\"/>\r\n      </defs>\r\n      <use xlink:href=\"#DejaVuSans-76\"/>\r\n      <use x=\"53.962891\" xlink:href=\"#DejaVuSans-111\"/>\r\n      <use x=\"115.144531\" xlink:href=\"#DejaVuSans-115\"/>\r\n      <use x=\"167.244141\" xlink:href=\"#DejaVuSans-115\"/>\r\n     </g>\r\n    </g>\r\n   </g>\r\n   <g id=\"line2d_15\">\r\n    <defs>\r\n     <path d=\"M 0 3 \r\nC 0.795609 3 1.55874 2.683901 2.12132 2.12132 \r\nC 2.683901 1.55874 3 0.795609 3 0 \r\nC 3 -0.795609 2.683901 -1.55874 2.12132 -2.12132 \r\nC 1.55874 -2.683901 0.795609 -3 0 -3 \r\nC -0.795609 -3 -1.55874 -2.683901 -2.12132 -2.12132 \r\nC -2.683901 -1.55874 -3 -0.795609 -3 0 \r\nC -3 0.795609 -2.683901 1.55874 -2.12132 2.12132 \r\nC -1.55874 2.683901 -0.795609 3 0 3 \r\nz\r\n\" id=\"m3a66029ae7\" style=\"stroke:#0000ff;\"/>\r\n    </defs>\r\n    <g clip-path=\"url(#pe40a2a1f56)\">\r\n     <use style=\"fill:#0000ff;stroke:#0000ff;\" x=\"58.999432\" xlink:href=\"#m3a66029ae7\" y=\"32.201761\"/>\r\n     <use style=\"fill:#0000ff;stroke:#0000ff;\" x=\"86.668853\" xlink:href=\"#m3a66029ae7\" y=\"81.987511\"/>\r\n     <use style=\"fill:#0000ff;stroke:#0000ff;\" x=\"114.338275\" xlink:href=\"#m3a66029ae7\" y=\"132.831779\"/>\r\n     <use style=\"fill:#0000ff;stroke:#0000ff;\" x=\"142.007696\" xlink:href=\"#m3a66029ae7\" y=\"176.349913\"/>\r\n     <use style=\"fill:#0000ff;stroke:#0000ff;\" x=\"169.677118\" xlink:href=\"#m3a66029ae7\" y=\"204.511435\"/>\r\n     <use style=\"fill:#0000ff;stroke:#0000ff;\" x=\"197.346539\" xlink:href=\"#m3a66029ae7\" y=\"217.25107\"/>\r\n     <use style=\"fill:#0000ff;stroke:#0000ff;\" x=\"225.015961\" xlink:href=\"#m3a66029ae7\" y=\"223.962507\"/>\r\n     <use style=\"fill:#0000ff;stroke:#0000ff;\" x=\"252.685382\" xlink:href=\"#m3a66029ae7\" y=\"227.178367\"/>\r\n     <use style=\"fill:#0000ff;stroke:#0000ff;\" x=\"280.354804\" xlink:href=\"#m3a66029ae7\" y=\"228.232271\"/>\r\n     <use style=\"fill:#0000ff;stroke:#0000ff;\" x=\"308.024225\" xlink:href=\"#m3a66029ae7\" y=\"229.297613\"/>\r\n     <use style=\"fill:#0000ff;stroke:#0000ff;\" x=\"335.693647\" xlink:href=\"#m3a66029ae7\" y=\"229.662817\"/>\r\n     <use style=\"fill:#0000ff;stroke:#0000ff;\" x=\"363.363068\" xlink:href=\"#m3a66029ae7\" y=\"229.874489\"/>\r\n    </g>\r\n   </g>\r\n   <g id=\"line2d_16\">\r\n    <path clip-path=\"url(#pe40a2a1f56)\" d=\"M 58.999432 62.804558 \r\nL 86.668853 109.570052 \r\nL 114.338275 157.327881 \r\nL 142.007696 190.453147 \r\nL 169.677118 210.130499 \r\nL 197.346539 219.5297 \r\nL 225.015961 221.081765 \r\nL 252.685382 225.805543 \r\nL 280.354804 226.939285 \r\nL 308.024225 226.863904 \r\nL 335.693647 226.814881 \r\nL 363.363068 227.466668 \r\n\" style=\"fill:none;stroke:#0000ff;stroke-linecap:square;stroke-width:1.5;\"/>\r\n   </g>\r\n   <g id=\"patch_3\">\r\n    <path d=\"M 43.78125 239.758125 \r\nL 43.78125 22.318125 \r\n\" style=\"fill:none;stroke:#000000;stroke-linecap:square;stroke-linejoin:miter;stroke-width:0.8;\"/>\r\n   </g>\r\n   <g id=\"patch_4\">\r\n    <path d=\"M 378.58125 239.758125 \r\nL 378.58125 22.318125 \r\n\" style=\"fill:none;stroke:#000000;stroke-linecap:square;stroke-linejoin:miter;stroke-width:0.8;\"/>\r\n   </g>\r\n   <g id=\"patch_5\">\r\n    <path d=\"M 43.78125 239.758125 \r\nL 378.58125 239.758125 \r\n\" style=\"fill:none;stroke:#000000;stroke-linecap:square;stroke-linejoin:miter;stroke-width:0.8;\"/>\r\n   </g>\r\n   <g id=\"patch_6\">\r\n    <path d=\"M 43.78125 22.318125 \r\nL 378.58125 22.318125 \r\n\" style=\"fill:none;stroke:#000000;stroke-linecap:square;stroke-linejoin:miter;stroke-width:0.8;\"/>\r\n   </g>\r\n   <g id=\"text_17\">\r\n    <!-- Training and validation loss -->\r\n    <g transform=\"translate(129.37125 16.318125)scale(0.12 -0.12)\">\r\n     <defs>\r\n      <path d=\"M -0.296875 72.90625 \r\nL 61.375 72.90625 \r\nL 61.375 64.59375 \r\nL 35.5 64.59375 \r\nL 35.5 0 \r\nL 25.59375 0 \r\nL 25.59375 64.59375 \r\nL -0.296875 64.59375 \r\nz\r\n\" id=\"DejaVuSans-84\"/>\r\n      <path d=\"M 41.109375 46.296875 \r\nQ 39.59375 47.171875 37.8125 47.578125 \r\nQ 36.03125 48 33.890625 48 \r\nQ 26.265625 48 22.1875 43.046875 \r\nQ 18.109375 38.09375 18.109375 28.8125 \r\nL 18.109375 0 \r\nL 9.078125 0 \r\nL 9.078125 54.6875 \r\nL 18.109375 54.6875 \r\nL 18.109375 46.1875 \r\nQ 20.953125 51.171875 25.484375 53.578125 \r\nQ 30.03125 56 36.53125 56 \r\nQ 37.453125 56 38.578125 55.875 \r\nQ 39.703125 55.765625 41.0625 55.515625 \r\nz\r\n\" id=\"DejaVuSans-114\"/>\r\n      <path d=\"M 34.28125 27.484375 \r\nQ 23.390625 27.484375 19.1875 25 \r\nQ 14.984375 22.515625 14.984375 16.5 \r\nQ 14.984375 11.71875 18.140625 8.90625 \r\nQ 21.296875 6.109375 26.703125 6.109375 \r\nQ 34.1875 6.109375 38.703125 11.40625 \r\nQ 43.21875 16.703125 43.21875 25.484375 \r\nL 43.21875 27.484375 \r\nz\r\nM 52.203125 31.203125 \r\nL 52.203125 0 \r\nL 43.21875 0 \r\nL 43.21875 8.296875 \r\nQ 40.140625 3.328125 35.546875 0.953125 \r\nQ 30.953125 -1.421875 24.3125 -1.421875 \r\nQ 15.921875 -1.421875 10.953125 3.296875 \r\nQ 6 8.015625 6 15.921875 \r\nQ 6 25.140625 12.171875 29.828125 \r\nQ 18.359375 34.515625 30.609375 34.515625 \r\nL 43.21875 34.515625 \r\nL 43.21875 35.40625 \r\nQ 43.21875 41.609375 39.140625 45 \r\nQ 35.0625 48.390625 27.6875 48.390625 \r\nQ 23 48.390625 18.546875 47.265625 \r\nQ 14.109375 46.140625 10.015625 43.890625 \r\nL 10.015625 52.203125 \r\nQ 14.9375 54.109375 19.578125 55.046875 \r\nQ 24.21875 56 28.609375 56 \r\nQ 40.484375 56 46.34375 49.84375 \r\nQ 52.203125 43.703125 52.203125 31.203125 \r\nz\r\n\" id=\"DejaVuSans-97\"/>\r\n      <path d=\"M 9.421875 54.6875 \r\nL 18.40625 54.6875 \r\nL 18.40625 0 \r\nL 9.421875 0 \r\nz\r\nM 9.421875 75.984375 \r\nL 18.40625 75.984375 \r\nL 18.40625 64.59375 \r\nL 9.421875 64.59375 \r\nz\r\n\" id=\"DejaVuSans-105\"/>\r\n      <path d=\"M 54.890625 33.015625 \r\nL 54.890625 0 \r\nL 45.90625 0 \r\nL 45.90625 32.71875 \r\nQ 45.90625 40.484375 42.875 44.328125 \r\nQ 39.84375 48.1875 33.796875 48.1875 \r\nQ 26.515625 48.1875 22.3125 43.546875 \r\nQ 18.109375 38.921875 18.109375 30.90625 \r\nL 18.109375 0 \r\nL 9.078125 0 \r\nL 9.078125 54.6875 \r\nL 18.109375 54.6875 \r\nL 18.109375 46.1875 \r\nQ 21.34375 51.125 25.703125 53.5625 \r\nQ 30.078125 56 35.796875 56 \r\nQ 45.21875 56 50.046875 50.171875 \r\nQ 54.890625 44.34375 54.890625 33.015625 \r\nz\r\n\" id=\"DejaVuSans-110\"/>\r\n      <path d=\"M 45.40625 27.984375 \r\nQ 45.40625 37.75 41.375 43.109375 \r\nQ 37.359375 48.484375 30.078125 48.484375 \r\nQ 22.859375 48.484375 18.828125 43.109375 \r\nQ 14.796875 37.75 14.796875 27.984375 \r\nQ 14.796875 18.265625 18.828125 12.890625 \r\nQ 22.859375 7.515625 30.078125 7.515625 \r\nQ 37.359375 7.515625 41.375 12.890625 \r\nQ 45.40625 18.265625 45.40625 27.984375 \r\nz\r\nM 54.390625 6.78125 \r\nQ 54.390625 -7.171875 48.1875 -13.984375 \r\nQ 42 -20.796875 29.203125 -20.796875 \r\nQ 24.46875 -20.796875 20.265625 -20.09375 \r\nQ 16.0625 -19.390625 12.109375 -17.921875 \r\nL 12.109375 -9.1875 \r\nQ 16.0625 -11.328125 19.921875 -12.34375 \r\nQ 23.78125 -13.375 27.78125 -13.375 \r\nQ 36.625 -13.375 41.015625 -8.765625 \r\nQ 45.40625 -4.15625 45.40625 5.171875 \r\nL 45.40625 9.625 \r\nQ 42.625 4.78125 38.28125 2.390625 \r\nQ 33.9375 0 27.875 0 \r\nQ 17.828125 0 11.671875 7.65625 \r\nQ 5.515625 15.328125 5.515625 27.984375 \r\nQ 5.515625 40.671875 11.671875 48.328125 \r\nQ 17.828125 56 27.875 56 \r\nQ 33.9375 56 38.28125 53.609375 \r\nQ 42.625 51.21875 45.40625 46.390625 \r\nL 45.40625 54.6875 \r\nL 54.390625 54.6875 \r\nz\r\n\" id=\"DejaVuSans-103\"/>\r\n      <path id=\"DejaVuSans-32\"/>\r\n      <path d=\"M 45.40625 46.390625 \r\nL 45.40625 75.984375 \r\nL 54.390625 75.984375 \r\nL 54.390625 0 \r\nL 45.40625 0 \r\nL 45.40625 8.203125 \r\nQ 42.578125 3.328125 38.25 0.953125 \r\nQ 33.9375 -1.421875 27.875 -1.421875 \r\nQ 17.96875 -1.421875 11.734375 6.484375 \r\nQ 5.515625 14.40625 5.515625 27.296875 \r\nQ 5.515625 40.1875 11.734375 48.09375 \r\nQ 17.96875 56 27.875 56 \r\nQ 33.9375 56 38.25 53.625 \r\nQ 42.578125 51.265625 45.40625 46.390625 \r\nz\r\nM 14.796875 27.296875 \r\nQ 14.796875 17.390625 18.875 11.75 \r\nQ 22.953125 6.109375 30.078125 6.109375 \r\nQ 37.203125 6.109375 41.296875 11.75 \r\nQ 45.40625 17.390625 45.40625 27.296875 \r\nQ 45.40625 37.203125 41.296875 42.84375 \r\nQ 37.203125 48.484375 30.078125 48.484375 \r\nQ 22.953125 48.484375 18.875 42.84375 \r\nQ 14.796875 37.203125 14.796875 27.296875 \r\nz\r\n\" id=\"DejaVuSans-100\"/>\r\n      <path d=\"M 2.984375 54.6875 \r\nL 12.5 54.6875 \r\nL 29.59375 8.796875 \r\nL 46.6875 54.6875 \r\nL 56.203125 54.6875 \r\nL 35.6875 0 \r\nL 23.484375 0 \r\nz\r\n\" id=\"DejaVuSans-118\"/>\r\n      <path d=\"M 9.421875 75.984375 \r\nL 18.40625 75.984375 \r\nL 18.40625 0 \r\nL 9.421875 0 \r\nz\r\n\" id=\"DejaVuSans-108\"/>\r\n      <path d=\"M 18.3125 70.21875 \r\nL 18.3125 54.6875 \r\nL 36.8125 54.6875 \r\nL 36.8125 47.703125 \r\nL 18.3125 47.703125 \r\nL 18.3125 18.015625 \r\nQ 18.3125 11.328125 20.140625 9.421875 \r\nQ 21.96875 7.515625 27.59375 7.515625 \r\nL 36.8125 7.515625 \r\nL 36.8125 0 \r\nL 27.59375 0 \r\nQ 17.1875 0 13.234375 3.875 \r\nQ 9.28125 7.765625 9.28125 18.015625 \r\nL 9.28125 47.703125 \r\nL 2.6875 47.703125 \r\nL 2.6875 54.6875 \r\nL 9.28125 54.6875 \r\nL 9.28125 70.21875 \r\nz\r\n\" id=\"DejaVuSans-116\"/>\r\n     </defs>\r\n     <use xlink:href=\"#DejaVuSans-84\"/>\r\n     <use x=\"46.333984\" xlink:href=\"#DejaVuSans-114\"/>\r\n     <use x=\"87.447266\" xlink:href=\"#DejaVuSans-97\"/>\r\n     <use x=\"148.726562\" xlink:href=\"#DejaVuSans-105\"/>\r\n     <use x=\"176.509766\" xlink:href=\"#DejaVuSans-110\"/>\r\n     <use x=\"239.888672\" xlink:href=\"#DejaVuSans-105\"/>\r\n     <use x=\"267.671875\" xlink:href=\"#DejaVuSans-110\"/>\r\n     <use x=\"331.050781\" xlink:href=\"#DejaVuSans-103\"/>\r\n     <use x=\"394.527344\" xlink:href=\"#DejaVuSans-32\"/>\r\n     <use x=\"426.314453\" xlink:href=\"#DejaVuSans-97\"/>\r\n     <use x=\"487.59375\" xlink:href=\"#DejaVuSans-110\"/>\r\n     <use x=\"550.972656\" xlink:href=\"#DejaVuSans-100\"/>\r\n     <use x=\"614.449219\" xlink:href=\"#DejaVuSans-32\"/>\r\n     <use x=\"646.236328\" xlink:href=\"#DejaVuSans-118\"/>\r\n     <use x=\"705.416016\" xlink:href=\"#DejaVuSans-97\"/>\r\n     <use x=\"766.695312\" xlink:href=\"#DejaVuSans-108\"/>\r\n     <use x=\"794.478516\" xlink:href=\"#DejaVuSans-105\"/>\r\n     <use x=\"822.261719\" xlink:href=\"#DejaVuSans-100\"/>\r\n     <use x=\"885.738281\" xlink:href=\"#DejaVuSans-97\"/>\r\n     <use x=\"947.017578\" xlink:href=\"#DejaVuSans-116\"/>\r\n     <use x=\"986.226562\" xlink:href=\"#DejaVuSans-105\"/>\r\n     <use x=\"1014.009766\" xlink:href=\"#DejaVuSans-111\"/>\r\n     <use x=\"1075.191406\" xlink:href=\"#DejaVuSans-110\"/>\r\n     <use x=\"1138.570312\" xlink:href=\"#DejaVuSans-32\"/>\r\n     <use x=\"1170.357422\" xlink:href=\"#DejaVuSans-108\"/>\r\n     <use x=\"1198.140625\" xlink:href=\"#DejaVuSans-111\"/>\r\n     <use x=\"1259.322266\" xlink:href=\"#DejaVuSans-115\"/>\r\n     <use x=\"1311.421875\" xlink:href=\"#DejaVuSans-115\"/>\r\n    </g>\r\n   </g>\r\n   <g id=\"legend_1\">\r\n    <g id=\"patch_7\">\r\n     <path d=\"M 267.70625 59.674375 \r\nL 371.58125 59.674375 \r\nQ 373.58125 59.674375 373.58125 57.674375 \r\nL 373.58125 29.318125 \r\nQ 373.58125 27.318125 371.58125 27.318125 \r\nL 267.70625 27.318125 \r\nQ 265.70625 27.318125 265.70625 29.318125 \r\nL 265.70625 57.674375 \r\nQ 265.70625 59.674375 267.70625 59.674375 \r\nz\r\n\" style=\"fill:#ffffff;opacity:0.8;stroke:#cccccc;stroke-linejoin:miter;\"/>\r\n    </g>\r\n    <g id=\"line2d_17\"/>\r\n    <g id=\"line2d_18\">\r\n     <g>\r\n      <use style=\"fill:#0000ff;stroke:#0000ff;\" x=\"279.70625\" xlink:href=\"#m3a66029ae7\" y=\"35.416562\"/>\r\n     </g>\r\n    </g>\r\n    <g id=\"text_18\">\r\n     <!-- Training loss -->\r\n     <g transform=\"translate(297.70625 38.916562)scale(0.1 -0.1)\">\r\n      <use xlink:href=\"#DejaVuSans-84\"/>\r\n      <use x=\"46.333984\" xlink:href=\"#DejaVuSans-114\"/>\r\n      <use x=\"87.447266\" xlink:href=\"#DejaVuSans-97\"/>\r\n      <use x=\"148.726562\" xlink:href=\"#DejaVuSans-105\"/>\r\n      <use x=\"176.509766\" xlink:href=\"#DejaVuSans-110\"/>\r\n      <use x=\"239.888672\" xlink:href=\"#DejaVuSans-105\"/>\r\n      <use x=\"267.671875\" xlink:href=\"#DejaVuSans-110\"/>\r\n      <use x=\"331.050781\" xlink:href=\"#DejaVuSans-103\"/>\r\n      <use x=\"394.527344\" xlink:href=\"#DejaVuSans-32\"/>\r\n      <use x=\"426.314453\" xlink:href=\"#DejaVuSans-108\"/>\r\n      <use x=\"454.097656\" xlink:href=\"#DejaVuSans-111\"/>\r\n      <use x=\"515.279297\" xlink:href=\"#DejaVuSans-115\"/>\r\n      <use x=\"567.378906\" xlink:href=\"#DejaVuSans-115\"/>\r\n     </g>\r\n    </g>\r\n    <g id=\"line2d_19\">\r\n     <path d=\"M 269.70625 50.094687 \r\nL 289.70625 50.094687 \r\n\" style=\"fill:none;stroke:#0000ff;stroke-linecap:square;stroke-width:1.5;\"/>\r\n    </g>\r\n    <g id=\"line2d_20\"/>\r\n    <g id=\"text_19\">\r\n     <!-- Validation loss -->\r\n     <g transform=\"translate(297.70625 53.594687)scale(0.1 -0.1)\">\r\n      <defs>\r\n       <path d=\"M 28.609375 0 \r\nL 0.78125 72.90625 \r\nL 11.078125 72.90625 \r\nL 34.1875 11.53125 \r\nL 57.328125 72.90625 \r\nL 67.578125 72.90625 \r\nL 39.796875 0 \r\nz\r\n\" id=\"DejaVuSans-86\"/>\r\n      </defs>\r\n      <use xlink:href=\"#DejaVuSans-86\"/>\r\n      <use x=\"60.658203\" xlink:href=\"#DejaVuSans-97\"/>\r\n      <use x=\"121.9375\" xlink:href=\"#DejaVuSans-108\"/>\r\n      <use x=\"149.720703\" xlink:href=\"#DejaVuSans-105\"/>\r\n      <use x=\"177.503906\" xlink:href=\"#DejaVuSans-100\"/>\r\n      <use x=\"240.980469\" xlink:href=\"#DejaVuSans-97\"/>\r\n      <use x=\"302.259766\" xlink:href=\"#DejaVuSans-116\"/>\r\n      <use x=\"341.46875\" xlink:href=\"#DejaVuSans-105\"/>\r\n      <use x=\"369.251953\" xlink:href=\"#DejaVuSans-111\"/>\r\n      <use x=\"430.433594\" xlink:href=\"#DejaVuSans-110\"/>\r\n      <use x=\"493.8125\" xlink:href=\"#DejaVuSans-32\"/>\r\n      <use x=\"525.599609\" xlink:href=\"#DejaVuSans-108\"/>\r\n      <use x=\"553.382812\" xlink:href=\"#DejaVuSans-111\"/>\r\n      <use x=\"614.564453\" xlink:href=\"#DejaVuSans-115\"/>\r\n      <use x=\"666.664062\" xlink:href=\"#DejaVuSans-115\"/>\r\n     </g>\r\n    </g>\r\n   </g>\r\n  </g>\r\n </g>\r\n <defs>\r\n  <clipPath id=\"pe40a2a1f56\">\r\n   <rect height=\"217.44\" width=\"334.8\" x=\"43.78125\" y=\"22.318125\"/>\r\n  </clipPath>\r\n </defs>\r\n</svg>\r\n",
      "image/png": "[encoded data removed]"
     },
     "metadata": {
      "needs_background": "light"
     }
    }
   ],
   "source": [
    "plt.figure()\n",
    "history_dict = results.history\n",
    "loss_values = history_dict['loss']\n",
    "val_loss_values = history_dict['val_loss']\n",
    "epochs = range(1, (len(history_dict['loss']) + 1))\n",
    "plt.plot(epochs, loss_values, 'bo', label='Training loss')\n",
    "plt.plot(epochs, val_loss_values, 'b', label='Validation loss')\n",
    "plt.title('Training and validation loss')\n",
    "plt.xlabel('Epochs')\n",
    "plt.ylabel('Loss')\n",
    "plt.legend()\n",
    "plt.show()"
   ]
  },
  {
   "source": [
    "### From the loss graph\n",
    "we can observe that there seems to be neither overfit nor underfit, the training and validation loss is very similar indicating a good fitting model. Again, our theory for why the results are\n",
    "so overwhelmigly good is that our dataset is very clean, and differrences are easily observable, and in our case we think this makes it \"easy\" for the algorithms to predict. "
   ],
   "cell_type": "markdown",
   "metadata": {}
  },
  {
   "cell_type": "code",
   "execution_count": 560,
   "metadata": {},
   "outputs": [
    {
     "output_type": "stream",
     "name": "stdout",
     "text": [
      "Test-Accuracy: 0.9655555635690689\n"
     ]
    }
   ],
   "source": [
    "print(\"Test-Accuracy:\", np.mean(results.history[\"val_accuracy\"]))\n",
    "losses = results.history['loss']\n",
    "val_losses = results.history['val_loss']"
   ]
  },
  {
   "cell_type": "code",
   "execution_count": 571,
   "metadata": {},
   "outputs": [
    {
     "output_type": "stream",
     "name": "stdout",
     "text": [
      "Classification report: \n               precision    recall  f1-score   support\n\n           0       1.00      0.94      0.97        17\n           1       1.00      1.00      1.00        13\n           2       1.00      1.00      1.00        10\n           3       0.95      1.00      0.97        18\n           4       1.00      1.00      1.00        17\n\n    accuracy                           0.99        75\n   macro avg       0.99      0.99      0.99        75\nweighted avg       0.99      0.99      0.99        75\n\n\n\nConfusion matrix: \n\n[[16  0  0  1  0]\n [ 0 13  0  0  0]\n [ 0  0 10  0  0]\n [ 0  0  0 18  0]\n [ 0  0  0  0 17]]\n"
     ]
    }
   ],
   "source": [
    "y_pred = model.predict(X_test_rs)\n",
    "y_pred_classes = [np.argmax(elem) for elem in y_pred]\n",
    "\n",
    "print(\"Classification report: \\n\", classification_report(y_test_cl, y_pred_classes)) #Just using the whole classification report to get the F1 score here\n",
    "\n",
    "print(\"\\n\\nConfusion matrix: \\n\")\n",
    "cm = confusion_matrix(y_test_cl, y_pred_classes)\n",
    "print(cm)"
   ]
  },
  {
   "source": [
    "### As we see from the f1-score, confusion matrix and classification report\n",
    "is that this CNN model got one prediction wrong and ended up with 99% accuracy, compared to the SVM (minus the one with rbf-kernel), which had all the predictions right. Again, this is a marginal difference, and the model might have gotten that one class right with a different design. This leads us to conclude with that as of now there is no clear winner between the two models, both models performed exceptionally well, and again this may be down to our \"easy-to-predict\" and clean datatset. Again, with more samples and more \"noise\" we might have been able to push the boundary of the models and really see the difference."
   ],
   "cell_type": "markdown",
   "metadata": {}
  },
  {
   "source": [
    "# Testing the model again, with newly recorded data\n",
    "For this next segment we will do the last point of this task, which was to record five new samples in our own voice. We have 25 samples in total to test here. Five for each speaker. We think this part may be interesting, seeing as the new recordings might have had the microphone in different places, or had the recording in a different room than the original recordings, leading to volume and perception differences in the data which were not present before. We think that this may have an impact on the performance"
   ],
   "cell_type": "markdown",
   "metadata": {}
  },
  {
   "source": [
    "### Using the same approach as last time for loading the files"
   ],
   "cell_type": "markdown",
   "metadata": {}
  },
  {
   "cell_type": "code",
   "execution_count": 573,
   "metadata": {},
   "outputs": [],
   "source": [
    "pathsAndLabels = {'original': 'test_recordings/original-test', 'desktop': 'test_recordings/speaker-1-desktop-test',\n",
    "                 'soundbox': 'test_recordings/speaker-2-soundbox-test', 'soundbar': 'test_recordings/speaker-3-LG-test', 'tv': 'test_recordings/speaker-4-Phillips-test'}"
   ]
  },
  {
   "cell_type": "code",
   "execution_count": 576,
   "metadata": {},
   "outputs": [
    {
     "output_type": "stream",
     "name": "stdout",
     "text": [
      "original test_recordings/original-test\ndesktop test_recordings/speaker-1-desktop-test\nsoundbox test_recordings/speaker-2-soundbox-test\nsoundbar test_recordings/speaker-3-LG-test\ntv test_recordings/speaker-4-Phillips-test\n                  file     label                           path\n0  Innspilling (1).m4a  original  test_recordings/original-test\n1  Innspilling (2).m4a  original  test_recordings/original-test\n2  Innspilling (3).m4a  original  test_recordings/original-test\n3  Innspilling (4).m4a  original  test_recordings/original-test\n4  Innspilling (5).m4a  original  test_recordings/original-test\n                  file    label                                    path\n0  Innspilling (1).m4a  desktop  test_recordings/speaker-1-desktop-test\n1  Innspilling (2).m4a  desktop  test_recordings/speaker-1-desktop-test\n2  Innspilling (3).m4a  desktop  test_recordings/speaker-1-desktop-test\n3  Innspilling (4).m4a  desktop  test_recordings/speaker-1-desktop-test\n4  Innspilling (5).m4a  desktop  test_recordings/speaker-1-desktop-test\n                  file     label                                     path\n0  Innspilling (1).m4a  soundbox  test_recordings/speaker-2-soundbox-test\n1  Innspilling (2).m4a  soundbox  test_recordings/speaker-2-soundbox-test\n2  Innspilling (3).m4a  soundbox  test_recordings/speaker-2-soundbox-test\n3  Innspilling (4).m4a  soundbox  test_recordings/speaker-2-soundbox-test\n4  Innspilling (5).m4a  soundbox  test_recordings/speaker-2-soundbox-test\n                  file     label                               path\n0  Innspilling (1).m4a  soundbar  test_recordings/speaker-3-LG-test\n1  Innspilling (2).m4a  soundbar  test_recordings/speaker-3-LG-test\n2  Innspilling (3).m4a  soundbar  test_recordings/speaker-3-LG-test\n3  Innspilling (4).m4a  soundbar  test_recordings/speaker-3-LG-test\n4  Innspilling (5).m4a  soundbar  test_recordings/speaker-3-LG-test\n                  file label                                     path\n0  Innspilling (1).m4a    tv  test_recordings/speaker-4-Phillips-test\n1  Innspilling (2).m4a    tv  test_recordings/speaker-4-Phillips-test\n2  Innspilling (3).m4a    tv  test_recordings/speaker-4-Phillips-test\n3  Innspilling (4).m4a    tv  test_recordings/speaker-4-Phillips-test\n4  Innspilling (5).m4a    tv  test_recordings/speaker-4-Phillips-test\n"
     ]
    }
   ],
   "source": [
    "dataFrames = []\n",
    "\n",
    "for label, path in pathsAndLabels.items(): # Loop for iterating through the paths and labels and creating the dataframes\n",
    "    dataFrames.append(create_df(path, label))\n",
    "    print(label, path)\n",
    "\n",
    "for i in range(len(dataFrames)):\n",
    "    print(dataFrames[i])"
   ]
  },
  {
   "cell_type": "code",
   "execution_count": 578,
   "metadata": {},
   "outputs": [
    {
     "output_type": "stream",
     "name": "stdout",
     "text": [
      "                   file     label                                     path\n0   Innspilling (1).m4a  original            test_recordings/original-test\n1   Innspilling (2).m4a  original            test_recordings/original-test\n2   Innspilling (3).m4a  original            test_recordings/original-test\n3   Innspilling (4).m4a  original            test_recordings/original-test\n4   Innspilling (5).m4a  original            test_recordings/original-test\n5   Innspilling (1).m4a   desktop   test_recordings/speaker-1-desktop-test\n6   Innspilling (2).m4a   desktop   test_recordings/speaker-1-desktop-test\n7   Innspilling (3).m4a   desktop   test_recordings/speaker-1-desktop-test\n8   Innspilling (4).m4a   desktop   test_recordings/speaker-1-desktop-test\n9   Innspilling (5).m4a   desktop   test_recordings/speaker-1-desktop-test\n10  Innspilling (1).m4a  soundbox  test_recordings/speaker-2-soundbox-test\n11  Innspilling (2).m4a  soundbox  test_recordings/speaker-2-soundbox-test\n12  Innspilling (3).m4a  soundbox  test_recordings/speaker-2-soundbox-test\n13  Innspilling (4).m4a  soundbox  test_recordings/speaker-2-soundbox-test\n14  Innspilling (5).m4a  soundbox  test_recordings/speaker-2-soundbox-test\n15  Innspilling (1).m4a  soundbar        test_recordings/speaker-3-LG-test\n16  Innspilling (2).m4a  soundbar        test_recordings/speaker-3-LG-test\n17  Innspilling (3).m4a  soundbar        test_recordings/speaker-3-LG-test\n18  Innspilling (4).m4a  soundbar        test_recordings/speaker-3-LG-test\n19  Innspilling (5).m4a  soundbar        test_recordings/speaker-3-LG-test\n20  Innspilling (1).m4a        tv  test_recordings/speaker-4-Phillips-test\n21  Innspilling (2).m4a        tv  test_recordings/speaker-4-Phillips-test\n22  Innspilling (3).m4a        tv  test_recordings/speaker-4-Phillips-test\n23  Innspilling (4).m4a        tv  test_recordings/speaker-4-Phillips-test\n24  Innspilling (5).m4a        tv  test_recordings/speaker-4-Phillips-test\n"
     ]
    }
   ],
   "source": [
    "# Concatenating all the dataframes into a single one\n",
    "df = pd.concat(dataFrames, ignore_index=True)\n",
    "print(df[:30])"
   ]
  },
  {
   "cell_type": "code",
   "execution_count": 580,
   "metadata": {},
   "outputs": [
    {
     "output_type": "stream",
     "name": "stdout",
     "text": [
      "fileName:  test_recordings/original-test/Innspilling (1).m4a\n",
      "C:\\ProgramData\\Anaconda3\\lib\\site-packages\\librosa\\core\\audio.py:162: UserWarning: PySoundFile failed. Trying audioread instead.\n",
      "  warnings.warn(\"PySoundFile failed. Trying audioread instead.\")\n",
      "fileName:  test_recordings/original-test/Innspilling (2).m4a\n",
      "fileName:  test_recordings/original-test/Innspilling (3).m4a\n",
      "fileName:  test_recordings/original-test/Innspilling (4).m4a\n",
      "fileName:  test_recordings/original-test/Innspilling (5).m4a\n",
      "fileName:  test_recordings/speaker-1-desktop-test/Innspilling (1).m4a\n",
      "fileName:  test_recordings/speaker-1-desktop-test/Innspilling (2).m4a\n",
      "fileName:  test_recordings/speaker-1-desktop-test/Innspilling (3).m4a\n",
      "fileName:  test_recordings/speaker-1-desktop-test/Innspilling (4).m4a\n",
      "fileName:  test_recordings/speaker-1-desktop-test/Innspilling (5).m4a\n",
      "fileName:  test_recordings/speaker-2-soundbox-test/Innspilling (1).m4a\n",
      "fileName:  test_recordings/speaker-2-soundbox-test/Innspilling (2).m4a\n",
      "fileName:  test_recordings/speaker-2-soundbox-test/Innspilling (3).m4a\n",
      "fileName:  test_recordings/speaker-2-soundbox-test/Innspilling (4).m4a\n",
      "fileName:  test_recordings/speaker-2-soundbox-test/Innspilling (5).m4a\n",
      "fileName:  test_recordings/speaker-3-LG-test/Innspilling (1).m4a\n",
      "fileName:  test_recordings/speaker-3-LG-test/Innspilling (2).m4a\n",
      "fileName:  test_recordings/speaker-3-LG-test/Innspilling (3).m4a\n",
      "fileName:  test_recordings/speaker-3-LG-test/Innspilling (4).m4a\n",
      "fileName:  test_recordings/speaker-3-LG-test/Innspilling (5).m4a\n",
      "fileName:  test_recordings/speaker-4-Phillips-test/Innspilling (1).m4a\n",
      "fileName:  test_recordings/speaker-4-Phillips-test/Innspilling (2).m4a\n",
      "fileName:  test_recordings/speaker-4-Phillips-test/Innspilling (3).m4a\n",
      "fileName:  test_recordings/speaker-4-Phillips-test/Innspilling (4).m4a\n",
      "fileName:  test_recordings/speaker-4-Phillips-test/Innspilling (5).m4a\n",
      "0     [[-456.16788, 79.60678, -22.181273, 33.36373, ...\n",
      "1     [[-488.84293, 92.75402, -20.40391, 20.899673, ...\n",
      "2     [[-464.4362, 81.47686, -27.569141, 29.11754, 6...\n",
      "3     [[-454.8328, 85.90777, -27.51293, 31.049807, 1...\n",
      "4     [[-469.14636, 83.25221, -18.760405, 21.144686,...\n",
      "5     [[-516.7265, 22.547134, -34.344925, 32.448505,...\n",
      "6     [[-536.50055, 36.72423, -35.41043, 18.303295, ...\n",
      "7     [[-520.9865, 23.665972, -38.455086, 26.620848,...\n",
      "8     [[-514.70825, 26.313473, -40.195137, 29.950342...\n",
      "9     [[-524.0304, 19.991959, -26.891682, 15.613383,...\n",
      "10    [[-509.52914, 52.077473, -62.28462, 37.187233,...\n",
      "11    [[-534.4978, 64.806595, -61.194485, 23.298119,...\n",
      "12    [[-517.5348, 57.437374, -70.080376, 33.02446, ...\n",
      "13    [[-507.9553, 58.794132, -71.733086, 36.842545,...\n",
      "14    [[-519.0984, 53.557022, -57.36398, 21.697454, ...\n",
      "15    [[-456.1379, 28.31836, -16.505358, 13.110812, ...\n",
      "16    [[-448.6612, 38.880966, -19.877745, -3.5324583...\n",
      "17    [[-443.69012, 25.46846, -24.838339, 5.7260365,...\n",
      "18    [[-434.8809, 25.761585, -24.464962, 5.4976144,...\n",
      "19    [[-431.43912, 21.220806, -12.523037, -6.365936...\n",
      "20    [[-547.13324, 50.806202, -22.913467, 6.7185426...\n",
      "21    [[-556.1709, 63.47151, -28.270948, -6.4234004,...\n",
      "22    [[-540.14905, 55.26357, -33.822357, 2.256096, ...\n",
      "23    [[-540.9885, 63.604958, -37.819645, 8.046339, ...\n",
      "24    [[-546.86426, 56.62345, -24.807287, -6.185519,...\n",
      "dtype: object\n"
     ]
    }
   ],
   "source": [
    "temp = df.apply(feature_extract, axis=1)\n",
    "print(temp[:30])"
   ]
  },
  {
   "cell_type": "code",
   "execution_count": 581,
   "metadata": {},
   "outputs": [
    {
     "output_type": "stream",
     "name": "stdout",
     "text": [
      "(25,)\n"
     ]
    }
   ],
   "source": [
    "print(temp.shape)"
   ]
  },
  {
   "cell_type": "code",
   "execution_count": 584,
   "metadata": {},
   "outputs": [
    {
     "output_type": "stream",
     "name": "stdout",
     "text": [
      "[array([-4.5616788e+02,  7.9606781e+01, -2.2181273e+01,  3.3363731e+01,\n        6.3680406e+00,  3.5536611e+00, -1.8797180e+01,  1.6858330e+00,\n       -2.0961422e+01,  1.2491478e+01, -1.3951008e+01,  1.0578222e+00,\n       -1.3296202e+01, -5.7276659e+00, -1.4251524e+01,  6.8102255e+00,\n       -6.0792494e+00, -8.2284966e+00,  2.8709564e-01, -3.0035725e-01,\n       -1.4511844e+01, -2.3394647e+00, -4.5736723e+00, -3.5187371e+00,\n       -2.4793150e+00, -4.1189704e+00, -4.3277984e+00, -2.3225880e+00,\n       -5.9695989e-01, -3.3969650e+00, -2.3564372e+00, -3.7135715e+00,\n       -1.9752213e+00, -2.5736887e+00, -5.7381487e-01, -1.3677388e+00,\n       -1.7082869e+00, -2.4790225e+00, -2.5228734e+00, -1.2861131e+00],\n      dtype=float32), 'original']\n[array([-4.8884293e+02,  9.2754021e+01, -2.0403910e+01,  2.0899673e+01,\n        1.2169987e+01,  5.6780071e+00, -1.3256531e+01,  4.0701323e+00,\n       -1.8758493e+01,  1.0196158e+01, -7.0727992e+00,  1.9707243e-01,\n       -1.4840110e+01, -4.9511065e+00, -1.5044881e+01,  6.4618751e-02,\n       -4.3226314e+00, -6.0801988e+00, -3.8654404e+00, -2.3888407e+00,\n       -7.7977843e+00, -4.0875368e+00, -2.5946569e+00, -2.2207665e+00,\n       -7.1182972e-01, -2.0175860e+00, -2.4824727e+00, -2.3358703e+00,\n        7.4291122e-01, -2.4746834e-01, -3.1015670e+00, -3.2873502e+00,\n       -1.7979717e+00, -3.3308463e+00,  4.3735233e-01, -1.7159511e+00,\n       -3.0470417e+00, -2.6953709e+00, -2.8052807e+00, -8.0248517e-01],\n      dtype=float32), 'original']\n[array([-464.4362    ,   81.47686   ,  -27.569141  ,   29.11754   ,\n          6.9711113 ,    6.413411  ,  -18.047682  ,    2.4065735 ,\n        -24.62612   ,    9.99685   ,  -14.769473  ,    0.99417627,\n        -12.216754  ,   -1.9789145 ,  -13.978718  ,    5.0320506 ,\n         -7.370991  ,   -2.63266   ,   -4.6085944 ,   -0.9668157 ,\n        -11.261138  ,   -2.1154141 ,   -5.579591  ,   -2.4264226 ,\n         -2.2140503 ,   -3.598154  ,   -2.7441735 ,   -5.6239414 ,\n         -0.70363295,   -1.6852206 ,   -2.91962   ,   -1.7711419 ,\n         -2.2007282 ,   -3.5975342 ,    1.501527  ,   -2.597487  ,\n         -2.7193425 ,   -2.1569858 ,   -1.6827832 ,   -1.8147124 ],\n      dtype=float32), 'original']\n[array([-4.5483279e+02,  8.5907768e+01, -2.7512930e+01,  3.1049807e+01,\n        1.2538490e+01, -2.0910603e-01, -1.4231257e+01,  2.3386905e+00,\n       -2.6346321e+01,  1.1471822e+01, -1.9087965e+01,  1.2222501e+00,\n       -1.3777081e+01, -4.3343921e+00, -1.4275495e+01,  6.2451720e+00,\n       -7.6121688e+00, -5.4959564e+00, -1.9800283e+00, -9.1105479e-01,\n       -1.2522165e+01, -3.1169298e+00, -5.6226878e+00, -2.5299282e+00,\n       -3.7025065e+00, -4.5113592e+00, -4.7040176e+00, -5.0222125e+00,\n       -2.2934892e+00, -1.9262552e+00, -1.6212622e+00, -2.7196238e+00,\n       -8.2276189e-01, -2.7914407e+00,  1.9796325e-01, -2.0735993e+00,\n       -2.3582919e+00, -3.1529348e+00, -2.0486982e+00, -2.6414304e+00],\n      dtype=float32), 'original']\n[array([-4.6914636e+02,  8.3252213e+01, -1.8760405e+01,  2.1144686e+01,\n        6.0228086e+00,  6.4832411e+00, -1.8989603e+01,  4.7530828e+00,\n       -1.9024052e+01,  8.2436476e+00, -1.5203936e+01,  3.2520273e+00,\n       -1.4490369e+01, -2.0623193e+00, -1.4025777e+01,  5.6889639e+00,\n       -6.3521986e+00, -5.8233371e+00, -2.1618533e+00, -1.0714567e+00,\n       -1.1525913e+01, -2.5139263e+00, -5.2827992e+00, -3.2545214e+00,\n       -3.4791229e+00, -2.8147795e+00, -2.9727342e+00, -5.3133240e+00,\n       -2.2235911e+00, -2.9312167e+00, -1.9562669e+00, -2.1310978e+00,\n       -1.6921610e+00, -2.6927478e+00,  3.7214041e-01, -1.7753392e+00,\n       -2.1511023e+00, -2.8622851e+00, -2.7103949e+00, -1.8866249e+00],\n      dtype=float32), 'original']\n[array([-5.1672650e+02,  2.2547134e+01, -3.4344925e+01,  3.2448505e+01,\n        9.3325500e+00, -6.4022660e+00, -3.4289536e+01,  9.3127403e+00,\n       -3.8675030e+01,  1.0274431e+01, -2.1782457e+01,  8.1910032e-01,\n       -2.4379646e+01, -1.5328216e-02, -2.6510550e+01,  1.0763086e+01,\n       -1.1081101e+01, -3.1155386e+00, -5.4140058e+00,  7.3587465e+00,\n       -1.7640903e+01,  1.1467726e+00, -4.6273355e+00,  1.7199330e+00,\n       -2.0084507e+00,  1.3283098e+00, -4.0535049e+00, -1.0649930e+00,\n        2.5137481e-01, -1.2638437e+00, -2.3916481e+00,  7.5788355e-01,\n       -1.5868243e+00, -2.4917741e-01,  2.5847800e+00,  3.0388002e+00,\n        2.9376684e-02,  2.9833348e+00, -1.3134902e+00,  2.2726958e+00],\n      dtype=float32), 'desktop']\n[array([-5.36500549e+02,  3.67242317e+01, -3.54104309e+01,  1.83032951e+01,\n        1.44735594e+01, -5.06286097e+00, -2.86907387e+01,  1.22633944e+01,\n       -3.62755623e+01,  9.87609196e+00, -1.56062841e+01,  1.13637161e+00,\n       -2.56001816e+01,  3.07403296e-01, -2.78588467e+01,  3.43146110e+00,\n       -1.09945059e+01, -2.99294305e+00, -1.05558815e+01,  4.53500986e+00,\n       -1.09295139e+01, -1.15005827e+00, -3.64905143e+00,  2.31820536e+00,\n       -6.34381711e-01,  1.75146532e+00, -2.20475960e+00, -1.08177602e+00,\n        3.59680474e-01,  1.30389154e+00, -2.08616519e+00, -2.56067485e-01,\n       -1.38143373e+00, -1.26891077e-01,  4.12763023e+00,  2.03376770e+00,\n       -1.57469475e+00,  1.54674923e+00, -1.39596260e+00,  2.28638530e+00],\n      dtype=float32), 'desktop']\n[array([-5.2098651e+02,  2.3665972e+01, -3.8455086e+01,  2.6620848e+01,\n        1.2040726e+01, -3.3702729e+00, -3.0723749e+01,  1.2300012e+01,\n       -3.9362831e+01,  9.3115978e+00, -2.1566753e+01,  1.4154773e+00,\n       -2.2525940e+01,  5.0034103e+00, -2.4124424e+01,  9.7638111e+00,\n       -1.1385705e+01,  2.0597374e+00, -1.0567141e+01,  7.2614284e+00,\n       -1.3487628e+01,  1.8966749e+00, -6.0814843e+00,  1.9703205e+00,\n       -2.2222631e+00,  3.4248823e-01, -3.5525653e+00, -3.8692770e+00,\n       -9.5891798e-01,  6.8492651e-01, -3.4870970e+00,  2.0391555e+00,\n       -2.6167021e+00, -3.6108363e-01,  4.7165594e+00,  1.4250557e+00,\n       -3.4690580e+00,  1.5209681e+00, -2.1917336e+00,  1.4657111e+00],\n      dtype=float32), 'desktop']\n[array([-5.14708252e+02,  2.63134727e+01, -4.01951370e+01,  2.99503422e+01,\n        1.71203766e+01, -1.00219269e+01, -2.85694370e+01,  1.09076452e+01,\n       -4.30421143e+01,  1.11689339e+01, -2.61210899e+01,  2.00981545e+00,\n       -2.48402748e+01,  2.32763839e+00, -2.55499973e+01,  1.12106743e+01,\n       -1.31177988e+01, -9.90874410e-01, -8.31508446e+00,  7.45703220e+00,\n       -1.40951805e+01,  8.68463933e-01, -5.68980742e+00,  3.06781054e+00,\n       -4.18524408e+00, -4.17847574e-01, -4.79013634e+00, -3.57497954e+00,\n       -3.32940531e+00,  6.85732126e-01, -2.01312208e+00,  1.08130193e+00,\n       -1.51980650e+00,  1.40180624e+00,  4.59380579e+00,  2.37251782e+00,\n       -1.88032913e+00,  1.85488307e+00, -1.81383550e+00,  7.53430367e-01],\n      dtype=float32), 'desktop']\n[array([-5.2403040e+02,  1.9991959e+01, -2.6891682e+01,  1.5613383e+01,\n        1.3849551e+01, -7.1286364e+00, -3.0021973e+01,  9.4992599e+00,\n       -3.3020195e+01,  4.2194672e+00, -1.9726822e+01,  2.4514501e-01,\n       -2.2776518e+01,  9.2063051e-01, -2.2719030e+01,  7.0926390e+00,\n       -8.7152462e+00, -4.0799356e+00, -5.3913565e+00,  4.8051453e+00,\n       -1.0683876e+01, -1.1717695e+00, -3.0264668e+00,  6.7917579e-01,\n       -4.5013484e-02, -4.0648690e-01, -1.4726981e+00, -5.6438909e+00,\n       -1.9158249e-01, -1.7789075e+00,  8.2591362e-02,  7.4884862e-01,\n        2.4350469e-01, -5.8609784e-01,  5.9070387e+00,  1.4584855e+00,\n       -6.7957199e-01,  6.2893057e-01, -8.9891034e-01, -7.0296116e-02],\n      dtype=float32), 'desktop']\n[array([-5.0952914e+02,  5.2077473e+01, -6.2284618e+01,  3.7187233e+01,\n        1.9593100e+01, -5.2854891e+00, -3.0365063e+01,  5.5317516e+00,\n       -3.4974342e+01,  4.0177598e+00, -1.0068225e+01, -5.1931696e+00,\n       -1.7764389e+01, -3.7923411e-02, -1.8092436e+01,  6.2735734e+00,\n       -7.2276611e+00, -2.4311905e+00,  1.7242301e+00, -2.9992883e+00,\n       -1.9519352e+01, -4.4180427e+00, -6.5681195e+00, -7.8326502e+00,\n        1.1840030e+00, -1.9212073e+00, -3.7635601e+00, -1.0245408e+00,\n        8.3741350e+00,  1.8889340e+00, -1.3016006e+00,  2.8814905e+00,\n       -4.9253168e+00, -2.0561862e+00,  1.1129305e+00, -7.3545653e-01,\n       -2.1391172e+00, -2.2277720e+00,  5.7998437e-01, -4.6962899e-01],\n      dtype=float32), 'soundbox']\n[array([-5.34497803e+02,  6.48065948e+01, -6.11944847e+01,  2.32981186e+01,\n        2.34672222e+01, -2.94002151e+00, -2.44410782e+01,  8.69796371e+00,\n       -3.27167091e+01,  2.76349640e+00, -4.01359367e+00, -5.92985678e+00,\n       -1.92952213e+01, -6.81008220e-01, -1.82546997e+01, -1.48962450e+00,\n       -4.90013075e+00, -1.26925075e+00, -3.49647737e+00, -5.52955484e+00,\n       -1.29950762e+01, -6.39477825e+00, -5.62307978e+00, -6.25336218e+00,\n        3.52902842e+00,  1.10926360e-01, -2.60639262e+00, -1.53177118e+00,\n        8.68818855e+00,  3.87965989e+00, -1.74868965e+00,  1.44418848e+00,\n       -4.68801498e+00, -2.88922763e+00,  1.85023761e+00, -1.04883862e+00,\n       -3.63739109e+00, -3.54484749e+00,  1.02496825e-01,  4.01891857e-01],\n      dtype=float32), 'soundbox']\n[array([-5.1753479e+02,  5.7437374e+01, -7.0080376e+01,  3.3024460e+01,\n        2.0345276e+01, -2.2985575e+00, -2.8944376e+01,  8.5124722e+00,\n       -3.7526978e+01,  3.5567505e+00, -1.0288972e+01, -5.9784164e+00,\n       -1.6953854e+01,  3.5490296e+00, -1.6588884e+01,  4.1815019e+00,\n       -6.7991347e+00,  1.9687713e+00, -3.5307322e+00, -3.7374611e+00,\n       -1.6602974e+01, -4.2449985e+00, -8.1591387e+00, -7.2022376e+00,\n        2.4919009e+00, -1.3173614e+00, -2.4924893e+00, -4.3698697e+00,\n        6.8315878e+00,  3.9163394e+00, -1.8474704e+00,  4.0906148e+00,\n       -5.9281392e+00, -2.5988193e+00,  2.5093710e+00, -2.3758614e+00,\n       -4.2072597e+00, -2.4329669e+00, -1.9180471e-01, -5.5161321e-01],\n      dtype=float32), 'soundbox']\n[array([-5.0795529e+02,  5.8794132e+01, -7.1733086e+01,  3.6842545e+01,\n        2.4801693e+01, -7.1807446e+00, -2.8322596e+01,  8.9165201e+00,\n       -4.1260872e+01,  4.7052093e+00, -1.4685961e+01, -4.7807450e+00,\n       -1.8997282e+01,  2.0539205e+00, -1.8027081e+01,  6.9143138e+00,\n       -8.3656464e+00,  1.1942227e+00, -2.2087147e+00, -3.1086383e+00,\n       -1.8201847e+01, -4.9814754e+00, -8.5321131e+00, -6.6332774e+00,\n        6.5379655e-01, -8.3976090e-01, -4.9897799e+00, -3.5520101e+00,\n        5.5863876e+00,  5.0032029e+00, -4.8378760e-01,  4.0250421e+00,\n       -4.8304181e+00, -1.0722289e+00,  1.4309666e+00, -3.0195901e-01,\n       -3.8934169e+00, -2.0535126e+00,  8.6688817e-02, -5.8487624e-01],\n      dtype=float32), 'soundbox']\n[array([-5.1909839e+02,  5.3557022e+01, -5.7363979e+01,  2.1697454e+01,\n        2.3369556e+01, -5.8795896e+00, -2.5715307e+01,  5.7748871e+00,\n       -2.8261822e+01, -2.3580432e+00, -6.9675517e+00, -7.4161415e+00,\n       -1.4782465e+01, -3.7911224e-01, -1.3014638e+01,  2.1410625e+00,\n       -3.0846210e+00, -2.4419873e+00,  1.5195807e+00, -5.8646402e+00,\n       -1.3742667e+01, -6.7888598e+00, -5.3459864e+00, -9.4020624e+00,\n        3.5077832e+00, -1.8144153e+00, -1.6274954e+00, -4.7772617e+00,\n        7.2695050e+00,  3.0395448e+00, -6.1683625e-02,  3.6428466e+00,\n       -5.5843320e+00, -2.5977788e+00,  1.3559420e+00, -5.2494526e-01,\n       -3.1764123e+00, -1.9127620e+00, -6.3197978e-02,  4.5816433e-01],\n      dtype=float32), 'soundbox']\n[array([-4.5613791e+02,  2.8318359e+01, -1.6505358e+01,  1.3110812e+01,\n        3.0107448e+00,  6.8030796e+00, -2.3552757e+01,  4.2336683e+00,\n       -3.0560974e+01,  2.0645645e+01, -1.7386360e+01,  2.1178012e+00,\n       -2.6066223e+01,  1.0331768e-02, -2.1626713e+01,  9.7300224e+00,\n       -9.4149256e+00, -1.9682655e+00, -4.7687583e-02,  9.8549891e+00,\n       -2.1304396e+01,  2.2580371e+00, -9.7665396e+00, -2.1213923e+00,\n       -2.4948773e+00,  2.6647103e+00, -2.9262540e+00, -4.2370420e+00,\n        1.3376844e+00,  8.7002259e-01, -4.6838093e+00, -5.9990363e+00,\n       -2.1686113e+00,  1.4623318e+00,  1.7844418e+00, -4.4921064e+00,\n       -7.6756948e-01, -4.4758961e-01, -5.6749449e+00, -2.3584785e+00],\n      dtype=float32), 'soundbar']\n[array([-448.6612   ,   38.880966 ,  -19.877745 ,   -3.5324583,\n          8.1261835,    7.348013 ,  -18.296803 ,    7.600863 ,\n        -31.862804 ,   21.59554  ,  -11.884521 ,    1.232712 ,\n        -31.155989 ,    1.2989963,  -24.506508 ,    3.7300847,\n         -7.289759 ,    1.236775 ,   -4.8490577,    9.422207 ,\n        -16.906103 ,    1.4510381,   -8.180839 ,   -2.8665667,\n         -2.2925816,    3.6175358,   -1.8732432,   -4.535518 ,\n          2.4425051,    4.400129 ,   -5.028889 ,   -6.375292 ,\n         -2.725972 ,    0.4567736,    2.1896808,   -5.508321 ,\n         -2.138039 ,   -1.133418 ,   -5.6531544,   -1.1937479],\n      dtype=float32), 'soundbar']\n[array([-4.4369012e+02,  2.5468460e+01, -2.4838339e+01,  5.7260365e+00,\n        3.1805189e+00,  8.1050835e+00, -2.3882914e+01,  4.6623707e+00,\n       -3.5017700e+01,  1.9384169e+01, -1.8630655e+01,  9.6437287e-01,\n       -2.6023136e+01,  5.4223967e+00, -1.9913105e+01,  8.9248438e+00,\n       -9.6481171e+00,  3.8350224e+00, -6.0289025e+00,  1.0901825e+01,\n       -1.8642536e+01,  3.5227797e+00, -9.8195009e+00, -2.3619437e+00,\n       -2.9656098e+00,  2.6419854e+00, -1.5886172e+00, -7.0921273e+00,\n        1.0473235e+00,  2.9631188e+00, -4.8154936e+00, -4.1960030e+00,\n       -3.2201674e+00,  8.9107007e-01,  3.6157136e+00, -5.5550733e+00,\n       -1.8054395e+00,  1.1124016e-01, -5.2881799e+00, -2.2812269e+00],\n      dtype=float32), 'soundbar']\n[array([-4.3488089e+02,  2.5761585e+01, -2.4464962e+01,  5.4976144e+00,\n        7.6776295e+00,  1.5792236e+00, -2.0713924e+01,  4.4801450e+00,\n       -3.8695110e+01,  2.2686628e+01, -2.3750109e+01,  2.3410323e+00,\n       -3.0222275e+01,  3.4539011e+00, -2.2352394e+01,  1.0770281e+01,\n       -1.0111407e+01,  2.3180485e+00, -3.3201706e+00,  1.1399237e+01,\n       -2.0727455e+01,  3.4921067e+00, -9.6624641e+00, -1.3380063e+00,\n       -4.4653177e+00,  2.8845394e+00, -3.0073559e+00, -6.7168565e+00,\n       -4.7732407e-01,  4.2270789e+00, -3.8651674e+00, -4.7292562e+00,\n       -1.2360407e+00,  2.3640118e+00,  2.4222577e+00, -4.9042125e+00,\n       -9.6930075e-01, -7.6412216e-02, -5.1906452e+00, -3.5437801e+00],\n      dtype=float32), 'soundbar']\n[array([-4.3143912e+02,  2.1220806e+01, -1.2523037e+01, -6.3659368e+00,\n        4.1787300e+00,  7.1811066e+00, -2.2912039e+01,  5.8852186e+00,\n       -2.9758327e+01,  1.9088642e+01, -1.8296612e+01,  2.9199305e+00,\n       -2.9633398e+01,  4.1746402e+00, -2.1220289e+01,  8.4127550e+00,\n       -8.2945433e+00,  7.5332314e-01, -2.6958337e+00,  1.0113326e+01,\n       -1.9985178e+01,  2.7501025e+00, -8.8603792e+00, -3.4904094e+00,\n       -2.4978192e+00,  3.7575259e+00, -1.0179998e+00, -9.0131512e+00,\n        1.5770815e-01,  1.7145749e+00, -3.5432563e+00, -5.3677130e+00,\n       -1.9499623e+00,  8.6538422e-01,  2.8379884e+00, -6.0960412e+00,\n       -2.4038614e-01, -6.2699968e-01, -5.6556091e+00, -3.5937586e+00],\n      dtype=float32), 'soundbar']\n[array([-5.4713324e+02,  5.0806202e+01, -2.2913467e+01,  6.7185426e+00,\n       -3.2567463e+00,  5.0655861e+00, -1.4822822e+01, -3.2959874e+00,\n       -2.6922377e+01,  2.3982298e+00, -1.3976555e+01,  1.4735950e+00,\n       -1.1285114e+01, -1.0637331e+01, -2.2737585e+01,  3.9954617e+00,\n       -2.1355860e+00, -4.0803881e+00,  5.9955716e+00, -1.4485649e+00,\n       -8.2595024e+00, -1.1605885e+00,  8.0071962e-01,  4.3698363e+00,\n       -6.3335377e-01, -2.3211064e+00, -3.0692320e+00, -6.3943906e+00,\n        1.3442456e+00, -3.2041725e-02, -2.3065495e+00, -6.6831994e+00,\n       -2.2033238e+00, -3.1381118e+00,  3.2931066e+00,  1.2532226e+00,\n       -1.5408973e+00, -3.0174360e+00, -2.9524632e+00, -2.1059272e-01],\n      dtype=float32), 'tv']\n[array([-5.5617090e+02,  6.3471512e+01, -2.8270948e+01, -6.4234004e+00,\n       -3.8191280e-01,  5.2424607e+00, -9.6250515e+00,  8.2161254e-01,\n       -2.7784788e+01,  2.1826651e+00, -9.1074266e+00,  2.8475232e+00,\n       -1.2547751e+01, -1.2031208e+01, -2.6738005e+01, -3.1648154e+00,\n       -8.2751143e-01, -1.8287382e+00,  1.2266619e+00, -3.9034753e+00,\n       -4.6744785e+00, -2.3951056e+00,  3.3332264e+00,  5.7893705e+00,\n        1.2668604e+00, -1.4031429e+00, -1.7279509e+00, -4.9798293e+00,\n        3.4769120e+00,  3.2942386e+00, -3.1877084e+00, -7.9717178e+00,\n       -2.4913681e+00, -3.9324152e+00,  3.2464890e+00, -4.2428046e-01,\n       -4.2223592e+00, -4.4938965e+00, -4.2693434e+00, -1.0806982e-01],\n      dtype=float32), 'tv']\n[array([-5.4014905e+02,  5.5263569e+01, -3.3822357e+01,  2.2560959e+00,\n       -4.5800405e+00,  8.0447941e+00, -1.3111061e+01, -9.9633592e-01,\n       -3.2641659e+01,  2.5872974e+00, -1.6847269e+01,  4.0092044e+00,\n       -9.8856688e+00, -7.1857643e+00, -2.5206236e+01,  2.4869640e+00,\n       -2.3895710e+00,  1.2593721e+00,  1.4616423e+00, -2.9607620e+00,\n       -6.9789295e+00, -1.0772256e+00,  2.3869190e+00,  5.3828211e+00,\n       -2.4947785e-03, -3.5613756e+00, -2.2257853e+00, -8.7199774e+00,\n        1.5783025e+00,  2.4965658e+00, -3.0283127e+00, -6.2481532e+00,\n       -2.6022811e+00, -4.2220502e+00,  5.0013313e+00, -2.2794390e-01,\n       -2.9778190e+00, -3.8588459e+00, -3.7761354e+00, -1.3745240e+00],\n      dtype=float32), 'tv']\n[array([-5.4098853e+02,  6.3604958e+01, -3.7819645e+01,  8.0463390e+00,\n       -3.5046096e+00,  6.8575478e+00, -1.4804819e+01,  2.7215700e+00,\n       -3.8449535e+01,  7.1010332e+00, -2.4121964e+01,  7.3601589e+00,\n       -1.4230124e+01, -7.6947556e+00, -2.9472853e+01,  6.2157536e+00,\n       -5.7348342e+00,  1.8130343e+00,  1.7067637e+00, -7.0889778e-02,\n       -1.0013319e+01,  5.2118140e-01,  1.1244982e+00,  8.4657726e+00,\n       -2.4840846e+00, -1.1067735e+00, -4.2395525e+00, -6.8780808e+00,\n       -4.8149365e-01,  4.1268463e+00, -2.6262295e+00, -6.5556331e+00,\n       -1.3683072e+00, -3.0892189e+00,  3.5283294e+00,  9.1148818e-01,\n       -3.4563537e+00, -4.7985911e+00, -3.8848732e+00, -1.3599640e+00],\n      dtype=float32), 'tv']\n[array([-5.4686426e+02,  5.6623451e+01, -2.4807287e+01, -6.1855192e+00,\n       -6.1210303e+00,  8.5662203e+00, -1.3699984e+01,  1.7216140e+00,\n       -2.8722181e+01,  1.1892858e+00, -1.6939003e+01,  5.7483683e+00,\n       -1.1809778e+01, -8.3453512e+00, -2.6101480e+01,  2.9109812e+00,\n       -1.2773988e+00, -1.9203784e-01,  3.4436901e+00, -2.2316182e+00,\n       -6.2103577e+00, -1.7258931e+00,  2.6382673e+00,  5.6623330e+00,\n       -4.5771822e-01, -2.6049292e+00, -2.3995719e+00, -8.2889442e+00,\n        6.3018262e-01,  2.0647271e+00, -2.2669463e+00, -6.5225677e+00,\n       -2.0754423e+00, -3.5279796e+00,  4.4092288e+00, -4.1146699e-02,\n       -2.9971604e+00, -4.1439242e+00, -4.2265925e+00, -8.0413914e-01],\n      dtype=float32), 'tv']\n"
     ]
    }
   ],
   "source": [
    "# Creating the feature matrix and target vecor\n",
    "X_test2 = []\n",
    "y_test2 = []\n",
    "for obj in temp:\n",
    "    print(obj)\n",
    "    X_test2.append(obj[0])\n",
    "    if obj[1] == 'original':\n",
    "        y_test2.append(0)\n",
    "    elif obj[1] == 'desktop':\n",
    "        y_test2.append(1)\n",
    "    elif obj[1] == 'soundbox':\n",
    "        y_test2.append(2)\n",
    "    elif obj[1] == 'soundbar':\n",
    "        y_test2.append(3)\n",
    "    elif obj[1] == 'tv':\n",
    "        y_test2.append(4)\n",
    "    else:\n",
    "        print(\"SOMETHING WRONG\")"
   ]
  },
  {
   "cell_type": "code",
   "execution_count": 587,
   "metadata": {},
   "outputs": [
    {
     "output_type": "stream",
     "name": "stdout",
     "text": [
      "[array([-4.5616788e+02,  7.9606781e+01, -2.2181273e+01,  3.3363731e+01,\n        6.3680406e+00,  3.5536611e+00, -1.8797180e+01,  1.6858330e+00,\n       -2.0961422e+01,  1.2491478e+01, -1.3951008e+01,  1.0578222e+00,\n       -1.3296202e+01, -5.7276659e+00, -1.4251524e+01,  6.8102255e+00,\n       -6.0792494e+00, -8.2284966e+00,  2.8709564e-01, -3.0035725e-01,\n       -1.4511844e+01, -2.3394647e+00, -4.5736723e+00, -3.5187371e+00,\n       -2.4793150e+00, -4.1189704e+00, -4.3277984e+00, -2.3225880e+00,\n       -5.9695989e-01, -3.3969650e+00, -2.3564372e+00, -3.7135715e+00,\n       -1.9752213e+00, -2.5736887e+00, -5.7381487e-01, -1.3677388e+00,\n       -1.7082869e+00, -2.4790225e+00, -2.5228734e+00, -1.2861131e+00],\n      dtype=float32), array([-4.8884293e+02,  9.2754021e+01, -2.0403910e+01,  2.0899673e+01,\n        1.2169987e+01,  5.6780071e+00, -1.3256531e+01,  4.0701323e+00,\n       -1.8758493e+01,  1.0196158e+01, -7.0727992e+00,  1.9707243e-01,\n       -1.4840110e+01, -4.9511065e+00, -1.5044881e+01,  6.4618751e-02,\n       -4.3226314e+00, -6.0801988e+00, -3.8654404e+00, -2.3888407e+00,\n       -7.7977843e+00, -4.0875368e+00, -2.5946569e+00, -2.2207665e+00,\n       -7.1182972e-01, -2.0175860e+00, -2.4824727e+00, -2.3358703e+00,\n        7.4291122e-01, -2.4746834e-01, -3.1015670e+00, -3.2873502e+00,\n       -1.7979717e+00, -3.3308463e+00,  4.3735233e-01, -1.7159511e+00,\n       -3.0470417e+00, -2.6953709e+00, -2.8052807e+00, -8.0248517e-01],\n      dtype=float32)]\n[0, 0, 0, 0, 0, 1, 1, 1, 1, 1, 2, 2, 2, 2, 2, 3, 3, 3, 3, 3, 4, 4, 4, 4, 4]\n"
     ]
    }
   ],
   "source": [
    "print(X_test2[:2])\n",
    "print(y_test2)"
   ]
  },
  {
   "cell_type": "code",
   "execution_count": 589,
   "metadata": {},
   "outputs": [
    {
     "output_type": "stream",
     "name": "stdout",
     "text": [
      "[[-4.56167877e+02  7.96067810e+01 -2.21812725e+01  3.33637314e+01\n   6.36804056e+00  3.55366111e+00 -1.87971802e+01  1.68583298e+00\n  -2.09614220e+01  1.24914780e+01 -1.39510078e+01  1.05782223e+00\n  -1.32962017e+01 -5.72766590e+00 -1.42515240e+01  6.81022549e+00\n  -6.07924938e+00 -8.22849655e+00  2.87095636e-01 -3.00357252e-01\n  -1.45118437e+01 -2.33946466e+00 -4.57367229e+00 -3.51873708e+00\n  -2.47931504e+00 -4.11897039e+00 -4.32779837e+00 -2.32258797e+00\n  -5.96959889e-01 -3.39696503e+00 -2.35643721e+00 -3.71357155e+00\n  -1.97522128e+00 -2.57368875e+00 -5.73814869e-01 -1.36773884e+00\n  -1.70828688e+00 -2.47902250e+00 -2.52287340e+00 -1.28611314e+00]\n [-4.88842926e+02  9.27540207e+01 -2.04039097e+01  2.08996735e+01\n   1.21699867e+01  5.67800713e+00 -1.32565308e+01  4.07013226e+00\n  -1.87584934e+01  1.01961584e+01 -7.07279921e+00  1.97072431e-01\n  -1.48401098e+01 -4.95110655e+00 -1.50448809e+01  6.46187514e-02\n  -4.32263136e+00 -6.08019876e+00 -3.86544037e+00 -2.38884068e+00\n  -7.79778433e+00 -4.08753681e+00 -2.59465694e+00 -2.22076654e+00\n  -7.11829722e-01 -2.01758599e+00 -2.48247266e+00 -2.33587027e+00\n   7.42911220e-01 -2.47468337e-01 -3.10156703e+00 -3.28735018e+00\n  -1.79797173e+00 -3.33084631e+00  4.37352329e-01 -1.71595109e+00\n  -3.04704165e+00 -2.69537091e+00 -2.80528069e+00 -8.02485168e-01]\n [-4.64436188e+02  8.14768600e+01 -2.75691414e+01  2.91175404e+01\n   6.97111130e+00  6.41341114e+00 -1.80476818e+01  2.40657353e+00\n  -2.46261196e+01  9.99685001e+00 -1.47694731e+01  9.94176269e-01\n  -1.22167540e+01 -1.97891450e+00 -1.39787178e+01  5.03205061e+00\n  -7.37099123e+00 -2.63265991e+00 -4.60859442e+00 -9.66815710e-01\n  -1.12611380e+01 -2.11541414e+00 -5.57959080e+00 -2.42642260e+00\n  -2.21405029e+00 -3.59815407e+00 -2.74417353e+00 -5.62394142e+00\n  -7.03632951e-01 -1.68522060e+00 -2.91962004e+00 -1.77114189e+00\n  -2.20072818e+00 -3.59753418e+00  1.50152695e+00 -2.59748697e+00\n  -2.71934247e+00 -2.15698576e+00 -1.68278325e+00 -1.81471241e+00]\n [-4.54832794e+02  8.59077682e+01 -2.75129299e+01  3.10498066e+01\n   1.25384903e+01 -2.09106028e-01 -1.42312574e+01  2.33869052e+00\n  -2.63463211e+01  1.14718218e+01 -1.90879650e+01  1.22225010e+00\n  -1.37770805e+01 -4.33439207e+00 -1.42754946e+01  6.24517202e+00\n  -7.61216879e+00 -5.49595642e+00 -1.98002827e+00 -9.11054790e-01\n  -1.25221653e+01 -3.11692977e+00 -5.62268782e+00 -2.52992821e+00\n  -3.70250654e+00 -4.51135921e+00 -4.70401764e+00 -5.02221251e+00\n  -2.29348922e+00 -1.92625523e+00 -1.62126219e+00 -2.71962380e+00\n  -8.22761893e-01 -2.79144073e+00  1.97963253e-01 -2.07359934e+00\n  -2.35829186e+00 -3.15293479e+00 -2.04869819e+00 -2.64143038e+00]\n [-4.69146362e+02  8.32522125e+01 -1.87604046e+01  2.11446857e+01\n   6.02280855e+00  6.48324108e+00 -1.89896030e+01  4.75308275e+00\n  -1.90240517e+01  8.24364758e+00 -1.52039356e+01  3.25202727e+00\n  -1.44903688e+01 -2.06231928e+00 -1.40257769e+01  5.68896389e+00\n  -6.35219860e+00 -5.82333708e+00 -2.16185331e+00 -1.07145667e+00\n  -1.15259132e+01 -2.51392627e+00 -5.28279924e+00 -3.25452137e+00\n  -3.47912288e+00 -2.81477952e+00 -2.97273421e+00 -5.31332397e+00\n  -2.22359109e+00 -2.93121672e+00 -1.95626688e+00 -2.13109779e+00\n  -1.69216096e+00 -2.69274783e+00  3.72140408e-01 -1.77533925e+00\n  -2.15110230e+00 -2.86228514e+00 -2.71039486e+00 -1.88662493e+00]\n [-5.16726501e+02  2.25471344e+01 -3.43449249e+01  3.24485054e+01\n   9.33255005e+00 -6.40226603e+00 -3.42895355e+01  9.31274033e+00\n  -3.86750298e+01  1.02744312e+01 -2.17824574e+01  8.19100320e-01\n  -2.43796463e+01 -1.53282164e-02 -2.65105495e+01  1.07630863e+01\n  -1.10811014e+01 -3.11553860e+00 -5.41400576e+00  7.35874653e+00\n  -1.76409035e+01  1.14677262e+00 -4.62733555e+00  1.71993303e+00\n  -2.00845075e+00  1.32830977e+00 -4.05350494e+00 -1.06499302e+00\n   2.51374811e-01 -1.26384366e+00 -2.39164805e+00  7.57883549e-01\n  -1.58682430e+00 -2.49177411e-01  2.58477998e+00  3.03880024e+00\n   2.93766838e-02  2.98333478e+00 -1.31349015e+00  2.27269578e+00]\n [-5.36500549e+02  3.67242317e+01 -3.54104309e+01  1.83032951e+01\n   1.44735594e+01 -5.06286097e+00 -2.86907387e+01  1.22633944e+01\n  -3.62755623e+01  9.87609196e+00 -1.56062841e+01  1.13637161e+00\n  -2.56001816e+01  3.07403296e-01 -2.78588467e+01  3.43146110e+00\n  -1.09945059e+01 -2.99294305e+00 -1.05558815e+01  4.53500986e+00\n  -1.09295139e+01 -1.15005827e+00 -3.64905143e+00  2.31820536e+00\n  -6.34381711e-01  1.75146532e+00 -2.20475960e+00 -1.08177602e+00\n   3.59680474e-01  1.30389154e+00 -2.08616519e+00 -2.56067485e-01\n  -1.38143373e+00 -1.26891077e-01  4.12763023e+00  2.03376770e+00\n  -1.57469475e+00  1.54674923e+00 -1.39596260e+00  2.28638530e+00]\n [-5.20986511e+02  2.36659718e+01 -3.84550858e+01  2.66208477e+01\n   1.20407257e+01 -3.37027287e+00 -3.07237492e+01  1.23000116e+01\n  -3.93628311e+01  9.31159782e+00 -2.15667534e+01  1.41547728e+00\n  -2.25259399e+01  5.00341034e+00 -2.41244240e+01  9.76381111e+00\n  -1.13857050e+01  2.05973744e+00 -1.05671406e+01  7.26142836e+00\n  -1.34876280e+01  1.89667487e+00 -6.08148432e+00  1.97032046e+00\n  -2.22226310e+00  3.42488229e-01 -3.55256534e+00 -3.86927700e+00\n  -9.58917975e-01  6.84926510e-01 -3.48709702e+00  2.03915548e+00\n  -2.61670208e+00 -3.61083627e-01  4.71655941e+00  1.42505574e+00\n  -3.46905804e+00  1.52096808e+00 -2.19173360e+00  1.46571112e+00]\n [-5.14708252e+02  2.63134727e+01 -4.01951370e+01  2.99503422e+01\n   1.71203766e+01 -1.00219269e+01 -2.85694370e+01  1.09076452e+01\n  -4.30421143e+01  1.11689339e+01 -2.61210899e+01  2.00981545e+00\n  -2.48402748e+01  2.32763839e+00 -2.55499973e+01  1.12106743e+01\n  -1.31177988e+01 -9.90874410e-01 -8.31508446e+00  7.45703220e+00\n  -1.40951805e+01  8.68463933e-01 -5.68980742e+00  3.06781054e+00\n  -4.18524408e+00 -4.17847574e-01 -4.79013634e+00 -3.57497954e+00\n  -3.32940531e+00  6.85732126e-01 -2.01312208e+00  1.08130193e+00\n  -1.51980650e+00  1.40180624e+00  4.59380579e+00  2.37251782e+00\n  -1.88032913e+00  1.85488307e+00 -1.81383550e+00  7.53430367e-01]\n [-5.24030396e+02  1.99919586e+01 -2.68916817e+01  1.56133833e+01\n   1.38495512e+01 -7.12863636e+00 -3.00219727e+01  9.49925995e+00\n  -3.30201950e+01  4.21946716e+00 -1.97268219e+01  2.45145008e-01\n  -2.27765179e+01  9.20630515e-01 -2.27190304e+01  7.09263897e+00\n  -8.71524620e+00 -4.07993555e+00 -5.39135647e+00  4.80514526e+00\n  -1.06838760e+01 -1.17176950e+00 -3.02646685e+00  6.79175794e-01\n  -4.50134836e-02 -4.06486899e-01 -1.47269809e+00 -5.64389086e+00\n  -1.91582486e-01 -1.77890754e+00  8.25913623e-02  7.48848617e-01\n   2.43504688e-01 -5.86097836e-01  5.90703869e+00  1.45848548e+00\n  -6.79571986e-01  6.28930569e-01 -8.98910344e-01 -7.02961162e-02]\n [-5.09529144e+02  5.20774727e+01 -6.22846184e+01  3.71872330e+01\n   1.95930996e+01 -5.28548908e+00 -3.03650627e+01  5.53175163e+00\n  -3.49743423e+01  4.01775980e+00 -1.00682249e+01 -5.19316959e+00\n  -1.77643890e+01 -3.79234105e-02 -1.80924358e+01  6.27357340e+00\n  -7.22766113e+00 -2.43119049e+00  1.72423005e+00 -2.99928832e+00\n  -1.95193520e+01 -4.41804266e+00 -6.56811953e+00 -7.83265018e+00\n   1.18400300e+00 -1.92120731e+00 -3.76356006e+00 -1.02454078e+00\n   8.37413502e+00  1.88893402e+00 -1.30160058e+00  2.88149047e+00\n  -4.92531681e+00 -2.05618620e+00  1.11293054e+00 -7.35456526e-01\n  -2.13911724e+00 -2.22777200e+00  5.79984367e-01 -4.69628990e-01]\n [-5.34497803e+02  6.48065948e+01 -6.11944847e+01  2.32981186e+01\n   2.34672222e+01 -2.94002151e+00 -2.44410782e+01  8.69796371e+00\n  -3.27167091e+01  2.76349640e+00 -4.01359367e+00 -5.92985678e+00\n  -1.92952213e+01 -6.81008220e-01 -1.82546997e+01 -1.48962450e+00\n  -4.90013075e+00 -1.26925075e+00 -3.49647737e+00 -5.52955484e+00\n  -1.29950762e+01 -6.39477825e+00 -5.62307978e+00 -6.25336218e+00\n   3.52902842e+00  1.10926360e-01 -2.60639262e+00 -1.53177118e+00\n   8.68818855e+00  3.87965989e+00 -1.74868965e+00  1.44418848e+00\n  -4.68801498e+00 -2.88922763e+00  1.85023761e+00 -1.04883862e+00\n  -3.63739109e+00 -3.54484749e+00  1.02496825e-01  4.01891857e-01]\n [-5.17534790e+02  5.74373741e+01 -7.00803757e+01  3.30244598e+01\n   2.03452759e+01 -2.29855752e+00 -2.89443760e+01  8.51247215e+00\n  -3.75269775e+01  3.55675054e+00 -1.02889719e+01 -5.97841644e+00\n  -1.69538536e+01  3.54902959e+00 -1.65888844e+01  4.18150187e+00\n  -6.79913473e+00  1.96877134e+00 -3.53073215e+00 -3.73746109e+00\n  -1.66029739e+01 -4.24499846e+00 -8.15913868e+00 -7.20223761e+00\n   2.49190092e+00 -1.31736135e+00 -2.49248934e+00 -4.36986971e+00\n   6.83158779e+00  3.91633940e+00 -1.84747040e+00  4.09061480e+00\n  -5.92813921e+00 -2.59881926e+00  2.50937104e+00 -2.37586141e+00\n  -4.20725965e+00 -2.43296695e+00 -1.91804707e-01 -5.51613212e-01]\n [-5.07955292e+02  5.87941322e+01 -7.17330856e+01  3.68425446e+01\n   2.48016930e+01 -7.18074465e+00 -2.83225956e+01  8.91652012e+00\n  -4.12608719e+01  4.70520926e+00 -1.46859608e+01 -4.78074503e+00\n  -1.89972820e+01  2.05392051e+00 -1.80270805e+01  6.91431379e+00\n  -8.36564636e+00  1.19422269e+00 -2.20871472e+00 -3.10863829e+00\n  -1.82018471e+01 -4.98147535e+00 -8.53211308e+00 -6.63327742e+00\n   6.53796554e-01 -8.39760900e-01 -4.98977995e+00 -3.55201006e+00\n   5.58638763e+00  5.00320292e+00 -4.83787596e-01  4.02504206e+00\n  -4.83041811e+00 -1.07222891e+00  1.43096662e+00 -3.01959008e-01\n  -3.89341688e+00 -2.05351257e+00  8.66888165e-02 -5.84876239e-01]\n [-5.19098389e+02  5.35570221e+01 -5.73639793e+01  2.16974545e+01\n   2.33695564e+01 -5.87958956e+00 -2.57153072e+01  5.77488708e+00\n  -2.82618217e+01 -2.35804319e+00 -6.96755171e+00 -7.41614151e+00\n  -1.47824650e+01 -3.79112244e-01 -1.30146379e+01  2.14106250e+00\n  -3.08462095e+00 -2.44198728e+00  1.51958072e+00 -5.86464024e+00\n  -1.37426672e+01 -6.78885984e+00 -5.34598637e+00 -9.40206242e+00\n   3.50778317e+00 -1.81441534e+00 -1.62749541e+00 -4.77726173e+00\n   7.26950502e+00  3.03954482e+00 -6.16836250e-02  3.64284658e+00\n  -5.58433199e+00 -2.59777880e+00  1.35594201e+00 -5.24945259e-01\n  -3.17641234e+00 -1.91276205e+00 -6.31979778e-02  4.58164334e-01]\n [-4.56137909e+02  2.83183594e+01 -1.65053577e+01  1.31108122e+01\n   3.01074481e+00  6.80307961e+00 -2.35527573e+01  4.23366833e+00\n  -3.05609741e+01  2.06456451e+01 -1.73863602e+01  2.11780119e+00\n  -2.60662231e+01  1.03317676e-02 -2.16267128e+01  9.73002243e+00\n  -9.41492558e+00 -1.96826553e+00 -4.76875827e-02  9.85498905e+00\n  -2.13043957e+01  2.25803709e+00 -9.76653957e+00 -2.12139225e+00\n  -2.49487734e+00  2.66471028e+00 -2.92625403e+00 -4.23704195e+00\n   1.33768439e+00  8.70022595e-01 -4.68380928e+00 -5.99903631e+00\n  -2.16861129e+00  1.46233177e+00  1.78444183e+00 -4.49210644e+00\n  -7.67569482e-01 -4.47589606e-01 -5.67494488e+00 -2.35847855e+00]\n [-4.48661194e+02  3.88809662e+01 -1.98777447e+01 -3.53245831e+00\n   8.12618351e+00  7.34801292e+00 -1.82968025e+01  7.60086298e+00\n  -3.18628044e+01  2.15955391e+01 -1.18845205e+01  1.23271203e+00\n  -3.11559887e+01  1.29899633e+00 -2.45065079e+01  3.73008466e+00\n  -7.28975916e+00  1.23677504e+00 -4.84905767e+00  9.42220688e+00\n  -1.69061031e+01  1.45103812e+00 -8.18083858e+00 -2.86656666e+00\n  -2.29258156e+00  3.61753583e+00 -1.87324321e+00 -4.53551817e+00\n   2.44250512e+00  4.40012884e+00 -5.02888918e+00 -6.37529182e+00\n  -2.72597194e+00  4.56773609e-01  2.18968081e+00 -5.50832081e+00\n  -2.13803911e+00 -1.13341796e+00 -5.65315437e+00 -1.19374788e+00]\n [-4.43690125e+02  2.54684601e+01 -2.48383389e+01  5.72603655e+00\n   3.18051887e+00  8.10508347e+00 -2.38829136e+01  4.66237068e+00\n  -3.50177002e+01  1.93841686e+01 -1.86306553e+01  9.64372873e-01\n  -2.60231361e+01  5.42239666e+00 -1.99131050e+01  8.92484379e+00\n  -9.64811707e+00  3.83502245e+00 -6.02890253e+00  1.09018250e+01\n  -1.86425362e+01  3.52277970e+00 -9.81950092e+00 -2.36194372e+00\n  -2.96560979e+00  2.64198542e+00 -1.58861721e+00 -7.09212732e+00\n   1.04732347e+00  2.96311879e+00 -4.81549358e+00 -4.19600296e+00\n  -3.22016740e+00  8.91070068e-01  3.61571360e+00 -5.55507326e+00\n  -1.80543947e+00  1.11240163e-01 -5.28817987e+00 -2.28122687e+00]\n [-4.34880890e+02  2.57615852e+01 -2.44649620e+01  5.49761438e+00\n   7.67762947e+00  1.57922363e+00 -2.07139244e+01  4.48014498e+00\n  -3.86951103e+01  2.26866283e+01 -2.37501087e+01  2.34103227e+00\n  -3.02222748e+01  3.45390105e+00 -2.23523941e+01  1.07702808e+01\n  -1.01114073e+01  2.31804848e+00 -3.32017064e+00  1.13992367e+01\n  -2.07274551e+01  3.49210668e+00 -9.66246414e+00 -1.33800626e+00\n  -4.46531773e+00  2.88453937e+00 -3.00735593e+00 -6.71685648e+00\n  -4.77324069e-01  4.22707891e+00 -3.86516738e+00 -4.72925615e+00\n  -1.23604071e+00  2.36401176e+00  2.42225766e+00 -4.90421247e+00\n  -9.69300747e-01 -7.64122158e-02 -5.19064522e+00 -3.54378009e+00]\n [-4.31439117e+02  2.12208061e+01 -1.25230370e+01 -6.36593676e+00\n   4.17873001e+00  7.18110657e+00 -2.29120388e+01  5.88521862e+00\n  -2.97583275e+01  1.90886421e+01 -1.82966118e+01  2.91993046e+00\n  -2.96333981e+01  4.17464018e+00 -2.12202892e+01  8.41275501e+00\n  -8.29454327e+00  7.53323138e-01 -2.69583368e+00  1.01133261e+01\n  -1.99851780e+01  2.75010252e+00 -8.86037922e+00 -3.49040937e+00\n  -2.49781919e+00  3.75752592e+00 -1.01799977e+00 -9.01315117e+00\n   1.57708153e-01  1.71457493e+00 -3.54325628e+00 -5.36771297e+00\n  -1.94996226e+00  8.65384221e-01  2.83798838e+00 -6.09604120e+00\n  -2.40386143e-01 -6.26999676e-01 -5.65560913e+00 -3.59375858e+00]\n [-5.47133240e+02  5.08062019e+01 -2.29134674e+01  6.71854258e+00\n  -3.25674629e+00  5.06558609e+00 -1.48228216e+01 -3.29598737e+00\n  -2.69223766e+01  2.39822984e+00 -1.39765549e+01  1.47359502e+00\n  -1.12851143e+01 -1.06373310e+01 -2.27375851e+01  3.99546170e+00\n  -2.13558602e+00 -4.08038807e+00  5.99557161e+00 -1.44856489e+00\n  -8.25950241e+00 -1.16058850e+00  8.00719619e-01  4.36983633e+00\n  -6.33353770e-01 -2.32110643e+00 -3.06923199e+00 -6.39439058e+00\n   1.34424555e+00 -3.20417248e-02 -2.30654955e+00 -6.68319941e+00\n  -2.20332384e+00 -3.13811183e+00  3.29310656e+00  1.25322258e+00\n  -1.54089725e+00 -3.01743603e+00 -2.95246315e+00 -2.10592717e-01]\n [-5.56170898e+02  6.34715118e+01 -2.82709484e+01 -6.42340040e+00\n  -3.81912798e-01  5.24246073e+00 -9.62505150e+00  8.21612537e-01\n  -2.77847881e+01  2.18266511e+00 -9.10742664e+00  2.84752321e+00\n  -1.25477514e+01 -1.20312080e+01 -2.67380047e+01 -3.16481543e+00\n  -8.27511430e-01 -1.82873821e+00  1.22666192e+00 -3.90347528e+00\n  -4.67447853e+00 -2.39510560e+00  3.33322644e+00  5.78937054e+00\n   1.26686037e+00 -1.40314293e+00 -1.72795093e+00 -4.97982931e+00\n   3.47691202e+00  3.29423857e+00 -3.18770838e+00 -7.97171783e+00\n  -2.49136806e+00 -3.93241525e+00  3.24648905e+00 -4.24280465e-01\n  -4.22235918e+00 -4.49389648e+00 -4.26934338e+00 -1.08069822e-01]\n [-5.40149048e+02  5.52635689e+01 -3.38223572e+01  2.25609589e+00\n  -4.58004045e+00  8.04479408e+00 -1.31110611e+01 -9.96335924e-01\n  -3.26416588e+01  2.58729744e+00 -1.68472691e+01  4.00920439e+00\n  -9.88566875e+00 -7.18576431e+00 -2.52062359e+01  2.48696399e+00\n  -2.38957095e+00  1.25937212e+00  1.46164227e+00 -2.96076202e+00\n  -6.97892952e+00 -1.07722557e+00  2.38691902e+00  5.38282108e+00\n  -2.49477848e-03 -3.56137562e+00 -2.22578526e+00 -8.71997738e+00\n   1.57830250e+00  2.49656582e+00 -3.02831268e+00 -6.24815321e+00\n  -2.60228109e+00 -4.22205019e+00  5.00133133e+00 -2.27943897e-01\n  -2.97781897e+00 -3.85884595e+00 -3.77613544e+00 -1.37452400e+00]\n [-5.40988525e+02  6.36049576e+01 -3.78196449e+01  8.04633904e+00\n  -3.50460958e+00  6.85754776e+00 -1.48048191e+01  2.72157001e+00\n  -3.84495354e+01  7.10103321e+00 -2.41219635e+01  7.36015892e+00\n  -1.42301245e+01 -7.69475555e+00 -2.94728527e+01  6.21575356e+00\n  -5.73483419e+00  1.81303430e+00  1.70676374e+00 -7.08897784e-02\n  -1.00133190e+01  5.21181405e-01  1.12449825e+00  8.46577263e+00\n  -2.48408461e+00 -1.10677350e+00 -4.23955250e+00 -6.87808084e+00\n  -4.81493652e-01  4.12684631e+00 -2.62622952e+00 -6.55563307e+00\n  -1.36830723e+00 -3.08921885e+00  3.52832937e+00  9.11488175e-01\n  -3.45635366e+00 -4.79859114e+00 -3.88487315e+00 -1.35996401e+00]\n [-5.46864258e+02  5.66234512e+01 -2.48072872e+01 -6.18551922e+00\n  -6.12103033e+00  8.56622028e+00 -1.36999836e+01  1.72161400e+00\n  -2.87221813e+01  1.18928576e+00 -1.69390030e+01  5.74836826e+00\n  -1.18097782e+01 -8.34535122e+00 -2.61014805e+01  2.91098118e+00\n  -1.27739882e+00 -1.92037836e-01  3.44369006e+00 -2.23161817e+00\n  -6.21035767e+00 -1.72589314e+00  2.63826728e+00  5.66233301e+00\n  -4.57718223e-01 -2.60492921e+00 -2.39957190e+00 -8.28894424e+00\n   6.30182624e-01  2.06472707e+00 -2.26694632e+00 -6.52256775e+00\n  -2.07544231e+00 -3.52797961e+00  4.40922880e+00 -4.11466993e-02\n  -2.99716043e+00 -4.14392424e+00 -4.22659254e+00 -8.04139137e-01]]\n[0 0 0 0 0 1 1 1 1 1 2 2 2 2 2 3 3 3 3 3 4 4 4 4 4]\n"
     ]
    }
   ],
   "source": [
    "# Converting both X and y to numpy arrays\n",
    "X_test2 = np.array(X_test2)\n",
    "y_test2 = np.array(y_test2)\n",
    "print(X_test2)\n",
    "print(y_test2)"
   ]
  },
  {
   "cell_type": "code",
   "execution_count": 605,
   "metadata": {},
   "outputs": [
    {
     "output_type": "stream",
     "name": "stdout",
     "text": [
      "[[ 1.0950286   1.2871107   0.7331379   1.144905   -0.321826    0.38363898\n   0.46420735 -0.93768936  1.6444623   0.48640642  0.30870658  0.13742627\n   0.9097219  -0.8807658   1.3435317   0.34611142  0.27732182 -2.2191648\n   0.6794654  -0.37628776 -0.20105104 -0.36789525  0.0267664  -0.5495583\n  -0.62725127 -1.4508902  -1.2784597   1.0424565  -0.65971035 -1.9560868\n   0.1146407  -0.4084372   0.37201136 -0.54848987 -1.9274702  -0.07761235\n   0.5065165  -0.43126735  0.04850386 -0.338496  ]\n [ 0.26441035  1.8731834   0.8397034   0.26334193  0.3302036   0.73675346\n   1.2791787  -0.33448002  1.9783914   0.15210614  1.5409713  -0.10144756\n   0.67084163 -0.7189212   1.1829118  -1.4710959   0.81736875 -1.511827\n  -0.34505922 -0.74611306  1.2303517  -0.96979195  0.53216326 -0.27066743\n   0.17287184 -0.5777714   0.39069742  1.0366776  -0.24885856 -0.6533042\n  -0.45708823 -0.2969109   0.4900352  -0.9425052  -1.3091215  -0.21492328\n  -0.6221407  -0.5349104  -0.09599412 -0.02012658]\n [ 0.88484347  1.3704743   0.410097    0.8445786  -0.2540522   0.8589943\n   0.5744507  -0.75534755  1.0889523   0.12307801  0.16207454  0.11976336\n   1.0767388  -0.0994793   1.398763   -0.13291328 -0.11980567 -0.37670738\n  -0.5284121  -0.49430317  0.4919826  -0.29075015 -0.230123   -0.3148561\n  -0.50716853 -1.2344927   0.15398048 -0.39391443 -0.69242007 -1.2480274\n  -0.31748253  0.09982439  0.22185473 -1.0812862  -0.65835774 -0.5625403\n  -0.345869   -0.27699366  0.47834876 -0.68646973]\n [ 1.1289672   1.5679938   0.4134673   0.98124474  0.37161648 -0.24181819\n   1.1358067  -0.77252144  0.82819694  0.3378993  -0.61160445  0.18305802\n   0.8353182  -0.5903902   1.3386787   0.19389099 -0.19395223 -1.3194622\n   0.12011462 -0.4844291   0.2231381  -0.6355922  -0.24112903 -0.33709604\n  -1.1809781  -1.6139265  -1.6187621  -0.1321109  -1.1799262  -1.3477309\n   0.6787314  -0.14835805  1.1393911  -0.6618053  -1.4555126  -0.35595512\n  -0.0414799  -0.7541092   0.29112282 -1.2306932 ]\n [ 0.7651082   1.4496154   0.93824315  0.28067127 -0.3606236   0.8706016\n   0.43590397 -0.1616988   1.9381369  -0.13226599  0.08423844  0.74635834\n   0.72495514 -0.11686189  1.3892356   0.0440534   0.19340749 -1.427254\n   0.07525428 -0.5128328   0.4355339  -0.4279659  -0.15432899 -0.4927871\n  -1.0798545  -0.9090029  -0.05276008 -0.25876927 -1.1584929  -1.7634311\n   0.42168644  0.00563732  0.56049067 -0.6104467  -1.3489999  -0.23834187\n   0.13319436 -0.6148717  -0.04744434 -0.7338093 ]\n [-0.44440597 -1.2564731   0.00384081  1.0801725   0.01132909 -1.2712617\n  -1.8145559   0.99185944 -1.04064     0.16350614 -1.0943359   0.07117657\n  -0.80515736  0.30975658 -1.1383833   1.4109774  -1.2604256  -0.53569764\n  -0.72712535  0.97997403 -0.8681504   0.8324868   0.01306199  0.5760583\n  -0.41409567  0.8124381  -1.0303524   1.5896177  -0.39958096 -1.0737257\n   0.08762386  0.7615763   0.6306304   0.66115665  0.00407278  1.660023\n   1.9714799   2.1855085   0.66730314  2.0042467 ]\n [-0.9470736  -0.62449175 -0.06004382  0.07970421  0.5890818  -1.0486223\n  -0.99103147  1.7383522  -0.6769187   0.10549029  0.01215573  0.15922517\n  -0.9940039   0.37701786 -1.4113543  -0.56409806 -1.233803   -0.49533242\n  -1.9957424   0.4799513   0.56268317  0.04164144  0.26289418  0.7046072\n   0.2079318   0.9882579   0.64189786  1.5823158  -0.36637065 -0.01158753\n   0.32201707  0.496263    0.76739234  0.7247929   0.9475561   1.2637074\n   0.61914337  1.4973035   0.6251049   2.0132585 ]\n [-0.55269784 -1.2065979  -0.24259244  0.6679915   0.3156771  -0.76727575\n  -1.290066    1.747616   -1.1448997   0.02327491 -1.0556915   0.2366821\n  -0.51834375  1.3557243  -0.65529746  1.1417814  -1.3540716   1.1682882\n  -1.9985203   0.96274114  0.01730645  1.0906934  -0.35829553  0.62985826\n  -0.51088643  0.40283218 -0.5772361   0.36951458 -0.7706995  -0.2676211\n  -0.7529006   1.0968375  -0.05512674  0.6029221   1.3076978   1.0236734\n  -0.97792786  1.4849528   0.21793658  1.4730135 ]\n [-0.39310095 -1.0885786  -0.34692085  0.90348136  0.88653433 -1.8729314\n  -0.97318923  1.3953581  -1.7026207   0.29378536 -1.8716232   0.40162185\n  -0.8764278   0.79806006 -0.9439136   1.5315537  -1.8865789   0.1638588\n  -1.4428872   0.99737835 -0.11222061  0.7366595  -0.25826988  0.8656725\n  -1.3995086   0.08691498 -1.6966593   0.49755913 -1.4975746  -0.26728788\n   0.37806216  0.84620285  0.67525506  1.5203078   1.2326316   1.3972871\n   0.36147374  1.6449169   0.4112939   1.0041234 ]\n [-0.6300751  -1.3703767   0.4507155  -0.11054899  0.51895505 -1.3920009\n  -1.1868421   1.0390475  -0.18345656 -0.7183651  -0.7260587  -0.08810654\n  -0.55711424  0.5048221  -0.37076694  0.4221911  -0.53307754 -0.8532302\n  -0.72153723  0.52778643  0.61505187  0.03416583  0.42188853  0.35243407\n   0.47473297  0.0916353   1.3040712  -0.40259412 -0.53540736 -1.2867808\n   1.9860772   0.7592122   1.849378    0.4858275   2.0356994   1.0368558\n   1.37379     1.0576168   0.8794292   0.46186912]\n [-0.26144508  0.05991935 -1.6713417   1.4153352   1.1644218  -1.085628\n  -1.2373071   0.03529842 -0.47967437 -0.74774265  1.0043262  -1.5973384\n   0.2183843   0.30504745  0.5659156   0.20154206 -0.07574089 -0.31037256\n   1.034039   -0.85421014 -1.2686259  -1.0835918  -0.48257142 -1.4764752\n   1.0310966  -0.5377264  -0.7680877   1.607218    2.091144    0.23041405\n   0.92400384  1.3172452  -1.592347   -0.279188   -0.8959921   0.17171623\n   0.14329854 -0.31090426  1.6361282   0.19899069]\n [-0.89616257  0.6273534  -1.6059804   0.43298018  1.5998003  -0.69575816\n  -0.36595088  0.8363257  -0.13745292 -0.93041897  2.089043   -1.8017826\n  -0.01847281  0.17102057  0.53306425 -1.8897953   0.63982487  0.07220197\n  -0.2540277  -1.3022658   0.12231595 -1.7642218  -0.24122913 -1.1371386\n   2.0926664   0.30661893  0.2786078   1.3865294   2.187444    1.0538735\n   0.5809579   0.9411568  -1.4343365  -0.7126923  -0.4451143   0.04813993\n  -1.1198436  -0.9418574   1.3918144   0.77270764]\n [-0.46495312  0.29885104 -2.1387525   1.1209089   1.2489523  -0.58913237\n  -1.0283388   0.7893978  -0.8666134  -0.814886    0.96477824 -1.8152587\n   0.3437939   1.0526133   0.8703188  -0.36204365  0.0560034   1.1383371\n  -0.26247913 -0.9849246  -0.6468692  -1.0240091  -0.88888264 -1.3410205\n   1.623169   -0.28683025  0.381637    0.15171397  1.6181446   1.0690459\n   0.5051646   1.6336281  -2.260089   -0.5615675  -0.04204127 -0.47514644\n  -1.6002798  -0.40920416  1.2412305   0.14502095]\n [-0.22143686  0.35933208 -2.2378442   1.3909559   1.7497697  -1.4006624\n  -0.9368815   0.8916188  -1.4326127  -0.6476195   0.17703617 -1.4828831\n   0.02762567  0.7410138   0.57914716  0.3741519  -0.42559808  0.88331306\n   0.0636925  -0.8735737  -0.98774064 -1.2775931  -0.98413205 -1.2187698\n   0.7910773  -0.08838872 -1.8772434   0.5075528   1.2363223   1.5186248\n   1.5515016   1.6164702  -1.5291575   0.23285101 -0.7015068   0.34265777\n  -1.3356899  -0.22742419  1.383726    0.12312409]\n [-0.50470066  0.12587415 -1.3763145   0.31976774  1.5888245  -1.184381\n  -0.5533767   0.09680982  0.5378374  -1.6763421   1.559827   -2.214254\n   0.6797607   0.23393945  1.5939469  -0.9117201   1.1979773  -0.31392744\n   0.9835474  -1.3616021  -0.03706659 -1.8999121  -0.17046559 -1.81369\n   2.0830488  -0.49335468  1.164052   -0.02553638  1.7524256   0.7063618\n   1.8753767   1.5164639  -2.0311606  -0.56102604 -0.7473858   0.25472733\n  -0.7312086  -0.15999678  1.3070341   0.8097515 ]\n [ 1.0957904  -0.9992055   1.0734493  -0.28755185 -0.6991229   0.923766\n  -0.23528822 -0.29310665  0.18932237  1.6740146  -0.30675358  0.43158987\n  -1.0661119   0.31510442 -0.14962052  1.1326791  -0.7481839  -0.15795216\n   0.5968668   1.4220047  -1.6491879   1.2151177  -1.2993773  -0.2493152\n  -0.6342962   1.3677083  -0.01071725  0.2095054  -0.06648009 -0.19105649\n  -1.6711231  -1.0064583   0.24324018  1.5518044  -0.48534974 -1.3096477\n   1.2996024   0.54190314 -1.5643015  -1.0444278 ]\n [ 1.2858528  -0.52834964  0.87125075 -1.464704   -0.12424381  1.0143462\n   0.53780764  0.5587677  -0.00801449  1.8123612   0.6789279   0.1859614\n  -1.8536228   0.58367825 -0.7326527  -0.4836515  -0.09483204  0.8973236\n  -0.5877398   1.3453683  -0.71149474  0.93725157 -0.8944243  -0.40942848\n  -0.5427189   1.7636044   0.9417651   0.07964273  0.27229694  1.2691644\n  -1.9358988  -1.1049104  -0.12788546  1.0285248  -0.23753814 -1.7103727\n   0.14420748  0.21335281 -1.5531521  -0.27769247]\n [ 1.4122202  -1.1262473   0.573828   -0.80986536 -0.6800435   1.1401886\n  -0.28385073 -0.18464826 -0.48624673  1.4902877  -0.5296752   0.11149237\n  -1.0594453   1.4430463   0.1973099   0.915771   -0.81987524  1.7528098\n  -0.87883425  1.6073767  -1.0816933   1.6505942  -1.3129025  -0.30100173\n  -0.8473921   1.3582662   1.1992186  -1.0327008  -0.15551502  0.6747483\n  -1.7721629  -0.53467155 -0.45695174  1.2545271   0.63450897 -1.7288086\n   0.42461058  0.809614   -1.3664073  -0.9935734 ]\n [ 1.6361561  -1.1131805   0.59621453 -0.82602125 -0.17465286  0.05544274\n   0.18227434 -0.23074996 -1.0436839   1.9712722  -1.4468503   0.49354059\n  -1.7091545   1.0327872  -0.29653916  1.4129156  -0.96230716  1.2533383\n  -0.21052884  1.6954576  -1.5261872   1.6400329  -1.2727987  -0.08099149\n  -1.5262951   1.4590467  -0.08407655 -0.8694259  -0.6230258   1.1975827\n  -1.0429893  -0.67420405  0.8642041   2.0210273  -0.09531282 -1.4721539\n   1.1295298   0.719718   -1.3165022  -1.8247046 ]\n [ 1.7236478  -1.3155977   1.3122176  -1.6651113  -0.56786335  0.98660266\n  -0.14104524  0.12472285  0.31099084  1.447246   -0.46982965  0.65419537\n  -1.6180409   1.1829983  -0.06733757  0.7778188  -0.40373847  0.73814464\n  -0.05649077  1.4677505  -1.3679376   1.3845458  -1.067964   -0.54347163\n  -0.6356279   1.82177     1.7153605  -1.8685104  -0.42830247  0.15829079\n  -0.7959909  -0.8412645   0.3888304   1.2411605   0.15891469 -1.942129\n   1.7440522   0.45595562 -1.5544081  -1.8576052 ]\n [-1.2173625   0.00324912  0.68923765 -0.73966694 -1.403471    0.63495517\n   1.0487938  -2.1980515   0.7408761  -0.98361796  0.30412972  0.25281084\n   1.2208862  -1.9040012  -0.37452346 -0.41216123  1.4897444  -0.8533792\n   2.0878756  -0.5796105   1.1319158   0.03801567  1.3992676   1.1454347\n   0.20839714 -0.70388323 -0.14004545 -0.7291257  -0.06446821 -0.5641935\n   0.15291888 -1.1854783   0.22012639 -0.84220856  0.4372284   0.95591426\n   0.64763683 -0.68919766 -0.17130226  0.3695127 ]\n [-1.447105    0.5678386   0.36801872 -1.6691757  -1.0803938   0.66435575\n   1.8133312  -1.1563305   0.61014813 -1.0150137   1.1764579   0.63410103\n   1.0255255  -2.1945026  -1.184433   -2.3410769   1.891893   -0.1120121\n   0.9112777  -1.0143222   1.8962244  -0.38705355  2.046014    1.4504455\n   1.0686053  -0.3224722   1.0731868  -0.11367059  0.5894826   0.8117153\n  -0.5231834  -1.5226356   0.0283285  -1.2555542   0.4087209   0.2944226\n  -1.6130097  -1.3965051  -0.84510404  0.43700293]\n [-1.0398204   0.20194796  0.03517245 -1.0552887  -1.5521843   1.1301671\n   1.3005757  -1.6162573  -0.12607647 -0.9560814  -0.21017277  0.95648885\n   1.4374145  -1.1846517  -0.874317   -0.8185373   1.4116604   0.9047638\n   0.9692527  -0.847388    1.4049274   0.06671922  1.804348    1.3630916\n   0.49398074 -1.2192112   0.6228795  -1.7409548   0.00730191  0.48175967\n  -0.40088105 -1.0716429  -0.04552435 -1.4062766   1.4818414   0.37184423\n  -0.5637815  -1.0922803  -0.59274673 -0.39669633]\n [-1.0611604   0.5737873  -0.20449327 -0.645754   -1.4313262   0.93281984\n   1.0514418  -0.67565584 -1.0064585  -0.2986813  -1.5134699   1.8864402\n   0.7652213  -1.2907318  -1.7381197   0.18596591  0.3832073   1.08706\n   1.0297296  -0.33565405  0.75801116  0.61708313  1.4819534   2.0255158\n  -0.62941045 -0.19933164 -1.1986383  -0.9395722  -0.6243043   1.1561217\n  -0.0923676  -1.1520989   0.77613276 -0.81676525  0.5810718   0.82115775\n  -0.96721727 -1.542471   -0.64838403 -0.38711157]\n [-1.2105249   0.2625683   0.57568973 -1.6523508  -1.7253627   1.2168399\n   1.2139515  -0.92863697  0.46805418 -1.1596938  -0.22660735  1.4391388\n   1.1397079  -1.426324   -1.0555648  -0.7043108   1.7535818   0.4268798\n   1.4582688  -0.7182723   1.5687828  -0.15663016  1.8685367   1.4231495\n   0.28790557 -0.8218107   0.46568385 -1.5534184  -0.28342512  0.30313048\n   0.18330595 -1.1434469   0.3052779  -1.0450909   1.1197591   0.44550416\n  -0.5800876  -1.2288488  -0.82322997 -0.02121538]]\n"
     ]
    }
   ],
   "source": [
    "# Standardizing the features\n",
    "X_test2 = scaler.fit_transform(X_test2)\n",
    "print(X_test2)"
   ]
  },
  {
   "source": [
    "# Measuring the accuracy of the four different SVM kernels"
   ],
   "cell_type": "markdown",
   "metadata": {}
  },
  {
   "cell_type": "code",
   "execution_count": 600,
   "metadata": {},
   "outputs": [
    {
     "output_type": "stream",
     "name": "stdout",
     "text": [
      "Accuracy Linear Kernel: 0.96\nAccuracy Polynomial Kernel: 0.8\nAccuracy Radial Basis Kernel: 0.2\nAccuracy Sigmoid Kernel: 1.0\n\nConfusion matrix:\n[[5 0 0 0 0]\n [0 5 0 0 0]\n [0 0 5 0 0]\n [0 1 0 4 0]\n [0 0 0 0 5]]\n[[5 0 0 0 0]\n [0 5 0 0 0]\n [0 0 5 0 0]\n [4 1 0 0 0]\n [0 0 0 0 5]]\n[[0 0 5 0 0]\n [0 0 5 0 0]\n [0 0 5 0 0]\n [0 0 5 0 0]\n [0 0 5 0 0]]\n[[5 0 0 0 0]\n [0 5 0 0 0]\n [0 0 5 0 0]\n [0 0 0 5 0]\n [0 0 0 0 5]]\n"
     ]
    }
   ],
   "source": [
    "# Measuring the accuracy \n",
    "accuracy_lin = linear.score(X_test2, y_test2)\n",
    "accuracy_poly = poly.score(X_test2, y_test2)\n",
    "accuracy_rbf = rbf.score(X_test2, y_test2)\n",
    "accuracy_sig = sig.score(X_test2, y_test2)\n",
    "\n",
    "print('Accuracy Linear Kernel:', accuracy_lin)\n",
    "print('Accuracy Polynomial Kernel:', accuracy_poly)\n",
    "print('Accuracy Radial Basis Kernel:', accuracy_rbf)\n",
    "print('Accuracy Sigmoid Kernel:', accuracy_sig)\n",
    "\n",
    "# Making the predictions\n",
    "linear_pred = linear.predict(X_test2)\n",
    "poly_pred = poly.predict(X_test2)\n",
    "rbf_pred = rbf.predict(X_test2)\n",
    "sig_pred = sig.predict(X_test2)\n",
    "\n",
    "print(\"\\nConfusion matrix:\")\n",
    "cm_lin = confusion_matrix(y_test2, linear_pred)\n",
    "cm_poly = confusion_matrix(y_test2, poly_pred)\n",
    "cm_rbf = confusion_matrix(y_test2, rbf_pred)\n",
    "cm_sig = confusion_matrix(y_test2, sig_pred)\n",
    "print(cm_lin)\n",
    "print(cm_poly)\n",
    "print(cm_rbf)\n",
    "print(cm_sig)"
   ]
  },
  {
   "source": [
    "### This time around\n",
    "we see that the accuracy dropped ever so slightly for the linear, and a substantial bit for the polynomial kernel. The rbf kernel actually improved, and the sigmoid kernel retained the full 100% accuracy seen before. What we see is that both the linear and poly kernel had problems classifying the soundbar this time around. This may be because of differences in microphone position and surroundings where the clip was recorded. It certainly indicates that our original training set was too \"clean\" and small. We believe we would have obtained better results with a more messy and larger dataset when it comes to these \"real world\" tests.  "
   ],
   "cell_type": "markdown",
   "metadata": {}
  },
  {
   "source": [
    "# Measuring the accuracy of the convolutional neural network"
   ],
   "cell_type": "markdown",
   "metadata": {}
  },
  {
   "cell_type": "code",
   "execution_count": 607,
   "metadata": {},
   "outputs": [],
   "source": [
    "# Reshaping the array for the CNN\n",
    "X_test2_rs = X_test2.reshape(np.append(X_test2.shape, 1))"
   ]
  },
  {
   "cell_type": "code",
   "execution_count": 608,
   "metadata": {},
   "outputs": [
    {
     "output_type": "stream",
     "name": "stdout",
     "text": [
      "[[[ 1.0950286 ]\n  [ 1.2871107 ]\n  [ 0.7331379 ]\n  [ 1.144905  ]\n  [-0.321826  ]\n  [ 0.38363898]\n  [ 0.46420735]\n  [-0.93768936]\n  [ 1.6444623 ]\n  [ 0.48640642]\n  [ 0.30870658]\n  [ 0.13742627]\n  [ 0.9097219 ]\n  [-0.8807658 ]\n  [ 1.3435317 ]\n  [ 0.34611142]\n  [ 0.27732182]\n  [-2.2191648 ]\n  [ 0.6794654 ]\n  [-0.37628776]\n  [-0.20105104]\n  [-0.36789525]\n  [ 0.0267664 ]\n  [-0.5495583 ]\n  [-0.62725127]\n  [-1.4508902 ]\n  [-1.2784597 ]\n  [ 1.0424565 ]\n  [-0.65971035]\n  [-1.9560868 ]\n  [ 0.1146407 ]\n  [-0.4084372 ]\n  [ 0.37201136]\n  [-0.54848987]\n  [-1.9274702 ]\n  [-0.07761235]\n  [ 0.5065165 ]\n  [-0.43126735]\n  [ 0.04850386]\n  [-0.338496  ]]\n\n [[ 0.26441035]\n  [ 1.8731834 ]\n  [ 0.8397034 ]\n  [ 0.26334193]\n  [ 0.3302036 ]\n  [ 0.73675346]\n  [ 1.2791787 ]\n  [-0.33448002]\n  [ 1.9783914 ]\n  [ 0.15210614]\n  [ 1.5409713 ]\n  [-0.10144756]\n  [ 0.67084163]\n  [-0.7189212 ]\n  [ 1.1829118 ]\n  [-1.4710959 ]\n  [ 0.81736875]\n  [-1.511827  ]\n  [-0.34505922]\n  [-0.74611306]\n  [ 1.2303517 ]\n  [-0.96979195]\n  [ 0.53216326]\n  [-0.27066743]\n  [ 0.17287184]\n  [-0.5777714 ]\n  [ 0.39069742]\n  [ 1.0366776 ]\n  [-0.24885856]\n  [-0.6533042 ]\n  [-0.45708823]\n  [-0.2969109 ]\n  [ 0.4900352 ]\n  [-0.9425052 ]\n  [-1.3091215 ]\n  [-0.21492328]\n  [-0.6221407 ]\n  [-0.5349104 ]\n  [-0.09599412]\n  [-0.02012658]]\n\n [[ 0.88484347]\n  [ 1.3704743 ]\n  [ 0.410097  ]\n  [ 0.8445786 ]\n  [-0.2540522 ]\n  [ 0.8589943 ]\n  [ 0.5744507 ]\n  [-0.75534755]\n  [ 1.0889523 ]\n  [ 0.12307801]\n  [ 0.16207454]\n  [ 0.11976336]\n  [ 1.0767388 ]\n  [-0.0994793 ]\n  [ 1.398763  ]\n  [-0.13291328]\n  [-0.11980567]\n  [-0.37670738]\n  [-0.5284121 ]\n  [-0.49430317]\n  [ 0.4919826 ]\n  [-0.29075015]\n  [-0.230123  ]\n  [-0.3148561 ]\n  [-0.50716853]\n  [-1.2344927 ]\n  [ 0.15398048]\n  [-0.39391443]\n  [-0.69242007]\n  [-1.2480274 ]\n  [-0.31748253]\n  [ 0.09982439]\n  [ 0.22185473]\n  [-1.0812862 ]\n  [-0.65835774]\n  [-0.5625403 ]\n  [-0.345869  ]\n  [-0.27699366]\n  [ 0.47834876]\n  [-0.68646973]]\n\n [[ 1.1289672 ]\n  [ 1.5679938 ]\n  [ 0.4134673 ]\n  [ 0.98124474]\n  [ 0.37161648]\n  [-0.24181819]\n  [ 1.1358067 ]\n  [-0.77252144]\n  [ 0.82819694]\n  [ 0.3378993 ]\n  [-0.61160445]\n  [ 0.18305802]\n  [ 0.8353182 ]\n  [-0.5903902 ]\n  [ 1.3386787 ]\n  [ 0.19389099]\n  [-0.19395223]\n  [-1.3194622 ]\n  [ 0.12011462]\n  [-0.4844291 ]\n  [ 0.2231381 ]\n  [-0.6355922 ]\n  [-0.24112903]\n  [-0.33709604]\n  [-1.1809781 ]\n  [-1.6139265 ]\n  [-1.6187621 ]\n  [-0.1321109 ]\n  [-1.1799262 ]\n  [-1.3477309 ]\n  [ 0.6787314 ]\n  [-0.14835805]\n  [ 1.1393911 ]\n  [-0.6618053 ]\n  [-1.4555126 ]\n  [-0.35595512]\n  [-0.0414799 ]\n  [-0.7541092 ]\n  [ 0.29112282]\n  [-1.2306932 ]]\n\n [[ 0.7651082 ]\n  [ 1.4496154 ]\n  [ 0.93824315]\n  [ 0.28067127]\n  [-0.3606236 ]\n  [ 0.8706016 ]\n  [ 0.43590397]\n  [-0.1616988 ]\n  [ 1.9381369 ]\n  [-0.13226599]\n  [ 0.08423844]\n  [ 0.74635834]\n  [ 0.72495514]\n  [-0.11686189]\n  [ 1.3892356 ]\n  [ 0.0440534 ]\n  [ 0.19340749]\n  [-1.427254  ]\n  [ 0.07525428]\n  [-0.5128328 ]\n  [ 0.4355339 ]\n  [-0.4279659 ]\n  [-0.15432899]\n  [-0.4927871 ]\n  [-1.0798545 ]\n  [-0.9090029 ]\n  [-0.05276008]\n  [-0.25876927]\n  [-1.1584929 ]\n  [-1.7634311 ]\n  [ 0.42168644]\n  [ 0.00563732]\n  [ 0.56049067]\n  [-0.6104467 ]\n  [-1.3489999 ]\n  [-0.23834187]\n  [ 0.13319436]\n  [-0.6148717 ]\n  [-0.04744434]\n  [-0.7338093 ]]\n\n [[-0.44440597]\n  [-1.2564731 ]\n  [ 0.00384081]\n  [ 1.0801725 ]\n  [ 0.01132909]\n  [-1.2712617 ]\n  [-1.8145559 ]\n  [ 0.99185944]\n  [-1.04064   ]\n  [ 0.16350614]\n  [-1.0943359 ]\n  [ 0.07117657]\n  [-0.80515736]\n  [ 0.30975658]\n  [-1.1383833 ]\n  [ 1.4109774 ]\n  [-1.2604256 ]\n  [-0.53569764]\n  [-0.72712535]\n  [ 0.97997403]\n  [-0.8681504 ]\n  [ 0.8324868 ]\n  [ 0.01306199]\n  [ 0.5760583 ]\n  [-0.41409567]\n  [ 0.8124381 ]\n  [-1.0303524 ]\n  [ 1.5896177 ]\n  [-0.39958096]\n  [-1.0737257 ]\n  [ 0.08762386]\n  [ 0.7615763 ]\n  [ 0.6306304 ]\n  [ 0.66115665]\n  [ 0.00407278]\n  [ 1.660023  ]\n  [ 1.9714799 ]\n  [ 2.1855085 ]\n  [ 0.66730314]\n  [ 2.0042467 ]]\n\n [[-0.9470736 ]\n  [-0.62449175]\n  [-0.06004382]\n  [ 0.07970421]\n  [ 0.5890818 ]\n  [-1.0486223 ]\n  [-0.99103147]\n  [ 1.7383522 ]\n  [-0.6769187 ]\n  [ 0.10549029]\n  [ 0.01215573]\n  [ 0.15922517]\n  [-0.9940039 ]\n  [ 0.37701786]\n  [-1.4113543 ]\n  [-0.56409806]\n  [-1.233803  ]\n  [-0.49533242]\n  [-1.9957424 ]\n  [ 0.4799513 ]\n  [ 0.56268317]\n  [ 0.04164144]\n  [ 0.26289418]\n  [ 0.7046072 ]\n  [ 0.2079318 ]\n  [ 0.9882579 ]\n  [ 0.64189786]\n  [ 1.5823158 ]\n  [-0.36637065]\n  [-0.01158753]\n  [ 0.32201707]\n  [ 0.496263  ]\n  [ 0.76739234]\n  [ 0.7247929 ]\n  [ 0.9475561 ]\n  [ 1.2637074 ]\n  [ 0.61914337]\n  [ 1.4973035 ]\n  [ 0.6251049 ]\n  [ 2.0132585 ]]\n\n [[-0.55269784]\n  [-1.2065979 ]\n  [-0.24259244]\n  [ 0.6679915 ]\n  [ 0.3156771 ]\n  [-0.76727575]\n  [-1.290066  ]\n  [ 1.747616  ]\n  [-1.1448997 ]\n  [ 0.02327491]\n  [-1.0556915 ]\n  [ 0.2366821 ]\n  [-0.51834375]\n  [ 1.3557243 ]\n  [-0.65529746]\n  [ 1.1417814 ]\n  [-1.3540716 ]\n  [ 1.1682882 ]\n  [-1.9985203 ]\n  [ 0.96274114]\n  [ 0.01730645]\n  [ 1.0906934 ]\n  [-0.35829553]\n  [ 0.62985826]\n  [-0.51088643]\n  [ 0.40283218]\n  [-0.5772361 ]\n  [ 0.36951458]\n  [-0.7706995 ]\n  [-0.2676211 ]\n  [-0.7529006 ]\n  [ 1.0968375 ]\n  [-0.05512674]\n  [ 0.6029221 ]\n  [ 1.3076978 ]\n  [ 1.0236734 ]\n  [-0.97792786]\n  [ 1.4849528 ]\n  [ 0.21793658]\n  [ 1.4730135 ]]\n\n [[-0.39310095]\n  [-1.0885786 ]\n  [-0.34692085]\n  [ 0.90348136]\n  [ 0.88653433]\n  [-1.8729314 ]\n  [-0.97318923]\n  [ 1.3953581 ]\n  [-1.7026207 ]\n  [ 0.29378536]\n  [-1.8716232 ]\n  [ 0.40162185]\n  [-0.8764278 ]\n  [ 0.79806006]\n  [-0.9439136 ]\n  [ 1.5315537 ]\n  [-1.8865789 ]\n  [ 0.1638588 ]\n  [-1.4428872 ]\n  [ 0.99737835]\n  [-0.11222061]\n  [ 0.7366595 ]\n  [-0.25826988]\n  [ 0.8656725 ]\n  [-1.3995086 ]\n  [ 0.08691498]\n  [-1.6966593 ]\n  [ 0.49755913]\n  [-1.4975746 ]\n  [-0.26728788]\n  [ 0.37806216]\n  [ 0.84620285]\n  [ 0.67525506]\n  [ 1.5203078 ]\n  [ 1.2326316 ]\n  [ 1.3972871 ]\n  [ 0.36147374]\n  [ 1.6449169 ]\n  [ 0.4112939 ]\n  [ 1.0041234 ]]\n\n [[-0.6300751 ]\n  [-1.3703767 ]\n  [ 0.4507155 ]\n  [-0.11054899]\n  [ 0.51895505]\n  [-1.3920009 ]\n  [-1.1868421 ]\n  [ 1.0390475 ]\n  [-0.18345656]\n  [-0.7183651 ]\n  [-0.7260587 ]\n  [-0.08810654]\n  [-0.55711424]\n  [ 0.5048221 ]\n  [-0.37076694]\n  [ 0.4221911 ]\n  [-0.53307754]\n  [-0.8532302 ]\n  [-0.72153723]\n  [ 0.52778643]\n  [ 0.61505187]\n  [ 0.03416583]\n  [ 0.42188853]\n  [ 0.35243407]\n  [ 0.47473297]\n  [ 0.0916353 ]\n  [ 1.3040712 ]\n  [-0.40259412]\n  [-0.53540736]\n  [-1.2867808 ]\n  [ 1.9860772 ]\n  [ 0.7592122 ]\n  [ 1.849378  ]\n  [ 0.4858275 ]\n  [ 2.0356994 ]\n  [ 1.0368558 ]\n  [ 1.37379   ]\n  [ 1.0576168 ]\n  [ 0.8794292 ]\n  [ 0.46186912]]\n\n [[-0.26144508]\n  [ 0.05991935]\n  [-1.6713417 ]\n  [ 1.4153352 ]\n  [ 1.1644218 ]\n  [-1.085628  ]\n  [-1.2373071 ]\n  [ 0.03529842]\n  [-0.47967437]\n  [-0.74774265]\n  [ 1.0043262 ]\n  [-1.5973384 ]\n  [ 0.2183843 ]\n  [ 0.30504745]\n  [ 0.5659156 ]\n  [ 0.20154206]\n  [-0.07574089]\n  [-0.31037256]\n  [ 1.034039  ]\n  [-0.85421014]\n  [-1.2686259 ]\n  [-1.0835918 ]\n  [-0.48257142]\n  [-1.4764752 ]\n  [ 1.0310966 ]\n  [-0.5377264 ]\n  [-0.7680877 ]\n  [ 1.607218  ]\n  [ 2.091144  ]\n  [ 0.23041405]\n  [ 0.92400384]\n  [ 1.3172452 ]\n  [-1.592347  ]\n  [-0.279188  ]\n  [-0.8959921 ]\n  [ 0.17171623]\n  [ 0.14329854]\n  [-0.31090426]\n  [ 1.6361282 ]\n  [ 0.19899069]]\n\n [[-0.89616257]\n  [ 0.6273534 ]\n  [-1.6059804 ]\n  [ 0.43298018]\n  [ 1.5998003 ]\n  [-0.69575816]\n  [-0.36595088]\n  [ 0.8363257 ]\n  [-0.13745292]\n  [-0.93041897]\n  [ 2.089043  ]\n  [-1.8017826 ]\n  [-0.01847281]\n  [ 0.17102057]\n  [ 0.53306425]\n  [-1.8897953 ]\n  [ 0.63982487]\n  [ 0.07220197]\n  [-0.2540277 ]\n  [-1.3022658 ]\n  [ 0.12231595]\n  [-1.7642218 ]\n  [-0.24122913]\n  [-1.1371386 ]\n  [ 2.0926664 ]\n  [ 0.30661893]\n  [ 0.2786078 ]\n  [ 1.3865294 ]\n  [ 2.187444  ]\n  [ 1.0538735 ]\n  [ 0.5809579 ]\n  [ 0.9411568 ]\n  [-1.4343365 ]\n  [-0.7126923 ]\n  [-0.4451143 ]\n  [ 0.04813993]\n  [-1.1198436 ]\n  [-0.9418574 ]\n  [ 1.3918144 ]\n  [ 0.77270764]]\n\n [[-0.46495312]\n  [ 0.29885104]\n  [-2.1387525 ]\n  [ 1.1209089 ]\n  [ 1.2489523 ]\n  [-0.58913237]\n  [-1.0283388 ]\n  [ 0.7893978 ]\n  [-0.8666134 ]\n  [-0.814886  ]\n  [ 0.96477824]\n  [-1.8152587 ]\n  [ 0.3437939 ]\n  [ 1.0526133 ]\n  [ 0.8703188 ]\n  [-0.36204365]\n  [ 0.0560034 ]\n  [ 1.1383371 ]\n  [-0.26247913]\n  [-0.9849246 ]\n  [-0.6468692 ]\n  [-1.0240091 ]\n  [-0.88888264]\n  [-1.3410205 ]\n  [ 1.623169  ]\n  [-0.28683025]\n  [ 0.381637  ]\n  [ 0.15171397]\n  [ 1.6181446 ]\n  [ 1.0690459 ]\n  [ 0.5051646 ]\n  [ 1.6336281 ]\n  [-2.260089  ]\n  [-0.5615675 ]\n  [-0.04204127]\n  [-0.47514644]\n  [-1.6002798 ]\n  [-0.40920416]\n  [ 1.2412305 ]\n  [ 0.14502095]]\n\n [[-0.22143686]\n  [ 0.35933208]\n  [-2.2378442 ]\n  [ 1.3909559 ]\n  [ 1.7497697 ]\n  [-1.4006624 ]\n  [-0.9368815 ]\n  [ 0.8916188 ]\n  [-1.4326127 ]\n  [-0.6476195 ]\n  [ 0.17703617]\n  [-1.4828831 ]\n  [ 0.02762567]\n  [ 0.7410138 ]\n  [ 0.57914716]\n  [ 0.3741519 ]\n  [-0.42559808]\n  [ 0.88331306]\n  [ 0.0636925 ]\n  [-0.8735737 ]\n  [-0.98774064]\n  [-1.2775931 ]\n  [-0.98413205]\n  [-1.2187698 ]\n  [ 0.7910773 ]\n  [-0.08838872]\n  [-1.8772434 ]\n  [ 0.5075528 ]\n  [ 1.2363223 ]\n  [ 1.5186248 ]\n  [ 1.5515016 ]\n  [ 1.6164702 ]\n  [-1.5291575 ]\n  [ 0.23285101]\n  [-0.7015068 ]\n  [ 0.34265777]\n  [-1.3356899 ]\n  [-0.22742419]\n  [ 1.383726  ]\n  [ 0.12312409]]\n\n [[-0.50470066]\n  [ 0.12587415]\n  [-1.3763145 ]\n  [ 0.31976774]\n  [ 1.5888245 ]\n  [-1.184381  ]\n  [-0.5533767 ]\n  [ 0.09680982]\n  [ 0.5378374 ]\n  [-1.6763421 ]\n  [ 1.559827  ]\n  [-2.214254  ]\n  [ 0.6797607 ]\n  [ 0.23393945]\n  [ 1.5939469 ]\n  [-0.9117201 ]\n  [ 1.1979773 ]\n  [-0.31392744]\n  [ 0.9835474 ]\n  [-1.3616021 ]\n  [-0.03706659]\n  [-1.8999121 ]\n  [-0.17046559]\n  [-1.81369   ]\n  [ 2.0830488 ]\n  [-0.49335468]\n  [ 1.164052  ]\n  [-0.02553638]\n  [ 1.7524256 ]\n  [ 0.7063618 ]\n  [ 1.8753767 ]\n  [ 1.5164639 ]\n  [-2.0311606 ]\n  [-0.56102604]\n  [-0.7473858 ]\n  [ 0.25472733]\n  [-0.7312086 ]\n  [-0.15999678]\n  [ 1.3070341 ]\n  [ 0.8097515 ]]\n\n [[ 1.0957904 ]\n  [-0.9992055 ]\n  [ 1.0734493 ]\n  [-0.28755185]\n  [-0.6991229 ]\n  [ 0.923766  ]\n  [-0.23528822]\n  [-0.29310665]\n  [ 0.18932237]\n  [ 1.6740146 ]\n  [-0.30675358]\n  [ 0.43158987]\n  [-1.0661119 ]\n  [ 0.31510442]\n  [-0.14962052]\n  [ 1.1326791 ]\n  [-0.7481839 ]\n  [-0.15795216]\n  [ 0.5968668 ]\n  [ 1.4220047 ]\n  [-1.6491879 ]\n  [ 1.2151177 ]\n  [-1.2993773 ]\n  [-0.2493152 ]\n  [-0.6342962 ]\n  [ 1.3677083 ]\n  [-0.01071725]\n  [ 0.2095054 ]\n  [-0.06648009]\n  [-0.19105649]\n  [-1.6711231 ]\n  [-1.0064583 ]\n  [ 0.24324018]\n  [ 1.5518044 ]\n  [-0.48534974]\n  [-1.3096477 ]\n  [ 1.2996024 ]\n  [ 0.54190314]\n  [-1.5643015 ]\n  [-1.0444278 ]]\n\n [[ 1.2858528 ]\n  [-0.52834964]\n  [ 0.87125075]\n  [-1.464704  ]\n  [-0.12424381]\n  [ 1.0143462 ]\n  [ 0.53780764]\n  [ 0.5587677 ]\n  [-0.00801449]\n  [ 1.8123612 ]\n  [ 0.6789279 ]\n  [ 0.1859614 ]\n  [-1.8536228 ]\n  [ 0.58367825]\n  [-0.7326527 ]\n  [-0.4836515 ]\n  [-0.09483204]\n  [ 0.8973236 ]\n  [-0.5877398 ]\n  [ 1.3453683 ]\n  [-0.71149474]\n  [ 0.93725157]\n  [-0.8944243 ]\n  [-0.40942848]\n  [-0.5427189 ]\n  [ 1.7636044 ]\n  [ 0.9417651 ]\n  [ 0.07964273]\n  [ 0.27229694]\n  [ 1.2691644 ]\n  [-1.9358988 ]\n  [-1.1049104 ]\n  [-0.12788546]\n  [ 1.0285248 ]\n  [-0.23753814]\n  [-1.7103727 ]\n  [ 0.14420748]\n  [ 0.21335281]\n  [-1.5531521 ]\n  [-0.27769247]]\n\n [[ 1.4122202 ]\n  [-1.1262473 ]\n  [ 0.573828  ]\n  [-0.80986536]\n  [-0.6800435 ]\n  [ 1.1401886 ]\n  [-0.28385073]\n  [-0.18464826]\n  [-0.48624673]\n  [ 1.4902877 ]\n  [-0.5296752 ]\n  [ 0.11149237]\n  [-1.0594453 ]\n  [ 1.4430463 ]\n  [ 0.1973099 ]\n  [ 0.915771  ]\n  [-0.81987524]\n  [ 1.7528098 ]\n  [-0.87883425]\n  [ 1.6073767 ]\n  [-1.0816933 ]\n  [ 1.6505942 ]\n  [-1.3129025 ]\n  [-0.30100173]\n  [-0.8473921 ]\n  [ 1.3582662 ]\n  [ 1.1992186 ]\n  [-1.0327008 ]\n  [-0.15551502]\n  [ 0.6747483 ]\n  [-1.7721629 ]\n  [-0.53467155]\n  [-0.45695174]\n  [ 1.2545271 ]\n  [ 0.63450897]\n  [-1.7288086 ]\n  [ 0.42461058]\n  [ 0.809614  ]\n  [-1.3664073 ]\n  [-0.9935734 ]]\n\n [[ 1.6361561 ]\n  [-1.1131805 ]\n  [ 0.59621453]\n  [-0.82602125]\n  [-0.17465286]\n  [ 0.05544274]\n  [ 0.18227434]\n  [-0.23074996]\n  [-1.0436839 ]\n  [ 1.9712722 ]\n  [-1.4468503 ]\n  [ 0.49354059]\n  [-1.7091545 ]\n  [ 1.0327872 ]\n  [-0.29653916]\n  [ 1.4129156 ]\n  [-0.96230716]\n  [ 1.2533383 ]\n  [-0.21052884]\n  [ 1.6954576 ]\n  [-1.5261872 ]\n  [ 1.6400329 ]\n  [-1.2727987 ]\n  [-0.08099149]\n  [-1.5262951 ]\n  [ 1.4590467 ]\n  [-0.08407655]\n  [-0.8694259 ]\n  [-0.6230258 ]\n  [ 1.1975827 ]\n  [-1.0429893 ]\n  [-0.67420405]\n  [ 0.8642041 ]\n  [ 2.0210273 ]\n  [-0.09531282]\n  [-1.4721539 ]\n  [ 1.1295298 ]\n  [ 0.719718  ]\n  [-1.3165022 ]\n  [-1.8247046 ]]\n\n [[ 1.7236478 ]\n  [-1.3155977 ]\n  [ 1.3122176 ]\n  [-1.6651113 ]\n  [-0.56786335]\n  [ 0.98660266]\n  [-0.14104524]\n  [ 0.12472285]\n  [ 0.31099084]\n  [ 1.447246  ]\n  [-0.46982965]\n  [ 0.65419537]\n  [-1.6180409 ]\n  [ 1.1829983 ]\n  [-0.06733757]\n  [ 0.7778188 ]\n  [-0.40373847]\n  [ 0.73814464]\n  [-0.05649077]\n  [ 1.4677505 ]\n  [-1.3679376 ]\n  [ 1.3845458 ]\n  [-1.067964  ]\n  [-0.54347163]\n  [-0.6356279 ]\n  [ 1.82177   ]\n  [ 1.7153605 ]\n  [-1.8685104 ]\n  [-0.42830247]\n  [ 0.15829079]\n  [-0.7959909 ]\n  [-0.8412645 ]\n  [ 0.3888304 ]\n  [ 1.2411605 ]\n  [ 0.15891469]\n  [-1.942129  ]\n  [ 1.7440522 ]\n  [ 0.45595562]\n  [-1.5544081 ]\n  [-1.8576052 ]]\n\n [[-1.2173625 ]\n  [ 0.00324912]\n  [ 0.68923765]\n  [-0.73966694]\n  [-1.403471  ]\n  [ 0.63495517]\n  [ 1.0487938 ]\n  [-2.1980515 ]\n  [ 0.7408761 ]\n  [-0.98361796]\n  [ 0.30412972]\n  [ 0.25281084]\n  [ 1.2208862 ]\n  [-1.9040012 ]\n  [-0.37452346]\n  [-0.41216123]\n  [ 1.4897444 ]\n  [-0.8533792 ]\n  [ 2.0878756 ]\n  [-0.5796105 ]\n  [ 1.1319158 ]\n  [ 0.03801567]\n  [ 1.3992676 ]\n  [ 1.1454347 ]\n  [ 0.20839714]\n  [-0.70388323]\n  [-0.14004545]\n  [-0.7291257 ]\n  [-0.06446821]\n  [-0.5641935 ]\n  [ 0.15291888]\n  [-1.1854783 ]\n  [ 0.22012639]\n  [-0.84220856]\n  [ 0.4372284 ]\n  [ 0.95591426]\n  [ 0.64763683]\n  [-0.68919766]\n  [-0.17130226]\n  [ 0.3695127 ]]\n\n [[-1.447105  ]\n  [ 0.5678386 ]\n  [ 0.36801872]\n  [-1.6691757 ]\n  [-1.0803938 ]\n  [ 0.66435575]\n  [ 1.8133312 ]\n  [-1.1563305 ]\n  [ 0.61014813]\n  [-1.0150137 ]\n  [ 1.1764579 ]\n  [ 0.63410103]\n  [ 1.0255255 ]\n  [-2.1945026 ]\n  [-1.184433  ]\n  [-2.3410769 ]\n  [ 1.891893  ]\n  [-0.1120121 ]\n  [ 0.9112777 ]\n  [-1.0143222 ]\n  [ 1.8962244 ]\n  [-0.38705355]\n  [ 2.046014  ]\n  [ 1.4504455 ]\n  [ 1.0686053 ]\n  [-0.3224722 ]\n  [ 1.0731868 ]\n  [-0.11367059]\n  [ 0.5894826 ]\n  [ 0.8117153 ]\n  [-0.5231834 ]\n  [-1.5226356 ]\n  [ 0.0283285 ]\n  [-1.2555542 ]\n  [ 0.4087209 ]\n  [ 0.2944226 ]\n  [-1.6130097 ]\n  [-1.3965051 ]\n  [-0.84510404]\n  [ 0.43700293]]\n\n [[-1.0398204 ]\n  [ 0.20194796]\n  [ 0.03517245]\n  [-1.0552887 ]\n  [-1.5521843 ]\n  [ 1.1301671 ]\n  [ 1.3005757 ]\n  [-1.6162573 ]\n  [-0.12607647]\n  [-0.9560814 ]\n  [-0.21017277]\n  [ 0.95648885]\n  [ 1.4374145 ]\n  [-1.1846517 ]\n  [-0.874317  ]\n  [-0.8185373 ]\n  [ 1.4116604 ]\n  [ 0.9047638 ]\n  [ 0.9692527 ]\n  [-0.847388  ]\n  [ 1.4049274 ]\n  [ 0.06671922]\n  [ 1.804348  ]\n  [ 1.3630916 ]\n  [ 0.49398074]\n  [-1.2192112 ]\n  [ 0.6228795 ]\n  [-1.7409548 ]\n  [ 0.00730191]\n  [ 0.48175967]\n  [-0.40088105]\n  [-1.0716429 ]\n  [-0.04552435]\n  [-1.4062766 ]\n  [ 1.4818414 ]\n  [ 0.37184423]\n  [-0.5637815 ]\n  [-1.0922803 ]\n  [-0.59274673]\n  [-0.39669633]]\n\n [[-1.0611604 ]\n  [ 0.5737873 ]\n  [-0.20449327]\n  [-0.645754  ]\n  [-1.4313262 ]\n  [ 0.93281984]\n  [ 1.0514418 ]\n  [-0.67565584]\n  [-1.0064585 ]\n  [-0.2986813 ]\n  [-1.5134699 ]\n  [ 1.8864402 ]\n  [ 0.7652213 ]\n  [-1.2907318 ]\n  [-1.7381197 ]\n  [ 0.18596591]\n  [ 0.3832073 ]\n  [ 1.08706   ]\n  [ 1.0297296 ]\n  [-0.33565405]\n  [ 0.75801116]\n  [ 0.61708313]\n  [ 1.4819534 ]\n  [ 2.0255158 ]\n  [-0.62941045]\n  [-0.19933164]\n  [-1.1986383 ]\n  [-0.9395722 ]\n  [-0.6243043 ]\n  [ 1.1561217 ]\n  [-0.0923676 ]\n  [-1.1520989 ]\n  [ 0.77613276]\n  [-0.81676525]\n  [ 0.5810718 ]\n  [ 0.82115775]\n  [-0.96721727]\n  [-1.542471  ]\n  [-0.64838403]\n  [-0.38711157]]\n\n [[-1.2105249 ]\n  [ 0.2625683 ]\n  [ 0.57568973]\n  [-1.6523508 ]\n  [-1.7253627 ]\n  [ 1.2168399 ]\n  [ 1.2139515 ]\n  [-0.92863697]\n  [ 0.46805418]\n  [-1.1596938 ]\n  [-0.22660735]\n  [ 1.4391388 ]\n  [ 1.1397079 ]\n  [-1.426324  ]\n  [-1.0555648 ]\n  [-0.7043108 ]\n  [ 1.7535818 ]\n  [ 0.4268798 ]\n  [ 1.4582688 ]\n  [-0.7182723 ]\n  [ 1.5687828 ]\n  [-0.15663016]\n  [ 1.8685367 ]\n  [ 1.4231495 ]\n  [ 0.28790557]\n  [-0.8218107 ]\n  [ 0.46568385]\n  [-1.5534184 ]\n  [-0.28342512]\n  [ 0.30313048]\n  [ 0.18330595]\n  [-1.1434469 ]\n  [ 0.3052779 ]\n  [-1.0450909 ]\n  [ 1.1197591 ]\n  [ 0.44550416]\n  [-0.5800876 ]\n  [-1.2288488 ]\n  [-0.82322997]\n  [-0.02121538]]]\n"
     ]
    }
   ],
   "source": [
    "print(X_test2_rs)"
   ]
  },
  {
   "cell_type": "code",
   "execution_count": 610,
   "metadata": {},
   "outputs": [
    {
     "output_type": "stream",
     "name": "stdout",
     "text": [
      "Classification report: \n               precision    recall  f1-score   support\n\n           0       0.83      1.00      0.91         5\n           1       0.80      0.80      0.80         5\n           2       1.00      1.00      1.00         5\n           3       1.00      1.00      1.00         5\n           4       1.00      0.80      0.89         5\n\n    accuracy                           0.92        25\n   macro avg       0.93      0.92      0.92        25\nweighted avg       0.93      0.92      0.92        25\n\n\n\nConfusion matrix: \n\n[[5 0 0 0 0]\n [1 4 0 0 0]\n [0 0 5 0 0]\n [0 0 0 5 0]\n [0 1 0 0 4]]\n"
     ]
    }
   ],
   "source": [
    "y_pred2 = model.predict(X_test2_rs)\n",
    "y_pred_classes = [np.argmax(elem) for elem in y_pred2]\n",
    "\n",
    "print(\"Classification report: \\n\", classification_report(y_test2, y_pred_classes))\n",
    "\n",
    "print(\"\\n\\nConfusion matrix: \\n\")\n",
    "cm = confusion_matrix(y_test2, y_pred_classes)\n",
    "print(cm)"
   ]
  },
  {
   "source": [
    "### What we see here\n",
    "is that the accuracy decreased from 0.99 to 0.92 for the CNN model, and according to the confusion matrix it predicted two classes wrong. All in all not bad performance, and again this may be down to the way our dataset is created and how the model has been trained and tuned. What is interesting is that the CNN model didn't have the obvious problem with the soundbar that we saw in the SVM models."
   ],
   "cell_type": "markdown",
   "metadata": {}
  },
  {
   "source": [
    "# Conclusion\n",
    "After reviewing the results from the models on this new testing data we actually received the same accuracy from the CNN as the SVM if we were to remove the result from the rbf kernel, which perfomed poorly, and average up the other three SVM results. However the sigmoid kernel retained 100% accuracy, and the linear had a strong 96%. The poly kernel with 80% is the one pulling the average down.\n",
    "\n",
    "linear + poly + sigmoid / 3\n",
    "(0.96 + 0.80 + 1.00) / 3 = 0.92\n",
    "\n",
    "CNN accuracy = 0.92\n",
    "\n",
    "So to conclude, the models performed very similarly, and there was no extremely clear winner between them, just slight differences. Both models seemed to perform well, and as mentioned before, this may be down to the small size of the datatset, and generally low messiness of the data, allowing our models to have a strong performance on the initially recorded data. This is generally supoorted by the new test samples where the there were still low levels of messiness, however, the initial state and perception was naturally not captured to the teeth as the first round of recordings, leading to slightly reduced accuracy in the new samples, which makes good sense in regards to what we had hypothesized."
   ],
   "cell_type": "markdown",
   "metadata": {}
  }
 ],
 "metadata": {
  "kernelspec": {
   "name": "python385jvsc74a57bd0b3ba2566441a7c06988d0923437866b63cedc61552a5af99d1f4fb67d367b25f",
   "display_name": "Python 3.8.5 64-bit (conda)"
  },
  "language_info": {
   "codemirror_mode": {
    "name": "ipython",
    "version": 3
   },
   "file_extension": ".py",
   "mimetype": "text/x-python",
   "name": "python",
   "nbconvert_exporter": "python",
   "pygments_lexer": "ipython3",
   "version": "3.8.5"
  }
 },
 "nbformat": 4,
 "nbformat_minor": 4
}