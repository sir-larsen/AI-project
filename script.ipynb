{
 "cells": [
  {
   "cell_type": "code",
   "execution_count": 324,
   "metadata": {},
   "outputs": [],
   "source": [
    "# All imports here\n",
    "import os\n",
    "import librosa\n",
    "import pandas as pd\n",
    "import numpy as np\n",
    "from sklearn import preprocessing\n",
    "from sklearn import svm\n",
    "import sklearn\n",
    "import keras\n",
    "from keras.utils import np_utils\n",
    "from sklearn.linear_model import LinearRegression\n",
    "#pip install libav-tools"
   ]
  },
  {
   "cell_type": "code",
   "execution_count": 101,
   "metadata": {},
   "outputs": [],
   "source": [
    "def create_df(filePath, label):\n",
    "    fileList = os.listdir(filePath)\n",
    "    df_obj = pd.DataFrame(fileList)\n",
    "    # Adding label original to the dataframe to represent original\n",
    "    df_obj['label'] = label\n",
    "    df_obj = df_obj.rename(columns={0:'file'})\n",
    "    df_obj['path'] = filePath\n",
    "    return df_obj"
   ]
  },
  {
   "cell_type": "code",
   "execution_count": 102,
   "metadata": {},
   "outputs": [],
   "source": [
    "# Create lists of the files\n",
    "#fileList1 = os.listdir('recordings/original-recordings')\n",
    "#df_original = pd.DataFrame(fileList1)\n",
    "# Adding label original to the dataframe to represent original\n",
    "#df_original['label'] = 'original'\n",
    "# Renaming the column\n",
    "#df_original = df_original.rename(columns={0:'file'})\n",
    "#df_original"
   ]
  },
  {
   "cell_type": "code",
   "execution_count": 103,
   "metadata": {},
   "outputs": [],
   "source": [
    "filePaths = ['recordings/original-recordings', 'recordings/speaker-1-desktop-speakers', 'recordings/speaker-2-soundbox', 'recordings/speaker-3-LG_soundbar', 'recordings/speaker-4-Phillips-tv']\n",
    "\n",
    "pathsAndLabels = {'original': 'recordings/original-recordings', 'desktop': 'recordings/speaker-1-desktop-speakers',\n",
    "                 'soundbox': 'recordings/speaker-2-soundbox', 'soundbar': 'recordings/speaker-3-LG_soundbar', 'tv': 'recordings/speaker-4-Phillips-tv'}\n",
    "\n",
    "#filePaths = ['wav-recordings/original_recordings']\n",
    "#pathsAndLabels = {'original': 'wav-recordings/original_recordings'}"
   ]
  },
  {
   "cell_type": "code",
   "execution_count": 104,
   "metadata": {},
   "outputs": [
    {
     "output_type": "stream",
     "name": "stdout",
     "text": [
      "original recordings/original-recordings\ndesktop recordings/speaker-1-desktop-speakers\nsoundbox recordings/speaker-2-soundbox\nsoundbar recordings/speaker-3-LG_soundbar\ntv recordings/speaker-4-Phillips-tv\n                    file     label                            path\n0    Innspilling (1).m4a  original  recordings/original-recordings\n1   Innspilling (10).m4a  original  recordings/original-recordings\n2   Innspilling (11).m4a  original  recordings/original-recordings\n3   Innspilling (12).m4a  original  recordings/original-recordings\n4   Innspilling (13).m4a  original  recordings/original-recordings\n5   Innspilling (14).m4a  original  recordings/original-recordings\n6   Innspilling (15).m4a  original  recordings/original-recordings\n7   Innspilling (16).m4a  original  recordings/original-recordings\n8   Innspilling (17).m4a  original  recordings/original-recordings\n9   Innspilling (18).m4a  original  recordings/original-recordings\n10  Innspilling (19).m4a  original  recordings/original-recordings\n11   Innspilling (2).m4a  original  recordings/original-recordings\n12  Innspilling (20).m4a  original  recordings/original-recordings\n13  Innspilling (21).m4a  original  recordings/original-recordings\n14  Innspilling (22).m4a  original  recordings/original-recordings\n15  Innspilling (23).m4a  original  recordings/original-recordings\n16  Innspilling (24).m4a  original  recordings/original-recordings\n17  Innspilling (25).m4a  original  recordings/original-recordings\n18  Innspilling (26).m4a  original  recordings/original-recordings\n19  Innspilling (27).m4a  original  recordings/original-recordings\n20  Innspilling (28).m4a  original  recordings/original-recordings\n21  Innspilling (29).m4a  original  recordings/original-recordings\n22   Innspilling (3).m4a  original  recordings/original-recordings\n23  Innspilling (30).m4a  original  recordings/original-recordings\n24  Innspilling (31).m4a  original  recordings/original-recordings\n25  Innspilling (32).m4a  original  recordings/original-recordings\n26  Innspilling (33).m4a  original  recordings/original-recordings\n27  Innspilling (34).m4a  original  recordings/original-recordings\n28  Innspilling (35).m4a  original  recordings/original-recordings\n29  Innspilling (36).m4a  original  recordings/original-recordings\n30  Innspilling (37).m4a  original  recordings/original-recordings\n31  Innspilling (38).m4a  original  recordings/original-recordings\n32  Innspilling (39).m4a  original  recordings/original-recordings\n33   Innspilling (4).m4a  original  recordings/original-recordings\n34  Innspilling (40).m4a  original  recordings/original-recordings\n35  Innspilling (41).m4a  original  recordings/original-recordings\n36  Innspilling (42).m4a  original  recordings/original-recordings\n37  Innspilling (43).m4a  original  recordings/original-recordings\n38  Innspilling (44).m4a  original  recordings/original-recordings\n39  Innspilling (45).m4a  original  recordings/original-recordings\n40  Innspilling (46).m4a  original  recordings/original-recordings\n41  Innspilling (47).m4a  original  recordings/original-recordings\n42  Innspilling (48).m4a  original  recordings/original-recordings\n43  Innspilling (49).m4a  original  recordings/original-recordings\n44   Innspilling (5).m4a  original  recordings/original-recordings\n45  Innspilling (50).m4a  original  recordings/original-recordings\n46   Innspilling (6).m4a  original  recordings/original-recordings\n47   Innspilling (7).m4a  original  recordings/original-recordings\n48   Innspilling (8).m4a  original  recordings/original-recordings\n49   Innspilling (9).m4a  original  recordings/original-recordings\n                    file    label                                   path\n0    Innspilling (1).m4a  desktop  recordings/speaker-1-desktop-speakers\n1   Innspilling (10).m4a  desktop  recordings/speaker-1-desktop-speakers\n2   Innspilling (11).m4a  desktop  recordings/speaker-1-desktop-speakers\n3   Innspilling (12).m4a  desktop  recordings/speaker-1-desktop-speakers\n4   Innspilling (13).m4a  desktop  recordings/speaker-1-desktop-speakers\n5   Innspilling (14).m4a  desktop  recordings/speaker-1-desktop-speakers\n6   Innspilling (15).m4a  desktop  recordings/speaker-1-desktop-speakers\n7   Innspilling (16).m4a  desktop  recordings/speaker-1-desktop-speakers\n8   Innspilling (17).m4a  desktop  recordings/speaker-1-desktop-speakers\n9   Innspilling (18).m4a  desktop  recordings/speaker-1-desktop-speakers\n10  Innspilling (19).m4a  desktop  recordings/speaker-1-desktop-speakers\n11   Innspilling (2).m4a  desktop  recordings/speaker-1-desktop-speakers\n12  Innspilling (20).m4a  desktop  recordings/speaker-1-desktop-speakers\n13  Innspilling (21).m4a  desktop  recordings/speaker-1-desktop-speakers\n14  Innspilling (22).m4a  desktop  recordings/speaker-1-desktop-speakers\n15  Innspilling (23).m4a  desktop  recordings/speaker-1-desktop-speakers\n16  Innspilling (24).m4a  desktop  recordings/speaker-1-desktop-speakers\n17  Innspilling (25).m4a  desktop  recordings/speaker-1-desktop-speakers\n18  Innspilling (26).m4a  desktop  recordings/speaker-1-desktop-speakers\n19  Innspilling (27).m4a  desktop  recordings/speaker-1-desktop-speakers\n20  Innspilling (28).m4a  desktop  recordings/speaker-1-desktop-speakers\n21  Innspilling (29).m4a  desktop  recordings/speaker-1-desktop-speakers\n22   Innspilling (3).m4a  desktop  recordings/speaker-1-desktop-speakers\n23  Innspilling (30).m4a  desktop  recordings/speaker-1-desktop-speakers\n24  Innspilling (31).m4a  desktop  recordings/speaker-1-desktop-speakers\n25  Innspilling (32).m4a  desktop  recordings/speaker-1-desktop-speakers\n26  Innspilling (33).m4a  desktop  recordings/speaker-1-desktop-speakers\n27  Innspilling (34).m4a  desktop  recordings/speaker-1-desktop-speakers\n28  Innspilling (35).m4a  desktop  recordings/speaker-1-desktop-speakers\n29  Innspilling (36).m4a  desktop  recordings/speaker-1-desktop-speakers\n30  Innspilling (37).m4a  desktop  recordings/speaker-1-desktop-speakers\n31  Innspilling (38).m4a  desktop  recordings/speaker-1-desktop-speakers\n32  Innspilling (39).m4a  desktop  recordings/speaker-1-desktop-speakers\n33   Innspilling (4).m4a  desktop  recordings/speaker-1-desktop-speakers\n34  Innspilling (40).m4a  desktop  recordings/speaker-1-desktop-speakers\n35  Innspilling (41).m4a  desktop  recordings/speaker-1-desktop-speakers\n36  Innspilling (42).m4a  desktop  recordings/speaker-1-desktop-speakers\n37  Innspilling (43).m4a  desktop  recordings/speaker-1-desktop-speakers\n38  Innspilling (44).m4a  desktop  recordings/speaker-1-desktop-speakers\n39  Innspilling (45).m4a  desktop  recordings/speaker-1-desktop-speakers\n40  Innspilling (46).m4a  desktop  recordings/speaker-1-desktop-speakers\n41  Innspilling (47).m4a  desktop  recordings/speaker-1-desktop-speakers\n42  Innspilling (48).m4a  desktop  recordings/speaker-1-desktop-speakers\n43  Innspilling (49).m4a  desktop  recordings/speaker-1-desktop-speakers\n44   Innspilling (5).m4a  desktop  recordings/speaker-1-desktop-speakers\n45  Innspilling (50).m4a  desktop  recordings/speaker-1-desktop-speakers\n46   Innspilling (6).m4a  desktop  recordings/speaker-1-desktop-speakers\n47   Innspilling (7).m4a  desktop  recordings/speaker-1-desktop-speakers\n48   Innspilling (8).m4a  desktop  recordings/speaker-1-desktop-speakers\n49   Innspilling (9).m4a  desktop  recordings/speaker-1-desktop-speakers\n                    file     label                           path\n0    Innspilling (1).m4a  soundbox  recordings/speaker-2-soundbox\n1   Innspilling (10).m4a  soundbox  recordings/speaker-2-soundbox\n2   Innspilling (11).m4a  soundbox  recordings/speaker-2-soundbox\n3   Innspilling (12).m4a  soundbox  recordings/speaker-2-soundbox\n4   Innspilling (13).m4a  soundbox  recordings/speaker-2-soundbox\n5   Innspilling (14).m4a  soundbox  recordings/speaker-2-soundbox\n6   Innspilling (15).m4a  soundbox  recordings/speaker-2-soundbox\n7   Innspilling (16).m4a  soundbox  recordings/speaker-2-soundbox\n8   Innspilling (17).m4a  soundbox  recordings/speaker-2-soundbox\n9   Innspilling (18).m4a  soundbox  recordings/speaker-2-soundbox\n10  Innspilling (19).m4a  soundbox  recordings/speaker-2-soundbox\n11   Innspilling (2).m4a  soundbox  recordings/speaker-2-soundbox\n12  Innspilling (20).m4a  soundbox  recordings/speaker-2-soundbox\n13  Innspilling (21).m4a  soundbox  recordings/speaker-2-soundbox\n14  Innspilling (22).m4a  soundbox  recordings/speaker-2-soundbox\n15  Innspilling (23).m4a  soundbox  recordings/speaker-2-soundbox\n16  Innspilling (24).m4a  soundbox  recordings/speaker-2-soundbox\n17  Innspilling (25).m4a  soundbox  recordings/speaker-2-soundbox\n18  Innspilling (26).m4a  soundbox  recordings/speaker-2-soundbox\n19  Innspilling (27).m4a  soundbox  recordings/speaker-2-soundbox\n20  Innspilling (28).m4a  soundbox  recordings/speaker-2-soundbox\n21  Innspilling (29).m4a  soundbox  recordings/speaker-2-soundbox\n22   Innspilling (3).m4a  soundbox  recordings/speaker-2-soundbox\n23  Innspilling (30).m4a  soundbox  recordings/speaker-2-soundbox\n24  Innspilling (31).m4a  soundbox  recordings/speaker-2-soundbox\n25  Innspilling (32).m4a  soundbox  recordings/speaker-2-soundbox\n26  Innspilling (33).m4a  soundbox  recordings/speaker-2-soundbox\n27  Innspilling (34).m4a  soundbox  recordings/speaker-2-soundbox\n28  Innspilling (35).m4a  soundbox  recordings/speaker-2-soundbox\n29  Innspilling (36).m4a  soundbox  recordings/speaker-2-soundbox\n30  Innspilling (37).m4a  soundbox  recordings/speaker-2-soundbox\n31  Innspilling (38).m4a  soundbox  recordings/speaker-2-soundbox\n32  Innspilling (39).m4a  soundbox  recordings/speaker-2-soundbox\n33   Innspilling (4).m4a  soundbox  recordings/speaker-2-soundbox\n34  Innspilling (40).m4a  soundbox  recordings/speaker-2-soundbox\n35  Innspilling (41).m4a  soundbox  recordings/speaker-2-soundbox\n36  Innspilling (42).m4a  soundbox  recordings/speaker-2-soundbox\n37  Innspilling (43).m4a  soundbox  recordings/speaker-2-soundbox\n38  Innspilling (44).m4a  soundbox  recordings/speaker-2-soundbox\n39  Innspilling (45).m4a  soundbox  recordings/speaker-2-soundbox\n40  Innspilling (46).m4a  soundbox  recordings/speaker-2-soundbox\n41  Innspilling (47).m4a  soundbox  recordings/speaker-2-soundbox\n42  Innspilling (48).m4a  soundbox  recordings/speaker-2-soundbox\n43  Innspilling (49).m4a  soundbox  recordings/speaker-2-soundbox\n44   Innspilling (5).m4a  soundbox  recordings/speaker-2-soundbox\n45  Innspilling (50).m4a  soundbox  recordings/speaker-2-soundbox\n46   Innspilling (6).m4a  soundbox  recordings/speaker-2-soundbox\n47   Innspilling (7).m4a  soundbox  recordings/speaker-2-soundbox\n48   Innspilling (8).m4a  soundbox  recordings/speaker-2-soundbox\n49   Innspilling (9).m4a  soundbox  recordings/speaker-2-soundbox\n                    file     label                              path\n0    Innspilling (1).m4a  soundbar  recordings/speaker-3-LG_soundbar\n1   Innspilling (10).m4a  soundbar  recordings/speaker-3-LG_soundbar\n2   Innspilling (11).m4a  soundbar  recordings/speaker-3-LG_soundbar\n3   Innspilling (12).m4a  soundbar  recordings/speaker-3-LG_soundbar\n4   Innspilling (13).m4a  soundbar  recordings/speaker-3-LG_soundbar\n5   Innspilling (14).m4a  soundbar  recordings/speaker-3-LG_soundbar\n6   Innspilling (15).m4a  soundbar  recordings/speaker-3-LG_soundbar\n7   Innspilling (16).m4a  soundbar  recordings/speaker-3-LG_soundbar\n8   Innspilling (17).m4a  soundbar  recordings/speaker-3-LG_soundbar\n9   Innspilling (18).m4a  soundbar  recordings/speaker-3-LG_soundbar\n10  Innspilling (19).m4a  soundbar  recordings/speaker-3-LG_soundbar\n11   Innspilling (2).m4a  soundbar  recordings/speaker-3-LG_soundbar\n12  Innspilling (20).m4a  soundbar  recordings/speaker-3-LG_soundbar\n13  Innspilling (21).m4a  soundbar  recordings/speaker-3-LG_soundbar\n14  Innspilling (22).m4a  soundbar  recordings/speaker-3-LG_soundbar\n15  Innspilling (23).m4a  soundbar  recordings/speaker-3-LG_soundbar\n16  Innspilling (24).m4a  soundbar  recordings/speaker-3-LG_soundbar\n17  Innspilling (25).m4a  soundbar  recordings/speaker-3-LG_soundbar\n18  Innspilling (26).m4a  soundbar  recordings/speaker-3-LG_soundbar\n19  Innspilling (27).m4a  soundbar  recordings/speaker-3-LG_soundbar\n20  Innspilling (28).m4a  soundbar  recordings/speaker-3-LG_soundbar\n21  Innspilling (29).m4a  soundbar  recordings/speaker-3-LG_soundbar\n22   Innspilling (3).m4a  soundbar  recordings/speaker-3-LG_soundbar\n23  Innspilling (30).m4a  soundbar  recordings/speaker-3-LG_soundbar\n24  Innspilling (31).m4a  soundbar  recordings/speaker-3-LG_soundbar\n25  Innspilling (32).m4a  soundbar  recordings/speaker-3-LG_soundbar\n26  Innspilling (33).m4a  soundbar  recordings/speaker-3-LG_soundbar\n27  Innspilling (34).m4a  soundbar  recordings/speaker-3-LG_soundbar\n28  Innspilling (35).m4a  soundbar  recordings/speaker-3-LG_soundbar\n29  Innspilling (36).m4a  soundbar  recordings/speaker-3-LG_soundbar\n30  Innspilling (37).m4a  soundbar  recordings/speaker-3-LG_soundbar\n31  Innspilling (38).m4a  soundbar  recordings/speaker-3-LG_soundbar\n32  Innspilling (39).m4a  soundbar  recordings/speaker-3-LG_soundbar\n33   Innspilling (4).m4a  soundbar  recordings/speaker-3-LG_soundbar\n34  Innspilling (40).m4a  soundbar  recordings/speaker-3-LG_soundbar\n35  Innspilling (41).m4a  soundbar  recordings/speaker-3-LG_soundbar\n36  Innspilling (42).m4a  soundbar  recordings/speaker-3-LG_soundbar\n37  Innspilling (43).m4a  soundbar  recordings/speaker-3-LG_soundbar\n38  Innspilling (44).m4a  soundbar  recordings/speaker-3-LG_soundbar\n39  Innspilling (45).m4a  soundbar  recordings/speaker-3-LG_soundbar\n40  Innspilling (46).m4a  soundbar  recordings/speaker-3-LG_soundbar\n41  Innspilling (47).m4a  soundbar  recordings/speaker-3-LG_soundbar\n42  Innspilling (48).m4a  soundbar  recordings/speaker-3-LG_soundbar\n43  Innspilling (49).m4a  soundbar  recordings/speaker-3-LG_soundbar\n44   Innspilling (5).m4a  soundbar  recordings/speaker-3-LG_soundbar\n45  Innspilling (50).m4a  soundbar  recordings/speaker-3-LG_soundbar\n46   Innspilling (6).m4a  soundbar  recordings/speaker-3-LG_soundbar\n47   Innspilling (7).m4a  soundbar  recordings/speaker-3-LG_soundbar\n48   Innspilling (8).m4a  soundbar  recordings/speaker-3-LG_soundbar\n49   Innspilling (9).m4a  soundbar  recordings/speaker-3-LG_soundbar\n                    file label                              path\n0    Innspilling (1).m4a    tv  recordings/speaker-4-Phillips-tv\n1   Innspilling (10).m4a    tv  recordings/speaker-4-Phillips-tv\n2   Innspilling (11).m4a    tv  recordings/speaker-4-Phillips-tv\n3   Innspilling (12).m4a    tv  recordings/speaker-4-Phillips-tv\n4   Innspilling (13).m4a    tv  recordings/speaker-4-Phillips-tv\n5   Innspilling (14).m4a    tv  recordings/speaker-4-Phillips-tv\n6   Innspilling (15).m4a    tv  recordings/speaker-4-Phillips-tv\n7   Innspilling (16).m4a    tv  recordings/speaker-4-Phillips-tv\n8   Innspilling (17).m4a    tv  recordings/speaker-4-Phillips-tv\n9   Innspilling (18).m4a    tv  recordings/speaker-4-Phillips-tv\n10  Innspilling (19).m4a    tv  recordings/speaker-4-Phillips-tv\n11   Innspilling (2).m4a    tv  recordings/speaker-4-Phillips-tv\n12  Innspilling (20).m4a    tv  recordings/speaker-4-Phillips-tv\n13  Innspilling (21).m4a    tv  recordings/speaker-4-Phillips-tv\n14  Innspilling (22).m4a    tv  recordings/speaker-4-Phillips-tv\n15  Innspilling (23).m4a    tv  recordings/speaker-4-Phillips-tv\n16  Innspilling (24).m4a    tv  recordings/speaker-4-Phillips-tv\n17  Innspilling (25).m4a    tv  recordings/speaker-4-Phillips-tv\n18  Innspilling (26).m4a    tv  recordings/speaker-4-Phillips-tv\n19  Innspilling (27).m4a    tv  recordings/speaker-4-Phillips-tv\n20  Innspilling (28).m4a    tv  recordings/speaker-4-Phillips-tv\n21  Innspilling (29).m4a    tv  recordings/speaker-4-Phillips-tv\n22   Innspilling (3).m4a    tv  recordings/speaker-4-Phillips-tv\n23  Innspilling (30).m4a    tv  recordings/speaker-4-Phillips-tv\n24  Innspilling (31).m4a    tv  recordings/speaker-4-Phillips-tv\n25  Innspilling (32).m4a    tv  recordings/speaker-4-Phillips-tv\n26  Innspilling (33).m4a    tv  recordings/speaker-4-Phillips-tv\n27  Innspilling (34).m4a    tv  recordings/speaker-4-Phillips-tv\n28  Innspilling (35).m4a    tv  recordings/speaker-4-Phillips-tv\n29  Innspilling (36).m4a    tv  recordings/speaker-4-Phillips-tv\n30  Innspilling (37).m4a    tv  recordings/speaker-4-Phillips-tv\n31  Innspilling (38).m4a    tv  recordings/speaker-4-Phillips-tv\n32  Innspilling (39).m4a    tv  recordings/speaker-4-Phillips-tv\n33   Innspilling (4).m4a    tv  recordings/speaker-4-Phillips-tv\n34  Innspilling (40).m4a    tv  recordings/speaker-4-Phillips-tv\n35  Innspilling (41).m4a    tv  recordings/speaker-4-Phillips-tv\n36  Innspilling (42).m4a    tv  recordings/speaker-4-Phillips-tv\n37  Innspilling (43).m4a    tv  recordings/speaker-4-Phillips-tv\n38  Innspilling (44).m4a    tv  recordings/speaker-4-Phillips-tv\n39  Innspilling (45).m4a    tv  recordings/speaker-4-Phillips-tv\n40  Innspilling (46).m4a    tv  recordings/speaker-4-Phillips-tv\n41  Innspilling (47).m4a    tv  recordings/speaker-4-Phillips-tv\n42  Innspilling (48).m4a    tv  recordings/speaker-4-Phillips-tv\n43  Innspilling (49).m4a    tv  recordings/speaker-4-Phillips-tv\n44   Innspilling (5).m4a    tv  recordings/speaker-4-Phillips-tv\n45  Innspilling (50).m4a    tv  recordings/speaker-4-Phillips-tv\n46   Innspilling (6).m4a    tv  recordings/speaker-4-Phillips-tv\n47   Innspilling (7).m4a    tv  recordings/speaker-4-Phillips-tv\n48   Innspilling (8).m4a    tv  recordings/speaker-4-Phillips-tv\n49   Innspilling (9).m4a    tv  recordings/speaker-4-Phillips-tv\n"
     ]
    }
   ],
   "source": [
    "dataFrames = [] #Empty list for storing the datatframes\n",
    "\n",
    "for label, path in pathsAndLabels.items(): # Loop for iterating through the paths and labels and creating the dataframes\n",
    "    dataFrames.append(create_df(path, label))\n",
    "    print(label, path)\n",
    "\n",
    "for i in range(len(dataFrames)):\n",
    "    print(dataFrames[i])\n",
    "#print(dataFrames[5])"
   ]
  },
  {
   "cell_type": "code",
   "execution_count": 105,
   "metadata": {},
   "outputs": [
    {
     "output_type": "stream",
     "name": "stdout",
     "text": [
      "                    file     label                                   path\n40  Innspilling (46).m4a  original         recordings/original-recordings\n41  Innspilling (47).m4a  original         recordings/original-recordings\n42  Innspilling (48).m4a  original         recordings/original-recordings\n43  Innspilling (49).m4a  original         recordings/original-recordings\n44   Innspilling (5).m4a  original         recordings/original-recordings\n45  Innspilling (50).m4a  original         recordings/original-recordings\n46   Innspilling (6).m4a  original         recordings/original-recordings\n47   Innspilling (7).m4a  original         recordings/original-recordings\n48   Innspilling (8).m4a  original         recordings/original-recordings\n49   Innspilling (9).m4a  original         recordings/original-recordings\n50   Innspilling (1).m4a   desktop  recordings/speaker-1-desktop-speakers\n51  Innspilling (10).m4a   desktop  recordings/speaker-1-desktop-speakers\n52  Innspilling (11).m4a   desktop  recordings/speaker-1-desktop-speakers\n53  Innspilling (12).m4a   desktop  recordings/speaker-1-desktop-speakers\n54  Innspilling (13).m4a   desktop  recordings/speaker-1-desktop-speakers\n55  Innspilling (14).m4a   desktop  recordings/speaker-1-desktop-speakers\n56  Innspilling (15).m4a   desktop  recordings/speaker-1-desktop-speakers\n57  Innspilling (16).m4a   desktop  recordings/speaker-1-desktop-speakers\n58  Innspilling (17).m4a   desktop  recordings/speaker-1-desktop-speakers\n59  Innspilling (18).m4a   desktop  recordings/speaker-1-desktop-speakers\n60  Innspilling (19).m4a   desktop  recordings/speaker-1-desktop-speakers\n61   Innspilling (2).m4a   desktop  recordings/speaker-1-desktop-speakers\n62  Innspilling (20).m4a   desktop  recordings/speaker-1-desktop-speakers\n63  Innspilling (21).m4a   desktop  recordings/speaker-1-desktop-speakers\n64  Innspilling (22).m4a   desktop  recordings/speaker-1-desktop-speakers\n65  Innspilling (23).m4a   desktop  recordings/speaker-1-desktop-speakers\n66  Innspilling (24).m4a   desktop  recordings/speaker-1-desktop-speakers\n67  Innspilling (25).m4a   desktop  recordings/speaker-1-desktop-speakers\n68  Innspilling (26).m4a   desktop  recordings/speaker-1-desktop-speakers\n69  Innspilling (27).m4a   desktop  recordings/speaker-1-desktop-speakers\n70  Innspilling (28).m4a   desktop  recordings/speaker-1-desktop-speakers\n71  Innspilling (29).m4a   desktop  recordings/speaker-1-desktop-speakers\n72   Innspilling (3).m4a   desktop  recordings/speaker-1-desktop-speakers\n73  Innspilling (30).m4a   desktop  recordings/speaker-1-desktop-speakers\n74  Innspilling (31).m4a   desktop  recordings/speaker-1-desktop-speakers\n75  Innspilling (32).m4a   desktop  recordings/speaker-1-desktop-speakers\n76  Innspilling (33).m4a   desktop  recordings/speaker-1-desktop-speakers\n77  Innspilling (34).m4a   desktop  recordings/speaker-1-desktop-speakers\n78  Innspilling (35).m4a   desktop  recordings/speaker-1-desktop-speakers\n79  Innspilling (36).m4a   desktop  recordings/speaker-1-desktop-speakers\n80  Innspilling (37).m4a   desktop  recordings/speaker-1-desktop-speakers\n81  Innspilling (38).m4a   desktop  recordings/speaker-1-desktop-speakers\n82  Innspilling (39).m4a   desktop  recordings/speaker-1-desktop-speakers\n83   Innspilling (4).m4a   desktop  recordings/speaker-1-desktop-speakers\n84  Innspilling (40).m4a   desktop  recordings/speaker-1-desktop-speakers\n85  Innspilling (41).m4a   desktop  recordings/speaker-1-desktop-speakers\n86  Innspilling (42).m4a   desktop  recordings/speaker-1-desktop-speakers\n87  Innspilling (43).m4a   desktop  recordings/speaker-1-desktop-speakers\n88  Innspilling (44).m4a   desktop  recordings/speaker-1-desktop-speakers\n89  Innspilling (45).m4a   desktop  recordings/speaker-1-desktop-speakers\n90  Innspilling (46).m4a   desktop  recordings/speaker-1-desktop-speakers\n91  Innspilling (47).m4a   desktop  recordings/speaker-1-desktop-speakers\n92  Innspilling (48).m4a   desktop  recordings/speaker-1-desktop-speakers\n93  Innspilling (49).m4a   desktop  recordings/speaker-1-desktop-speakers\n94   Innspilling (5).m4a   desktop  recordings/speaker-1-desktop-speakers\n95  Innspilling (50).m4a   desktop  recordings/speaker-1-desktop-speakers\n96   Innspilling (6).m4a   desktop  recordings/speaker-1-desktop-speakers\n97   Innspilling (7).m4a   desktop  recordings/speaker-1-desktop-speakers\n98   Innspilling (8).m4a   desktop  recordings/speaker-1-desktop-speakers\n99   Innspilling (9).m4a   desktop  recordings/speaker-1-desktop-speakers\n"
     ]
    }
   ],
   "source": [
    "# Concatenating all the dataframes into a single one\n",
    "df = pd.concat(dataFrames, ignore_index=True)\n",
    "\n",
    "# Loop for renaming the files based on label (This is just done for keeping easier track of dataframes)\n",
    "#for i in range(len(df)):\n",
    "    #if df['label'][i] == 'original':\n",
    "    #    df['file'][i] =  str(0) + df['file'][i]\n",
    "    #elif df['label'][i] == 'desktop':\n",
    "    #    df['file'][i] =  str(1) + df['file'][i]\n",
    "    #elif df['label'][i] == 'soundbox':\n",
    "    #    df['file'][i] =  str(2) + df['file'][i]\n",
    "    #elif df['label'][i] == 'soundbar':\n",
    "    #    df['file'][i] =  str(3) + df['file'][i]\n",
    "    #else:\n",
    "    #    df['file'][i] =  str(4) + df['file'][i]\n",
    "#    df['file'][i] =  str(i) + df['file'][i]\n",
    "    #print(df['path'][i])\n",
    "\n",
    "print(df[40:100])"
   ]
  },
  {
   "cell_type": "code",
   "execution_count": 106,
   "metadata": {},
   "outputs": [
    {
     "output_type": "stream",
     "name": "stdout",
     "text": [
      "75\n175\n                     file     label                                   path\n87   Innspilling (36).m4a  soundbox          recordings/speaker-2-soundbox\n64   Innspilling (26).m4a  original         recordings/original-recordings\n144  Innspilling (25).m4a  soundbox          recordings/speaker-2-soundbox\n212  Innspilling (44).m4a  soundbox          recordings/speaker-2-soundbox\n244  Innspilling (48).m4a  original         recordings/original-recordings\n10   Innspilling (17).m4a  soundbox          recordings/speaker-2-soundbox\n247   Innspilling (2).m4a  original         recordings/original-recordings\n72   Innspilling (21).m4a   desktop  recordings/speaker-1-desktop-speakers\n132  Innspilling (37).m4a        tv       recordings/speaker-4-Phillips-tv\n239  Innspilling (23).m4a   desktop  recordings/speaker-1-desktop-speakers\n205  Innspilling (29).m4a   desktop  recordings/speaker-1-desktop-speakers\n120  Innspilling (15).m4a  soundbar       recordings/speaker-3-LG_soundbar\n70   Innspilling (31).m4a        tv       recordings/speaker-4-Phillips-tv\n61   Innspilling (34).m4a  soundbar       recordings/speaker-3-LG_soundbar\n99   Innspilling (19).m4a        tv       recordings/speaker-4-Phillips-tv\n125  Innspilling (28).m4a  soundbar       recordings/speaker-3-LG_soundbar\n0    Innspilling (18).m4a        tv       recordings/speaker-4-Phillips-tv\n129   Innspilling (8).m4a  soundbox          recordings/speaker-2-soundbox\n173  Innspilling (28).m4a   desktop  recordings/speaker-1-desktop-speakers\n91   Innspilling (13).m4a  soundbox          recordings/speaker-2-soundbox\n89   Innspilling (45).m4a   desktop  recordings/speaker-1-desktop-speakers\n119  Innspilling (47).m4a   desktop  recordings/speaker-1-desktop-speakers\n24   Innspilling (27).m4a        tv       recordings/speaker-4-Phillips-tv\n101  Innspilling (18).m4a   desktop  recordings/speaker-1-desktop-speakers\n243  Innspilling (22).m4a  soundbox          recordings/speaker-2-soundbox\n154  Innspilling (40).m4a  soundbox          recordings/speaker-2-soundbox\n127  Innspilling (30).m4a  soundbar       recordings/speaker-3-LG_soundbar\n46    Innspilling (3).m4a  original         recordings/original-recordings\n141  Innspilling (41).m4a        tv       recordings/speaker-4-Phillips-tv\n79    Innspilling (5).m4a  original         recordings/original-recordings\n227  Innspilling (21).m4a        tv       recordings/speaker-4-Phillips-tv\n202  Innspilling (50).m4a  original         recordings/original-recordings\n148  Innspilling (38).m4a  original         recordings/original-recordings\n208  Innspilling (15).m4a   desktop  recordings/speaker-1-desktop-speakers\n238  Innspilling (17).m4a   desktop  recordings/speaker-1-desktop-speakers\n124  Innspilling (32).m4a  original         recordings/original-recordings\n162  Innspilling (12).m4a  soundbar       recordings/speaker-3-LG_soundbar\n176  Innspilling (11).m4a        tv       recordings/speaker-4-Phillips-tv\n230   Innspilling (9).m4a  soundbar       recordings/speaker-3-LG_soundbar\n126  Innspilling (15).m4a        tv       recordings/speaker-4-Phillips-tv\n152  Innspilling (18).m4a  original         recordings/original-recordings\n107   Innspilling (2).m4a        tv       recordings/speaker-4-Phillips-tv\n164  Innspilling (39).m4a  soundbox          recordings/speaker-2-soundbox\n42   Innspilling (16).m4a  soundbox          recordings/speaker-2-soundbox\n137  Innspilling (21).m4a  soundbar       recordings/speaker-3-LG_soundbar\n240  Innspilling (10).m4a  soundbar       recordings/speaker-3-LG_soundbar\n34   Innspilling (42).m4a        tv       recordings/speaker-4-Phillips-tv\n35   Innspilling (35).m4a   desktop  recordings/speaker-1-desktop-speakers\n175  Innspilling (46).m4a   desktop  recordings/speaker-1-desktop-speakers\n135   Innspilling (5).m4a  soundbar       recordings/speaker-3-LG_soundbar\n40   Innspilling (13).m4a  original         recordings/original-recordings\n94   Innspilling (33).m4a  original         recordings/original-recordings\n36   Innspilling (23).m4a  soundbox          recordings/speaker-2-soundbox\n116  Innspilling (46).m4a  original         recordings/original-recordings\n43   Innspilling (49).m4a  soundbar       recordings/speaker-3-LG_soundbar\n157  Innspilling (43).m4a  soundbox          recordings/speaker-2-soundbox\n83   Innspilling (28).m4a        tv       recordings/speaker-4-Phillips-tv\n66   Innspilling (24).m4a  original         recordings/original-recordings\n122  Innspilling (14).m4a        tv       recordings/speaker-4-Phillips-tv\n30    Innspilling (6).m4a  original         recordings/original-recordings\n                     file     label                                   path\n4    Innspilling (16).m4a  original         recordings/original-recordings\n6    Innspilling (37).m4a  soundbar       recordings/speaker-3-LG_soundbar\n18   Innspilling (29).m4a        tv       recordings/speaker-4-Phillips-tv\n23   Innspilling (47).m4a  soundbox          recordings/speaker-2-soundbox\n31   Innspilling (45).m4a  soundbar       recordings/speaker-3-LG_soundbar\n32    Innspilling (5).m4a  soundbox          recordings/speaker-2-soundbox\n33   Innspilling (43).m4a  original         recordings/original-recordings\n38   Innspilling (30).m4a  soundbox          recordings/speaker-2-soundbox\n49   Innspilling (34).m4a   desktop  recordings/speaker-1-desktop-speakers\n52   Innspilling (14).m4a  soundbar       recordings/speaker-3-LG_soundbar\n53   Innspilling (35).m4a        tv       recordings/speaker-4-Phillips-tv\n54   Innspilling (15).m4a  soundbox          recordings/speaker-2-soundbox\n59   Innspilling (26).m4a  soundbar       recordings/speaker-3-LG_soundbar\n60   Innspilling (44).m4a  soundbar       recordings/speaker-3-LG_soundbar\n62    Innspilling (2).m4a  soundbar       recordings/speaker-3-LG_soundbar\n67   Innspilling (48).m4a  soundbox          recordings/speaker-2-soundbox\n76   Innspilling (17).m4a        tv       recordings/speaker-4-Phillips-tv\n80    Innspilling (6).m4a        tv       recordings/speaker-4-Phillips-tv\n85   Innspilling (43).m4a        tv       recordings/speaker-4-Phillips-tv\n93   Innspilling (20).m4a  original         recordings/original-recordings\n96   Innspilling (25).m4a  original         recordings/original-recordings\n97    Innspilling (7).m4a  original         recordings/original-recordings\n104  Innspilling (45).m4a        tv       recordings/speaker-4-Phillips-tv\n106  Innspilling (36).m4a  original         recordings/original-recordings\n111  Innspilling (17).m4a  soundbar       recordings/speaker-3-LG_soundbar\n112   Innspilling (1).m4a        tv       recordings/speaker-4-Phillips-tv\n113  Innspilling (15).m4a  original         recordings/original-recordings\n115  Innspilling (43).m4a   desktop  recordings/speaker-1-desktop-speakers\n117  Innspilling (33).m4a  soundbox          recordings/speaker-2-soundbox\n123  Innspilling (16).m4a   desktop  recordings/speaker-1-desktop-speakers\n133  Innspilling (34).m4a  original         recordings/original-recordings\n136   Innspilling (7).m4a  soundbar       recordings/speaker-3-LG_soundbar\n138  Innspilling (25).m4a  soundbar       recordings/speaker-3-LG_soundbar\n140  Innspilling (29).m4a  original         recordings/original-recordings\n142  Innspilling (23).m4a  soundbar       recordings/speaker-3-LG_soundbar\n143  Innspilling (27).m4a  soundbar       recordings/speaker-3-LG_soundbar\n146  Innspilling (23).m4a  original         recordings/original-recordings\n151  Innspilling (39).m4a        tv       recordings/speaker-4-Phillips-tv\n159  Innspilling (48).m4a        tv       recordings/speaker-4-Phillips-tv\n160   Innspilling (4).m4a   desktop  recordings/speaker-1-desktop-speakers\n167  Innspilling (43).m4a  soundbar       recordings/speaker-3-LG_soundbar\n174   Innspilling (3).m4a   desktop  recordings/speaker-1-desktop-speakers\n177  Innspilling (14).m4a  original         recordings/original-recordings\n180   Innspilling (8).m4a        tv       recordings/speaker-4-Phillips-tv\n181  Innspilling (24).m4a        tv       recordings/speaker-4-Phillips-tv\n182  Innspilling (22).m4a        tv       recordings/speaker-4-Phillips-tv\n183  Innspilling (26).m4a        tv       recordings/speaker-4-Phillips-tv\n184  Innspilling (46).m4a  soundbox          recordings/speaker-2-soundbox\n186  Innspilling (24).m4a  soundbar       recordings/speaker-3-LG_soundbar\n187  Innspilling (12).m4a  original         recordings/original-recordings\n188  Innspilling (38).m4a   desktop  recordings/speaker-1-desktop-speakers\n189  Innspilling (33).m4a  soundbar       recordings/speaker-3-LG_soundbar\n190  Innspilling (19).m4a   desktop  recordings/speaker-1-desktop-speakers\n193  Innspilling (40).m4a   desktop  recordings/speaker-1-desktop-speakers\n195  Innspilling (14).m4a   desktop  recordings/speaker-1-desktop-speakers\n196  Innspilling (45).m4a  original         recordings/original-recordings\n197  Innspilling (17).m4a  original         recordings/original-recordings\n199  Innspilling (30).m4a   desktop  recordings/speaker-1-desktop-speakers\n200  Innspilling (41).m4a  soundbar       recordings/speaker-3-LG_soundbar\n201  Innspilling (23).m4a        tv       recordings/speaker-4-Phillips-tv\n"
     ]
    }
   ],
   "source": [
    "#df_copy = df.copy()\n",
    "#print(df_copy[:60])\n",
    "\n",
    "# Splitting into test and train data. First randomizing the dataframe containing every sample\n",
    "df = df.sample(frac=1).reset_index(drop=True)\n",
    "\n",
    "# Creating a training dataset with 70% of the data\n",
    "train_df = df.sample(frac=0.7)\n",
    "\n",
    "# Taking the remaining after the 70 split and putting them into the test datatset\n",
    "test_df = df.drop(train_df.index)\n",
    "\n",
    "print(len(test_df))\n",
    "print(len(train_df))\n",
    "print(train_df[:60])\n",
    "print(test_df[:60])\n"
   ]
  },
  {
   "cell_type": "code",
   "execution_count": 107,
   "metadata": {},
   "outputs": [
    {
     "output_type": "execute_result",
     "data": {
      "text/plain": [
       "soundbox    0.228571\n",
       "desktop     0.211429\n",
       "original    0.188571\n",
       "tv          0.188571\n",
       "soundbar    0.182857\n",
       "Name: label, dtype: float64"
      ]
     },
     "metadata": {},
     "execution_count": 107
    }
   ],
   "source": [
    "# Checking that the splits have a reasonably balanced amount of different labels\n",
    "train_df['label'].value_counts(normalize=True)"
   ]
  },
  {
   "cell_type": "code",
   "execution_count": 108,
   "metadata": {},
   "outputs": [
    {
     "output_type": "execute_result",
     "data": {
      "text/plain": [
       "soundbar    0.240000\n",
       "tv          0.226667\n",
       "original    0.226667\n",
       "desktop     0.173333\n",
       "soundbox    0.133333\n",
       "Name: label, dtype: float64"
      ]
     },
     "metadata": {},
     "execution_count": 108
    }
   ],
   "source": [
    "test_df['label'].value_counts(normalize=True)"
   ]
  },
  {
   "cell_type": "code",
   "execution_count": 109,
   "metadata": {},
   "outputs": [],
   "source": [
    "# The splits have about equal amounts and we decide to leave it at this"
   ]
  },
  {
   "cell_type": "code",
   "execution_count": 156,
   "metadata": {},
   "outputs": [
    {
     "output_type": "stream",
     "name": "stdout",
     "text": [
      "fileName:  recordings/speaker-2-soundbox/Innspilling (36).m4a\n",
      "C:\\ProgramData\\Anaconda3\\lib\\site-packages\\librosa\\core\\audio.py:162: UserWarning: PySoundFile failed. Trying audioread instead.\n",
      "  warnings.warn(\"PySoundFile failed. Trying audioread instead.\")\n",
      "fileName:  recordings/original-recordings/Innspilling (26).m4a\n",
      "fileName:  recordings/speaker-2-soundbox/Innspilling (25).m4a\n",
      "fileName:  recordings/speaker-2-soundbox/Innspilling (44).m4a\n",
      "fileName:  recordings/original-recordings/Innspilling (48).m4a\n",
      "fileName:  recordings/speaker-2-soundbox/Innspilling (17).m4a\n",
      "fileName:  recordings/original-recordings/Innspilling (2).m4a\n",
      "fileName:  recordings/speaker-1-desktop-speakers/Innspilling (21).m4a\n",
      "fileName:  recordings/speaker-4-Phillips-tv/Innspilling (37).m4a\n",
      "fileName:  recordings/speaker-1-desktop-speakers/Innspilling (23).m4a\n",
      "fileName:  recordings/speaker-1-desktop-speakers/Innspilling (29).m4a\n",
      "fileName:  recordings/speaker-3-LG_soundbar/Innspilling (15).m4a\n",
      "fileName:  recordings/speaker-4-Phillips-tv/Innspilling (31).m4a\n",
      "fileName:  recordings/speaker-3-LG_soundbar/Innspilling (34).m4a\n",
      "fileName:  recordings/speaker-4-Phillips-tv/Innspilling (19).m4a\n",
      "fileName:  recordings/speaker-3-LG_soundbar/Innspilling (28).m4a\n",
      "fileName:  recordings/speaker-4-Phillips-tv/Innspilling (18).m4a\n",
      "fileName:  recordings/speaker-2-soundbox/Innspilling (8).m4a\n",
      "fileName:  recordings/speaker-1-desktop-speakers/Innspilling (28).m4a\n",
      "fileName:  recordings/speaker-2-soundbox/Innspilling (13).m4a\n",
      "fileName:  recordings/speaker-1-desktop-speakers/Innspilling (45).m4a\n",
      "fileName:  recordings/speaker-1-desktop-speakers/Innspilling (47).m4a\n",
      "fileName:  recordings/speaker-4-Phillips-tv/Innspilling (27).m4a\n",
      "fileName:  recordings/speaker-1-desktop-speakers/Innspilling (18).m4a\n",
      "fileName:  recordings/speaker-2-soundbox/Innspilling (22).m4a\n",
      "fileName:  recordings/speaker-2-soundbox/Innspilling (40).m4a\n",
      "fileName:  recordings/speaker-3-LG_soundbar/Innspilling (30).m4a\n",
      "fileName:  recordings/original-recordings/Innspilling (3).m4a\n",
      "fileName:  recordings/speaker-4-Phillips-tv/Innspilling (41).m4a\n",
      "fileName:  recordings/original-recordings/Innspilling (5).m4a\n",
      "fileName:  recordings/speaker-4-Phillips-tv/Innspilling (21).m4a\n",
      "fileName:  recordings/original-recordings/Innspilling (50).m4a\n",
      "fileName:  recordings/original-recordings/Innspilling (38).m4a\n",
      "fileName:  recordings/speaker-1-desktop-speakers/Innspilling (15).m4a\n",
      "fileName:  recordings/speaker-1-desktop-speakers/Innspilling (17).m4a\n",
      "fileName:  recordings/original-recordings/Innspilling (32).m4a\n",
      "fileName:  recordings/speaker-3-LG_soundbar/Innspilling (12).m4a\n",
      "fileName:  recordings/speaker-4-Phillips-tv/Innspilling (11).m4a\n",
      "fileName:  recordings/speaker-3-LG_soundbar/Innspilling (9).m4a\n",
      "fileName:  recordings/speaker-4-Phillips-tv/Innspilling (15).m4a\n",
      "fileName:  recordings/original-recordings/Innspilling (18).m4a\n",
      "fileName:  recordings/speaker-4-Phillips-tv/Innspilling (2).m4a\n",
      "fileName:  recordings/speaker-2-soundbox/Innspilling (39).m4a\n",
      "fileName:  recordings/speaker-2-soundbox/Innspilling (16).m4a\n",
      "fileName:  recordings/speaker-3-LG_soundbar/Innspilling (21).m4a\n",
      "fileName:  recordings/speaker-3-LG_soundbar/Innspilling (10).m4a\n",
      "fileName:  recordings/speaker-4-Phillips-tv/Innspilling (42).m4a\n",
      "fileName:  recordings/speaker-1-desktop-speakers/Innspilling (35).m4a\n",
      "fileName:  recordings/speaker-1-desktop-speakers/Innspilling (46).m4a\n",
      "fileName:  recordings/speaker-3-LG_soundbar/Innspilling (5).m4a\n",
      "fileName:  recordings/original-recordings/Innspilling (13).m4a\n",
      "fileName:  recordings/original-recordings/Innspilling (33).m4a\n",
      "fileName:  recordings/speaker-2-soundbox/Innspilling (23).m4a\n",
      "fileName:  recordings/original-recordings/Innspilling (46).m4a\n",
      "fileName:  recordings/speaker-3-LG_soundbar/Innspilling (49).m4a\n",
      "fileName:  recordings/speaker-2-soundbox/Innspilling (43).m4a\n",
      "fileName:  recordings/speaker-4-Phillips-tv/Innspilling (28).m4a\n",
      "fileName:  recordings/original-recordings/Innspilling (24).m4a\n",
      "fileName:  recordings/speaker-4-Phillips-tv/Innspilling (14).m4a\n",
      "fileName:  recordings/original-recordings/Innspilling (6).m4a\n",
      "fileName:  recordings/speaker-2-soundbox/Innspilling (29).m4a\n",
      "fileName:  recordings/original-recordings/Innspilling (9).m4a\n",
      "fileName:  recordings/speaker-2-soundbox/Innspilling (41).m4a\n",
      "fileName:  recordings/speaker-3-LG_soundbar/Innspilling (16).m4a\n",
      "fileName:  recordings/original-recordings/Innspilling (40).m4a\n",
      "fileName:  recordings/speaker-2-soundbox/Innspilling (19).m4a\n",
      "fileName:  recordings/speaker-4-Phillips-tv/Innspilling (9).m4a\n",
      "fileName:  recordings/speaker-2-soundbox/Innspilling (6).m4a\n",
      "fileName:  recordings/speaker-2-soundbox/Innspilling (11).m4a\n",
      "fileName:  recordings/speaker-1-desktop-speakers/Innspilling (24).m4a\n",
      "fileName:  recordings/speaker-3-LG_soundbar/Innspilling (46).m4a\n",
      "fileName:  recordings/speaker-4-Phillips-tv/Innspilling (32).m4a\n",
      "fileName:  recordings/speaker-3-LG_soundbar/Innspilling (38).m4a\n",
      "fileName:  recordings/speaker-1-desktop-speakers/Innspilling (39).m4a\n",
      "fileName:  recordings/speaker-3-LG_soundbar/Innspilling (22).m4a\n",
      "fileName:  recordings/speaker-2-soundbox/Innspilling (38).m4a\n",
      "fileName:  recordings/speaker-2-soundbox/Innspilling (12).m4a\n",
      "fileName:  recordings/speaker-3-LG_soundbar/Innspilling (4).m4a\n",
      "fileName:  recordings/original-recordings/Innspilling (11).m4a\n",
      "fileName:  recordings/speaker-3-LG_soundbar/Innspilling (11).m4a\n",
      "fileName:  recordings/speaker-2-soundbox/Innspilling (49).m4a\n",
      "fileName:  recordings/speaker-2-soundbox/Innspilling (35).m4a\n",
      "fileName:  recordings/speaker-4-Phillips-tv/Innspilling (25).m4a\n",
      "fileName:  recordings/speaker-1-desktop-speakers/Innspilling (1).m4a\n",
      "fileName:  recordings/speaker-4-Phillips-tv/Innspilling (16).m4a\n",
      "fileName:  recordings/speaker-4-Phillips-tv/Innspilling (7).m4a\n",
      "fileName:  recordings/speaker-3-LG_soundbar/Innspilling (6).m4a\n",
      "fileName:  recordings/speaker-2-soundbox/Innspilling (50).m4a\n",
      "fileName:  recordings/speaker-2-soundbox/Innspilling (20).m4a\n",
      "fileName:  recordings/speaker-3-LG_soundbar/Innspilling (19).m4a\n",
      "fileName:  recordings/speaker-2-soundbox/Innspilling (14).m4a\n",
      "fileName:  recordings/speaker-4-Phillips-tv/Innspilling (47).m4a\n",
      "fileName:  recordings/speaker-4-Phillips-tv/Innspilling (34).m4a\n",
      "fileName:  recordings/speaker-1-desktop-speakers/Innspilling (31).m4a\n",
      "fileName:  recordings/speaker-2-soundbox/Innspilling (1).m4a\n",
      "fileName:  recordings/speaker-2-soundbox/Innspilling (26).m4a\n",
      "fileName:  recordings/speaker-4-Phillips-tv/Innspilling (38).m4a\n",
      "fileName:  recordings/original-recordings/Innspilling (1).m4a\n",
      "fileName:  recordings/speaker-4-Phillips-tv/Innspilling (5).m4a\n",
      "fileName:  recordings/speaker-2-soundbox/Innspilling (28).m4a\n",
      "fileName:  recordings/original-recordings/Innspilling (49).m4a\n",
      "fileName:  recordings/original-recordings/Innspilling (37).m4a\n",
      "fileName:  recordings/speaker-3-LG_soundbar/Innspilling (32).m4a\n",
      "fileName:  recordings/speaker-4-Phillips-tv/Innspilling (40).m4a\n",
      "fileName:  recordings/speaker-1-desktop-speakers/Innspilling (41).m4a\n",
      "fileName:  recordings/speaker-4-Phillips-tv/Innspilling (4).m4a\n",
      "fileName:  recordings/speaker-1-desktop-speakers/Innspilling (25).m4a\n",
      "fileName:  recordings/speaker-1-desktop-speakers/Innspilling (37).m4a\n",
      "fileName:  recordings/original-recordings/Innspilling (4).m4a\n",
      "fileName:  recordings/speaker-1-desktop-speakers/Innspilling (20).m4a\n",
      "fileName:  recordings/speaker-1-desktop-speakers/Innspilling (36).m4a\n",
      "fileName:  recordings/original-recordings/Innspilling (39).m4a\n",
      "fileName:  recordings/speaker-3-LG_soundbar/Innspilling (1).m4a\n",
      "fileName:  recordings/speaker-2-soundbox/Innspilling (10).m4a\n",
      "fileName:  recordings/speaker-1-desktop-speakers/Innspilling (22).m4a\n",
      "fileName:  recordings/speaker-3-LG_soundbar/Innspilling (3).m4a\n",
      "fileName:  recordings/speaker-4-Phillips-tv/Innspilling (49).m4a\n",
      "fileName:  recordings/speaker-2-soundbox/Innspilling (27).m4a\n",
      "fileName:  recordings/speaker-4-Phillips-tv/Innspilling (36).m4a\n",
      "fileName:  recordings/speaker-2-soundbox/Innspilling (9).m4a\n",
      "fileName:  recordings/speaker-1-desktop-speakers/Innspilling (5).m4a\n",
      "fileName:  recordings/original-recordings/Innspilling (27).m4a\n",
      "fileName:  recordings/speaker-4-Phillips-tv/Innspilling (13).m4a\n",
      "fileName:  recordings/original-recordings/Innspilling (44).m4a\n",
      "fileName:  recordings/speaker-2-soundbox/Innspilling (21).m4a\n",
      "fileName:  recordings/speaker-3-LG_soundbar/Innspilling (48).m4a\n",
      "fileName:  recordings/speaker-2-soundbox/Innspilling (45).m4a\n",
      "fileName:  recordings/original-recordings/Innspilling (30).m4a\n",
      "fileName:  recordings/speaker-3-LG_soundbar/Innspilling (18).m4a\n",
      "fileName:  recordings/speaker-1-desktop-speakers/Innspilling (10).m4a\n",
      "fileName:  recordings/speaker-1-desktop-speakers/Innspilling (49).m4a\n",
      "fileName:  recordings/speaker-1-desktop-speakers/Innspilling (44).m4a\n",
      "fileName:  recordings/speaker-2-soundbox/Innspilling (32).m4a\n",
      "fileName:  recordings/speaker-1-desktop-speakers/Innspilling (50).m4a\n",
      "fileName:  recordings/original-recordings/Innspilling (8).m4a\n",
      "fileName:  recordings/speaker-3-LG_soundbar/Innspilling (50).m4a\n",
      "fileName:  recordings/speaker-2-soundbox/Innspilling (2).m4a\n",
      "fileName:  recordings/original-recordings/Innspilling (22).m4a\n",
      "fileName:  recordings/speaker-3-LG_soundbar/Innspilling (13).m4a\n",
      "fileName:  recordings/speaker-4-Phillips-tv/Innspilling (30).m4a\n",
      "fileName:  recordings/speaker-3-LG_soundbar/Innspilling (31).m4a\n",
      "fileName:  recordings/speaker-3-LG_soundbar/Innspilling (8).m4a\n",
      "fileName:  recordings/speaker-4-Phillips-tv/Innspilling (46).m4a\n",
      "fileName:  recordings/original-recordings/Innspilling (31).m4a\n",
      "fileName:  recordings/speaker-2-soundbox/Innspilling (37).m4a\n",
      "fileName:  recordings/speaker-4-Phillips-tv/Innspilling (3).m4a\n",
      "fileName:  recordings/speaker-2-soundbox/Innspilling (7).m4a\n",
      "fileName:  recordings/speaker-4-Phillips-tv/Innspilling (50).m4a\n",
      "fileName:  recordings/speaker-1-desktop-speakers/Innspilling (33).m4a\n",
      "fileName:  recordings/speaker-1-desktop-speakers/Innspilling (8).m4a\n",
      "fileName:  recordings/speaker-4-Phillips-tv/Innspilling (12).m4a\n",
      "fileName:  recordings/speaker-1-desktop-speakers/Innspilling (32).m4a\n",
      "fileName:  recordings/speaker-1-desktop-speakers/Innspilling (48).m4a\n",
      "fileName:  recordings/speaker-3-LG_soundbar/Innspilling (20).m4a\n",
      "fileName:  recordings/speaker-1-desktop-speakers/Innspilling (13).m4a\n",
      "fileName:  recordings/speaker-3-LG_soundbar/Innspilling (42).m4a\n",
      "fileName:  recordings/speaker-1-desktop-speakers/Innspilling (42).m4a\n",
      "fileName:  recordings/speaker-2-soundbox/Innspilling (42).m4a\n",
      "fileName:  recordings/speaker-1-desktop-speakers/Innspilling (12).m4a\n",
      "fileName:  recordings/speaker-3-LG_soundbar/Innspilling (29).m4a\n",
      "fileName:  recordings/speaker-2-soundbox/Innspilling (31).m4a\n",
      "fileName:  recordings/speaker-2-soundbox/Innspilling (4).m4a\n",
      "fileName:  recordings/speaker-2-soundbox/Innspilling (24).m4a\n",
      "fileName:  recordings/speaker-3-LG_soundbar/Innspilling (47).m4a\n",
      "fileName:  recordings/speaker-1-desktop-speakers/Innspilling (6).m4a\n",
      "fileName:  recordings/original-recordings/Innspilling (21).m4a\n",
      "fileName:  recordings/original-recordings/Innspilling (35).m4a\n",
      "fileName:  recordings/original-recordings/Innspilling (42).m4a\n",
      "fileName:  recordings/speaker-1-desktop-speakers/Innspilling (2).m4a\n",
      "fileName:  recordings/original-recordings/Innspilling (28).m4a\n",
      "fileName:  recordings/speaker-4-Phillips-tv/Innspilling (10).m4a\n",
      "fileName:  recordings/speaker-1-desktop-speakers/Innspilling (27).m4a\n",
      "fileName:  recordings/original-recordings/Innspilling (47).m4a\n",
      "fileName:  recordings/speaker-3-LG_soundbar/Innspilling (36).m4a\n",
      "fileName:  recordings/speaker-1-desktop-speakers/Innspilling (11).m4a\n",
      "87     [[-570.2228, 30.211031, -35.07298, 23.262403, ...\n",
      "64     [[-515.50665, 72.09523, -15.670778, 34.39821, ...\n",
      "144    [[-560.23, 28.164524, -40.85291, 37.450134, 21...\n",
      "212    [[-562.0892, 49.40695, -41.677258, 23.483128, ...\n",
      "244    [[-529.58417, 82.15198, -9.1243, 24.659618, 18...\n",
      "10     [[-552.7808, 48.768482, -36.72411, 25.57904, 2...\n",
      "247    [[-513.50183, 79.47957, -14.507916, 33.68652, ...\n",
      "72     [[-599.4302, 32.840073, -21.656672, 24.12731, ...\n",
      "132    [[-593.8704, 52.98011, -26.199038, 14.250148, ...\n",
      "239    [[-574.86664, 18.86729, -21.415081, 26.147448,...\n",
      "dtype: object\n",
      "TESTDATA\n",
      "fileName:  recordings/original-recordings/Innspilling (16).m4a\n",
      "fileName:  recordings/speaker-3-LG_soundbar/Innspilling (37).m4a\n",
      "fileName:  recordings/speaker-4-Phillips-tv/Innspilling (29).m4a\n",
      "fileName:  recordings/speaker-2-soundbox/Innspilling (47).m4a\n",
      "fileName:  recordings/speaker-3-LG_soundbar/Innspilling (45).m4a\n",
      "fileName:  recordings/speaker-2-soundbox/Innspilling (5).m4a\n",
      "fileName:  recordings/original-recordings/Innspilling (43).m4a\n",
      "fileName:  recordings/speaker-2-soundbox/Innspilling (30).m4a\n",
      "fileName:  recordings/speaker-1-desktop-speakers/Innspilling (34).m4a\n",
      "fileName:  recordings/speaker-3-LG_soundbar/Innspilling (14).m4a\n",
      "fileName:  recordings/speaker-4-Phillips-tv/Innspilling (35).m4a\n",
      "fileName:  recordings/speaker-2-soundbox/Innspilling (15).m4a\n",
      "fileName:  recordings/speaker-3-LG_soundbar/Innspilling (26).m4a\n",
      "fileName:  recordings/speaker-3-LG_soundbar/Innspilling (44).m4a\n",
      "fileName:  recordings/speaker-3-LG_soundbar/Innspilling (2).m4a\n",
      "fileName:  recordings/speaker-2-soundbox/Innspilling (48).m4a\n",
      "fileName:  recordings/speaker-4-Phillips-tv/Innspilling (17).m4a\n",
      "fileName:  recordings/speaker-4-Phillips-tv/Innspilling (6).m4a\n",
      "fileName:  recordings/speaker-4-Phillips-tv/Innspilling (43).m4a\n",
      "fileName:  recordings/original-recordings/Innspilling (20).m4a\n",
      "fileName:  recordings/original-recordings/Innspilling (25).m4a\n",
      "fileName:  recordings/original-recordings/Innspilling (7).m4a\n",
      "fileName:  recordings/speaker-4-Phillips-tv/Innspilling (45).m4a\n",
      "fileName:  recordings/original-recordings/Innspilling (36).m4a\n",
      "fileName:  recordings/speaker-3-LG_soundbar/Innspilling (17).m4a\n",
      "fileName:  recordings/speaker-4-Phillips-tv/Innspilling (1).m4a\n",
      "fileName:  recordings/original-recordings/Innspilling (15).m4a\n",
      "fileName:  recordings/speaker-1-desktop-speakers/Innspilling (43).m4a\n",
      "fileName:  recordings/speaker-2-soundbox/Innspilling (33).m4a\n",
      "fileName:  recordings/speaker-1-desktop-speakers/Innspilling (16).m4a\n",
      "fileName:  recordings/original-recordings/Innspilling (34).m4a\n",
      "fileName:  recordings/speaker-3-LG_soundbar/Innspilling (7).m4a\n",
      "fileName:  recordings/speaker-3-LG_soundbar/Innspilling (25).m4a\n",
      "fileName:  recordings/original-recordings/Innspilling (29).m4a\n",
      "fileName:  recordings/speaker-3-LG_soundbar/Innspilling (23).m4a\n",
      "fileName:  recordings/speaker-3-LG_soundbar/Innspilling (27).m4a\n",
      "fileName:  recordings/original-recordings/Innspilling (23).m4a\n",
      "fileName:  recordings/speaker-4-Phillips-tv/Innspilling (39).m4a\n",
      "fileName:  recordings/speaker-4-Phillips-tv/Innspilling (48).m4a\n",
      "fileName:  recordings/speaker-1-desktop-speakers/Innspilling (4).m4a\n",
      "fileName:  recordings/speaker-3-LG_soundbar/Innspilling (43).m4a\n",
      "fileName:  recordings/speaker-1-desktop-speakers/Innspilling (3).m4a\n",
      "fileName:  recordings/original-recordings/Innspilling (14).m4a\n",
      "fileName:  recordings/speaker-4-Phillips-tv/Innspilling (8).m4a\n",
      "fileName:  recordings/speaker-4-Phillips-tv/Innspilling (24).m4a\n",
      "fileName:  recordings/speaker-4-Phillips-tv/Innspilling (22).m4a\n",
      "fileName:  recordings/speaker-4-Phillips-tv/Innspilling (26).m4a\n",
      "fileName:  recordings/speaker-2-soundbox/Innspilling (46).m4a\n",
      "fileName:  recordings/speaker-3-LG_soundbar/Innspilling (24).m4a\n",
      "fileName:  recordings/original-recordings/Innspilling (12).m4a\n",
      "fileName:  recordings/speaker-1-desktop-speakers/Innspilling (38).m4a\n",
      "fileName:  recordings/speaker-3-LG_soundbar/Innspilling (33).m4a\n",
      "fileName:  recordings/speaker-1-desktop-speakers/Innspilling (19).m4a\n",
      "fileName:  recordings/speaker-1-desktop-speakers/Innspilling (40).m4a\n",
      "fileName:  recordings/speaker-1-desktop-speakers/Innspilling (14).m4a\n",
      "fileName:  recordings/original-recordings/Innspilling (45).m4a\n",
      "fileName:  recordings/original-recordings/Innspilling (17).m4a\n",
      "fileName:  recordings/speaker-1-desktop-speakers/Innspilling (30).m4a\n",
      "fileName:  recordings/speaker-3-LG_soundbar/Innspilling (41).m4a\n",
      "fileName:  recordings/speaker-4-Phillips-tv/Innspilling (23).m4a\n",
      "fileName:  recordings/speaker-3-LG_soundbar/Innspilling (39).m4a\n",
      "fileName:  recordings/original-recordings/Innspilling (10).m4a\n",
      "fileName:  recordings/speaker-2-soundbox/Innspilling (3).m4a\n",
      "fileName:  recordings/speaker-4-Phillips-tv/Innspilling (33).m4a\n",
      "fileName:  recordings/speaker-1-desktop-speakers/Innspilling (9).m4a\n",
      "fileName:  recordings/original-recordings/Innspilling (19).m4a\n",
      "fileName:  recordings/speaker-4-Phillips-tv/Innspilling (44).m4a\n",
      "fileName:  recordings/speaker-3-LG_soundbar/Innspilling (35).m4a\n",
      "fileName:  recordings/speaker-3-LG_soundbar/Innspilling (40).m4a\n",
      "fileName:  recordings/speaker-2-soundbox/Innspilling (34).m4a\n",
      "fileName:  recordings/speaker-4-Phillips-tv/Innspilling (20).m4a\n",
      "fileName:  recordings/speaker-2-soundbox/Innspilling (18).m4a\n",
      "fileName:  recordings/original-recordings/Innspilling (41).m4a\n",
      "fileName:  recordings/speaker-1-desktop-speakers/Innspilling (7).m4a\n",
      "fileName:  recordings/speaker-1-desktop-speakers/Innspilling (26).m4a\n",
      "4     [[-498.7357, 72.97697, -7.6318984, 21.534496, ...\n",
      "6     [[-580.13715, 31.240751, -9.178369, 26.718287,...\n",
      "18    [[-583.13983, 46.941853, -26.743801, 12.716144...\n",
      "23    [[-546.76556, 55.352917, -42.04301, 24.932348,...\n",
      "31    [[-615.08734, 36.353733, -1.4701605, 25.14797,...\n",
      "32    [[-523.15515, 49.715878, -47.418983, 24.242893...\n",
      "33    [[-550.5642, 66.46429, -9.673564, 28.711576, 1...\n",
      "38    [[-562.52374, 35.992397, -35.740826, 28.054934...\n",
      "49    [[-585.89716, 18.655388, -26.902271, 25.663101...\n",
      "52    [[-612.9066, 41.243176, -2.8979862, 19.046654,...\n",
      "dtype: object\n"
     ]
    }
   ],
   "source": [
    "# Function for extracting the mffcs which we will use as features for the task\n",
    "# Most of this function is inspired by and based upon https://www.analyticsvidhya.com/blog/2017/08/audio-voice-processing-deep-learning/ in nr # in our appendix\n",
    "\n",
    "def feature_extract(row):\n",
    "    # Getting the full path\n",
    "    #fileName = os.path.abspath(row.path)\n",
    "    fileName = row.path + '/' + row.file\n",
    "    print('fileName: ', fileName)\n",
    "    #print(row.path)\n",
    "\n",
    "    # Loading the file as floating point time series\n",
    "    X, sample_rate = librosa.load(fileName, res_type='kaiser_fast')\n",
    "\n",
    "    # Generate MFCCs from the time series\n",
    "    mfccs = np.mean(librosa.feature.mfcc(y=X, sr=sample_rate, n_mfcc=40).T,axis=0)\n",
    "\n",
    "    feature = mfccs\n",
    "    label = row.label\n",
    "\n",
    "    return [feature, label]\n",
    "    #return [fileName]\n",
    "\n",
    "tempTrain = train_df.apply(feature_extract, axis=1) # Our new df holding the data with extracted features\n",
    "print(tempTrain[:10])\n",
    "#tempTrain.columns = ['feature', 'label']\n",
    "\n",
    "print(\"TESTDATA\")\n",
    "\n",
    "tempTest = test_df.apply(feature_extract, axis=1)\n",
    "print(tempTest[:10])"
   ]
  },
  {
   "cell_type": "code",
   "execution_count": 336,
   "metadata": {},
   "outputs": [
    {
     "output_type": "stream",
     "name": "stdout",
     "text": [
      "tv\n"
     ]
    }
   ],
   "source": [
    "#print(tempTrain[:10])\n",
    "#print(tempTest[:10])\n",
    "#tempTrain.columns = ['feature', 'label']\n",
    "#print(tempTrain.feature)\n",
    "print(tempTrain[0][1])"
   ]
  },
  {
   "cell_type": "code",
   "execution_count": 162,
   "metadata": {},
   "outputs": [],
   "source": [
    "# Creating our feature vector X and our target vector y\n",
    "#X_train = np(tempTrain.feature.tolist())"
   ]
  },
  {
   "cell_type": "code",
   "execution_count": 349,
   "metadata": {},
   "outputs": [
    {
     "output_type": "stream",
     "name": "stdout",
     "text": [
      "[array([-4.98735687e+02,  7.29769669e+01, -7.63189840e+00,  2.15344963e+01,\n        1.01189871e+01,  8.70023251e+00, -1.69920158e+01,  5.68006372e+00,\n       -1.37542305e+01,  7.32722521e+00, -1.17701950e+01,  9.64634478e-01,\n       -1.15434036e+01,  6.78404197e-02, -9.14878082e+00,  2.54599190e+00,\n       -8.90166187e+00, -5.19858694e+00, -2.80854392e+00, -1.79771066e+00,\n       -1.04671745e+01,  1.60132796e-02, -3.85705662e+00, -2.46077323e+00,\n       -1.47261214e+00, -3.00321269e+00, -9.30453718e-01, -3.78773642e+00,\n       -6.39797270e-01, -1.43419647e+00, -1.20994496e+00, -3.75134015e+00,\n       -1.77742100e+00, -3.20055628e+00,  8.63250852e-01, -3.18253350e+00,\n       -3.55127978e+00, -2.72077608e+00, -2.10028028e+00, -5.57580113e-01],\n      dtype=float32), 'original']\n[array([-5.8013715e+02,  3.1240751e+01, -9.1783686e+00,  2.6718287e+01,\n        1.7296877e+01,  1.0443140e+01, -1.6949547e+01,  1.5332540e+01,\n       -2.3931429e+01,  2.1849934e+01, -1.3356496e+01,  5.4458184e+00,\n       -1.5344587e+01,  9.0735245e+00, -1.9554569e+01,  4.8963151e+00,\n       -4.8003130e+00, -1.4292897e+00, -7.4833679e+00, -1.4184444e+00,\n       -1.0826248e+01,  2.9693902e+00, -6.2813301e+00, -8.9685613e-01,\n       -4.9204865e+00,  9.8219544e-01, -4.1847119e+00, -2.1170702e+00,\n        1.1442680e+00, -1.4094993e-01, -5.7823310e+00, -1.6181302e+00,\n       -2.5630889e+00, -2.0974598e+00, -1.3071965e+00, -9.0471083e-01,\n       -4.9328513e+00, -2.0417356e+00, -5.3982630e+00, -2.5116746e+00],\n      dtype=float32), 'soundbar']\n[array([-5.8313983e+02,  4.6941853e+01, -2.6743801e+01,  1.2716144e+01,\n        4.3307333e+00,  1.3914505e+01, -2.5321852e+01,  4.9169340e+00,\n       -2.2763927e+01,  6.5571594e+00, -1.2658497e+01,  8.0181646e+00,\n       -1.3746918e+01,  1.2875332e+00, -1.9604362e+01,  2.9026241e+00,\n       -3.9986165e+00,  7.1610224e-01,  1.0112311e-01,  2.6663520e+00,\n       -1.0522692e+01,  2.7449999e+00, -3.7486008e-01,  1.6270169e+00,\n       -3.3871269e+00, -8.5044247e-01,  1.7385749e+00, -5.7519035e+00,\n       -3.2059200e+00,  1.3322957e-01, -2.6716230e+00, -1.8105979e+00,\n       -3.1500669e+00, -3.7878661e+00,  9.7884142e-01, -1.3741633e+00,\n       -4.8520107e+00, -1.6795776e+00, -1.6126403e+00, -1.5953852e+00],\n      dtype=float32), 'tv']\n[array([-5.46765564e+02,  5.53529167e+01, -4.20430107e+01,  2.49323483e+01,\n        2.69878578e+01,  8.46184969e-01, -2.56593494e+01,  6.29912186e+00,\n       -2.85955944e+01,  3.21980858e+00, -4.52531624e+00, -5.25601006e+00,\n       -1.82220058e+01,  2.03102303e+00, -1.53921881e+01, -1.55830407e+00,\n       -3.78629708e+00, -5.03112650e+00, -2.92892981e+00, -5.62250566e+00,\n       -1.09635029e+01, -5.33206415e+00, -6.59481907e+00, -6.47499418e+00,\n       -1.87253237e-01, -1.60977817e+00,  1.51453912e+00, -3.76417232e+00,\n        5.49642563e+00, -2.52558380e-01,  1.23611204e-01, -1.33611202e+00,\n       -2.29497105e-01, -3.25170255e+00,  1.49943209e+00, -1.39032352e+00,\n       -3.04128242e+00, -2.07807970e+00, -9.17031288e-01,  2.69046426e-01],\n      dtype=float32), 'soundbox']\n[array([-6.1508734e+02,  3.6353733e+01, -1.4701605e+00,  2.5147970e+01,\n        1.7504234e+01,  1.6625050e+01, -1.7991871e+01,  1.5448214e+01,\n       -1.8074703e+01,  1.5849069e+01, -1.1471411e+01,  9.4788656e+00,\n       -1.5896399e+01,  9.3682146e+00, -1.9000118e+01,  3.9563308e+00,\n       -7.0125608e+00, -9.5070437e-02, -6.8866978e+00, -1.0904750e+00,\n       -1.0279393e+01,  2.2254994e+00, -5.9807639e+00, -9.0783650e-01,\n       -5.6077008e+00,  2.3839173e+00, -3.9170020e+00, -1.3025423e+00,\n       -6.7278165e-01,  1.2162663e+00, -7.1014647e+00, -1.2096484e+00,\n       -3.4071488e+00, -1.2754029e+00, -1.2773581e+00, -6.9903719e-01,\n       -5.3882470e+00, -1.5230306e+00, -5.4814119e+00, -2.8100514e+00],\n      dtype=float32), 'soundbar']\n[array([-5.2315515e+02,  4.9715878e+01, -4.7418983e+01,  2.4242893e+01,\n        2.6784510e+01, -6.1844140e-01, -3.2456905e+01,  7.6784983e+00,\n       -2.9882322e+01,  4.2917237e+00, -4.4510431e+00, -2.8882086e+00,\n       -1.8852598e+01,  4.1789408e+00, -1.3651407e+01, -2.2184012e+00,\n       -4.0398955e+00, -1.1156564e+00, -3.6427748e+00, -6.3554807e+00,\n       -1.4320437e+01, -4.3925838e+00, -7.4287019e+00, -6.0963182e+00,\n        1.0518936e+00, -2.5084381e+00,  4.9208096e-01, -1.6056259e+00,\n        6.0841951e+00,  3.4830126e-01, -6.8336111e-01, -7.9158264e-01,\n       -4.5515072e-01, -3.4382491e+00,  1.0800656e+00, -8.6233890e-01,\n       -3.0384183e+00, -2.4889054e+00, -6.6746116e-01, -4.7044465e-01],\n      dtype=float32), 'soundbox']\n[array([-5.5056421e+02,  6.6464287e+01, -9.6735640e+00,  2.8711576e+01,\n        1.8683447e+01,  1.0127801e+01, -1.5050488e+01,  7.1592512e+00,\n       -1.2398560e+01,  6.2263851e+00, -5.8195748e+00, -8.4822726e-01,\n       -8.9125042e+00,  1.4503314e+00, -1.0950247e+01, -2.0994403e+00,\n       -3.1828885e+00, -4.8166361e+00, -2.0418625e+00, -2.5004940e+00,\n       -6.4730191e+00, -2.2504582e+00, -1.7368305e+00, -1.2284825e+00,\n        1.0863417e+00, -1.5796661e+00,  1.8137600e-01, -3.3938634e+00,\n       -2.4324122e-01, -1.2410116e+00, -1.7927840e+00, -1.1169739e+00,\n       -1.6508230e+00, -3.6089811e+00, -5.7903373e-01, -1.6231034e+00,\n       -2.7999039e+00, -2.0181427e+00, -2.9582534e+00, -1.9988700e+00],\n      dtype=float32), 'original']\n[array([-5.6252374e+02,  3.5992397e+01, -3.5740826e+01,  2.8054934e+01,\n        2.4806597e+01,  5.4097686e+00, -2.8113945e+01,  1.2752034e+01,\n       -2.4629576e+01,  4.3160467e+00, -3.8326669e+00, -1.8685566e+00,\n       -1.9632971e+01,  5.4959249e+00, -1.5097651e+01, -3.3458834e+00,\n       -3.3180962e+00, -4.9028091e+00, -3.8667419e+00, -6.0541182e+00,\n       -9.4909410e+00, -4.0292249e+00, -7.3197088e+00, -5.0557323e+00,\n        9.7428757e-01, -8.6140335e-01,  1.8097314e+00, -3.3487647e+00,\n        6.5904431e+00, -2.4270427e-01, -6.7390525e-01, -4.1561791e-01,\n       -1.0482210e+00, -2.4422660e+00,  9.6086055e-01, -2.1200595e+00,\n       -3.6468532e+00, -2.1626375e+00, -1.0835241e+00, -1.7045952e-01],\n      dtype=float32), 'soundbox']\n[array([-5.8589716e+02,  1.8655388e+01, -2.6902271e+01,  2.5663101e+01,\n        4.7312837e+00,  6.3746824e+00, -2.6570454e+01,  1.6195896e+01,\n       -2.4917509e+01,  1.3323986e+01, -1.0448428e+01,  1.2261155e+00,\n       -1.9597216e+01,  6.2609596e+00, -1.4315537e+01,  3.3145957e+00,\n       -8.2334881e+00, -3.4537928e+00, -4.4050851e+00,  4.8115702e+00,\n       -9.5618830e+00, -3.7395409e-01, -4.2197957e+00,  2.1517804e+00,\n       -4.5938802e+00,  4.5562297e-01, -2.2199732e-01, -3.5280421e-01,\n       -1.1344664e+00,  1.5158017e+00, -2.8337674e+00, -2.8874202e+00,\n       -9.2450005e-01, -2.8753746e+00,  1.7551580e-01, -6.9893706e-01,\n       -2.7573957e+00,  1.8255575e-01, -4.4616103e+00,  2.8060727e+00],\n      dtype=float32), 'desktop']\n[array([-6.1290662e+02,  4.1243176e+01, -2.8979862e+00,  1.9046654e+01,\n        1.0243899e+01,  2.0166910e+01, -1.8116779e+01,  1.6686165e+01,\n       -2.0378746e+01,  1.6988695e+01, -8.7070646e+00,  8.8943348e+00,\n       -1.2795365e+01,  8.5793457e+00, -1.6528006e+01,  3.4966815e+00,\n       -5.5421572e+00, -8.5679609e-01, -7.5769782e+00, -1.1567804e+00,\n       -8.4463987e+00,  5.6109899e-01, -7.5015388e+00, -2.3010776e+00,\n       -5.1549387e+00,  5.4567415e-01, -2.9614999e+00, -1.2292961e+00,\n        1.1845033e+00,  4.6604285e-01, -5.1071210e+00, -2.3890061e+00,\n       -1.8356990e+00, -4.2316154e-01,  4.4951010e-01, -1.0580664e+00,\n       -5.2829709e+00, -2.3623002e+00, -5.4258261e+00, -1.4538480e+00],\n      dtype=float32), 'soundbar']\n[array([-6.0124921e+02,  4.6343655e+01, -2.0894377e+01,  1.3416949e+01,\n        1.6871661e+00,  1.2966911e+01, -2.4083315e+01,  1.1124824e+01,\n       -1.9828516e+01,  6.9369268e+00, -9.9930239e+00,  6.9408050e+00,\n       -1.4265441e+01,  4.5513368e+00, -2.1088827e+01,  1.8732207e+00,\n       -4.2410846e+00, -1.7906475e-01, -7.3048270e-01,  2.7443392e+00,\n       -9.0243015e+00,  2.0002973e+00, -8.2984668e-01,  4.5404983e-01,\n       -2.8059430e+00, -1.5802790e+00,  1.7332481e+00, -2.5418069e+00,\n       -1.7000142e+00, -1.2181076e+00, -3.1515682e+00, -2.6084287e+00,\n       -3.2545524e+00, -4.0370107e+00,  7.6362228e-01, -1.4959165e+00,\n       -4.8536468e+00, -2.9450665e+00, -2.0840707e+00, -1.2753786e+00],\n      dtype=float32), 'tv']\n[array([-5.7406915e+02,  5.7027748e+01, -3.3063663e+01,  1.3319582e+01,\n        1.9307735e+01,  4.7734284e+00, -2.3932129e+01,  8.8531904e+00,\n       -2.3480928e+01,  4.0005188e+00, -3.6006739e+00, -5.6643099e-01,\n       -1.5551973e+01,  4.0376019e+00, -1.5521953e+01, -2.9548376e+00,\n       -1.7120860e+00, -4.5068269e+00, -5.0720577e+00, -6.5471663e+00,\n       -7.8689952e+00, -5.2040505e+00, -4.8600745e+00, -5.0627556e+00,\n        1.6499088e+00, -8.2029089e-02,  7.2324395e-01, -9.4420302e-01,\n        6.7251625e+00, -3.0184612e-01, -1.3854862e+00, -1.6313664e+00,\n       -1.6865616e+00, -4.0669584e+00,  9.9371451e-01, -2.5932896e+00,\n       -4.8921099e+00, -4.7764478e+00, -1.9447098e+00, -8.4297496e-01],\n      dtype=float32), 'soundbox']\n[array([-5.87187317e+02,  3.20433846e+01, -1.03339252e+01,  2.76772747e+01,\n        2.27063694e+01,  1.43280983e+01, -2.05003033e+01,  1.56859179e+01,\n       -2.15729561e+01,  1.88598518e+01, -1.49795485e+01,  6.66329718e+00,\n       -1.65178776e+01,  9.00314045e+00, -2.08505726e+01,  4.33434010e+00,\n       -5.80919170e+00, -5.20874321e-01, -6.26472473e+00, -4.39802418e-03,\n       -1.16981735e+01,  3.00449300e+00, -6.66400671e+00, -1.53492665e+00,\n       -6.73302937e+00,  8.41221333e-01, -3.37093377e+00, -1.39304507e+00,\n       -1.69713855e-01, -5.03086329e-01, -6.01593447e+00, -2.04036880e+00,\n       -2.29015422e+00, -1.90569806e+00, -1.09651029e+00,  3.82899851e-01,\n       -4.91407442e+00, -1.46314168e+00, -6.09267759e+00, -2.35928702e+00],\n      dtype=float32), 'soundbar']\n[array([-5.98870178e+02,  3.74952354e+01, -6.42123127e+00,  2.16891212e+01,\n        1.76838131e+01,  1.56366787e+01, -1.58573980e+01,  1.56804438e+01,\n       -2.00569630e+01,  1.70552979e+01, -1.43583746e+01,  9.31361580e+00,\n       -1.68230343e+01,  9.46487427e+00, -2.15654011e+01,  3.96383691e+00,\n       -6.26513863e+00, -8.82871091e-01, -6.84394836e+00, -2.99921364e-01,\n       -1.15909395e+01,  3.21847391e+00, -7.17887354e+00, -6.68377042e-01,\n       -5.94635963e+00,  1.50981355e+00, -4.04601860e+00, -1.07242334e+00,\n       -3.44563067e-01,  8.06249201e-01, -6.58753633e+00, -1.14301848e+00,\n       -3.01882529e+00, -1.59151661e+00, -4.00802314e-01,  1.02442706e+00,\n       -5.42522907e+00, -1.55908203e+00, -6.02313185e+00, -2.49099183e+00],\n      dtype=float32), 'soundbar']\n[array([-5.9215955e+02,  3.6086231e+01, -8.3097143e+00,  2.5375853e+01,\n        1.6713104e+01,  1.0520752e+01, -1.5410213e+01,  1.4601260e+01,\n       -2.0279213e+01,  1.6328922e+01, -1.2272182e+01,  4.5411634e+00,\n       -1.3146026e+01,  6.8683705e+00, -2.0189049e+01,  2.6604204e+00,\n       -4.5032110e+00, -3.0635004e+00, -5.5483937e+00, -9.3033773e-01,\n       -1.0772569e+01,  1.4866402e+00, -4.2830005e+00, -2.9575281e+00,\n       -5.7340283e+00,  3.0475581e-01, -3.2380438e+00, -1.7624308e+00,\n        2.1803198e+00, -3.3404786e-02, -4.7251534e+00, -2.5604441e+00,\n       -2.6458821e+00, -4.6558970e-01,  1.1003829e+00, -8.1579590e-01,\n       -5.1372666e+00, -3.1256361e+00, -5.1841965e+00, -2.9907415e+00],\n      dtype=float32), 'soundbar']\n[array([-5.6167218e+02,  5.1338535e+01, -3.8988167e+01,  2.3380960e+01,\n        2.5808544e+01,  7.0834579e+00, -2.6683550e+01,  6.9434686e+00,\n       -2.6534588e+01,  1.0262198e+00, -3.5689352e+00, -5.2041464e+00,\n       -1.9020479e+01,  3.5319419e+00, -1.5104796e+01, -4.2435317e+00,\n       -3.8497536e+00, -2.7908144e+00, -3.8523605e+00, -4.8862405e+00,\n       -1.0459887e+01, -6.1137133e+00, -5.1032629e+00, -5.0783372e+00,\n        8.0403619e-02, -2.4375408e+00,  6.4866531e-01, -2.4051456e+00,\n        5.8643203e+00,  4.8466501e-01, -1.2023115e+00, -1.3052726e+00,\n       -1.0720925e+00, -2.5134158e+00,  1.7504317e+00, -1.8049539e+00,\n       -2.8406558e+00, -2.6379890e+00, -9.3359804e-01,  1.1818678e+00],\n      dtype=float32), 'soundbox']\n[array([-5.9423334e+02,  5.7151245e+01, -2.4233898e+01,  1.2409971e+01,\n       -6.3335776e-01,  8.2137718e+00, -2.0489054e+01,  9.2455158e+00,\n       -2.4811378e+01,  6.2240233e+00, -1.1176520e+01,  2.4890344e+00,\n       -1.0374407e+01,  2.0013139e+00, -2.0474209e+01,  3.2385993e+00,\n       -1.2226722e+00, -1.2746218e+00,  2.8903446e-01,  2.8353639e+00,\n       -9.9683504e+00,  1.5382951e-01,  4.4913489e-01,  9.5108038e-01,\n       -3.0464134e+00, -8.1134039e-01,  1.3564619e+00, -3.1888194e+00,\n       -9.5145893e-01, -1.3156391e+00, -1.1907805e+00, -1.8822272e+00,\n       -4.6391382e+00, -4.0351596e+00,  1.9265268e+00, -1.6136818e+00,\n       -3.7648630e+00, -2.1084075e+00, -1.5500041e+00, -1.4036831e+00],\n      dtype=float32), 'tv']\n[array([-6.1562030e+02,  4.2051174e+01, -1.5631737e+01,  1.7192499e+01,\n        5.9019399e+00,  1.4300461e+01, -2.4570604e+01,  1.2701551e+01,\n       -1.8914589e+01,  8.1959696e+00, -8.4586401e+00,  6.8278575e+00,\n       -1.3145574e+01,  2.8602905e+00, -2.0404514e+01,  1.9603313e+00,\n       -6.1633515e+00,  6.6474104e-01, -3.1384027e+00,  4.5993644e-01,\n       -7.6166468e+00,  1.1756493e+00, -2.4977779e+00,  1.0957950e+00,\n       -3.0396118e+00, -4.7601011e-01, -1.8099566e-01, -2.0099752e+00,\n       -1.1582307e+00, -1.4933372e-01, -3.2446618e+00, -2.0405962e+00,\n       -2.6981146e+00, -2.7881806e+00,  7.6147616e-01, -1.0289775e+00,\n       -4.0735755e+00, -2.8779392e+00, -2.3412743e+00, -1.1880289e+00],\n      dtype=float32), 'tv']\n[array([-6.19489990e+02,  5.13657532e+01, -1.99019299e+01,  1.29510155e+01,\n        4.56002998e+00,  1.35910273e+01, -2.13190460e+01,  1.09656429e+01,\n       -1.84764271e+01,  5.58755541e+00, -7.31892395e+00,  4.88935137e+00,\n       -1.05296335e+01,  3.56074357e+00, -1.75408535e+01,  2.21941799e-01,\n       -3.88531995e+00, -1.03894997e+00, -1.10386765e+00,  8.16953838e-01,\n       -7.85991287e+00, -2.44813353e-01, -2.74885923e-01,  3.68467987e-01,\n       -2.32567430e+00, -1.60595632e+00,  1.49620700e+00, -3.46115470e+00,\n       -7.44309008e-01, -1.39018345e+00, -2.74704242e+00, -2.75125980e+00,\n       -2.05706930e+00, -3.32479715e+00,  1.64873302e+00, -1.47822464e+00,\n       -4.34598160e+00, -2.88642263e+00, -2.64656830e+00, -1.73857641e+00],\n      dtype=float32), 'tv']\n[array([-5.1865961e+02,  7.9965576e+01, -9.9596338e+00,  2.1629639e+01,\n        1.1559408e+01,  9.1192760e+00, -1.7873503e+01,  4.5819750e+00,\n       -1.6898497e+01,  8.8168392e+00, -7.6341538e+00,  3.5895557e+00,\n       -8.7032795e+00, -1.2641411e+00, -1.2900408e+01,  2.5292301e+00,\n       -6.2246995e+00, -7.3842244e+00, -2.3305216e+00, -1.6453290e+00,\n       -9.9336491e+00,  1.2039327e-01, -2.5949988e+00, -2.0751648e+00,\n       -5.8748372e-02, -3.4070559e+00,  5.6776690e-01, -3.6040130e+00,\n       -7.8058779e-01, -2.3381958e+00, -1.5288790e+00, -3.2519343e+00,\n       -1.6266145e+00, -2.8125093e+00, -3.4314746e-01, -1.9079460e+00,\n       -2.2570701e+00, -2.2231729e+00, -2.6979909e+00, -7.8578168e-01],\n      dtype=float32), 'original']\n[array([-5.3137573e+02,  4.5435135e+01, -1.2522977e+01,  4.0928921e+01,\n        1.3926955e+01,  7.3204908e+00, -1.5107151e+01,  8.7225542e+00,\n       -1.5424767e+01,  1.3054859e+01, -9.2391539e+00,  1.1006091e+00,\n       -1.2567535e+01,  3.5453358e+00, -1.4058478e+01,  8.4509408e-01,\n       -4.5206637e+00, -2.4094846e+00, -2.9313684e+00, -1.6480649e+00,\n       -6.7747555e+00, -1.0984616e+00, -1.6314776e+00, -2.0023727e-01,\n       -2.3136454e+00, -2.6309442e-02,  6.0728315e-02, -1.8033347e+00,\n       -1.8992512e-01, -1.4223326e+00, -3.0516255e+00, -1.0777193e+00,\n       -9.7683322e-01, -2.1540911e+00, -1.5809388e+00, -1.3790385e+00,\n       -2.4904103e+00, -8.7764782e-01, -4.0253477e+00, -2.4207892e+00],\n      dtype=float32), 'original']\n[array([-4.8463693e+02,  8.1752960e+01, -1.1762919e+01,  2.3765251e+01,\n        1.3106876e+01,  3.8163655e+00, -2.0097157e+01,  6.5060277e+00,\n       -1.7470091e+01,  8.9525023e+00, -1.0588861e+01,  1.0611111e+00,\n       -1.1636703e+01, -3.3977640e+00, -1.0635464e+01,  8.2685512e-01,\n       -6.8904052e+00, -6.9097576e+00, -2.3272359e+00, -2.7307549e+00,\n       -1.0602020e+01, -1.2718073e+00, -4.0713005e+00, -3.5705576e+00,\n       -1.4000115e+00, -3.3583605e+00, -1.9378011e-01, -2.9692883e+00,\n       -2.8042998e+00, -1.6354718e+00, -2.9299471e+00, -3.1537948e+00,\n       -2.6112111e+00, -2.6964009e+00,  3.6782649e-01, -2.3182552e+00,\n       -2.4939196e+00, -2.3300266e+00, -2.6521149e+00, -1.8116933e+00],\n      dtype=float32), 'original']\n[array([-6.21233826e+02,  5.20320969e+01, -1.86824226e+01,  1.57899723e+01,\n        5.59407663e+00,  1.48354435e+01, -2.36293869e+01,  1.07103205e+01,\n       -2.08806171e+01,  6.06377935e+00, -1.05288839e+01,  7.44116497e+00,\n       -1.31763172e+01,  2.94367385e+00, -1.90574780e+01,  2.12140369e+00,\n       -4.56428385e+00,  7.22083628e-01, -9.22247589e-01,  1.62684095e+00,\n       -8.35576916e+00,  1.55925131e+00, -2.01209760e+00, -1.18000448e-01,\n       -3.19264293e+00, -3.60183597e-01,  7.36919701e-01, -2.94729280e+00,\n       -8.88998330e-01,  1.13492355e-01, -3.26507998e+00, -1.95572686e+00,\n       -3.63152719e+00, -3.99431443e+00,  8.82821202e-01, -9.60167229e-01,\n       -3.88528538e+00, -2.55318451e+00, -2.85299039e+00, -1.00213742e+00],\n      dtype=float32), 'tv']\n[array([-5.3806421e+02,  5.4179409e+01, -9.0544720e+00,  2.8294733e+01,\n        1.1251706e+01,  1.3079663e+01, -1.2528735e+01,  5.1555514e+00,\n       -1.2635855e+01,  5.3141637e+00, -4.0873470e+00, -9.9492776e-01,\n       -9.3695660e+00,  1.4657960e+00, -1.0314222e+01, -9.5081162e-01,\n       -3.8548636e+00, -4.6299977e+00, -2.0613947e+00, -1.8245646e+00,\n       -7.1486716e+00, -2.9557917e+00, -1.1063212e+00, -4.4729047e-02,\n       -3.3395222e-01, -6.1985636e-01,  3.1502631e-02, -3.4131024e+00,\n        1.5047866e+00,  3.0916879e-02, -2.2191343e+00, -1.4514023e+00,\n       -1.5442430e+00, -2.5425458e+00, -2.3223314e-01, -2.5315633e+00,\n       -3.8790815e+00, -1.6528870e+00, -3.8369458e+00, -2.4590445e+00],\n      dtype=float32), 'original']\n[array([-5.9124805e+02,  3.6102066e+01, -5.2780094e+00,  2.3461540e+01,\n        1.7580736e+01,  1.0769901e+01, -1.3123613e+01,  1.3542553e+01,\n       -2.2027975e+01,  1.6577261e+01, -1.1411732e+01,  4.2199502e+00,\n       -1.4285645e+01,  7.0654845e+00, -2.0467110e+01,  5.0581212e+00,\n       -4.2829981e+00, -2.7895255e+00, -4.7709646e+00, -9.8658073e-01,\n       -1.1111463e+01,  9.6930283e-01, -4.4954810e+00, -3.2577212e+00,\n       -6.8059063e+00,  7.4464589e-01, -3.9160333e+00, -2.1735160e+00,\n        4.9569264e-01, -3.4825724e-01, -4.9679155e+00, -1.9472626e+00,\n       -3.1161516e+00, -1.6786429e+00,  8.9176977e-01, -1.3768399e+00,\n       -4.5459700e+00, -2.1281824e+00, -4.7700610e+00, -2.4856887e+00],\n      dtype=float32), 'soundbar']\n[array([-6.2084406e+02,  5.3940231e+01, -1.8383823e+01,  1.2298676e+01,\n        4.7867975e-01,  1.5128245e+01, -2.1153322e+01,  1.2550189e+01,\n       -1.8831411e+01,  7.2153149e+00, -9.4502707e+00,  7.0027313e+00,\n       -1.2695651e+01,  2.4321535e+00, -1.7036747e+01,  2.8239112e+00,\n       -6.2280722e+00, -8.2709916e-02, -3.3547378e+00,  1.9590813e+00,\n       -7.8704443e+00,  7.7834225e-01, -1.6530825e+00,  3.9307362e-01,\n       -3.1674669e+00, -9.1987497e-01, -6.7739651e-02, -2.7071171e+00,\n       -5.7875309e-02,  5.0243503e-01, -3.1097047e+00, -3.0212586e+00,\n       -2.8899369e+00, -2.5919616e+00,  6.3591415e-01, -1.7948948e+00,\n       -4.6230507e+00, -2.6947944e+00, -2.2646775e+00, -7.5254333e-01],\n      dtype=float32), 'tv']\n[array([-5.4300464e+02,  8.9528008e+01, -5.7111588e+00,  8.2273054e+00,\n        1.6848663e+01,  6.0804048e+00, -1.0747978e+01,  4.3522768e+00,\n       -1.1876270e+01,  6.2429605e+00, -3.1584010e+00, -1.0751740e+00,\n       -5.8580780e+00, -8.5246664e-01, -1.2119794e+01, -1.1519637e+00,\n       -1.2923679e+00, -7.8377142e+00, -2.2047799e+00, -4.9374928e+00,\n       -6.1334333e+00, -2.9305167e+00, -1.8901342e+00, -4.0248084e+00,\n        1.2260704e+00, -1.8803530e+00, -1.5423785e+00, -2.3722672e+00,\n        3.1094193e-01, -1.6389160e+00, -1.1971464e+00, -1.4945060e+00,\n       -1.7381321e+00, -2.8840296e+00, -4.9370280e-01, -2.0028207e+00,\n       -4.3204179e+00, -2.7145228e+00, -2.4212511e+00, -7.5109398e-01],\n      dtype=float32), 'original']\n[array([-5.9084436e+02,  2.3079460e+01, -2.7085131e+01,  2.2321863e+01,\n        5.4112186e+00,  3.0415707e+00, -2.3202982e+01,  1.5194070e+01,\n       -2.2172070e+01,  1.0939603e+01, -6.3661890e+00,  3.9594224e-01,\n       -1.6451197e+01,  6.4358244e+00, -1.2018732e+01,  7.9088581e-01,\n       -6.8328829e+00, -4.3826661e+00, -2.8448927e+00,  2.7815862e+00,\n       -9.2144232e+00, -3.1355805e+00, -2.9258068e+00,  3.5679451e-01,\n       -2.7274749e+00, -7.6922822e-01,  1.0436896e+00, -2.1311979e+00,\n        2.3172443e-01,  1.2033520e+00, -2.1509969e+00, -4.0187812e+00,\n       -5.7483417e-01, -3.5182991e+00,  1.4397981e+00, -1.4193938e+00,\n       -2.2497406e+00, -6.8130225e-01, -3.9618843e+00,  1.2819765e+00],\n      dtype=float32), 'desktop']\n[array([-5.8491443e+02,  4.7004353e+01, -3.1330046e+01,  2.4507494e+01,\n        2.0796200e+01,  7.2993178e+00, -2.7339521e+01,  1.2602630e+01,\n       -2.2994650e+01,  6.5683713e+00, -6.0533290e+00, -1.2941525e-02,\n       -1.8278851e+01,  4.4009790e+00, -1.3761792e+01, -1.9582725e+00,\n       -5.6410189e+00, -3.9529686e+00, -6.1719074e+00, -4.0989690e+00,\n       -1.0217957e+01, -3.0555596e+00, -6.1987057e+00, -4.2396612e+00,\n       -3.3773798e-01, -1.6452278e-01,  1.9608378e+00, -1.6069603e+00,\n        6.6257210e+00,  7.5022966e-01, -3.3043224e-01, -1.3483807e+00,\n       -6.5008825e-01, -1.8002129e+00,  2.1068599e+00, -2.3461201e+00,\n       -3.4099770e+00, -2.7399225e+00, -1.0014094e+00, -1.0770594e+00],\n      dtype=float32), 'soundbox']\n[array([-5.7411584e+02,  2.0296635e+01, -1.8377499e+01,  2.4299318e+01,\n        3.1752601e+00,  2.3941367e+00, -2.6770361e+01,  1.1912606e+01,\n       -2.3411936e+01,  1.0581349e+01, -1.0788205e+01,  2.1875310e+00,\n       -1.6557858e+01,  4.9166422e+00, -1.1823336e+01,  2.1051540e+00,\n       -1.0186497e+01, -4.0196209e+00, -3.6191323e+00,  3.4601972e+00,\n       -1.0830073e+01, -4.8915479e-01, -3.9247069e+00,  9.4604093e-01,\n       -2.7450981e+00, -7.0065701e-01,  1.3295224e-01, -2.5197535e+00,\n        9.0107203e-01,  2.4948561e+00, -1.9251106e+00, -4.7189736e+00,\n       -8.4207332e-01, -3.4858649e+00,  1.8237747e+00, -1.2041866e+00,\n       -2.0903757e+00, -4.9170765e-01, -4.0136642e+00,  2.6065688e+00],\n      dtype=float32), 'desktop']\n[array([-5.47746887e+02,  6.52582016e+01, -9.71626854e+00,  3.19201336e+01,\n        1.58470592e+01,  1.60123119e+01, -1.94359970e+01,  9.88461018e+00,\n       -1.39544611e+01,  1.17479963e+01, -9.90645599e+00, -5.61072350e-01,\n       -1.25339508e+01,  1.93955326e+00, -1.24826765e+01,  1.87485445e+00,\n       -4.95247507e+00, -3.72204447e+00, -3.39085698e+00, -1.61684501e+00,\n       -7.76347780e+00, -3.69767070e-01, -3.12721586e+00, -3.05482358e-01,\n       -2.38328263e-01, -3.82209212e-01,  2.99997866e-01, -2.49110460e+00,\n        6.40835822e-01, -2.08181715e+00, -1.46332645e+00, -2.99507761e+00,\n       -1.27226853e+00, -3.78727317e+00, -5.01464605e-01, -2.46485806e+00,\n       -3.13004851e+00, -2.94720507e+00, -3.43392491e+00, -9.79592919e-01],\n      dtype=float32), 'original']\n[array([-5.6431287e+02,  3.7263973e+01, -7.9041553e+00,  2.1488432e+01,\n        1.9945692e+01,  1.0266680e+01, -2.1440014e+01,  1.2944901e+01,\n       -2.3099997e+01,  1.8385094e+01, -1.4453529e+01,  1.0209533e+01,\n       -1.6486784e+01,  6.1432590e+00, -1.9152069e+01,  4.6147542e+00,\n       -7.4795156e+00, -2.3089499e+00, -5.5140443e+00, -2.2437084e+00,\n       -1.3566376e+01,  4.1679296e+00, -5.7739830e+00, -1.7922944e+00,\n       -6.7449775e+00, -7.1120434e-02, -4.7694416e+00, -2.3330474e+00,\n       -1.7942383e+00,  3.8089421e-01, -6.5734243e+00, -2.5289249e+00,\n       -2.8516011e+00, -9.5249104e-01,  8.8526726e-01, -2.1663353e-01,\n       -4.3086047e+00, -1.3760414e+00, -5.2218623e+00, -3.7359982e+00],\n      dtype=float32), 'soundbar']\n[array([-5.9477332e+02,  1.5868012e+01, -5.7093740e+00,  3.1587267e+01,\n        1.6035343e+01,  1.1149027e+01, -1.4750656e+01,  1.5628018e+01,\n       -1.9084347e+01,  1.9367018e+01, -1.1081849e+01,  8.3913298e+00,\n       -1.5392496e+01,  1.0588849e+01, -1.9792295e+01,  3.1286194e+00,\n       -5.7469444e+00, -4.6744502e-01, -6.0175533e+00, -1.1357818e+00,\n       -1.1200541e+01,  1.3234001e+00, -6.0271010e+00, -1.6220639e+00,\n       -6.8795629e+00,  9.6375173e-01, -3.4174886e+00, -3.3404770e-01,\n        4.5930845e-01,  1.4435407e+00, -6.8450303e+00, -1.1179595e+00,\n       -1.6265887e+00, -1.7825088e-01, -2.4196045e-01,  5.1156205e-01,\n       -4.8728499e+00, -1.1518818e+00, -5.8283987e+00, -2.3975413e+00],\n      dtype=float32), 'soundbar']\n[array([-4.7554120e+02,  6.3042877e+01, -1.8014183e+01,  3.1703522e+01,\n        1.6518980e+01,  1.0372147e+01, -1.9601566e+01,  1.6869985e-01,\n       -1.8163525e+01,  7.8700852e+00, -1.3272759e+01,  3.8888497e+00,\n       -1.4076279e+01, -1.0666771e+00, -1.2953228e+01,  3.3348277e+00,\n       -6.2251430e+00, -3.8919041e+00, -3.6563623e+00, -1.4942186e+00,\n       -1.0226997e+01,  2.1385823e-01, -4.7227907e+00, -2.3801403e+00,\n       -2.2656043e+00, -2.3874090e+00, -1.3931633e+00, -5.3153400e+00,\n       -3.4964576e+00, -1.5277609e+00, -2.9653702e+00, -2.0823603e+00,\n       -3.6813664e+00, -3.3236918e+00, -1.1151586e+00, -1.3928764e+00,\n       -2.9333043e+00, -8.9290237e-01, -2.2181215e+00, -1.2847450e+00],\n      dtype=float32), 'original']\n[array([-5.9593390e+02,  3.3485451e+01, -1.9375445e+00,  2.3257133e+01,\n        1.5500379e+01,  1.6116976e+01, -1.5523348e+01,  1.5115747e+01,\n       -2.1596407e+01,  1.7408007e+01, -1.3194918e+01,  7.8256245e+00,\n       -1.6235537e+01,  8.1143303e+00, -1.9134012e+01,  4.7546153e+00,\n       -7.1197329e+00,  1.0691395e-01, -6.0579605e+00, -1.2631609e+00,\n       -1.1715475e+01,  3.2264907e+00, -7.0677390e+00, -2.4379063e+00,\n       -5.9201665e+00,  4.1005006e-01, -4.5271850e+00, -1.5972033e+00,\n       -7.3929888e-01,  4.2617825e-01, -5.2605739e+00, -1.8162427e+00,\n       -2.4294891e+00, -1.5282948e+00, -4.1013964e-02, -3.0860004e-01,\n       -4.9603581e+00, -3.6808479e-01, -5.6824222e+00, -2.4233594e+00],\n      dtype=float32), 'soundbar']\n[array([-6.0320172e+02,  2.8115324e+01, -6.0596838e+00,  2.8075838e+01,\n        1.8487219e+01,  1.4671599e+01, -1.7280146e+01,  1.8547617e+01,\n       -1.8145081e+01,  1.8173857e+01, -1.1244979e+01,  7.5423903e+00,\n       -1.6399420e+01,  8.0436926e+00, -2.0467548e+01,  3.5671525e+00,\n       -4.8848033e+00, -1.3791429e+00, -6.2792635e+00, -1.2894746e+00,\n       -9.8602285e+00,  2.8958554e+00, -6.1194830e+00, -1.8055501e+00,\n       -6.4785562e+00,  1.3428617e+00, -3.7387881e+00, -5.6855333e-01,\n       -6.6047710e-01,  1.5545239e+00, -5.7643008e+00, -2.3404319e+00,\n       -2.3122890e+00, -1.3665969e+00, -8.2302362e-01, -1.1353753e+00,\n       -4.6874642e+00, -1.7938991e+00, -5.9130821e+00, -2.7230957e+00],\n      dtype=float32), 'soundbar']\n[array([-5.1850970e+02,  7.1244629e+01, -6.2812004e+00,  2.7281898e+01,\n        1.3851347e+01,  1.0277125e+01, -1.5103902e+01,  7.4185629e+00,\n       -1.7802971e+01,  8.3378201e+00, -8.4781542e+00, -2.9045131e+00,\n       -1.1339111e+01, -1.8198107e+00, -1.1966292e+01,  1.9857608e+00,\n       -5.1189041e+00, -3.3984494e+00, -2.6878693e+00, -2.8109648e+00,\n       -7.9726386e+00, -1.1787713e+00, -3.9130263e+00, -3.0982673e+00,\n       -6.0791682e-02, -1.9803389e+00, -1.0762117e+00, -4.2561684e+00,\n        6.6712871e-02, -2.2144828e+00, -1.8864408e+00, -2.8842969e+00,\n       -1.7589490e+00, -3.2268739e+00,  5.3814119e-01, -1.2665011e+00,\n       -2.4855237e+00, -1.3191676e+00, -3.4110489e+00, -8.1713802e-01],\n      dtype=float32), 'original']\n[array([-591.32825   ,   58.145115  ,  -30.642847  ,   13.672411  ,\n          2.602554  ,   12.371793  ,  -25.468023  ,    7.1586123 ,\n        -24.559341  ,    8.191494  ,  -10.488945  ,    4.053541  ,\n        -12.448172  ,    1.6702914 ,  -19.699337  ,    2.9578776 ,\n         -4.292734  ,   -1.002752  ,   -0.7726733 ,    4.5480847 ,\n        -10.21619   ,    2.2369764 ,   -0.82680225,    1.6215646 ,\n         -3.311687  ,   -1.3864136 ,    0.9442813 ,   -2.7545183 ,\n         -1.5212698 ,   -1.1675965 ,   -1.779974  ,   -2.4015484 ,\n         -3.1145072 ,   -4.0840607 ,    0.69110674,   -0.59805316,\n         -3.4075685 ,   -1.9741423 ,   -2.8234973 ,   -1.368772  ],\n      dtype=float32), 'tv']\n[array([-6.0609625e+02,  5.8720520e+01, -2.2913603e+01,  1.0375470e+01,\n        4.3454742e+00,  1.6313765e+01, -2.4929056e+01,  7.3701177e+00,\n       -2.2862589e+01,  5.1896472e+00, -9.6731367e+00,  4.8818936e+00,\n       -1.3611807e+01,  1.8666654e+00, -1.9506388e+01,  1.0954527e+00,\n       -4.1265750e+00,  1.8855152e+00, -3.5230750e-01,  3.4487119e+00,\n       -8.0678425e+00,  4.7901005e-01, -3.4902385e-01,  1.1948403e+00,\n       -4.5834322e+00, -1.8876196e+00,  4.1719392e-01, -2.6867170e+00,\n       -1.1167554e+00, -3.4939393e-01, -2.9177222e+00, -2.0794759e+00,\n       -3.9321280e+00, -2.8483639e+00,  1.4343283e+00, -1.7328850e+00,\n       -3.8207147e+00, -3.2010365e+00, -2.6304436e+00, -1.0548687e+00],\n      dtype=float32), 'tv']\n[array([-5.7237036e+02,  6.0233221e+00, -1.6730715e+01,  2.6531998e+01,\n       -8.8374031e-01,  6.8735752e+00, -2.5357193e+01,  1.3549187e+01,\n       -2.2328842e+01,  1.1388705e+01, -1.0338380e+01,  1.8528674e+00,\n       -1.9438261e+01,  5.0220232e+00, -1.4400316e+01,  2.6607838e+00,\n       -8.9343271e+00, -3.4692409e+00, -3.3647346e+00,  2.6971555e+00,\n       -9.3504667e+00, -3.5954061e-01, -4.1253743e+00,  4.9296793e-02,\n       -1.1401485e+00, -8.5840708e-01,  1.0343400e+00, -2.9757569e+00,\n        4.2913675e-01,  2.5269420e+00, -2.2120178e+00, -4.4949684e+00,\n        9.2197526e-01, -3.0602071e+00,  3.8088343e-01, -8.0166000e-01,\n       -2.8986573e+00, -3.7846190e-01, -3.0608280e+00,  2.7428288e+00],\n      dtype=float32), 'desktop']\n[array([-6.13853455e+02,  3.46780510e+01, -4.99501228e+00,  2.35439892e+01,\n        1.65045948e+01,  1.58211575e+01, -1.72479763e+01,  1.67838917e+01,\n       -1.74732800e+01,  1.63021507e+01, -1.12843275e+01,  8.21309471e+00,\n       -1.43646460e+01,  9.25945187e+00, -1.90568371e+01,  3.28300595e+00,\n       -5.19128513e+00, -1.25534549e-01, -6.02437830e+00, -4.18528825e-01,\n       -1.08905869e+01,  1.44463491e+00, -6.27059746e+00, -1.12758780e+00,\n       -4.83945417e+00,  1.28599787e+00, -3.56961393e+00, -9.34167743e-01,\n        3.67484391e-01,  1.06551123e+00, -5.51314974e+00, -1.28917181e+00,\n       -2.73562670e+00, -1.39264202e+00,  1.86316088e-01, -8.16939592e-01,\n       -4.65058374e+00, -9.70970929e-01, -3.96931005e+00, -2.61419725e+00],\n      dtype=float32), 'soundbar']\n[array([-5.4316730e+02,  1.3679497e+01, -2.5955370e+01,  2.4771755e+01,\n        1.5104321e+00, -2.6881778e+00, -2.6984690e+01,  1.0213340e+01,\n       -2.8260460e+01,  1.0069058e+01, -7.6664085e+00,  4.7012833e-01,\n       -1.6081234e+01,  4.5798540e+00, -1.3160213e+01,  2.7852352e+00,\n       -8.6233234e+00, -6.3258443e+00, -1.6407747e+00,  4.0590315e+00,\n       -9.3824224e+00, -1.9119247e+00, -3.3917160e+00, -4.7257552e-01,\n       -1.3415333e+00, -2.2928512e+00, -3.6873034e-01, -2.1466403e+00,\n        1.2338682e+00,  2.8391862e+00, -1.5530856e+00, -5.0914178e+00,\n       -2.2683026e-01, -2.8802266e+00,  1.7421178e+00, -1.4024311e+00,\n       -1.7538962e+00, -2.1334980e-01, -4.8674660e+00,  2.0548654e+00],\n      dtype=float32), 'desktop']\n[array([-5.27704346e+02,  6.71078949e+01, -2.02945662e+00,  1.50806894e+01,\n        1.16373301e+01,  1.23900557e+01, -1.85524921e+01,  7.77077436e+00,\n       -1.91022892e+01,  1.15435505e+01, -6.32078791e+00,  6.42609119e-01,\n       -8.99210167e+00,  8.70488524e-01, -1.01411648e+01,  1.12638438e+00,\n       -3.09050703e+00, -4.16368866e+00, -2.88231683e+00, -3.05927134e+00,\n       -6.50220394e+00, -2.76437616e+00, -4.28725386e+00, -2.59338903e+00,\n       -5.85106015e-02, -2.06671333e+00, -7.00907350e-01, -3.23078609e+00,\n        1.32927608e+00, -9.75412786e-01, -1.78781033e+00, -2.75814009e+00,\n       -1.64430833e+00, -2.69232702e+00, -3.32547948e-02, -2.32171941e+00,\n       -4.28391647e+00, -3.02406096e+00, -2.70933771e+00, -5.46595335e-01],\n      dtype=float32), 'original']\n[array([-5.8504108e+02,  5.7858967e+01, -2.4825876e+01,  7.1101408e+00,\n        4.1432099e+00,  1.1065836e+01, -2.2348263e+01,  6.3283176e+00,\n       -2.1897348e+01,  2.2534294e+00, -8.8987751e+00,  1.4853446e+00,\n       -1.0375975e+01, -3.5712178e+00, -1.9585424e+01, -1.1113751e+00,\n       -1.0021496e+00, -4.4271213e-01,  2.8740662e-01,  1.4425174e+00,\n       -6.5072694e+00,  7.5958276e-01,  1.1455795e+00,  1.0170735e+00,\n       -1.0928452e+00, -2.1239007e+00,  1.4244347e+00, -6.1295347e+00,\n       -1.0881311e+00, -1.3127259e+00, -1.9034218e+00, -2.0687551e+00,\n       -1.9267803e+00, -4.2704306e+00,  2.5899708e+00, -1.6980058e+00,\n       -4.7754283e+00, -2.1805189e+00, -1.5928824e+00, -2.1132543e+00],\n      dtype=float32), 'tv']\n[array([-6.0118268e+02,  3.3010208e+01, -2.1543465e+01,  1.9645042e+01,\n        2.4789598e+00,  1.5038131e+01, -2.3189735e+01,  1.2687914e+01,\n       -2.0306700e+01,  9.7157173e+00, -8.1855974e+00,  6.0607033e+00,\n       -1.5078920e+01,  4.9926023e+00, -1.9862486e+01,  2.9141517e+00,\n       -4.7410216e+00,  5.7018465e-01, -5.1494366e-01,  1.3443075e+00,\n       -9.8350801e+00,  1.5286906e+00, -1.7741071e+00,  1.3452671e-01,\n       -4.8208871e+00, -1.8753827e+00,  1.1497302e+00, -2.6697013e+00,\n       -1.3711597e+00, -2.7461159e-01, -3.5405591e+00, -1.1076077e+00,\n       -2.6849756e+00, -3.0703592e+00,  5.8383739e-01, -1.3671826e+00,\n       -4.7035718e+00, -1.6704603e+00, -2.0453041e+00, -2.3510044e+00],\n      dtype=float32), 'tv']\n[array([-6.0398059e+02,  4.2452267e+01, -2.2571966e+01,  1.6643579e+01,\n        2.2775657e+00,  1.5457190e+01, -2.1031450e+01,  9.1315737e+00,\n       -2.1998806e+01,  8.0083132e+00, -9.7380581e+00,  6.6566863e+00,\n       -1.2879816e+01,  3.8665211e+00, -1.9857025e+01,  3.2567623e+00,\n       -3.1626956e+00,  3.3092296e-01, -6.2238520e-01,  2.0410192e+00,\n       -9.8843994e+00,  8.4278846e-01, -1.3357825e+00,  4.6034817e-02,\n       -4.7387810e+00, -5.1774615e-01,  1.4897350e+00, -4.5659852e+00,\n       -1.1791202e+00, -4.4658446e-01, -1.9153737e+00, -2.5036385e+00,\n       -3.8767350e+00, -3.6803529e+00,  2.4371769e+00, -1.7077020e+00,\n       -5.2356691e+00, -2.0435967e+00, -2.4562836e+00, -1.1594889e+00],\n      dtype=float32), 'tv']\n[array([-6.0155804e+02,  5.0842186e+01, -2.5462124e+01,  1.6118166e+01,\n        7.0268421e+00,  1.2205647e+01, -2.5674950e+01,  9.9769402e+00,\n       -2.1962282e+01,  7.1431365e+00, -1.0907024e+01,  4.1724257e+00,\n       -1.2792637e+01,  1.9432200e+00, -1.8577726e+01,  1.4426363e+00,\n       -3.0167065e+00, -9.1276847e-02, -5.5141795e-01,  2.4466085e+00,\n       -8.1208963e+00,  1.6902474e+00, -4.1502431e-01,  6.2076741e-01,\n       -4.0514731e+00, -1.9148711e+00,  1.3418436e+00, -4.1712499e+00,\n       -8.9515638e-01, -1.7036206e+00, -2.3835652e+00, -2.6701615e+00,\n       -2.4374571e+00, -3.9276471e+00,  8.6845696e-01, -1.3196766e+00,\n       -3.5807219e+00, -1.7878497e+00, -1.6093911e+00, -1.2269818e+00],\n      dtype=float32), 'tv']\n[array([-5.8653766e+02,  4.2209984e+01, -3.1874075e+01,  2.3052662e+01,\n        2.7028467e+01,  3.5478287e+00, -2.3147205e+01,  1.1830024e+01,\n       -2.1076326e+01,  2.7613428e+00, -2.0499468e+00, -2.8842788e+00,\n       -1.6512285e+01,  4.1657519e+00, -1.2204589e+01, -3.9573431e+00,\n       -2.1877024e+00, -3.4214706e+00, -3.2066660e+00, -6.4670396e+00,\n       -8.1549597e+00, -4.8117690e+00, -4.3241563e+00, -6.4454312e+00,\n       -7.0819306e-01,  3.3549845e-02,  1.1946191e+00, -1.4354120e+00,\n        6.6919088e+00,  6.3062561e-01, -1.0824634e+00, -4.4700864e-01,\n       -1.4058349e+00, -2.8972452e+00,  1.1818867e+00, -2.5700345e+00,\n       -4.1918163e+00, -2.9016049e+00, -1.7455769e+00, -1.2791820e+00],\n      dtype=float32), 'soundbox']\n[array([-5.9024182e+02,  1.2188405e+01, -3.2923589e+00,  3.1062567e+01,\n        1.7957693e+01,  1.5617834e+01, -1.6650990e+01,  1.6222704e+01,\n       -2.0652683e+01,  1.8241810e+01, -1.0175587e+01,  7.7065754e+00,\n       -1.6830183e+01,  1.0906738e+01, -2.0858992e+01,  3.9042275e+00,\n       -8.2333441e+00, -1.2459342e+00, -4.8653822e+00, -1.8720758e+00,\n       -1.0810498e+01,  2.9430139e+00, -6.3718972e+00, -2.2346087e+00,\n       -6.5937605e+00,  1.1319375e+00, -4.0747914e+00, -1.1637942e+00,\n       -3.8633776e-01,  1.5337274e+00, -6.1554456e+00, -9.5837480e-01,\n       -1.6448438e+00, -5.9334695e-01, -1.0022788e+00, -3.4794655e-01,\n       -4.8183584e+00, -1.5924568e+00, -6.0372753e+00, -3.6699905e+00],\n      dtype=float32), 'soundbar']\n[array([-497.53745  ,   69.882965 ,  -10.270008 ,   30.345541 ,\n          8.680964 ,   11.037239 ,  -15.441022 ,    5.2268586,\n        -16.051533 ,    9.169142 ,  -11.637821 ,   -2.5321345,\n         -9.780501 ,   -3.3951387,  -11.531379 ,    1.4284084,\n         -5.8479013,   -5.1178164,   -3.1701553,   -1.5142716,\n         -9.793994 ,   -0.8219452,   -3.4703352,   -1.3052285,\n         -2.0877128,   -1.3563287,   -1.324334 ,   -3.7333052,\n         -1.1616838,   -2.673861 ,   -2.6981747,   -3.0718832,\n         -2.2880263,   -3.2026057,    0.867158 ,   -2.882546 ,\n         -2.9070458,   -1.9175651,   -2.9964535,   -1.4539164],\n      dtype=float32), 'original']\n[array([-5.6165857e+02,  1.2833510e+01, -2.9501110e+01,  3.1881828e+01,\n        6.2137504e+00, -2.1267676e+00, -2.5925421e+01,  1.4242404e+01,\n       -2.7693726e+01,  1.3920632e+01, -1.0513093e+01, -6.9478095e-01,\n       -1.8483833e+01,  5.7449536e+00, -1.3891278e+01,  6.7630905e-01,\n       -7.5656571e+00, -4.3821306e+00, -2.8842108e+00,  4.1102595e+00,\n       -9.0662127e+00, -1.5582623e+00, -3.0390489e+00,  1.5136726e+00,\n       -3.0900578e+00,  5.4072641e-02,  9.7582239e-01, -1.2366688e+00,\n        4.3250760e-01,  2.3797934e+00, -2.7083426e+00, -3.5335360e+00,\n       -2.2174475e-01, -2.9062781e+00,  1.3748976e+00, -2.0492392e+00,\n       -2.2432823e+00, -2.1127300e-01, -4.4728465e+00,  2.4191999e+00],\n      dtype=float32), 'desktop']\n[array([-6.1714886e+02,  3.7946640e+01, -3.0904377e+00,  2.3022724e+01,\n        1.5769100e+01,  1.6653313e+01, -1.8907005e+01,  1.7766006e+01,\n       -1.7787254e+01,  1.7754478e+01, -1.1517527e+01,  1.0969492e+01,\n       -1.5701331e+01,  8.3962784e+00, -1.8693720e+01,  4.3700109e+00,\n       -6.7081299e+00, -8.7389773e-01, -6.7547317e+00, -4.7212444e-02,\n       -1.0482546e+01,  3.2524180e+00, -6.1277080e+00, -1.0414993e+00,\n       -4.9479804e+00,  1.5322033e+00, -3.7958341e+00, -1.4163766e+00,\n       -2.3496880e-01,  1.1623503e+00, -5.9498115e+00, -1.3688589e+00,\n       -3.4114561e+00, -1.0712887e+00, -2.9722738e-01, -1.0798690e+00,\n       -5.2061882e+00, -1.5568165e+00, -4.4784002e+00, -2.6735151e+00],\n      dtype=float32), 'soundbar']\n[array([-5.8208020e+02,  2.1551277e+01, -2.2042366e+01,  2.6530727e+01,\n        8.9350967e+00,  1.8447700e+00, -2.5475147e+01,  1.4959350e+01,\n       -2.5423096e+01,  1.0934140e+01, -1.0976336e+01, -4.6756133e-02,\n       -1.7250002e+01,  3.2123101e+00, -1.5632772e+01, -2.7650796e-02,\n       -7.5107985e+00, -5.1491590e+00, -3.5691035e+00,  1.5744812e+00,\n       -9.9837484e+00, -1.9038311e+00, -4.5962315e+00,  1.2717069e+00,\n       -1.8940196e+00, -1.6525944e-01,  6.5935981e-01, -1.7922207e+00,\n        8.5894591e-01,  1.6218915e+00, -1.7407215e+00, -4.4861708e+00,\n        1.1283284e+00, -3.4789331e+00,  1.4758999e+00, -1.4723423e+00,\n       -2.3519583e+00, -6.9124639e-01, -4.3649607e+00,  3.1313608e+00],\n      dtype=float32), 'desktop']\n[array([-5.86947388e+02,  2.33717136e+01, -2.79102879e+01,  2.59001827e+01,\n        3.63399816e+00,  8.43674839e-01, -2.32503109e+01,  1.59097471e+01,\n       -2.43462601e+01,  1.16855955e+01, -6.73920822e+00,  1.32704496e-01,\n       -1.76779823e+01,  4.77924681e+00, -1.22076178e+01,  2.76718163e+00,\n       -7.16895342e+00, -5.78650427e+00, -3.31005120e+00,  4.34333229e+00,\n       -8.80021381e+00, -2.85074282e+00, -3.16257071e+00,  1.78292370e+00,\n       -2.96442103e+00, -1.36855912e+00,  1.65717387e+00, -1.61518931e+00,\n        7.56093502e-01,  1.43621027e+00, -2.17833614e+00, -3.55034018e+00,\n       -3.78155112e-01, -2.27654290e+00,  1.64625347e+00, -1.70882010e+00,\n       -2.04286623e+00, -3.78622897e-02, -4.28463602e+00,  2.06227875e+00],\n      dtype=float32), 'desktop']\n[array([-5.94385559e+02,  2.47488594e+01, -1.94284477e+01,  1.76505947e+01,\n        2.15958762e+00,  7.75021172e+00, -2.58764305e+01,  1.53738728e+01,\n       -2.67050037e+01,  1.38461084e+01, -8.80841541e+00,  2.03454995e+00,\n       -1.66924534e+01,  6.51571226e+00, -1.27782831e+01,  2.97980165e+00,\n       -6.55662298e+00, -2.00343990e+00, -5.19360781e+00,  2.55896401e+00,\n       -8.05230045e+00, -2.13713646e+00, -5.66047144e+00,  1.22128054e-01,\n       -3.39501286e+00, -4.79071140e-01, -5.41645586e-01, -1.55960691e+00,\n        6.06198847e-01,  2.89885473e+00, -2.76017594e+00, -2.52354074e+00,\n       -1.29175454e-01, -2.48134041e+00,  9.51837823e-02, -1.15360904e+00,\n       -2.64321303e+00, -1.39594585e-01, -4.24323034e+00,  1.78866029e+00],\n      dtype=float32), 'desktop']\n[array([-5.61544495e+02,  7.05529175e+01, -5.60824966e+00,  3.20891533e+01,\n        1.88803825e+01,  1.30742445e+01, -1.75578136e+01,  7.74884367e+00,\n       -1.41032324e+01,  7.67211390e+00, -8.19994068e+00,  1.04111230e+00,\n       -1.11750240e+01,  2.64756203e+00, -1.29202909e+01, -1.06889510e+00,\n       -5.81192684e+00, -3.71601868e+00, -2.24023581e+00, -2.44131088e+00,\n       -6.98625135e+00, -1.77499545e+00, -2.50391865e+00, -9.78278637e-01,\n       -2.25193277e-01, -7.54171669e-01,  9.59207565e-02, -3.88808727e+00,\n       -5.04527986e-01, -1.07518578e+00, -2.47260499e+00, -1.34292936e+00,\n       -9.09792006e-01, -3.47732615e+00, -7.64599562e-01, -1.90431666e+00,\n       -1.88819945e+00, -2.37183785e+00, -3.30395484e+00, -1.60188174e+00],\n      dtype=float32), 'original']\n[array([-5.1058237e+02,  7.7263077e+01, -1.1113919e+01,  2.9717999e+01,\n        1.2248894e+01,  3.8708951e+00, -1.2718201e+01,  6.8782258e+00,\n       -2.0278021e+01,  8.8050194e+00, -9.9117546e+00, -4.8221426e+00,\n       -8.6218853e+00, -6.2280613e-01, -1.3801028e+01,  2.8644607e+00,\n       -3.8778207e+00, -6.2050571e+00, -2.6306391e+00, -1.2899610e+00,\n       -9.1597309e+00, -3.0283594e+00, -1.8331975e+00, -3.0362315e+00,\n       -2.2566636e+00, -1.3387218e+00, -5.6699604e-01, -3.3367229e+00,\n       -7.9443967e-01, -2.1410010e+00, -6.5048784e-01, -2.0379152e+00,\n       -3.0526721e+00, -2.9865110e+00,  1.7854606e-01, -2.5188150e+00,\n       -2.9946151e+00, -2.2164345e+00, -2.1090531e+00, -5.7789856e-01],\n      dtype=float32), 'original']\n[array([-5.7893060e+02,  1.3513626e+01, -2.4747190e+01,  2.4155182e+01,\n        8.3782701e+00,  2.2270494e+00, -2.4358509e+01,  1.3990090e+01,\n       -2.2398996e+01,  1.0944553e+01, -7.3451958e+00,  3.3445033e-01,\n       -1.8143606e+01,  4.8899045e+00, -1.1214775e+01,  7.5761682e-01,\n       -6.0265670e+00, -6.8124361e+00, -1.9631917e+00,  4.8626101e-01,\n       -7.8924675e+00, -2.3921943e+00, -3.1619699e+00, -2.7652420e-02,\n       -2.6475923e+00, -1.4264252e+00,  1.5104259e+00, -2.7306418e+00,\n        7.8145581e-01, -2.7815193e-01, -1.9549165e+00, -3.8822486e+00,\n       -4.7666368e-01, -3.5210924e+00,  1.4014186e+00, -1.7859112e+00,\n       -2.2130289e+00, -3.9606923e-01, -3.2497520e+00,  2.2735991e+00],\n      dtype=float32), 'desktop']\n[array([-6.0912500e+02,  3.0378929e+01, -2.2949128e+00,  2.3988823e+01,\n        1.7768555e+01,  1.6188858e+01, -1.6053974e+01,  1.6573872e+01,\n       -1.7519081e+01,  1.7685020e+01, -1.1433001e+01,  8.1958590e+00,\n       -1.6872561e+01,  8.4107504e+00, -1.9372740e+01,  2.5101514e+00,\n       -6.3508949e+00, -4.7001612e-01, -5.7471967e+00, -1.4097856e+00,\n       -9.9875860e+00,  1.5090452e+00, -7.6178718e+00, -1.4738672e+00,\n       -5.2338238e+00,  9.7146112e-01, -4.5198045e+00, -1.0170548e+00,\n        1.2467311e-02,  3.0095237e-01, -5.3636608e+00, -1.5148876e+00,\n       -2.2098885e+00, -1.4286870e+00,  1.3185502e+00, -3.2830337e-01,\n       -4.1242027e+00, -7.1652550e-01, -3.8789105e+00, -2.2854946e+00],\n      dtype=float32), 'soundbar']\n[array([-6.0284351e+02,  5.1273888e+01, -1.9045931e+01,  1.0646666e+01,\n        1.1658183e+00,  1.3406563e+01, -2.0270330e+01,  8.6683626e+00,\n       -2.1317175e+01,  6.4313984e+00, -8.9627552e+00,  4.0313940e+00,\n       -1.2348023e+01,  2.0684688e-01, -1.7285755e+01,  2.1060207e+00,\n       -2.7838171e+00,  3.1399101e-01, -1.7839581e-02,  2.2742553e-01,\n       -8.7830267e+00,  9.4651484e-01, -9.4797993e-01,  3.7611254e-02,\n       -1.4303681e+00, -1.1274669e+00,  9.4265323e-03, -4.8748388e+00,\n       -1.1030164e+00, -1.6208975e+00, -2.0278425e+00, -2.4642017e+00,\n       -3.1194196e+00, -4.6065478e+00,  2.0317221e+00, -7.6083130e-01,\n       -3.4048398e+00, -1.8074027e+00, -1.9081794e+00, -1.2991281e+00],\n      dtype=float32), 'tv']\n[array([-5.7683618e+02,  3.5578289e+01, -1.4020586e+01,  2.6551386e+01,\n        2.0955276e+01,  1.2975222e+01, -1.7986998e+01,  1.2189442e+01,\n       -2.5048483e+01,  1.9344727e+01, -1.2831717e+01,  7.0574489e+00,\n       -1.5885730e+01,  7.9232521e+00, -2.1448647e+01,  4.8581152e+00,\n       -6.1740656e+00, -1.4192506e+00, -6.6099167e+00, -8.0408037e-02,\n       -1.4218095e+01,  4.2085190e+00, -5.9326172e+00, -1.1543732e+00,\n       -6.5363593e+00,  5.0247002e-01, -4.4608207e+00,  6.5535799e-02,\n        6.8277472e-01, -5.6715315e-04, -5.6278114e+00, -1.8370106e+00,\n       -2.6624522e+00, -1.6753727e+00, -1.0141103e+00, -5.5284125e-01,\n       -4.1959176e+00, -9.7558749e-01, -6.4088154e+00, -2.5415978e+00],\n      dtype=float32), 'soundbar']\n[array([-5.1957349e+02,  6.5143784e+01, -4.1916194e+00,  3.2663548e+01,\n        1.5345879e+01,  1.1260621e+01, -1.7219177e+01,  9.6347399e+00,\n       -1.5525240e+01,  9.2695227e+00, -1.1746736e+01, -1.8914784e-01,\n       -1.4910244e+01,  1.9634091e+00, -1.5794768e+01,  2.6467314e+00,\n       -7.5250196e+00, -2.8559303e+00, -3.4410112e+00, -1.6942292e+00,\n       -9.0143766e+00,  1.6702095e-01, -3.9767916e+00, -1.9840523e+00,\n       -2.3601618e+00, -5.9094310e-01, -2.3518844e+00, -2.2369516e+00,\n       -1.3135326e+00, -1.0467308e+00, -2.5902412e+00, -2.4499738e+00,\n       -1.8185042e+00, -3.4083066e+00, -7.5573051e-01, -2.3642690e+00,\n       -3.5818663e+00, -3.0233724e+00, -2.6069446e+00, -1.7024199e+00],\n      dtype=float32), 'original']\n[array([-5.4384204e+02,  4.4588593e+01, -4.0097351e+01,  2.2684834e+01,\n        1.6984615e+01,  4.4589105e+00, -2.8456263e+01,  1.1266784e+01,\n       -2.9165630e+01,  4.9061108e+00, -3.7760458e+00, -7.5772077e-01,\n       -1.8489546e+01,  7.4854870e+00, -1.7035217e+01,  6.1329693e-01,\n       -4.6511865e+00, -3.4111211e+00, -4.2656388e+00, -5.3486466e+00,\n       -1.2611939e+01, -4.4004779e+00, -6.5355501e+00, -5.9246655e+00,\n        1.0240303e+00, -1.2216603e+00, -3.4793358e-02, -2.1254251e+00,\n        5.5889001e+00,  1.0865341e+00, -6.2742078e-01, -1.3795868e+00,\n       -1.5282332e+00, -1.9099377e+00,  2.0987711e+00, -2.0270624e+00,\n       -2.7662413e+00, -2.7864232e+00, -2.7903937e-02, -5.2572143e-01],\n      dtype=float32), 'soundbox']\n[array([-6.23952332e+02,  5.32408257e+01, -1.62809544e+01,  1.28062878e+01,\n        5.79005194e+00,  1.30494118e+01, -2.29717522e+01,  1.05142050e+01,\n       -1.84742565e+01,  7.21308899e+00, -8.33797550e+00,  6.23482561e+00,\n       -1.10367126e+01,  1.79727435e+00, -1.57545395e+01,  2.72756636e-01,\n       -4.28922367e+00, -1.71388173e+00, -1.47464144e+00,  4.92151797e-01,\n       -7.80565262e+00, -3.51049930e-01, -1.13682306e+00, -3.95501465e-01,\n       -2.13136292e+00, -1.14872658e+00,  4.80245650e-01, -4.21898079e+00,\n        3.87265921e-01, -4.22942787e-01, -2.31859851e+00, -3.05047750e+00,\n       -2.86247730e+00, -3.01611280e+00,  2.09945107e+00, -1.69805908e+00,\n       -3.59036517e+00, -2.22820592e+00, -1.95180666e+00, -1.81239021e+00],\n      dtype=float32), 'tv']\n[array([-5.62864746e+02,  2.22290459e+01, -2.18032303e+01,  2.55570793e+01,\n        6.06738615e+00, -1.95297658e+00, -2.98814869e+01,  1.36028452e+01,\n       -2.90782146e+01,  1.27514172e+01, -1.41330185e+01, -6.93911910e-01,\n       -1.61558399e+01,  1.87111378e+00, -1.36991129e+01,  2.62438989e+00,\n       -9.36424828e+00, -4.96918535e+00, -2.78125548e+00,  3.91478181e+00,\n       -1.03638172e+01,  1.69249862e-01, -3.47647858e+00,  2.85498142e-01,\n       -1.56371331e+00, -5.11454761e-01,  8.83910358e-02, -2.59478068e+00,\n       -5.20088971e-01,  2.20643258e+00, -9.45436120e-01, -4.12702799e+00,\n       -5.86908236e-02, -3.62369251e+00,  1.90116501e+00, -1.17086470e+00,\n       -2.63038898e+00, -2.20262066e-01, -3.65286183e+00,  3.34767032e+00],\n      dtype=float32), 'desktop']\n[array([-5.3771466e+02,  7.5956612e+01, -7.9867935e+00,  2.7409794e+01,\n        1.7916662e+01,  1.0500607e+01, -1.6229767e+01,  1.0736038e+01,\n       -1.5489843e+01,  9.4904966e+00, -1.2409939e+01, -5.2258533e-01,\n       -1.1483019e+01, -1.0479016e+00, -1.4086548e+01,  1.4413471e+00,\n       -4.1874180e+00, -4.9507985e+00, -3.0031543e+00, -3.6733055e+00,\n       -8.5583687e+00, -2.7033296e-01, -4.0256290e+00, -1.6164334e+00,\n       -4.8874614e-01, -1.4489291e+00,  4.2287084e-01, -2.5232441e+00,\n       -4.6484417e-01, -2.1514933e+00, -9.7539169e-01, -4.0698743e+00,\n       -6.4916372e-01, -3.3134651e+00,  1.9483437e-03, -3.3411067e+00,\n       -3.6504178e+00, -3.6827121e+00, -2.3665047e+00, -4.3439478e-01],\n      dtype=float32), 'original']\n[array([-6.0567719e+02,  5.8275135e+01, -2.5439934e+01,  9.4064541e+00,\n        3.1728604e+00,  1.4620117e+01, -2.2426109e+01,  9.6489658e+00,\n       -2.2766348e+01,  5.8818336e+00, -1.1955576e+01,  7.0244398e+00,\n       -1.2951022e+01,  2.9150972e+00, -2.1939713e+01,  1.3757297e+00,\n       -3.0695746e+00,  8.5113294e-02, -8.4933078e-01,  3.4471610e+00,\n       -1.0065270e+01,  1.3816491e+00, -3.0175796e-01,  2.2724345e+00,\n       -3.0013459e+00, -4.9908760e-01,  1.0486630e+00, -3.0807991e+00,\n       -1.6452945e+00, -1.2746323e+00, -2.7410312e+00, -2.4572983e+00,\n       -3.4983861e+00, -4.8439384e+00,  4.6201298e-01, -8.0021209e-01,\n       -5.8154917e+00, -1.7996715e+00, -1.3480648e+00, -1.2453007e+00],\n      dtype=float32), 'tv']\n[array([-6.0037848e+02,  2.5815266e+01, -1.9128225e+00,  2.3997805e+01,\n        1.8485367e+01,  1.3856372e+01, -1.7451885e+01,  1.5927692e+01,\n       -1.9028933e+01,  1.7704277e+01, -1.2064282e+01,  1.0068857e+01,\n       -1.7145006e+01,  1.1989749e+01, -2.1538588e+01,  4.6637049e+00,\n       -6.6875072e+00, -9.0082347e-01, -5.4842377e+00, -3.4784484e-01,\n       -1.1814648e+01,  2.7365191e+00, -6.6696339e+00, -2.1354063e+00,\n       -6.4412913e+00,  6.0851389e-01, -5.3706255e+00, -8.1130451e-01,\n        3.3144197e-01,  2.1944644e+00, -5.6643429e+00, -9.4961250e-01,\n       -2.8337383e+00, -1.1861876e+00, -2.4427989e-01, -4.3510851e-02,\n       -5.6128221e+00, -4.7591797e-01, -5.0836453e+00, -2.2620218e+00],\n      dtype=float32), 'soundbar']\n[array([-6.03765259e+02,  3.45960655e+01, -7.84402800e+00,  2.41228466e+01,\n        1.37631168e+01,  1.28760805e+01, -1.46892967e+01,  1.74769173e+01,\n       -1.93907490e+01,  1.53666677e+01, -9.48045826e+00,  8.47263145e+00,\n       -1.52022352e+01,  7.42377615e+00, -1.92830868e+01,  2.67831874e+00,\n       -6.65455055e+00, -2.29511690e+00, -6.23449802e+00,  1.46032479e-02,\n       -1.03932047e+01,  1.16620934e+00, -4.92575741e+00, -9.87242043e-01,\n       -4.57775927e+00,  1.86588138e-01, -2.20235705e+00, -1.07551205e+00,\n        8.21763277e-01,  1.34012961e+00, -4.81303644e+00, -1.96034634e+00,\n       -2.51512480e+00,  3.24944973e-01,  1.00699794e+00, -1.39063454e+00,\n       -4.47528982e+00, -1.06094992e+00, -5.07787418e+00, -2.69079280e+00],\n      dtype=float32), 'soundbar']\n[array([-5.7635016e+02,  4.0800953e+01, -3.4607109e+01,  2.5563776e+01,\n        2.0751663e+01,  9.7648058e+00, -2.9059347e+01,  1.2580063e+01,\n       -2.4624344e+01,  5.1807013e+00, -7.0782709e+00, -2.1706171e+00,\n       -2.0351837e+01,  6.8142905e+00, -1.6553375e+01, -1.7211213e+00,\n       -5.2751317e+00, -2.0783842e+00, -5.0667691e+00, -2.8211081e+00,\n       -9.7476912e+00, -1.5027899e+00, -7.1813469e+00, -3.4206467e+00,\n       -7.7430260e-01,  3.1404427e-01,  1.5158495e-01, -6.2522846e-01,\n        6.1424785e+00,  1.3131673e+00, -1.0730978e+00, -1.1490576e+00,\n       -1.2478185e+00, -2.7221014e+00,  1.2112721e+00, -1.6025199e+00,\n       -4.1643910e+00, -4.2757211e+00, -2.3892372e+00, -6.2822050e-01],\n      dtype=float32), 'soundbox']\n[array([-5.9618591e+02,  5.7713547e+01, -2.1341831e+01,  7.1608448e+00,\n       -3.0340096e-01,  1.3370165e+01, -2.3462097e+01,  7.5911059e+00,\n       -2.1917608e+01,  6.0385256e+00, -8.8506594e+00,  7.8771257e+00,\n       -1.0513730e+01,  1.1120249e+00, -1.9109468e+01,  2.1060317e+00,\n       -4.2731037e+00, -2.1242650e+00, -1.4608651e-01,  1.6351330e+00,\n       -9.9929342e+00,  9.4273144e-01, -6.4055514e-01,  1.2975129e+00,\n       -2.4813747e+00, -1.3364811e+00,  1.8573608e+00, -4.1505013e+00,\n       -1.1874362e+00, -1.8618810e+00, -2.4334960e+00, -3.6994510e+00,\n       -3.0514350e+00, -3.4517450e+00,  1.9880199e+00, -1.8058475e+00,\n       -3.9047830e+00, -2.3776500e+00, -1.9328682e+00, -4.3970290e-01],\n      dtype=float32), 'tv']\n[array([-5.3999768e+02,  4.3955154e+01, -4.3315308e+01,  2.8166309e+01,\n        2.0362778e+01,  6.1263323e+00, -2.7838589e+01,  9.8853064e+00,\n       -2.9762911e+01,  1.8321481e+00, -6.2033153e+00, -1.6305377e+00,\n       -1.9801140e+01,  5.2915955e+00, -1.8867146e+01,  3.1227890e-01,\n       -3.5925677e+00, -4.3433385e+00, -4.1396408e+00, -5.2342687e+00,\n       -1.1942799e+01, -4.6412978e+00, -6.5163069e+00, -4.4412766e+00,\n       -9.9861687e-01, -1.3436030e+00,  1.1559280e+00, -2.6038642e+00,\n        6.6205621e+00,  1.3136789e+00, -9.9129218e-01, -1.1313728e+00,\n       -1.9566373e+00, -3.1523499e+00,  1.8229636e+00, -1.9900670e+00,\n       -4.2463756e+00, -2.6774347e+00,  5.9794325e-01, -1.7624636e-01],\n      dtype=float32), 'soundbox']\n[array([-5.46600891e+02,  6.91380920e+01, -8.47750664e+00,  3.18445988e+01,\n        1.65660591e+01,  1.38011446e+01, -1.68053551e+01,  1.04698086e+01,\n       -1.52282925e+01,  1.10148325e+01, -9.82866573e+00,  1.05449773e-01,\n       -1.39004946e+01,  2.30334735e+00, -1.32907400e+01, -3.55099410e-01,\n       -5.78440475e+00, -3.49404907e+00, -3.41532946e+00, -1.58483183e+00,\n       -6.06921721e+00, -4.30754274e-01, -4.39747334e+00, -1.14066184e+00,\n       -5.69977641e-01,  4.19354513e-02, -6.94108725e-01, -2.46790266e+00,\n       -5.03105335e-02, -1.81333423e+00, -2.81849504e+00, -2.11000943e+00,\n       -8.46742511e-01, -3.29053307e+00,  4.00602758e-01, -3.64908838e+00,\n       -2.92085719e+00, -2.51513267e+00, -3.12176824e+00, -1.89831722e+00],\n      dtype=float32), 'original']\n[array([-5.5011414e+02,  2.2414703e+01, -2.6074509e+01,  2.7057590e+01,\n        3.9148381e+00, -1.9752948e+00, -3.2307987e+01,  1.2680703e+01,\n       -2.9198338e+01,  1.2096034e+01, -1.2744106e+01,  2.3951364e+00,\n       -1.9226540e+01,  4.4370089e+00, -1.4156944e+01,  2.4058964e+00,\n       -1.1212680e+01, -3.9580963e+00, -3.8412869e+00,  5.2490354e+00,\n       -1.1067220e+01,  1.1880273e+00, -4.6755757e+00,  1.4137949e+00,\n       -2.6189265e+00,  9.0025850e-02, -3.0383360e-01, -1.1394206e+00,\n       -8.5483593e-01,  3.6802087e+00, -3.3845341e+00, -3.3537354e+00,\n       -1.1158644e+00, -2.5702229e+00,  1.0278805e+00, -4.6182132e-01,\n       -2.8327978e+00,  6.5664744e-01, -4.2520189e+00,  3.3092189e+00],\n      dtype=float32), 'desktop']\n[array([-5.8049695e+02,  1.8339418e+01, -2.5477211e+01,  2.8834969e+01,\n        1.0733082e+01,  2.5553279e+00, -2.6924692e+01,  1.3815959e+01,\n       -2.4635380e+01,  1.2818978e+01, -1.0493867e+01, -1.1182035e+00,\n       -1.8872288e+01,  4.6288295e+00, -1.4407450e+01,  1.0052469e+00,\n       -6.8285818e+00, -3.8138845e+00, -3.0941374e+00,  3.8069670e+00,\n       -9.0295973e+00, -8.2112163e-01, -2.9426596e+00,  1.2195065e+00,\n       -2.2099118e+00, -9.8821741e-01,  2.9279229e-01, -2.3119390e+00,\n        1.0222565e+00,  9.3817043e-01, -1.8829192e+00, -4.5062947e+00,\n       -1.2911744e-01, -4.2453604e+00, -2.3504506e-01, -1.9688642e+00,\n       -2.3235459e+00,  4.1933447e-01, -4.0103641e+00,  2.9502344e+00],\n      dtype=float32), 'desktop']\n"
     ]
    }
   ],
   "source": [
    "# Creating our feature matrix and target vector for the training and test set\n",
    "X_train = []\n",
    "y_train = []\n",
    "for obj in tempTrain:\n",
    "    #print(obj)\n",
    "    X_train.append(obj[0])\n",
    "    y_train.append(obj[1])\n",
    "\n",
    "X_test = []\n",
    "y_test = []\n",
    "for obj in tempTest:\n",
    "    print(obj)\n",
    "    X_test.append(obj[0])\n",
    "    y_test.append(obj[1])\n",
    "#for obj in tempTrain:\n",
    "#    print(obj)\n"
   ]
  },
  {
   "cell_type": "code",
   "execution_count": 350,
   "metadata": {},
   "outputs": [
    {
     "output_type": "stream",
     "name": "stdout",
     "text": [
      "['soundbox', 'original', 'soundbox', 'soundbox', 'original', 'soundbox', 'original', 'desktop', 'tv', 'desktop', 'desktop', 'soundbar', 'tv', 'soundbar', 'tv', 'soundbar', 'tv', 'soundbox', 'desktop', 'soundbox', 'desktop', 'desktop', 'tv', 'desktop', 'soundbox', 'soundbox', 'soundbar', 'original', 'tv', 'original', 'tv', 'original', 'original', 'desktop', 'desktop', 'original', 'soundbar', 'tv', 'soundbar', 'tv', 'original', 'tv', 'soundbox', 'soundbox', 'soundbar', 'soundbar', 'tv', 'desktop', 'desktop', 'soundbar', 'original', 'original', 'soundbox', 'original', 'soundbar', 'soundbox', 'tv', 'original', 'tv', 'original', 'soundbox', 'original', 'soundbox', 'soundbar', 'original', 'soundbox', 'tv', 'soundbox', 'soundbox', 'desktop', 'soundbar', 'tv', 'soundbar', 'desktop', 'soundbar', 'soundbox', 'soundbox', 'soundbar', 'original', 'soundbar', 'soundbox', 'soundbox', 'tv', 'desktop', 'tv', 'tv', 'soundbar', 'soundbox', 'soundbox', 'soundbar', 'soundbox', 'tv', 'tv', 'desktop', 'soundbox', 'soundbox', 'tv', 'original', 'tv', 'soundbox', 'original', 'original', 'soundbar', 'tv', 'desktop', 'tv', 'desktop', 'desktop', 'original', 'desktop', 'desktop', 'original', 'soundbar', 'soundbox', 'desktop', 'soundbar', 'tv', 'soundbox', 'tv', 'soundbox', 'desktop', 'original', 'tv', 'original', 'soundbox', 'soundbar', 'soundbox', 'original', 'soundbar', 'desktop', 'desktop', 'desktop', 'soundbox', 'desktop', 'original', 'soundbar', 'soundbox', 'original', 'soundbar', 'tv', 'soundbar', 'soundbar', 'tv', 'original', 'soundbox', 'tv', 'soundbox', 'tv', 'desktop', 'desktop', 'tv', 'desktop', 'desktop', 'soundbar', 'desktop', 'soundbar', 'desktop', 'soundbox', 'desktop', 'soundbar', 'soundbox', 'soundbox', 'soundbox', 'soundbar', 'desktop', 'original', 'original', 'original', 'desktop', 'original', 'tv', 'desktop', 'original', 'soundbar', 'desktop']\n['original', 'soundbar', 'tv', 'soundbox', 'soundbar', 'soundbox', 'original', 'soundbox', 'desktop', 'soundbar', 'tv', 'soundbox', 'soundbar', 'soundbar', 'soundbar', 'soundbox', 'tv', 'tv', 'tv', 'original', 'original', 'original', 'tv', 'original', 'soundbar', 'tv', 'original', 'desktop', 'soundbox', 'desktop', 'original', 'soundbar', 'soundbar', 'original', 'soundbar', 'soundbar', 'original', 'tv', 'tv', 'desktop', 'soundbar', 'desktop', 'original', 'tv', 'tv', 'tv', 'tv', 'soundbox', 'soundbar', 'original', 'desktop', 'soundbar', 'desktop', 'desktop', 'desktop', 'original', 'original', 'desktop', 'soundbar', 'tv', 'soundbar', 'original', 'soundbox', 'tv', 'desktop', 'original', 'tv', 'soundbar', 'soundbar', 'soundbox', 'tv', 'soundbox', 'original', 'desktop', 'desktop']\n[2, 0, 2, 2, 0, 2, 0, 1, 4, 1, 1, 3, 4, 3, 4, 3, 4, 2, 1, 2, 1, 1, 4, 1, 2, 2, 3, 0, 4, 0, 4, 0, 0, 1, 1, 0, 3, 4, 3, 4, 0, 4, 2, 2, 3, 3, 4, 1, 1, 3, 0, 0, 2, 0, 3, 2, 4, 0, 4, 0, 2, 0, 2, 3, 0, 2, 4, 2, 2, 1, 3, 4, 3, 1, 3, 2, 2, 3, 0, 3, 2, 2, 4, 1, 4, 4, 3, 2, 2, 3, 2, 4, 4, 1, 2, 2, 4, 0, 4, 2, 0, 0, 3, 4, 1, 4, 1, 1, 0, 1, 1, 0, 3, 2, 1, 3, 4, 2, 4, 2, 1, 0, 4, 0, 2, 3, 2, 0, 3, 1, 1, 1, 2, 1, 0, 3, 2, 0, 3, 4, 3, 3, 4, 0, 2, 4, 2, 4, 1, 1, 4, 1, 1, 3, 1, 3, 1, 2, 1, 3, 2, 2, 2, 3, 1, 0, 0, 0, 1, 0, 4, 1, 0, 3, 1]\n[0, 3, 4, 2, 3, 2, 0, 2, 1, 3, 4, 2, 3, 3, 3, 2, 4, 4, 4, 0, 0, 0, 4, 0, 3, 4, 0, 1, 2, 1, 0, 3, 3, 0, 3, 3, 0, 4, 4, 1, 3, 1, 0, 4, 4, 4, 4, 2, 3, 0, 1, 3, 1, 1, 1, 0, 0, 1, 3, 4, 3, 0, 2, 4, 1, 0, 4, 3, 3, 2, 4, 2, 0, 1, 1]\n"
     ]
    }
   ],
   "source": [
    "# Making separate target arrays for sklearn and keras frameworks, as they work on different target\n",
    "print(y_train)\n",
    "print(y_test)\n",
    "\n",
    "# Creating the target vector for the classical machine learning algorithms in sklearn which expect integer arrays as an empty list\n",
    "y_train_cl = []\n",
    "for label in y_train:\n",
    "    if label == 'original':\n",
    "        y_train_cl.append(0)\n",
    "    elif label == 'desktop':\n",
    "        y_train_cl.append(1)\n",
    "    elif label == 'soundbox':\n",
    "        y_train_cl.append(2)\n",
    "    elif label == 'soundbar':\n",
    "        y_train_cl.append(3)\n",
    "    else:\n",
    "        y_train_cl.append(4)\n",
    "print(y_train_cl)\n",
    "\n",
    "# Doing the same thing as above for the test vector\n",
    "y_test_cl = []\n",
    "for label in y_test:\n",
    "    if label == 'original':\n",
    "        y_test_cl.append(0)\n",
    "    elif label == 'desktop':\n",
    "        y_test_cl.append(1)\n",
    "    elif label == 'soundbox':\n",
    "        y_test_cl.append(2)\n",
    "    elif label == 'soundbar':\n",
    "        y_test_cl.append(3)\n",
    "    else:\n",
    "        y_test_cl.append(4)\n",
    "print(y_test_cl)\n"
   ]
  },
  {
   "cell_type": "code",
   "execution_count": 351,
   "metadata": {},
   "outputs": [
    {
     "output_type": "stream",
     "name": "stdout",
     "text": [
      "[0. 0. 0. 1. 0.]\n[0. 1. 0. 0. 0.]\n[[0. 0. 0. 1. 0.]\n [0. 1. 0. 0. 0.]\n [0. 0. 0. 1. 0.]\n [0. 0. 0. 1. 0.]\n [0. 1. 0. 0. 0.]\n [0. 0. 0. 1. 0.]\n [0. 1. 0. 0. 0.]\n [1. 0. 0. 0. 0.]\n [0. 0. 0. 0. 1.]\n [1. 0. 0. 0. 0.]\n [1. 0. 0. 0. 0.]\n [0. 0. 1. 0. 0.]\n [0. 0. 0. 0. 1.]\n [0. 0. 1. 0. 0.]\n [0. 0. 0. 0. 1.]\n [0. 0. 1. 0. 0.]\n [0. 0. 0. 0. 1.]\n [0. 0. 0. 1. 0.]\n [1. 0. 0. 0. 0.]\n [0. 0. 0. 1. 0.]\n [1. 0. 0. 0. 0.]\n [1. 0. 0. 0. 0.]\n [0. 0. 0. 0. 1.]\n [1. 0. 0. 0. 0.]\n [0. 0. 0. 1. 0.]\n [0. 0. 0. 1. 0.]\n [0. 0. 1. 0. 0.]\n [0. 1. 0. 0. 0.]\n [0. 0. 0. 0. 1.]\n [0. 1. 0. 0. 0.]\n [0. 0. 0. 0. 1.]\n [0. 1. 0. 0. 0.]\n [0. 1. 0. 0. 0.]\n [1. 0. 0. 0. 0.]\n [1. 0. 0. 0. 0.]\n [0. 1. 0. 0. 0.]\n [0. 0. 1. 0. 0.]\n [0. 0. 0. 0. 1.]\n [0. 0. 1. 0. 0.]\n [0. 0. 0. 0. 1.]\n [0. 1. 0. 0. 0.]\n [0. 0. 0. 0. 1.]\n [0. 0. 0. 1. 0.]\n [0. 0. 0. 1. 0.]\n [0. 0. 1. 0. 0.]\n [0. 0. 1. 0. 0.]\n [0. 0. 0. 0. 1.]\n [1. 0. 0. 0. 0.]\n [1. 0. 0. 0. 0.]\n [0. 0. 1. 0. 0.]\n [0. 1. 0. 0. 0.]\n [0. 1. 0. 0. 0.]\n [0. 0. 0. 1. 0.]\n [0. 1. 0. 0. 0.]\n [0. 0. 1. 0. 0.]\n [0. 0. 0. 1. 0.]\n [0. 0. 0. 0. 1.]\n [0. 1. 0. 0. 0.]\n [0. 0. 0. 0. 1.]\n [0. 1. 0. 0. 0.]\n [0. 0. 0. 1. 0.]\n [0. 1. 0. 0. 0.]\n [0. 0. 0. 1. 0.]\n [0. 0. 1. 0. 0.]\n [0. 1. 0. 0. 0.]\n [0. 0. 0. 1. 0.]\n [0. 0. 0. 0. 1.]\n [0. 0. 0. 1. 0.]\n [0. 0. 0. 1. 0.]\n [1. 0. 0. 0. 0.]\n [0. 0. 1. 0. 0.]\n [0. 0. 0. 0. 1.]\n [0. 0. 1. 0. 0.]\n [1. 0. 0. 0. 0.]\n [0. 0. 1. 0. 0.]\n [0. 0. 0. 1. 0.]\n [0. 0. 0. 1. 0.]\n [0. 0. 1. 0. 0.]\n [0. 1. 0. 0. 0.]\n [0. 0. 1. 0. 0.]\n [0. 0. 0. 1. 0.]\n [0. 0. 0. 1. 0.]\n [0. 0. 0. 0. 1.]\n [1. 0. 0. 0. 0.]\n [0. 0. 0. 0. 1.]\n [0. 0. 0. 0. 1.]\n [0. 0. 1. 0. 0.]\n [0. 0. 0. 1. 0.]\n [0. 0. 0. 1. 0.]\n [0. 0. 1. 0. 0.]\n [0. 0. 0. 1. 0.]\n [0. 0. 0. 0. 1.]\n [0. 0. 0. 0. 1.]\n [1. 0. 0. 0. 0.]\n [0. 0. 0. 1. 0.]\n [0. 0. 0. 1. 0.]\n [0. 0. 0. 0. 1.]\n [0. 1. 0. 0. 0.]\n [0. 0. 0. 0. 1.]\n [0. 0. 0. 1. 0.]\n [0. 1. 0. 0. 0.]\n [0. 1. 0. 0. 0.]\n [0. 0. 1. 0. 0.]\n [0. 0. 0. 0. 1.]\n [1. 0. 0. 0. 0.]\n [0. 0. 0. 0. 1.]\n [1. 0. 0. 0. 0.]\n [1. 0. 0. 0. 0.]\n [0. 1. 0. 0. 0.]\n [1. 0. 0. 0. 0.]\n [1. 0. 0. 0. 0.]\n [0. 1. 0. 0. 0.]\n [0. 0. 1. 0. 0.]\n [0. 0. 0. 1. 0.]\n [1. 0. 0. 0. 0.]\n [0. 0. 1. 0. 0.]\n [0. 0. 0. 0. 1.]\n [0. 0. 0. 1. 0.]\n [0. 0. 0. 0. 1.]\n [0. 0. 0. 1. 0.]\n [1. 0. 0. 0. 0.]\n [0. 1. 0. 0. 0.]\n [0. 0. 0. 0. 1.]\n [0. 1. 0. 0. 0.]\n [0. 0. 0. 1. 0.]\n [0. 0. 1. 0. 0.]\n [0. 0. 0. 1. 0.]\n [0. 1. 0. 0. 0.]\n [0. 0. 1. 0. 0.]\n [1. 0. 0. 0. 0.]\n [1. 0. 0. 0. 0.]\n [1. 0. 0. 0. 0.]\n [0. 0. 0. 1. 0.]\n [1. 0. 0. 0. 0.]\n [0. 1. 0. 0. 0.]\n [0. 0. 1. 0. 0.]\n [0. 0. 0. 1. 0.]\n [0. 1. 0. 0. 0.]\n [0. 0. 1. 0. 0.]\n [0. 0. 0. 0. 1.]\n [0. 0. 1. 0. 0.]\n [0. 0. 1. 0. 0.]\n [0. 0. 0. 0. 1.]\n [0. 1. 0. 0. 0.]\n [0. 0. 0. 1. 0.]\n [0. 0. 0. 0. 1.]\n [0. 0. 0. 1. 0.]\n [0. 0. 0. 0. 1.]\n [1. 0. 0. 0. 0.]\n [1. 0. 0. 0. 0.]\n [0. 0. 0. 0. 1.]\n [1. 0. 0. 0. 0.]\n [1. 0. 0. 0. 0.]\n [0. 0. 1. 0. 0.]\n [1. 0. 0. 0. 0.]\n [0. 0. 1. 0. 0.]\n [1. 0. 0. 0. 0.]\n [0. 0. 0. 1. 0.]\n [1. 0. 0. 0. 0.]\n [0. 0. 1. 0. 0.]\n [0. 0. 0. 1. 0.]\n [0. 0. 0. 1. 0.]\n [0. 0. 0. 1. 0.]\n [0. 0. 1. 0. 0.]\n [1. 0. 0. 0. 0.]\n [0. 1. 0. 0. 0.]\n [0. 1. 0. 0. 0.]\n [0. 1. 0. 0. 0.]\n [1. 0. 0. 0. 0.]\n [0. 1. 0. 0. 0.]\n [0. 0. 0. 0. 1.]\n [1. 0. 0. 0. 0.]\n [0. 1. 0. 0. 0.]\n [0. 0. 1. 0. 0.]\n [1. 0. 0. 0. 0.]]\n"
     ]
    }
   ],
   "source": [
    "#print(X_train[1])\n",
    "#print(y_train)\n",
    "\n",
    "#X_train = np.array(X_train)\n",
    "#y_train = np.array(y_train)\n",
    "#\n",
    "#X_test = np.array(X_test)\n",
    "#y_test = np.array(y_test)\n",
    "#\n",
    "#print(X_train.shape)\n",
    "#print(X_test.shape)\n",
    "\n",
    "# Making separate target arrays for sklearn and keras frameworks, as they work on different target\n",
    "\n",
    "# Hot encoding y for keras\n",
    "lb = LabelEncoder()\n",
    "y_train = np_utils.to_categorical(lb.fit_transform(y_train))\n",
    "\n",
    "y_test = np_utils.to_categorical(lb.fit_transform(y_test))\n",
    "print(y_train[0])\n",
    "print(y_test[0])\n",
    "print(y_train)"
   ]
  },
  {
   "cell_type": "code",
   "execution_count": 352,
   "metadata": {},
   "outputs": [
    {
     "output_type": "stream",
     "name": "stdout",
     "text": [
      "(175, 40)\n(75, 40)\n"
     ]
    }
   ],
   "source": [
    "X_train = np.array(X_train)\n",
    "#y_train = np.array(y_train)\n",
    "\n",
    "X_test = np.array(X_test)\n",
    "#y_test = np.array(y_test)\n",
    "\n",
    "print(X_train.shape)\n",
    "print(X_test.shape)\n",
    "\n",
    "# Hot encoding y\n",
    "#lb = LabelEncoder()\n",
    "#y_train = np_utils.to_categorical(lb.fit_transform(y_train))\n",
    "#\n",
    "#y_test = np_utils.to_categorical(lb.fit_transform(y_test))"
   ]
  },
  {
   "cell_type": "code",
   "execution_count": 342,
   "metadata": {},
   "outputs": [
    {
     "output_type": "stream",
     "name": "stdout",
     "text": [
      "[[-0.02216797 -0.65377766 -1.1283584  -0.08740792  0.7500985  -0.5173679\n  -0.33471087 -0.81130475 -0.07260235 -1.9200822   2.5425377  -1.3213586\n  -0.2900435   0.33859482  1.1149688  -1.8887362   1.6214136  -0.21470794\n   0.6123977  -1.0631332   0.4353835  -1.7965643  -0.077767   -1.0482727\n   1.6157397   0.35603774  0.73579544 -0.50742984  1.9227425   0.86047953\n   0.78126884  1.0224851   0.7210926   0.4103991   1.379354   -0.11019032\n  -0.10054046  0.65645504  1.3119762  -0.03880136]\n [ 1.6182622   1.5776995   0.43024495  1.4559005   0.88490546  0.40507892\n   0.12554614 -0.48783082  0.8673117   0.3328651  -1.2951367  -0.7688018\n   0.47917658 -0.9576071   0.55708456  0.28785235  0.09618106 -0.93330556\n  -0.33103362 -0.29312798  0.53025454  0.18935956  0.11856648 -0.4153535\n  -0.14808135 -1.1725885   0.03496121 -1.0538017  -0.70979184 -2.7350361\n   0.68006057 -0.3046199   0.6582387  -0.95868033 -2.2060194  -0.8928952\n   0.71287024  0.13415752  0.10192142 -0.53524965]\n [ 0.27742356 -0.76281005 -1.5926675   1.8788662   1.0740205  -0.7797265\n  -1.0963736   0.8230941  -1.1982708  -0.48305982  0.93325764 -0.9438103\n  -1.299465    1.4487735  -0.4614303  -0.9070423   0.8300273   0.6329312\n  -0.84008694 -0.7859276  -0.89146745 -0.46819314 -0.8844035  -0.84794563\n   0.8473769   0.11162173  0.7326421   0.9723334   1.6850668   0.4719892\n   0.58694893  2.05532     1.2068303  -0.05486691 -0.9340356  -0.38515988\n  -0.4023375  -0.5879479   0.6258762  -0.4336218 ]]\n[[0. 0. 0. 1. 0.]\n [0. 1. 0. 0. 0.]\n [0. 0. 0. 1. 0.]\n [0. 0. 0. 1. 0.]\n [0. 1. 0. 0. 0.]]\n"
     ]
    }
   ],
   "source": [
    "# Standardizing the features\n",
    "scaler = preprocessing.StandardScaler()\n",
    "X_train = scaler.fit_transform(X_train)\n",
    "X_test = scaler.fit_transform(X_test)\n",
    "\n",
    "print(X_train[:3])\n",
    "print(y_train[:5])"
   ]
  },
  {
   "cell_type": "code",
   "execution_count": 367,
   "metadata": {},
   "outputs": [
    {
     "output_type": "stream",
     "name": "stdout",
     "text": [
      "Accuracy Linear Kernel: 1.0\n"
     ]
    }
   ],
   "source": [
    "y_test_cl = np.array(y_test_cl)\n",
    "\n",
    "##START IMPLEMENTATION OF MODELS\n",
    "linear = svm.SVC(kernel='linear', C=1, decision_function_shape='ovo').fit(X_train, y_train_cl)\n",
    "linear_pred = linear.predict(X_test)\n",
    "accuracy_lin = linear.score(X_test, y_test_cl)\n",
    "print('Accuracy Linear Kernel:', accuracy_lin)"
   ]
  },
  {
   "cell_type": "code",
   "execution_count": 368,
   "metadata": {},
   "outputs": [
    {
     "output_type": "stream",
     "name": "stdout",
     "text": [
      "[0 3 4 2 3 2 0 2 1 3 4 2 3 3 3 2 4 4 4 0 0 0 4 0 3 4 0 1 2 1 0 3 3 0 3 3 0\n 4 4 1 3 1 0 4 4 4 4 2 3 0 1 3 1 1 1 0 0 1 3 4 3 0 2 4 1 0 4 3 3 2 4 2 0 1\n 1]\n"
     ]
    }
   ],
   "source": [
    "print(linear_pred)"
   ]
  },
  {
   "cell_type": "code",
   "execution_count": 369,
   "metadata": {},
   "outputs": [
    {
     "output_type": "stream",
     "name": "stdout",
     "text": [
      "[0 3 4 2 3 2 0 2 1 3 4 2 3 3 3 2 4 4 4 0 0 0 4 0 3 4 0 1 2 1 0 3 3 0 3 3 0\n 4 4 1 3 1 0 4 4 4 4 2 3 0 1 3 1 1 1 0 0 1 3 4 3 0 2 4 1 0 4 3 3 2 4 2 0 1\n 1]\n"
     ]
    }
   ],
   "source": [
    "print(y_test_cl)"
   ]
  },
  {
   "cell_type": "code",
   "execution_count": null,
   "metadata": {},
   "outputs": [],
   "source": []
  }
 ],
 "metadata": {
  "kernelspec": {
   "name": "python385jvsc74a57bd0b3ba2566441a7c06988d0923437866b63cedc61552a5af99d1f4fb67d367b25f",
   "display_name": "Python 3.8.5 64-bit (conda)"
  },
  "language_info": {
   "codemirror_mode": {
    "name": "ipython",
    "version": 3
   },
   "file_extension": ".py",
   "mimetype": "text/x-python",
   "name": "python",
   "nbconvert_exporter": "python",
   "pygments_lexer": "ipython3",
   "version": "3.8.5"
  }
 },
 "nbformat": 4,
 "nbformat_minor": 4
}